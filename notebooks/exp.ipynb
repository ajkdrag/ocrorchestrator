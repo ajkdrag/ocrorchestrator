{
 "cells": [
  {
   "cell_type": "code",
   "execution_count": 1,
   "id": "eaa13ff1-d613-4877-9aaa-6002c1c345e5",
   "metadata": {},
   "outputs": [],
   "source": [
    "import sys\n",
    "from pathlib import Path"
   ]
  },
  {
   "cell_type": "code",
   "execution_count": 2,
   "id": "92e44927-fe60-4ff5-b3e4-e52bea5e0dc6",
   "metadata": {},
   "outputs": [],
   "source": [
    "%load_ext autoreload\n",
    "%autoreload 3 -p\n",
    "%matplotlib inline\n"
   ]
  },
  {
   "cell_type": "markdown",
   "id": "78a6f7c6-8cfa-4eab-bc38-6e7250fb9e11",
   "metadata": {},
   "source": [
    "## imports"
   ]
  },
  {
   "cell_type": "code",
   "execution_count": 3,
   "id": "15974738-82bc-4317-b9f1-bdc0d6e0b67f",
   "metadata": {},
   "outputs": [],
   "source": [
    "from pydantic import BaseModel, RootModel\n",
    "from devtools import pprint\n",
    "import os"
   ]
  },
  {
   "cell_type": "code",
   "execution_count": 4,
   "id": "657c7713-b381-44f1-ae65-b6730fa5b6bd",
   "metadata": {},
   "outputs": [],
   "source": [
    "from ocrorchestrator.config.app_config import AppConfig"
   ]
  },
  {
   "cell_type": "code",
   "execution_count": 5,
   "id": "36a59a70-d5ab-4b75-b0f2-f7c438d114d9",
   "metadata": {},
   "outputs": [],
   "source": [
    "os.environ[\"GOOGLE_APPLICATION_CREDENTIALS\"] = \"../../../secrets/calm-producer-428509-t9-b428a168489d.json\""
   ]
  },
  {
   "cell_type": "markdown",
   "id": "d57851b7-f2fe-43d3-a0e5-eb3ea163f5a5",
   "metadata": {},
   "source": [
    "## testing config"
   ]
  },
  {
   "cell_type": "code",
   "execution_count": 6,
   "id": "b2c3eb02-b846-4790-a800-3501b9f763b4",
   "metadata": {},
   "outputs": [],
   "source": [
    "config_data = {\n",
    "        \"general\": {\n",
    "            # General config fields\n",
    "        },\n",
    "        \"categories\": {\n",
    "            \"proof_of_funds\": {\n",
    "                \"validation\": {\n",
    "                    \"processor\": \"llm\",\n",
    "                    \"handler\": \"gemini-pro-vision\"\n",
    "                },\n",
    "                \"extraction\": {\n",
    "                    \"processor\": \"custom\",\n",
    "                    \"handler\": \"ProofOfFundsExtractor\"\n",
    "                }\n",
    "            },\n",
    "            \"checks\": {\n",
    "                \"extraction\": {\n",
    "                    \"processor\": \"custom\",\n",
    "                    \"handler\": \"ProofOfFundsExtractor\"\n",
    "                }\n",
    "            }\n",
    "        }\n",
    "    }"
   ]
  },
  {
   "cell_type": "code",
   "execution_count": 7,
   "id": "b1c9b75f-62da-4d71-8663-18b21313bcac",
   "metadata": {},
   "outputs": [],
   "source": [
    "mm = AppConfig(**config_data)"
   ]
  },
  {
   "cell_type": "code",
   "execution_count": 8,
   "id": "e4ac4caf-0423-41f2-82dc-ed91d61d063d",
   "metadata": {},
   "outputs": [
    {
     "data": {
      "text/plain": [
       "OrderedDict([('validation',\n",
       "              TaskConfig(processor='llm', api=None, model=None, prompt_template=None, params=[], fields=None, classes=None, args=[], kwargs={})),\n",
       "             ('extraction',\n",
       "              TaskConfig(processor='custom', api=None, model=None, prompt_template=None, params=[], fields=None, classes=None, args=[], kwargs={}))])"
      ]
     },
     "execution_count": 8,
     "metadata": {},
     "output_type": "execute_result"
    }
   ],
   "source": [
    "mm.categories[\"proof_of_funds\"]"
   ]
  },
  {
   "cell_type": "code",
   "execution_count": 9,
   "id": "1a28d0a7-a808-4268-93aa-d5daba69f12e",
   "metadata": {},
   "outputs": [
    {
     "name": "stdout",
     "output_type": "stream",
     "text": [
      "proof_of_funds validation processor='llm' api=None model=None prompt_template=None params=[] fields=None classes=None args=[] kwargs={}\n",
      "proof_of_funds extraction processor='custom' api=None model=None prompt_template=None params=[] fields=None classes=None args=[] kwargs={}\n",
      "checks extraction processor='custom' api=None model=None prompt_template=None params=[] fields=None classes=None args=[] kwargs={}\n"
     ]
    }
   ],
   "source": [
    "for cat, tsk, cfg in mm.iterate():\n",
    "    print(cat, tsk, cfg)"
   ]
  },
  {
   "cell_type": "code",
   "execution_count": 10,
   "id": "c2580464-ac2e-465a-8fcc-fe74721e43ac",
   "metadata": {},
   "outputs": [
    {
     "name": "stdout",
     "output_type": "stream",
     "text": [
      "TaskConfig(\n",
      "    processor='llm',\n",
      "    api=None,\n",
      "    model=None,\n",
      "    prompt_template=None,\n",
      "    params=[],\n",
      "    fields=None,\n",
      "    classes=None,\n",
      "    args=[],\n",
      "    kwargs={},\n",
      ")\n"
     ]
    }
   ],
   "source": [
    "pprint(mm.get_task_config(\"proof_of_funds\", \"validation\"))"
   ]
  },
  {
   "cell_type": "markdown",
   "id": "07f914fc-8756-40e8-9eec-2c0875da27db",
   "metadata": {},
   "source": [
    "## testing repos"
   ]
  },
  {
   "cell_type": "code",
   "execution_count": 11,
   "id": "62c9f11b-ec47-48ea-badc-cae0ed497e57",
   "metadata": {},
   "outputs": [],
   "source": [
    "from ocrorchestrator.repos.factory import RepoFactory\n",
    "from ocrorchestrator.managers.secrets import setup_google_credentials"
   ]
  },
  {
   "cell_type": "code",
   "execution_count": null,
   "id": "bf807ab9-467c-414c-886d-f8838d24ff73",
   "metadata": {},
   "outputs": [],
   "source": []
  },
  {
   "cell_type": "code",
   "execution_count": 12,
   "id": "b47b01c7-b38d-4e7f-941a-1f76e4b602a0",
   "metadata": {},
   "outputs": [
    {
     "name": "stdout",
     "output_type": "stream",
     "text": [
      "{\"event\": \"GOOGLE_APPLICATION_CREDENTIALS is already set\", \"level\": \"info\", \"func_name\": \"setup_google_credentials\", \"lineno\": 38, \"timestamp\": \"2024-07-11T13:39:41.781191Z\"}\n",
      "{\"event\": \"GOOGLE_APPLICATION_CREDENTIALS successfully set and validated\", \"level\": \"info\", \"func_name\": \"verify_google_credentials\", \"lineno\": 25, \"timestamp\": \"2024-07-11T13:39:41.782186Z\"}\n"
     ]
    }
   ],
   "source": [
    "setup_google_credentials()"
   ]
  },
  {
   "cell_type": "code",
   "execution_count": 13,
   "id": "092dfba5-906a-4ce7-9957-1692be240b27",
   "metadata": {},
   "outputs": [],
   "source": [
    "lrepo, data = RepoFactory.from_uri(\"file://my-bucket/configs/config_v1.yaml\")"
   ]
  },
  {
   "cell_type": "code",
   "execution_count": 14,
   "id": "a8aad6aa-fbef-4c89-a6cd-aad596c522dc",
   "metadata": {},
   "outputs": [],
   "source": [
    "grepo, data = RepoFactory.from_uri(\"gs://ocrorchestrator/configs/config_v1.yaml\")"
   ]
  },
  {
   "cell_type": "code",
   "execution_count": 26,
   "id": "96114fb7-7ce1-46c0-ae2a-16bb30cc05ca",
   "metadata": {},
   "outputs": [
    {
     "name": "stdout",
     "output_type": "stream",
     "text": [
      "Reloading 'ocrorchestrator.repos.base'.\n"
     ]
    }
   ],
   "source": [
    "items = lrepo.get_obj(\"images/\")"
   ]
  },
  {
   "cell_type": "code",
   "execution_count": 27,
   "id": "f89a5464-2fc2-4c5d-8386-3df6c9a3b1f0",
   "metadata": {},
   "outputs": [
    {
     "data": {
      "text/plain": [
       "['images/variational-inference-i.pdf', 'images/arch.png']"
      ]
     },
     "execution_count": 27,
     "metadata": {},
     "output_type": "execute_result"
    }
   ],
   "source": [
    "items"
   ]
  },
  {
   "cell_type": "code",
   "execution_count": null,
   "id": "086fbd08-de0e-4f1d-8161-81e4eedcc94b",
   "metadata": {},
   "outputs": [],
   "source": []
  },
  {
   "cell_type": "code",
   "execution_count": 17,
   "id": "73fce82a-8b2f-4dec-9f58-e7c8932f1526",
   "metadata": {},
   "outputs": [],
   "source": [
    "from ocrorchestrator.utils.img import base64_to_pil"
   ]
  },
  {
   "cell_type": "code",
   "execution_count": 28,
   "id": "fea389be-2bb8-494e-b8ec-98e8184e9d4f",
   "metadata": {},
   "outputs": [
    {
     "data": {
      "image/jpeg": "[encoded data removed]",
      "image/png": "[encoded data removed]",
      "text/plain": [
       "<PIL.Image.Image image mode=RGB size=612x792>"
      ]
     },
     "execution_count": 28,
     "metadata": {},
     "output_type": "execute_result"
    }
   ],
   "source": [
    "base64_to_pil(lrepo.get_obj(items[0]))"
   ]
  },
  {
   "cell_type": "code",
   "execution_count": 68,
   "id": "e9609942-d14e-4999-ba3c-57ee38cc75bb",
   "metadata": {},
   "outputs": [
    {
     "data": {
      "text/plain": [
       "['prompts/arch_extr.txt']"
      ]
     },
     "execution_count": 68,
     "metadata": {},
     "output_type": "execute_result"
    }
   ],
   "source": [
    "grepo.get_obj(\"prompts/\")"
   ]
  },
  {
   "cell_type": "code",
   "execution_count": 25,
   "id": "13f914b4-8d58-4ee7-9620-225255665104",
   "metadata": {},
   "outputs": [
    {
     "data": {
      "text/plain": [
       "{'categories': {'proof_of_funds': {'validation': {'processor': 'LLMProcessor',\n",
       "    'model': 'gemini-pro-vision'},\n",
       "   'extraction': {'processor': 'PaliGemmaGradioProcessor',\n",
       "    'api': '/compute',\n",
       "    'model': 'big-vision/paligemma',\n",
       "    'params': ['OCR', 'paligemma-3b-mix-224', 'greedy']}},\n",
       "  'checks': {'validation': {'processor': 'DocumentValidationProcessor',\n",
       "    'model': 'resnet18__clf.pt',\n",
       "    'params': [{'img_size': [240, 320], 'target': 'clean'}],\n",
       "    'classes': ['blanks', 'blurs', 'clean', 'dirty']},\n",
       "   'extraction': {'processor': 'ApiProcessor',\n",
       "    'api': 'http://localhost:8000/predict',\n",
       "    'params': [{'instances': [{'data': '$image',\n",
       "        'entity': 'payee',\n",
       "        'guid': '$guid'}]}]}}}}"
      ]
     },
     "execution_count": 25,
     "metadata": {},
     "output_type": "execute_result"
    }
   ],
   "source": [
    "data"
   ]
  },
  {
   "cell_type": "markdown",
   "id": "c3c78879-db67-4362-8da0-7a1ae3ea930d",
   "metadata": {},
   "source": [
    "## testing api"
   ]
  },
  {
   "cell_type": "code",
   "execution_count": 61,
   "id": "4ebd1084-7c47-47f4-8bda-51902a4ee74e",
   "metadata": {},
   "outputs": [],
   "source": [
    "from ocrorchestrator.main import app"
   ]
  },
  {
   "cell_type": "code",
   "execution_count": 62,
   "id": "8d57db29-7050-40bd-a241-83cd82ef51e2",
   "metadata": {},
   "outputs": [],
   "source": [
    "from fastapi.testclient import TestClient\n",
    "from ocrorchestrator.config.app_config import AppConfig"
   ]
  },
  {
   "cell_type": "code",
   "execution_count": 63,
   "id": "b1e19bba-4c74-4038-b62f-70b3b88ec0df",
   "metadata": {},
   "outputs": [
    {
     "name": "stdout",
     "output_type": "stream",
     "text": [
      "HTTP Request: GET https://big-vision-paligemma.hf.space/heartbeat/b7bfa10f-f6da-4075-8e76-aee7867cc155 \"HTTP/1.1 404 Not Found\"\n",
      "HTTP Request: GET https://big-vision-paligemma.hf.space/heartbeat/6f5eeb76-cb93-4387-9e64-38e949e4608b \"HTTP/1.1 404 Not Found\"\n"
     ]
    }
   ],
   "source": [
    "client = TestClient(app)"
   ]
  },
  {
   "cell_type": "code",
   "execution_count": 64,
   "id": "a9861ad0-d2eb-48aa-8e23-3ae0c9f1e7ca",
   "metadata": {},
   "outputs": [
    {
     "name": "stdout",
     "output_type": "stream",
     "text": [
      "HTTP Request: GET https://big-vision-paligemma.hf.space/heartbeat/dd253886-bf2e-44af-a941-af7b3c5ac0cb \"HTTP/1.1 404 Not Found\"\n",
      "HTTP Request: GET https://big-vision-paligemma.hf.space/heartbeat/b7bfa10f-f6da-4075-8e76-aee7867cc155 \"HTTP/1.1 404 Not Found\"\n",
      "HTTP Request: GET https://big-vision-paligemma.hf.space/heartbeat/dd253886-bf2e-44af-a941-af7b3c5ac0cb \"HTTP/1.1 404 Not Found\"\n",
      "HTTP Request: GET https://big-vision-paligemma.hf.space/heartbeat/6f5eeb76-cb93-4387-9e64-38e949e4608b \"HTTP/1.1 404 Not Found\"\n",
      "HTTP Request: GET https://big-vision-paligemma.hf.space/heartbeat/6f5eeb76-cb93-4387-9e64-38e949e4608b \"HTTP/1.1 404 Not Found\"\n",
      "HTTP Request: GET https://big-vision-paligemma.hf.space/heartbeat/b7bfa10f-f6da-4075-8e76-aee7867cc155 \"HTTP/1.1 404 Not Found\"\n",
      "HTTP Request: GET https://big-vision-paligemma.hf.space/heartbeat/dd253886-bf2e-44af-a941-af7b3c5ac0cb \"HTTP/1.1 404 Not Found\"\n",
      "HTTP Request: GET https://big-vision-paligemma.hf.space/heartbeat/6f5eeb76-cb93-4387-9e64-38e949e4608b \"HTTP/1.1 404 Not Found\"\n",
      "HTTP Request: GET https://big-vision-paligemma.hf.space/heartbeat/b7bfa10f-f6da-4075-8e76-aee7867cc155 \"HTTP/1.1 404 Not Found\"\n",
      "HTTP Request: GET https://big-vision-paligemma.hf.space/heartbeat/6f5eeb76-cb93-4387-9e64-38e949e4608b \"HTTP/1.1 404 Not Found\"\n",
      "HTTP Request: GET https://big-vision-paligemma.hf.space/heartbeat/b7bfa10f-f6da-4075-8e76-aee7867cc155 \"HTTP/1.1 404 Not Found\"\n",
      "HTTP Request: GET https://big-vision-paligemma.hf.space/heartbeat/dd253886-bf2e-44af-a941-af7b3c5ac0cb \"HTTP/1.1 404 Not Found\"\n"
     ]
    }
   ],
   "source": [
    "from base64 import b64encode\n",
    "from pathlib import Path\n",
    "\n",
    "b64 = b64encode(Path('../data/images/arch.png').open(\"rb\").read())"
   ]
  },
  {
   "cell_type": "code",
   "execution_count": 65,
   "id": "f580c8ab-0a0d-45ac-9798-27f629076a7d",
   "metadata": {},
   "outputs": [],
   "source": [
    "req_body = {\n",
    "    \"image\": b64.decode(),\n",
    "    \"category\": \"proof_of_funds\",\n",
    "    \"task\": \"extraction\",\n",
    "    \"guid\": \"dummyguid\",\n",
    "}"
   ]
  },
  {
   "cell_type": "code",
   "execution_count": 66,
   "id": "f0b9a7e2-3263-4dc5-afd5-e51c6ae63f87",
   "metadata": {},
   "outputs": [],
   "source": [
    "# from gradio_client import file\n",
    "# result = clnt.predict(\n",
    "# \t\tfile('../data/images/arch.png'),\t# filepath in 'Image' Image component\n",
    "# \t\t\"ocr \\nReturn only the shapes as JSON\",\t# str in 'Prompt' Textbox component\n",
    "#         \"paligemma-3b-mix-224\",\n",
    "# \t\t\"greedy\",\t# Literal['greedy', 'nucleus(0.1)', 'nucleus(0.3)', 'temperature(0.5)'] in 'Decoding' Dropdown component\n",
    "# \t\tapi_name=\"/compute\"\n",
    "# )\n",
    "\n"
   ]
  },
  {
   "cell_type": "code",
   "execution_count": 67,
   "id": "2de09776-09b0-490b-8643-a8a3ca3e94cf",
   "metadata": {},
   "outputs": [
    {
     "name": "stdout",
     "output_type": "stream",
     "text": [
      "HTTP Request: GET https://big-vision-paligemma.hf.space/heartbeat/dd253886-bf2e-44af-a941-af7b3c5ac0cb \"HTTP/1.1 404 Not Found\"\n",
      "HTTP Request: GET https://big-vision-paligemma.hf.space/heartbeat/b7bfa10f-f6da-4075-8e76-aee7867cc155 \"HTTP/1.1 404 Not Found\"\n",
      "HTTP Request: GET https://big-vision-paligemma.hf.space/heartbeat/6f5eeb76-cb93-4387-9e64-38e949e4608b \"HTTP/1.1 404 Not Found\"\n",
      "HTTP Request: GET https://big-vision-paligemma.hf.space/heartbeat/dd253886-bf2e-44af-a941-af7b3c5ac0cb \"HTTP/1.1 404 Not Found\"\n",
      "HTTP Request: GET https://big-vision-paligemma.hf.space/heartbeat/6f5eeb76-cb93-4387-9e64-38e949e4608b \"HTTP/1.1 404 Not Found\"\n"
     ]
    }
   ],
   "source": [
    "# print(result[0]['value'][0]['token'])"
   ]
  },
  {
   "cell_type": "code",
   "execution_count": null,
   "id": "5d26337b-58ec-4a70-ab7c-b8fd14b36c6e",
   "metadata": {},
   "outputs": [],
   "source": []
  },
  {
   "cell_type": "code",
   "execution_count": 68,
   "id": "48284a63-39ae-412a-9f6e-756a7e44470c",
   "metadata": {},
   "outputs": [
    {
     "name": "stdout",
     "output_type": "stream",
     "text": [
      "{\"event\": \"Running LLM setup\", \"level\": \"info\", \"func_name\": \"setup\", \"lineno\": 27, \"timestamp\": \"2024-06-30T15:31:16.165814Z\"}\n",
      "HTTP Request: GET https://big-vision-paligemma.hf.space/heartbeat/dd253886-bf2e-44af-a941-af7b3c5ac0cb \"HTTP/1.1 404 Not Found\"\n",
      "Loaded as API: https://big-vision-paligemma.hf.space ✔\n",
      "HTTP Request: GET https://big-vision-paligemma.hf.space/heartbeat/6f5eeb76-cb93-4387-9e64-38e949e4608b \"HTTP/1.1 404 Not Found\"\n",
      "HTTP Request: GET https://big-vision-paligemma.hf.space/config \"HTTP/1.1 200 OK\"\n",
      "HTTP Request: GET https://big-vision-paligemma.hf.space/heartbeat/dd253886-bf2e-44af-a941-af7b3c5ac0cb \"HTTP/1.1 404 Not Found\"\n",
      "HTTP Request: GET https://big-vision-paligemma.hf.space/heartbeat/6f5eeb76-cb93-4387-9e64-38e949e4608b \"HTTP/1.1 404 Not Found\"\n",
      "HTTP Request: GET https://big-vision-paligemma.hf.space/info?serialize=False \"HTTP/1.1 200 OK\"\n",
      "HTTP Request: GET https://big-vision-paligemma.hf.space/heartbeat/b7bfa10f-f6da-4075-8e76-aee7867cc155 \"HTTP/1.1 404 Not Found\"\n",
      "HTTP Request: GET https://big-vision-paligemma.hf.space/heartbeat/dd253886-bf2e-44af-a941-af7b3c5ac0cb \"HTTP/1.1 404 Not Found\"\n",
      "HTTP Request: GET https://big-vision-paligemma.hf.space/heartbeat/9c4db3f1-fcaa-498c-93f5-cdbc92608af4 \"HTTP/1.1 404 Not Found\"\n",
      "HTTP Request: GET https://big-vision-paligemma.hf.space/heartbeat/b7bfa10f-f6da-4075-8e76-aee7867cc155 \"HTTP/1.1 404 Not Found\"\n",
      "HTTP Request: GET https://big-vision-paligemma.hf.space/heartbeat/dd253886-bf2e-44af-a941-af7b3c5ac0cb \"HTTP/1.1 404 Not Found\"\n",
      "HTTP Request: POST https://big-vision-paligemma.hf.space/upload \"HTTP/1.1 200 OK\"\n",
      "HTTP Request: GET https://big-vision-paligemma.hf.space/heartbeat/6f5eeb76-cb93-4387-9e64-38e949e4608b \"HTTP/1.1 404 Not Found\"\n",
      "HTTP Request: GET https://big-vision-paligemma.hf.space/heartbeat/dd253886-bf2e-44af-a941-af7b3c5ac0cb \"HTTP/1.1 404 Not Found\"\n",
      "HTTP Request: POST https://big-vision-paligemma.hf.space/queue/join \"HTTP/1.1 200 OK\"\n",
      "HTTP Request: GET https://big-vision-paligemma.hf.space/heartbeat/9c4db3f1-fcaa-498c-93f5-cdbc92608af4 \"HTTP/1.1 404 Not Found\"\n",
      "HTTP Request: GET https://big-vision-paligemma.hf.space/heartbeat/6f5eeb76-cb93-4387-9e64-38e949e4608b \"HTTP/1.1 404 Not Found\"\n",
      "HTTP Request: GET https://big-vision-paligemma.hf.space/heartbeat/b7bfa10f-f6da-4075-8e76-aee7867cc155 \"HTTP/1.1 404 Not Found\"\n",
      "HTTP Request: GET https://big-vision-paligemma.hf.space/heartbeat/dd253886-bf2e-44af-a941-af7b3c5ac0cb \"HTTP/1.1 404 Not Found\"\n",
      "HTTP Request: GET https://big-vision-paligemma.hf.space/heartbeat/9c4db3f1-fcaa-498c-93f5-cdbc92608af4 \"HTTP/1.1 404 Not Found\"\n",
      "HTTP Request: GET https://big-vision-paligemma.hf.space/queue/data?session_hash=9c4db3f1-fcaa-498c-93f5-cdbc92608af4 \"HTTP/1.1 200 OK\"\n",
      "HTTP Request: GET https://big-vision-paligemma.hf.space/heartbeat/dd253886-bf2e-44af-a941-af7b3c5ac0cb \"HTTP/1.1 404 Not Found\"\n",
      "HTTP Request: GET https://big-vision-paligemma.hf.space/heartbeat/b7bfa10f-f6da-4075-8e76-aee7867cc155 \"HTTP/1.1 404 Not Found\"\n",
      "HTTP Request: GET https://big-vision-paligemma.hf.space/heartbeat/9c4db3f1-fcaa-498c-93f5-cdbc92608af4 \"HTTP/1.1 404 Not Found\"\n",
      "HTTP Request: GET https://big-vision-paligemma.hf.space/heartbeat/6f5eeb76-cb93-4387-9e64-38e949e4608b \"HTTP/1.1 404 Not Found\"\n",
      "HTTP Request: GET https://big-vision-paligemma.hf.space/heartbeat/b7bfa10f-f6da-4075-8e76-aee7867cc155 \"HTTP/1.1 404 Not Found\"\n",
      "HTTP Request: GET https://big-vision-paligemma.hf.space/heartbeat/dd253886-bf2e-44af-a941-af7b3c5ac0cb \"HTTP/1.1 404 Not Found\"\n",
      "HTTP Request: GET https://big-vision-paligemma.hf.space/heartbeat/9c4db3f1-fcaa-498c-93f5-cdbc92608af4 \"HTTP/1.1 404 Not Found\"\n",
      "HTTP Request: GET https://big-vision-paligemma.hf.space/heartbeat/6f5eeb76-cb93-4387-9e64-38e949e4608b \"HTTP/1.1 404 Not Found\"\n",
      "HTTP Request: GET https://big-vision-paligemma.hf.space/heartbeat/b7bfa10f-f6da-4075-8e76-aee7867cc155 \"HTTP/1.1 404 Not Found\"\n",
      "HTTP Request: GET https://big-vision-paligemma.hf.space/heartbeat/dd253886-bf2e-44af-a941-af7b3c5ac0cb \"HTTP/1.1 404 Not Found\"\n",
      "HTTP Request: GET https://big-vision-paligemma.hf.space/heartbeat/9c4db3f1-fcaa-498c-93f5-cdbc92608af4 \"HTTP/1.1 404 Not Found\"\n",
      "HTTP Request: GET https://big-vision-paligemma.hf.space/heartbeat/dd253886-bf2e-44af-a941-af7b3c5ac0cb \"HTTP/1.1 404 Not Found\"\n",
      "HTTP Request: GET https://big-vision-paligemma.hf.space/heartbeat/b7bfa10f-f6da-4075-8e76-aee7867cc155 \"HTTP/1.1 404 Not Found\"\n",
      "HTTP Request: GET https://big-vision-paligemma.hf.space/heartbeat/6f5eeb76-cb93-4387-9e64-38e949e4608b \"HTTP/1.1 404 Not Found\"\n",
      "HTTP Request: GET https://big-vision-paligemma.hf.space/file=/tmp/gradio/9566437f83034a79036b0f123067698ffaf38606/image.png \"HTTP/1.1 200 OK\"\n",
      "HTTP Request: GET https://big-vision-paligemma.hf.space/heartbeat/6f5eeb76-cb93-4387-9e64-38e949e4608b \"HTTP/1.1 404 Not Found\"\n",
      "HTTP Request: GET https://big-vision-paligemma.hf.space/heartbeat/dd253886-bf2e-44af-a941-af7b3c5ac0cb \"HTTP/1.1 404 Not Found\"\n",
      "HTTP Request: GET https://big-vision-paligemma.hf.space/heartbeat/b7bfa10f-f6da-4075-8e76-aee7867cc155 \"HTTP/1.1 404 Not Found\"\n",
      "HTTP Request: GET https://big-vision-paligemma.hf.space/heartbeat/9c4db3f1-fcaa-498c-93f5-cdbc92608af4 \"HTTP/1.1 404 Not Found\"\n",
      "HTTP Request: GET https://big-vision-paligemma.hf.space/heartbeat/6f5eeb76-cb93-4387-9e64-38e949e4608b \"HTTP/1.1 404 Not Found\"\n",
      "HTTP Request: GET https://big-vision-paligemma.hf.space/heartbeat/dd253886-bf2e-44af-a941-af7b3c5ac0cb \"HTTP/1.1 404 Not Found\"\n",
      "HTTP Request: GET https://big-vision-paligemma.hf.space/heartbeat/9c4db3f1-fcaa-498c-93f5-cdbc92608af4 \"HTTP/1.1 404 Not Found\"\n",
      "HTTP Request: GET https://big-vision-paligemma.hf.space/heartbeat/6f5eeb76-cb93-4387-9e64-38e949e4608b \"HTTP/1.1 404 Not Found\"\n",
      "HTTP Request: GET https://big-vision-paligemma.hf.space/heartbeat/dd253886-bf2e-44af-a941-af7b3c5ac0cb \"HTTP/1.1 404 Not Found\"\n",
      "HTTP Request: GET https://big-vision-paligemma.hf.space/file=/tmp/gradio/9566437f83034a79036b0f123067698ffaf38606/image.png \"HTTP/1.1 200 OK\"\n",
      "HTTP Request: GET https://big-vision-paligemma.hf.space/heartbeat/b7bfa10f-f6da-4075-8e76-aee7867cc155 \"HTTP/1.1 404 Not Found\"\n",
      "HTTP Request: GET https://big-vision-paligemma.hf.space/heartbeat/6f5eeb76-cb93-4387-9e64-38e949e4608b \"HTTP/1.1 404 Not Found\"\n",
      "HTTP Request: GET https://big-vision-paligemma.hf.space/heartbeat/dd253886-bf2e-44af-a941-af7b3c5ac0cb \"HTTP/1.1 404 Not Found\"\n",
      "HTTP Request: GET https://big-vision-paligemma.hf.space/heartbeat/9c4db3f1-fcaa-498c-93f5-cdbc92608af4 \"HTTP/1.1 404 Not Found\"\n",
      "HTTP Request: GET https://big-vision-paligemma.hf.space/heartbeat/9c4db3f1-fcaa-498c-93f5-cdbc92608af4 \"HTTP/1.1 404 Not Found\"\n",
      "{\"event\": \"OK\", \"trans_id\": \"86db118c-0e72-49b3-b823-6b4f9212d985\", \"status_code\": 200, \"client_host\": \"testclient\", \"api_name\": \"/predict\", \"method\": \"POST\", \"guid\": \"dummyguid\", \"level\": \"info\", \"func_name\": \"dispatch\", \"lineno\": 48, \"timestamp\": \"2024-06-30T15:31:37.634200Z\"}\n",
      "HTTP Request: POST http://testserver/predict \"HTTP/1.1 200 OK\"\n",
      "{'status': 'OK', 'status_code': 200, 'message': {'output': 'Type\\nFilters Size/stride\\nOutput\\n convolutional\\n42\\n224 x 224\\nMaxpool\\n112 x 112\\n2 x 2/2\\nMaxpool\\n64\\n112 x 112\\n2 x 2/2\\nMaxpool\\n128\\n2 x 2/2\\n56 x 56\\nMaxpool\\n128\\n2 x 2/2\\nMaxpool\\n256\\n2 x 2/2\\nMaxpool\\n128\\n2 x 2/2\\nMax'}}\n",
      "HTTP Request: GET https://big-vision-paligemma.hf.space/heartbeat/dd253886-bf2e-44af-a941-af7b3c5ac0cb \"HTTP/1.1 404 Not Found\"\n",
      "HTTP Request: GET https://big-vision-paligemma.hf.space/heartbeat/b7bfa10f-f6da-4075-8e76-aee7867cc155 \"HTTP/1.1 404 Not Found\"\n",
      "HTTP Request: GET https://big-vision-paligemma.hf.space/heartbeat/6f5eeb76-cb93-4387-9e64-38e949e4608b \"HTTP/1.1 404 Not Found\"\n",
      "HTTP Request: GET https://big-vision-paligemma.hf.space/heartbeat/dd253886-bf2e-44af-a941-af7b3c5ac0cb \"HTTP/1.1 404 Not Found\"\n",
      "HTTP Request: GET https://big-vision-paligemma.hf.space/heartbeat/9c4db3f1-fcaa-498c-93f5-cdbc92608af4 \"HTTP/1.1 404 Not Found\"\n",
      "HTTP Request: GET https://big-vision-paligemma.hf.space/heartbeat/dd253886-bf2e-44af-a941-af7b3c5ac0cb \"HTTP/1.1 404 Not Found\"\n",
      "HTTP Request: GET https://big-vision-paligemma.hf.space/heartbeat/6f5eeb76-cb93-4387-9e64-38e949e4608b \"HTTP/1.1 404 Not Found\"\n",
      "HTTP Request: GET https://big-vision-paligemma.hf.space/heartbeat/9c4db3f1-fcaa-498c-93f5-cdbc92608af4 \"HTTP/1.1 404 Not Found\"\n",
      "HTTP Request: GET https://big-vision-paligemma.hf.space/heartbeat/dd253886-bf2e-44af-a941-af7b3c5ac0cb \"HTTP/1.1 404 Not Found\"\n",
      "HTTP Request: GET https://big-vision-paligemma.hf.space/heartbeat/6f5eeb76-cb93-4387-9e64-38e949e4608b \"HTTP/1.1 404 Not Found\"\n",
      "HTTP Request: GET https://big-vision-paligemma.hf.space/heartbeat/9c4db3f1-fcaa-498c-93f5-cdbc92608af4 \"HTTP/1.1 404 Not Found\"\n",
      "HTTP Request: GET https://big-vision-paligemma.hf.space/heartbeat/b7bfa10f-f6da-4075-8e76-aee7867cc155 \"HTTP/1.1 404 Not Found\"\n",
      "HTTP Request: GET https://big-vision-paligemma.hf.space/heartbeat/6f5eeb76-cb93-4387-9e64-38e949e4608b \"HTTP/1.1 404 Not Found\"\n",
      "HTTP Request: GET https://big-vision-paligemma.hf.space/heartbeat/9c4db3f1-fcaa-498c-93f5-cdbc92608af4 \"HTTP/1.1 404 Not Found\"\n",
      "HTTP Request: GET https://big-vision-paligemma.hf.space/heartbeat/dd253886-bf2e-44af-a941-af7b3c5ac0cb \"HTTP/1.1 404 Not Found\"\n",
      "HTTP Request: GET https://big-vision-paligemma.hf.space/heartbeat/6f5eeb76-cb93-4387-9e64-38e949e4608b \"HTTP/1.1 404 Not Found\"\n",
      "HTTP Request: GET https://big-vision-paligemma.hf.space/heartbeat/9c4db3f1-fcaa-498c-93f5-cdbc92608af4 \"HTTP/1.1 404 Not Found\"\n",
      "HTTP Request: GET https://big-vision-paligemma.hf.space/heartbeat/b7bfa10f-f6da-4075-8e76-aee7867cc155 \"HTTP/1.1 404 Not Found\"\n",
      "HTTP Request: GET https://big-vision-paligemma.hf.space/heartbeat/6f5eeb76-cb93-4387-9e64-38e949e4608b \"HTTP/1.1 404 Not Found\"\n",
      "HTTP Request: GET https://big-vision-paligemma.hf.space/heartbeat/9c4db3f1-fcaa-498c-93f5-cdbc92608af4 \"HTTP/1.1 404 Not Found\"\n",
      "HTTP Request: GET https://big-vision-paligemma.hf.space/heartbeat/dd253886-bf2e-44af-a941-af7b3c5ac0cb \"HTTP/1.1 404 Not Found\"\n",
      "HTTP Request: GET https://big-vision-paligemma.hf.space/heartbeat/6f5eeb76-cb93-4387-9e64-38e949e4608b \"HTTP/1.1 404 Not Found\"\n",
      "HTTP Request: GET https://big-vision-paligemma.hf.space/heartbeat/9c4db3f1-fcaa-498c-93f5-cdbc92608af4 \"HTTP/1.1 404 Not Found\"\n",
      "HTTP Request: GET https://big-vision-paligemma.hf.space/heartbeat/dd253886-bf2e-44af-a941-af7b3c5ac0cb \"HTTP/1.1 404 Not Found\"\n",
      "HTTP Request: GET https://big-vision-paligemma.hf.space/heartbeat/6f5eeb76-cb93-4387-9e64-38e949e4608b \"HTTP/1.1 404 Not Found\"\n",
      "HTTP Request: GET https://big-vision-paligemma.hf.space/heartbeat/b7bfa10f-f6da-4075-8e76-aee7867cc155 \"HTTP/1.1 404 Not Found\"\n",
      "HTTP Request: GET https://big-vision-paligemma.hf.space/heartbeat/9c4db3f1-fcaa-498c-93f5-cdbc92608af4 \"HTTP/1.1 404 Not Found\"\n",
      "HTTP Request: GET https://big-vision-paligemma.hf.space/heartbeat/6f5eeb76-cb93-4387-9e64-38e949e4608b \"HTTP/1.1 404 Not Found\"\n",
      "HTTP Request: GET https://big-vision-paligemma.hf.space/heartbeat/dd253886-bf2e-44af-a941-af7b3c5ac0cb \"HTTP/1.1 404 Not Found\"\n",
      "HTTP Request: GET https://big-vision-paligemma.hf.space/heartbeat/dd253886-bf2e-44af-a941-af7b3c5ac0cb \"HTTP/1.1 404 Not Found\"\n",
      "HTTP Request: GET https://big-vision-paligemma.hf.space/heartbeat/b7bfa10f-f6da-4075-8e76-aee7867cc155 \"HTTP/1.1 404 Not Found\"\n",
      "HTTP Request: GET https://big-vision-paligemma.hf.space/heartbeat/6f5eeb76-cb93-4387-9e64-38e949e4608b \"HTTP/1.1 404 Not Found\"\n",
      "HTTP Request: GET https://big-vision-paligemma.hf.space/heartbeat/b7bfa10f-f6da-4075-8e76-aee7867cc155 \"HTTP/1.1 404 Not Found\"\n",
      "HTTP Request: GET https://big-vision-paligemma.hf.space/heartbeat/6f5eeb76-cb93-4387-9e64-38e949e4608b \"HTTP/1.1 404 Not Found\"\n",
      "HTTP Request: GET https://big-vision-paligemma.hf.space/heartbeat/dd253886-bf2e-44af-a941-af7b3c5ac0cb \"HTTP/1.1 404 Not Found\"\n",
      "HTTP Request: GET https://big-vision-paligemma.hf.space/heartbeat/9c4db3f1-fcaa-498c-93f5-cdbc92608af4 \"HTTP/1.1 404 Not Found\"\n",
      "HTTP Request: GET https://big-vision-paligemma.hf.space/heartbeat/6f5eeb76-cb93-4387-9e64-38e949e4608b \"HTTP/1.1 404 Not Found\"\n",
      "HTTP Request: GET https://big-vision-paligemma.hf.space/heartbeat/9c4db3f1-fcaa-498c-93f5-cdbc92608af4 \"HTTP/1.1 404 Not Found\"\n",
      "HTTP Request: GET https://big-vision-paligemma.hf.space/heartbeat/b7bfa10f-f6da-4075-8e76-aee7867cc155 \"HTTP/1.1 404 Not Found\"\n",
      "HTTP Request: GET https://big-vision-paligemma.hf.space/heartbeat/9c4db3f1-fcaa-498c-93f5-cdbc92608af4 \"HTTP/1.1 404 Not Found\"\n",
      "HTTP Request: GET https://big-vision-paligemma.hf.space/heartbeat/6f5eeb76-cb93-4387-9e64-38e949e4608b \"HTTP/1.1 404 Not Found\"\n",
      "HTTP Request: GET https://big-vision-paligemma.hf.space/heartbeat/9c4db3f1-fcaa-498c-93f5-cdbc92608af4 \"HTTP/1.1 404 Not Found\"\n",
      "HTTP Request: GET https://big-vision-paligemma.hf.space/heartbeat/dd253886-bf2e-44af-a941-af7b3c5ac0cb \"HTTP/1.1 404 Not Found\"\n",
      "HTTP Request: GET https://big-vision-paligemma.hf.space/heartbeat/6f5eeb76-cb93-4387-9e64-38e949e4608b \"HTTP/1.1 404 Not Found\"\n",
      "HTTP Request: GET https://big-vision-paligemma.hf.space/heartbeat/b7bfa10f-f6da-4075-8e76-aee7867cc155 \"HTTP/1.1 404 Not Found\"\n",
      "HTTP Request: GET https://big-vision-paligemma.hf.space/heartbeat/dd253886-bf2e-44af-a941-af7b3c5ac0cb \"HTTP/1.1 404 Not Found\"\n",
      "HTTP Request: GET https://big-vision-paligemma.hf.space/heartbeat/6f5eeb76-cb93-4387-9e64-38e949e4608b \"HTTP/1.1 404 Not Found\"\n",
      "HTTP Request: GET https://big-vision-paligemma.hf.space/heartbeat/9c4db3f1-fcaa-498c-93f5-cdbc92608af4 \"HTTP/1.1 404 Not Found\"\n",
      "HTTP Request: GET https://big-vision-paligemma.hf.space/heartbeat/b7bfa10f-f6da-4075-8e76-aee7867cc155 \"HTTP/1.1 404 Not Found\"\n",
      "HTTP Request: GET https://big-vision-paligemma.hf.space/heartbeat/dd253886-bf2e-44af-a941-af7b3c5ac0cb \"HTTP/1.1 404 Not Found\"\n",
      "HTTP Request: GET https://big-vision-paligemma.hf.space/heartbeat/6f5eeb76-cb93-4387-9e64-38e949e4608b \"HTTP/1.1 404 Not Found\"\n",
      "HTTP Request: GET https://big-vision-paligemma.hf.space/heartbeat/9c4db3f1-fcaa-498c-93f5-cdbc92608af4 \"HTTP/1.1 404 Not Found\"\n",
      "HTTP Request: GET https://big-vision-paligemma.hf.space/heartbeat/dd253886-bf2e-44af-a941-af7b3c5ac0cb \"HTTP/1.1 404 Not Found\"\n",
      "HTTP Request: GET https://big-vision-paligemma.hf.space/heartbeat/6f5eeb76-cb93-4387-9e64-38e949e4608b \"HTTP/1.1 404 Not Found\"\n",
      "HTTP Request: GET https://big-vision-paligemma.hf.space/heartbeat/b7bfa10f-f6da-4075-8e76-aee7867cc155 \"HTTP/1.1 404 Not Found\"\n",
      "HTTP Request: GET https://big-vision-paligemma.hf.space/heartbeat/9c4db3f1-fcaa-498c-93f5-cdbc92608af4 \"HTTP/1.1 404 Not Found\"\n",
      "HTTP Request: GET https://big-vision-paligemma.hf.space/heartbeat/dd253886-bf2e-44af-a941-af7b3c5ac0cb \"HTTP/1.1 404 Not Found\"\n",
      "HTTP Request: GET https://big-vision-paligemma.hf.space/heartbeat/6f5eeb76-cb93-4387-9e64-38e949e4608b \"HTTP/1.1 404 Not Found\"\n",
      "HTTP Request: GET https://big-vision-paligemma.hf.space/heartbeat/b7bfa10f-f6da-4075-8e76-aee7867cc155 \"HTTP/1.1 404 Not Found\"\n",
      "HTTP Request: GET https://big-vision-paligemma.hf.space/heartbeat/9c4db3f1-fcaa-498c-93f5-cdbc92608af4 \"HTTP/1.1 404 Not Found\"\n",
      "HTTP Request: GET https://big-vision-paligemma.hf.space/heartbeat/dd253886-bf2e-44af-a941-af7b3c5ac0cb \"HTTP/1.1 404 Not Found\"\n",
      "HTTP Request: GET https://big-vision-paligemma.hf.space/heartbeat/6f5eeb76-cb93-4387-9e64-38e949e4608b \"HTTP/1.1 404 Not Found\"\n",
      "HTTP Request: GET https://big-vision-paligemma.hf.space/heartbeat/b7bfa10f-f6da-4075-8e76-aee7867cc155 \"HTTP/1.1 404 Not Found\"\n",
      "HTTP Request: GET https://big-vision-paligemma.hf.space/heartbeat/9c4db3f1-fcaa-498c-93f5-cdbc92608af4 \"HTTP/1.1 404 Not Found\"\n",
      "HTTP Request: GET https://big-vision-paligemma.hf.space/heartbeat/dd253886-bf2e-44af-a941-af7b3c5ac0cb \"HTTP/1.1 404 Not Found\"\n",
      "HTTP Request: GET https://big-vision-paligemma.hf.space/heartbeat/6f5eeb76-cb93-4387-9e64-38e949e4608b \"HTTP/1.1 404 Not Found\"\n",
      "HTTP Request: GET https://big-vision-paligemma.hf.space/heartbeat/6f5eeb76-cb93-4387-9e64-38e949e4608b \"HTTP/1.1 404 Not Found\"\n",
      "HTTP Request: GET https://big-vision-paligemma.hf.space/heartbeat/b7bfa10f-f6da-4075-8e76-aee7867cc155 \"HTTP/1.1 404 Not Found\"\n",
      "HTTP Request: GET https://big-vision-paligemma.hf.space/heartbeat/9c4db3f1-fcaa-498c-93f5-cdbc92608af4 \"HTTP/1.1 404 Not Found\"\n",
      "HTTP Request: GET https://big-vision-paligemma.hf.space/heartbeat/dd253886-bf2e-44af-a941-af7b3c5ac0cb \"HTTP/1.1 404 Not Found\"\n",
      "HTTP Request: GET https://big-vision-paligemma.hf.space/heartbeat/b7bfa10f-f6da-4075-8e76-aee7867cc155 \"HTTP/1.1 404 Not Found\"\n",
      "HTTP Request: GET https://big-vision-paligemma.hf.space/heartbeat/9c4db3f1-fcaa-498c-93f5-cdbc92608af4 \"HTTP/1.1 404 Not Found\"\n",
      "HTTP Request: GET https://big-vision-paligemma.hf.space/heartbeat/6f5eeb76-cb93-4387-9e64-38e949e4608b \"HTTP/1.1 404 Not Found\"\n",
      "HTTP Request: GET https://big-vision-paligemma.hf.space/heartbeat/dd253886-bf2e-44af-a941-af7b3c5ac0cb \"HTTP/1.1 404 Not Found\"\n",
      "HTTP Request: GET https://big-vision-paligemma.hf.space/heartbeat/b7bfa10f-f6da-4075-8e76-aee7867cc155 \"HTTP/1.1 404 Not Found\"\n",
      "HTTP Request: GET https://big-vision-paligemma.hf.space/heartbeat/9c4db3f1-fcaa-498c-93f5-cdbc92608af4 \"HTTP/1.1 404 Not Found\"\n",
      "HTTP Request: GET https://big-vision-paligemma.hf.space/heartbeat/6f5eeb76-cb93-4387-9e64-38e949e4608b \"HTTP/1.1 404 Not Found\"\n",
      "HTTP Request: GET https://big-vision-paligemma.hf.space/heartbeat/dd253886-bf2e-44af-a941-af7b3c5ac0cb \"HTTP/1.1 404 Not Found\"\n",
      "HTTP Request: GET https://big-vision-paligemma.hf.space/heartbeat/b7bfa10f-f6da-4075-8e76-aee7867cc155 \"HTTP/1.1 404 Not Found\"\n",
      "HTTP Request: GET https://big-vision-paligemma.hf.space/heartbeat/9c4db3f1-fcaa-498c-93f5-cdbc92608af4 \"HTTP/1.1 404 Not Found\"\n",
      "HTTP Request: GET https://big-vision-paligemma.hf.space/heartbeat/dd253886-bf2e-44af-a941-af7b3c5ac0cb \"HTTP/1.1 404 Not Found\"\n",
      "HTTP Request: GET https://big-vision-paligemma.hf.space/heartbeat/6f5eeb76-cb93-4387-9e64-38e949e4608b \"HTTP/1.1 404 Not Found\"\n",
      "HTTP Request: GET https://big-vision-paligemma.hf.space/heartbeat/b7bfa10f-f6da-4075-8e76-aee7867cc155 \"HTTP/1.1 404 Not Found\"\n",
      "HTTP Request: GET https://big-vision-paligemma.hf.space/heartbeat/9c4db3f1-fcaa-498c-93f5-cdbc92608af4 \"HTTP/1.1 404 Not Found\"\n",
      "HTTP Request: GET https://big-vision-paligemma.hf.space/heartbeat/6f5eeb76-cb93-4387-9e64-38e949e4608b \"HTTP/1.1 404 Not Found\"\n",
      "HTTP Request: GET https://big-vision-paligemma.hf.space/heartbeat/dd253886-bf2e-44af-a941-af7b3c5ac0cb \"HTTP/1.1 404 Not Found\"\n",
      "HTTP Request: GET https://big-vision-paligemma.hf.space/heartbeat/6f5eeb76-cb93-4387-9e64-38e949e4608b \"HTTP/1.1 404 Not Found\"\n",
      "HTTP Request: GET https://big-vision-paligemma.hf.space/heartbeat/9c4db3f1-fcaa-498c-93f5-cdbc92608af4 \"HTTP/1.1 404 Not Found\"\n",
      "HTTP Request: GET https://big-vision-paligemma.hf.space/heartbeat/b7bfa10f-f6da-4075-8e76-aee7867cc155 \"HTTP/1.1 404 Not Found\"\n",
      "HTTP Request: GET https://big-vision-paligemma.hf.space/heartbeat/6f5eeb76-cb93-4387-9e64-38e949e4608b \"HTTP/1.1 404 Not Found\"\n",
      "HTTP Request: GET https://big-vision-paligemma.hf.space/heartbeat/9c4db3f1-fcaa-498c-93f5-cdbc92608af4 \"HTTP/1.1 404 Not Found\"\n",
      "HTTP Request: GET https://big-vision-paligemma.hf.space/heartbeat/dd253886-bf2e-44af-a941-af7b3c5ac0cb \"HTTP/1.1 404 Not Found\"\n",
      "HTTP Request: GET https://big-vision-paligemma.hf.space/heartbeat/9c4db3f1-fcaa-498c-93f5-cdbc92608af4 \"HTTP/1.1 404 Not Found\"\n",
      "HTTP Request: GET https://big-vision-paligemma.hf.space/heartbeat/6f5eeb76-cb93-4387-9e64-38e949e4608b \"HTTP/1.1 404 Not Found\"\n",
      "HTTP Request: GET https://big-vision-paligemma.hf.space/heartbeat/b7bfa10f-f6da-4075-8e76-aee7867cc155 \"HTTP/1.1 404 Not Found\"\n",
      "HTTP Request: GET https://big-vision-paligemma.hf.space/heartbeat/6f5eeb76-cb93-4387-9e64-38e949e4608b \"HTTP/1.1 404 Not Found\"\n",
      "HTTP Request: GET https://big-vision-paligemma.hf.space/heartbeat/dd253886-bf2e-44af-a941-af7b3c5ac0cb \"HTTP/1.1 404 Not Found\"\n",
      "HTTP Request: GET https://big-vision-paligemma.hf.space/heartbeat/9c4db3f1-fcaa-498c-93f5-cdbc92608af4 \"HTTP/1.1 404 Not Found\"\n",
      "HTTP Request: GET https://big-vision-paligemma.hf.space/heartbeat/b7bfa10f-f6da-4075-8e76-aee7867cc155 \"HTTP/1.1 404 Not Found\"\n",
      "HTTP Request: GET https://big-vision-paligemma.hf.space/heartbeat/9c4db3f1-fcaa-498c-93f5-cdbc92608af4 \"HTTP/1.1 404 Not Found\"\n",
      "HTTP Request: GET https://big-vision-paligemma.hf.space/heartbeat/dd253886-bf2e-44af-a941-af7b3c5ac0cb \"HTTP/1.1 404 Not Found\"\n",
      "HTTP Request: GET https://big-vision-paligemma.hf.space/heartbeat/b7bfa10f-f6da-4075-8e76-aee7867cc155 \"HTTP/1.1 404 Not Found\"\n",
      "HTTP Request: GET https://big-vision-paligemma.hf.space/heartbeat/6f5eeb76-cb93-4387-9e64-38e949e4608b \"HTTP/1.1 404 Not Found\"\n",
      "HTTP Request: GET https://big-vision-paligemma.hf.space/heartbeat/b7bfa10f-f6da-4075-8e76-aee7867cc155 \"HTTP/1.1 404 Not Found\"\n",
      "HTTP Request: GET https://big-vision-paligemma.hf.space/heartbeat/dd253886-bf2e-44af-a941-af7b3c5ac0cb \"HTTP/1.1 404 Not Found\"\n",
      "HTTP Request: GET https://big-vision-paligemma.hf.space/heartbeat/b7bfa10f-f6da-4075-8e76-aee7867cc155 \"HTTP/1.1 404 Not Found\"\n",
      "HTTP Request: GET https://big-vision-paligemma.hf.space/heartbeat/6f5eeb76-cb93-4387-9e64-38e949e4608b \"HTTP/1.1 404 Not Found\"\n",
      "HTTP Request: GET https://big-vision-paligemma.hf.space/heartbeat/dd253886-bf2e-44af-a941-af7b3c5ac0cb \"HTTP/1.1 404 Not Found\"\n",
      "HTTP Request: GET https://big-vision-paligemma.hf.space/heartbeat/dd253886-bf2e-44af-a941-af7b3c5ac0cb \"HTTP/1.1 404 Not Found\"\n",
      "HTTP Request: GET https://big-vision-paligemma.hf.space/heartbeat/b7bfa10f-f6da-4075-8e76-aee7867cc155 \"HTTP/1.1 404 Not Found\"\n",
      "HTTP Request: GET https://big-vision-paligemma.hf.space/heartbeat/6f5eeb76-cb93-4387-9e64-38e949e4608b \"HTTP/1.1 404 Not Found\"\n",
      "HTTP Request: GET https://big-vision-paligemma.hf.space/heartbeat/6f5eeb76-cb93-4387-9e64-38e949e4608b \"HTTP/1.1 404 Not Found\"\n",
      "HTTP Request: GET https://big-vision-paligemma.hf.space/heartbeat/dd253886-bf2e-44af-a941-af7b3c5ac0cb \"HTTP/1.1 404 Not Found\"\n",
      "HTTP Request: GET https://big-vision-paligemma.hf.space/heartbeat/6f5eeb76-cb93-4387-9e64-38e949e4608b \"HTTP/1.1 404 Not Found\"\n",
      "HTTP Request: GET https://big-vision-paligemma.hf.space/heartbeat/b7bfa10f-f6da-4075-8e76-aee7867cc155 \"HTTP/1.1 404 Not Found\"\n",
      "HTTP Request: GET https://big-vision-paligemma.hf.space/heartbeat/6f5eeb76-cb93-4387-9e64-38e949e4608b \"HTTP/1.1 404 Not Found\"\n",
      "HTTP Request: GET https://big-vision-paligemma.hf.space/heartbeat/dd253886-bf2e-44af-a941-af7b3c5ac0cb \"HTTP/1.1 404 Not Found\"\n",
      "HTTP Request: GET https://big-vision-paligemma.hf.space/heartbeat/b7bfa10f-f6da-4075-8e76-aee7867cc155 \"HTTP/1.1 404 Not Found\"\n",
      "HTTP Request: GET https://big-vision-paligemma.hf.space/heartbeat/dd253886-bf2e-44af-a941-af7b3c5ac0cb \"HTTP/1.1 404 Not Found\"\n",
      "HTTP Request: GET https://big-vision-paligemma.hf.space/heartbeat/6f5eeb76-cb93-4387-9e64-38e949e4608b \"HTTP/1.1 404 Not Found\"\n",
      "HTTP Request: GET https://big-vision-paligemma.hf.space/heartbeat/b7bfa10f-f6da-4075-8e76-aee7867cc155 \"HTTP/1.1 404 Not Found\"\n",
      "HTTP Request: GET https://big-vision-paligemma.hf.space/heartbeat/dd253886-bf2e-44af-a941-af7b3c5ac0cb \"HTTP/1.1 404 Not Found\"\n",
      "HTTP Request: GET https://big-vision-paligemma.hf.space/heartbeat/6f5eeb76-cb93-4387-9e64-38e949e4608b \"HTTP/1.1 404 Not Found\"\n",
      "HTTP Request: GET https://big-vision-paligemma.hf.space/heartbeat/dd253886-bf2e-44af-a941-af7b3c5ac0cb \"HTTP/1.1 404 Not Found\"\n",
      "HTTP Request: GET https://big-vision-paligemma.hf.space/heartbeat/6f5eeb76-cb93-4387-9e64-38e949e4608b \"HTTP/1.1 404 Not Found\"\n",
      "HTTP Request: GET https://big-vision-paligemma.hf.space/heartbeat/b7bfa10f-f6da-4075-8e76-aee7867cc155 \"HTTP/1.1 404 Not Found\"\n",
      "HTTP Request: GET https://big-vision-paligemma.hf.space/heartbeat/6f5eeb76-cb93-4387-9e64-38e949e4608b \"HTTP/1.1 404 Not Found\"\n",
      "HTTP Request: GET https://big-vision-paligemma.hf.space/heartbeat/b7bfa10f-f6da-4075-8e76-aee7867cc155 \"HTTP/1.1 404 Not Found\"\n",
      "HTTP Request: GET https://big-vision-paligemma.hf.space/heartbeat/dd253886-bf2e-44af-a941-af7b3c5ac0cb \"HTTP/1.1 404 Not Found\"\n",
      "HTTP Request: GET https://big-vision-paligemma.hf.space/heartbeat/b7bfa10f-f6da-4075-8e76-aee7867cc155 \"HTTP/1.1 404 Not Found\"\n",
      "HTTP Request: GET https://big-vision-paligemma.hf.space/heartbeat/6f5eeb76-cb93-4387-9e64-38e949e4608b \"HTTP/1.1 404 Not Found\"\n",
      "HTTP Request: GET https://big-vision-paligemma.hf.space/heartbeat/dd253886-bf2e-44af-a941-af7b3c5ac0cb \"HTTP/1.1 404 Not Found\"\n",
      "HTTP Request: GET https://big-vision-paligemma.hf.space/heartbeat/6f5eeb76-cb93-4387-9e64-38e949e4608b \"HTTP/1.1 404 Not Found\"\n",
      "HTTP Request: GET https://big-vision-paligemma.hf.space/heartbeat/b7bfa10f-f6da-4075-8e76-aee7867cc155 \"HTTP/1.1 404 Not Found\"\n",
      "HTTP Request: GET https://big-vision-paligemma.hf.space/heartbeat/dd253886-bf2e-44af-a941-af7b3c5ac0cb \"HTTP/1.1 404 Not Found\"\n",
      "HTTP Request: GET https://big-vision-paligemma.hf.space/heartbeat/9c4db3f1-fcaa-498c-93f5-cdbc92608af4 \"HTTP/1.1 404 Not Found\"\n",
      "HTTP Request: GET https://big-vision-paligemma.hf.space/heartbeat/6f5eeb76-cb93-4387-9e64-38e949e4608b \"HTTP/1.1 404 Not Found\"\n",
      "HTTP Request: GET https://big-vision-paligemma.hf.space/heartbeat/dd253886-bf2e-44af-a941-af7b3c5ac0cb \"HTTP/1.1 404 Not Found\"\n",
      "HTTP Request: GET https://big-vision-paligemma.hf.space/heartbeat/9c4db3f1-fcaa-498c-93f5-cdbc92608af4 \"HTTP/1.1 404 Not Found\"\n",
      "HTTP Request: GET https://big-vision-paligemma.hf.space/heartbeat/b7bfa10f-f6da-4075-8e76-aee7867cc155 \"HTTP/1.1 404 Not Found\"\n",
      "HTTP Request: GET https://big-vision-paligemma.hf.space/heartbeat/dd253886-bf2e-44af-a941-af7b3c5ac0cb \"HTTP/1.1 404 Not Found\"\n",
      "HTTP Request: GET https://big-vision-paligemma.hf.space/heartbeat/6f5eeb76-cb93-4387-9e64-38e949e4608b \"HTTP/1.1 404 Not Found\"\n",
      "HTTP Request: GET https://big-vision-paligemma.hf.space/heartbeat/9c4db3f1-fcaa-498c-93f5-cdbc92608af4 \"HTTP/1.1 404 Not Found\"\n",
      "HTTP Request: GET https://big-vision-paligemma.hf.space/heartbeat/b7bfa10f-f6da-4075-8e76-aee7867cc155 \"HTTP/1.1 404 Not Found\"\n",
      "HTTP Request: GET https://big-vision-paligemma.hf.space/heartbeat/dd253886-bf2e-44af-a941-af7b3c5ac0cb \"HTTP/1.1 404 Not Found\"\n",
      "HTTP Request: GET https://big-vision-paligemma.hf.space/heartbeat/6f5eeb76-cb93-4387-9e64-38e949e4608b \"HTTP/1.1 404 Not Found\"\n",
      "HTTP Request: GET https://big-vision-paligemma.hf.space/heartbeat/9c4db3f1-fcaa-498c-93f5-cdbc92608af4 \"HTTP/1.1 404 Not Found\"\n",
      "HTTP Request: GET https://big-vision-paligemma.hf.space/heartbeat/b7bfa10f-f6da-4075-8e76-aee7867cc155 \"HTTP/1.1 404 Not Found\"\n",
      "HTTP Request: GET https://big-vision-paligemma.hf.space/heartbeat/dd253886-bf2e-44af-a941-af7b3c5ac0cb \"HTTP/1.1 404 Not Found\"\n",
      "HTTP Request: GET https://big-vision-paligemma.hf.space/heartbeat/6f5eeb76-cb93-4387-9e64-38e949e4608b \"HTTP/1.1 404 Not Found\"\n",
      "HTTP Request: GET https://big-vision-paligemma.hf.space/heartbeat/9c4db3f1-fcaa-498c-93f5-cdbc92608af4 \"HTTP/1.1 404 Not Found\"\n",
      "HTTP Request: GET https://big-vision-paligemma.hf.space/heartbeat/b7bfa10f-f6da-4075-8e76-aee7867cc155 \"HTTP/1.1 404 Not Found\"\n",
      "HTTP Request: GET https://big-vision-paligemma.hf.space/heartbeat/dd253886-bf2e-44af-a941-af7b3c5ac0cb \"HTTP/1.1 404 Not Found\"\n",
      "HTTP Request: GET https://big-vision-paligemma.hf.space/heartbeat/6f5eeb76-cb93-4387-9e64-38e949e4608b \"HTTP/1.1 404 Not Found\"\n",
      "HTTP Request: GET https://big-vision-paligemma.hf.space/heartbeat/9c4db3f1-fcaa-498c-93f5-cdbc92608af4 \"HTTP/1.1 404 Not Found\"\n",
      "HTTP Request: GET https://big-vision-paligemma.hf.space/heartbeat/b7bfa10f-f6da-4075-8e76-aee7867cc155 \"HTTP/1.1 404 Not Found\"\n",
      "HTTP Request: GET https://big-vision-paligemma.hf.space/heartbeat/6f5eeb76-cb93-4387-9e64-38e949e4608b \"HTTP/1.1 404 Not Found\"\n",
      "HTTP Request: GET https://big-vision-paligemma.hf.space/heartbeat/9c4db3f1-fcaa-498c-93f5-cdbc92608af4 \"HTTP/1.1 404 Not Found\"\n",
      "HTTP Request: GET https://big-vision-paligemma.hf.space/heartbeat/b7bfa10f-f6da-4075-8e76-aee7867cc155 \"HTTP/1.1 404 Not Found\"\n",
      "HTTP Request: GET https://big-vision-paligemma.hf.space/heartbeat/dd253886-bf2e-44af-a941-af7b3c5ac0cb \"HTTP/1.1 404 Not Found\"\n",
      "HTTP Request: GET https://big-vision-paligemma.hf.space/heartbeat/6f5eeb76-cb93-4387-9e64-38e949e4608b \"HTTP/1.1 404 Not Found\"\n",
      "HTTP Request: GET https://big-vision-paligemma.hf.space/heartbeat/9c4db3f1-fcaa-498c-93f5-cdbc92608af4 \"HTTP/1.1 404 Not Found\"\n",
      "HTTP Request: GET https://big-vision-paligemma.hf.space/heartbeat/dd253886-bf2e-44af-a941-af7b3c5ac0cb \"HTTP/1.1 404 Not Found\"\n",
      "HTTP Request: GET https://big-vision-paligemma.hf.space/heartbeat/6f5eeb76-cb93-4387-9e64-38e949e4608b \"HTTP/1.1 404 Not Found\"\n",
      "HTTP Request: GET https://big-vision-paligemma.hf.space/heartbeat/9c4db3f1-fcaa-498c-93f5-cdbc92608af4 \"HTTP/1.1 404 Not Found\"\n",
      "HTTP Request: GET https://big-vision-paligemma.hf.space/heartbeat/b7bfa10f-f6da-4075-8e76-aee7867cc155 \"HTTP/1.1 404 Not Found\"\n",
      "HTTP Request: GET https://big-vision-paligemma.hf.space/heartbeat/dd253886-bf2e-44af-a941-af7b3c5ac0cb \"HTTP/1.1 404 Not Found\"\n",
      "HTTP Request: GET https://big-vision-paligemma.hf.space/heartbeat/9c4db3f1-fcaa-498c-93f5-cdbc92608af4 \"HTTP/1.1 404 Not Found\"\n",
      "HTTP Request: GET https://big-vision-paligemma.hf.space/heartbeat/dd253886-bf2e-44af-a941-af7b3c5ac0cb \"HTTP/1.1 404 Not Found\"\n",
      "HTTP Request: GET https://big-vision-paligemma.hf.space/heartbeat/b7bfa10f-f6da-4075-8e76-aee7867cc155 \"HTTP/1.1 404 Not Found\"\n",
      "HTTP Request: GET https://big-vision-paligemma.hf.space/heartbeat/dd253886-bf2e-44af-a941-af7b3c5ac0cb \"HTTP/1.1 404 Not Found\"\n",
      "HTTP Request: GET https://big-vision-paligemma.hf.space/heartbeat/9c4db3f1-fcaa-498c-93f5-cdbc92608af4 \"HTTP/1.1 404 Not Found\"\n",
      "HTTP Request: GET https://big-vision-paligemma.hf.space/heartbeat/dd253886-bf2e-44af-a941-af7b3c5ac0cb \"HTTP/1.1 404 Not Found\"\n",
      "HTTP Request: GET https://big-vision-paligemma.hf.space/heartbeat/9c4db3f1-fcaa-498c-93f5-cdbc92608af4 \"HTTP/1.1 404 Not Found\"\n",
      "HTTP Request: GET https://big-vision-paligemma.hf.space/heartbeat/6f5eeb76-cb93-4387-9e64-38e949e4608b \"HTTP/1.1 404 Not Found\"\n",
      "HTTP Request: GET https://big-vision-paligemma.hf.space/heartbeat/b7bfa10f-f6da-4075-8e76-aee7867cc155 \"HTTP/1.1 404 Not Found\"\n",
      "HTTP Request: GET https://big-vision-paligemma.hf.space/heartbeat/dd253886-bf2e-44af-a941-af7b3c5ac0cb \"HTTP/1.1 404 Not Found\"\n",
      "HTTP Request: GET https://big-vision-paligemma.hf.space/heartbeat/9c4db3f1-fcaa-498c-93f5-cdbc92608af4 \"HTTP/1.1 404 Not Found\"\n",
      "HTTP Request: GET https://big-vision-paligemma.hf.space/heartbeat/6f5eeb76-cb93-4387-9e64-38e949e4608b \"HTTP/1.1 404 Not Found\"\n",
      "HTTP Request: GET https://big-vision-paligemma.hf.space/heartbeat/b7bfa10f-f6da-4075-8e76-aee7867cc155 \"HTTP/1.1 404 Not Found\"\n",
      "HTTP Request: GET https://big-vision-paligemma.hf.space/heartbeat/dd253886-bf2e-44af-a941-af7b3c5ac0cb \"HTTP/1.1 404 Not Found\"\n",
      "HTTP Request: GET https://big-vision-paligemma.hf.space/heartbeat/b7bfa10f-f6da-4075-8e76-aee7867cc155 \"HTTP/1.1 404 Not Found\"\n",
      "HTTP Request: GET https://big-vision-paligemma.hf.space/heartbeat/b7bfa10f-f6da-4075-8e76-aee7867cc155 \"HTTP/1.1 404 Not Found\"\n",
      "HTTP Request: GET https://big-vision-paligemma.hf.space/heartbeat/b7bfa10f-f6da-4075-8e76-aee7867cc155 \"HTTP/1.1 404 Not Found\"\n",
      "HTTP Request: GET https://big-vision-paligemma.hf.space/heartbeat/6f5eeb76-cb93-4387-9e64-38e949e4608b \"HTTP/1.1 404 Not Found\"\n",
      "HTTP Request: GET https://big-vision-paligemma.hf.space/heartbeat/9c4db3f1-fcaa-498c-93f5-cdbc92608af4 \"HTTP/1.1 404 Not Found\"\n",
      "HTTP Request: GET https://big-vision-paligemma.hf.space/heartbeat/b7bfa10f-f6da-4075-8e76-aee7867cc155 \"HTTP/1.1 404 Not Found\"\n",
      "HTTP Request: GET https://big-vision-paligemma.hf.space/heartbeat/9c4db3f1-fcaa-498c-93f5-cdbc92608af4 \"HTTP/1.1 404 Not Found\"\n",
      "HTTP Request: GET https://big-vision-paligemma.hf.space/heartbeat/6f5eeb76-cb93-4387-9e64-38e949e4608b \"HTTP/1.1 404 Not Found\"\n",
      "HTTP Request: GET https://big-vision-paligemma.hf.space/heartbeat/b7bfa10f-f6da-4075-8e76-aee7867cc155 \"HTTP/1.1 404 Not Found\"\n",
      "HTTP Request: GET https://big-vision-paligemma.hf.space/heartbeat/9c4db3f1-fcaa-498c-93f5-cdbc92608af4 \"HTTP/1.1 404 Not Found\"\n",
      "HTTP Request: GET https://big-vision-paligemma.hf.space/heartbeat/b7bfa10f-f6da-4075-8e76-aee7867cc155 \"HTTP/1.1 404 Not Found\"\n",
      "HTTP Request: GET https://big-vision-paligemma.hf.space/heartbeat/6f5eeb76-cb93-4387-9e64-38e949e4608b \"HTTP/1.1 404 Not Found\"\n",
      "HTTP Request: GET https://big-vision-paligemma.hf.space/heartbeat/b7bfa10f-f6da-4075-8e76-aee7867cc155 \"HTTP/1.1 404 Not Found\"\n",
      "HTTP Request: GET https://big-vision-paligemma.hf.space/heartbeat/6f5eeb76-cb93-4387-9e64-38e949e4608b \"HTTP/1.1 404 Not Found\"\n",
      "HTTP Request: GET https://big-vision-paligemma.hf.space/heartbeat/9c4db3f1-fcaa-498c-93f5-cdbc92608af4 \"HTTP/1.1 404 Not Found\"\n",
      "HTTP Request: GET https://big-vision-paligemma.hf.space/heartbeat/dd253886-bf2e-44af-a941-af7b3c5ac0cb \"HTTP/1.1 404 Not Found\"\n",
      "HTTP Request: GET https://big-vision-paligemma.hf.space/heartbeat/b7bfa10f-f6da-4075-8e76-aee7867cc155 \"HTTP/1.1 404 Not Found\"\n",
      "HTTP Request: GET https://big-vision-paligemma.hf.space/heartbeat/6f5eeb76-cb93-4387-9e64-38e949e4608b \"HTTP/1.1 404 Not Found\"\n",
      "HTTP Request: GET https://big-vision-paligemma.hf.space/heartbeat/dd253886-bf2e-44af-a941-af7b3c5ac0cb \"HTTP/1.1 404 Not Found\"\n",
      "HTTP Request: GET https://big-vision-paligemma.hf.space/heartbeat/9c4db3f1-fcaa-498c-93f5-cdbc92608af4 \"HTTP/1.1 404 Not Found\"\n",
      "HTTP Request: GET https://big-vision-paligemma.hf.space/heartbeat/b7bfa10f-f6da-4075-8e76-aee7867cc155 \"HTTP/1.1 404 Not Found\"\n",
      "HTTP Request: GET https://big-vision-paligemma.hf.space/heartbeat/6f5eeb76-cb93-4387-9e64-38e949e4608b \"HTTP/1.1 404 Not Found\"\n",
      "HTTP Request: GET https://big-vision-paligemma.hf.space/heartbeat/dd253886-bf2e-44af-a941-af7b3c5ac0cb \"HTTP/1.1 404 Not Found\"\n",
      "HTTP Request: GET https://big-vision-paligemma.hf.space/heartbeat/9c4db3f1-fcaa-498c-93f5-cdbc92608af4 \"HTTP/1.1 404 Not Found\"\n",
      "HTTP Request: GET https://big-vision-paligemma.hf.space/heartbeat/b7bfa10f-f6da-4075-8e76-aee7867cc155 \"HTTP/1.1 404 Not Found\"\n",
      "HTTP Request: GET https://big-vision-paligemma.hf.space/heartbeat/6f5eeb76-cb93-4387-9e64-38e949e4608b \"HTTP/1.1 404 Not Found\"\n",
      "HTTP Request: GET https://big-vision-paligemma.hf.space/heartbeat/dd253886-bf2e-44af-a941-af7b3c5ac0cb \"HTTP/1.1 404 Not Found\"\n",
      "HTTP Request: GET https://big-vision-paligemma.hf.space/heartbeat/b7bfa10f-f6da-4075-8e76-aee7867cc155 \"HTTP/1.1 404 Not Found\"\n",
      "HTTP Request: GET https://big-vision-paligemma.hf.space/heartbeat/9c4db3f1-fcaa-498c-93f5-cdbc92608af4 \"HTTP/1.1 404 Not Found\"\n",
      "HTTP Request: GET https://big-vision-paligemma.hf.space/heartbeat/6f5eeb76-cb93-4387-9e64-38e949e4608b \"HTTP/1.1 404 Not Found\"\n",
      "HTTP Request: GET https://big-vision-paligemma.hf.space/heartbeat/dd253886-bf2e-44af-a941-af7b3c5ac0cb \"HTTP/1.1 404 Not Found\"\n",
      "HTTP Request: GET https://big-vision-paligemma.hf.space/heartbeat/9c4db3f1-fcaa-498c-93f5-cdbc92608af4 \"HTTP/1.1 404 Not Found\"\n",
      "HTTP Request: GET https://big-vision-paligemma.hf.space/heartbeat/b7bfa10f-f6da-4075-8e76-aee7867cc155 \"HTTP/1.1 404 Not Found\"\n",
      "HTTP Request: GET https://big-vision-paligemma.hf.space/heartbeat/6f5eeb76-cb93-4387-9e64-38e949e4608b \"HTTP/1.1 404 Not Found\"\n",
      "HTTP Request: GET https://big-vision-paligemma.hf.space/heartbeat/dd253886-bf2e-44af-a941-af7b3c5ac0cb \"HTTP/1.1 404 Not Found\"\n",
      "HTTP Request: GET https://big-vision-paligemma.hf.space/heartbeat/b7bfa10f-f6da-4075-8e76-aee7867cc155 \"HTTP/1.1 404 Not Found\"\n",
      "HTTP Request: GET https://big-vision-paligemma.hf.space/heartbeat/9c4db3f1-fcaa-498c-93f5-cdbc92608af4 \"HTTP/1.1 404 Not Found\"\n",
      "HTTP Request: GET https://big-vision-paligemma.hf.space/heartbeat/6f5eeb76-cb93-4387-9e64-38e949e4608b \"HTTP/1.1 404 Not Found\"\n",
      "HTTP Request: GET https://big-vision-paligemma.hf.space/heartbeat/dd253886-bf2e-44af-a941-af7b3c5ac0cb \"HTTP/1.1 404 Not Found\"\n",
      "HTTP Request: GET https://big-vision-paligemma.hf.space/heartbeat/9c4db3f1-fcaa-498c-93f5-cdbc92608af4 \"HTTP/1.1 404 Not Found\"\n",
      "HTTP Request: GET https://big-vision-paligemma.hf.space/heartbeat/b7bfa10f-f6da-4075-8e76-aee7867cc155 \"HTTP/1.1 404 Not Found\"\n",
      "HTTP Request: GET https://big-vision-paligemma.hf.space/heartbeat/6f5eeb76-cb93-4387-9e64-38e949e4608b \"HTTP/1.1 404 Not Found\"\n",
      "HTTP Request: GET https://big-vision-paligemma.hf.space/heartbeat/dd253886-bf2e-44af-a941-af7b3c5ac0cb \"HTTP/1.1 404 Not Found\"\n",
      "HTTP Request: GET https://big-vision-paligemma.hf.space/heartbeat/b7bfa10f-f6da-4075-8e76-aee7867cc155 \"HTTP/1.1 404 Not Found\"\n",
      "HTTP Request: GET https://big-vision-paligemma.hf.space/heartbeat/6f5eeb76-cb93-4387-9e64-38e949e4608b \"HTTP/1.1 404 Not Found\"\n",
      "HTTP Request: GET https://big-vision-paligemma.hf.space/heartbeat/dd253886-bf2e-44af-a941-af7b3c5ac0cb \"HTTP/1.1 404 Not Found\"\n",
      "HTTP Request: GET https://big-vision-paligemma.hf.space/heartbeat/b7bfa10f-f6da-4075-8e76-aee7867cc155 \"HTTP/1.1 404 Not Found\"\n",
      "HTTP Request: GET https://big-vision-paligemma.hf.space/heartbeat/9c4db3f1-fcaa-498c-93f5-cdbc92608af4 \"HTTP/1.1 404 Not Found\"\n",
      "HTTP Request: GET https://big-vision-paligemma.hf.space/heartbeat/6f5eeb76-cb93-4387-9e64-38e949e4608b \"HTTP/1.1 404 Not Found\"\n",
      "HTTP Request: GET https://big-vision-paligemma.hf.space/heartbeat/dd253886-bf2e-44af-a941-af7b3c5ac0cb \"HTTP/1.1 404 Not Found\"\n",
      "HTTP Request: GET https://big-vision-paligemma.hf.space/heartbeat/b7bfa10f-f6da-4075-8e76-aee7867cc155 \"HTTP/1.1 404 Not Found\"\n",
      "HTTP Request: GET https://big-vision-paligemma.hf.space/heartbeat/9c4db3f1-fcaa-498c-93f5-cdbc92608af4 \"HTTP/1.1 404 Not Found\"\n",
      "HTTP Request: GET https://big-vision-paligemma.hf.space/heartbeat/6f5eeb76-cb93-4387-9e64-38e949e4608b \"HTTP/1.1 404 Not Found\"\n",
      "HTTP Request: GET https://big-vision-paligemma.hf.space/heartbeat/dd253886-bf2e-44af-a941-af7b3c5ac0cb \"HTTP/1.1 404 Not Found\"\n",
      "HTTP Request: GET https://big-vision-paligemma.hf.space/heartbeat/b7bfa10f-f6da-4075-8e76-aee7867cc155 \"HTTP/1.1 404 Not Found\"\n",
      "HTTP Request: GET https://big-vision-paligemma.hf.space/heartbeat/9c4db3f1-fcaa-498c-93f5-cdbc92608af4 \"HTTP/1.1 404 Not Found\"\n",
      "HTTP Request: GET https://big-vision-paligemma.hf.space/heartbeat/6f5eeb76-cb93-4387-9e64-38e949e4608b \"HTTP/1.1 404 Not Found\"\n",
      "HTTP Request: GET https://big-vision-paligemma.hf.space/heartbeat/dd253886-bf2e-44af-a941-af7b3c5ac0cb \"HTTP/1.1 404 Not Found\"\n",
      "HTTP Request: GET https://big-vision-paligemma.hf.space/heartbeat/b7bfa10f-f6da-4075-8e76-aee7867cc155 \"HTTP/1.1 404 Not Found\"\n",
      "HTTP Request: GET https://big-vision-paligemma.hf.space/heartbeat/9c4db3f1-fcaa-498c-93f5-cdbc92608af4 \"HTTP/1.1 404 Not Found\"\n",
      "HTTP Request: GET https://big-vision-paligemma.hf.space/heartbeat/6f5eeb76-cb93-4387-9e64-38e949e4608b \"HTTP/1.1 404 Not Found\"\n",
      "HTTP Request: GET https://big-vision-paligemma.hf.space/heartbeat/dd253886-bf2e-44af-a941-af7b3c5ac0cb \"HTTP/1.1 404 Not Found\"\n",
      "HTTP Request: GET https://big-vision-paligemma.hf.space/heartbeat/b7bfa10f-f6da-4075-8e76-aee7867cc155 \"HTTP/1.1 404 Not Found\"\n",
      "HTTP Request: GET https://big-vision-paligemma.hf.space/heartbeat/9c4db3f1-fcaa-498c-93f5-cdbc92608af4 \"HTTP/1.1 404 Not Found\"\n",
      "HTTP Request: GET https://big-vision-paligemma.hf.space/heartbeat/6f5eeb76-cb93-4387-9e64-38e949e4608b \"HTTP/1.1 404 Not Found\"\n",
      "HTTP Request: GET https://big-vision-paligemma.hf.space/heartbeat/dd253886-bf2e-44af-a941-af7b3c5ac0cb \"HTTP/1.1 404 Not Found\"\n",
      "HTTP Request: GET https://big-vision-paligemma.hf.space/heartbeat/b7bfa10f-f6da-4075-8e76-aee7867cc155 \"HTTP/1.1 404 Not Found\"\n",
      "HTTP Request: GET https://big-vision-paligemma.hf.space/heartbeat/9c4db3f1-fcaa-498c-93f5-cdbc92608af4 \"HTTP/1.1 404 Not Found\"\n",
      "HTTP Request: GET https://big-vision-paligemma.hf.space/heartbeat/6f5eeb76-cb93-4387-9e64-38e949e4608b \"HTTP/1.1 404 Not Found\"\n",
      "HTTP Request: GET https://big-vision-paligemma.hf.space/heartbeat/dd253886-bf2e-44af-a941-af7b3c5ac0cb \"HTTP/1.1 404 Not Found\"\n",
      "HTTP Request: GET https://big-vision-paligemma.hf.space/heartbeat/b7bfa10f-f6da-4075-8e76-aee7867cc155 \"HTTP/1.1 404 Not Found\"\n",
      "HTTP Request: GET https://big-vision-paligemma.hf.space/heartbeat/9c4db3f1-fcaa-498c-93f5-cdbc92608af4 \"HTTP/1.1 404 Not Found\"\n",
      "HTTP Request: GET https://big-vision-paligemma.hf.space/heartbeat/6f5eeb76-cb93-4387-9e64-38e949e4608b \"HTTP/1.1 404 Not Found\"\n",
      "HTTP Request: GET https://big-vision-paligemma.hf.space/heartbeat/dd253886-bf2e-44af-a941-af7b3c5ac0cb \"HTTP/1.1 404 Not Found\"\n",
      "HTTP Request: GET https://big-vision-paligemma.hf.space/heartbeat/b7bfa10f-f6da-4075-8e76-aee7867cc155 \"HTTP/1.1 404 Not Found\"\n",
      "HTTP Request: GET https://big-vision-paligemma.hf.space/heartbeat/9c4db3f1-fcaa-498c-93f5-cdbc92608af4 \"HTTP/1.1 404 Not Found\"\n",
      "HTTP Request: GET https://big-vision-paligemma.hf.space/heartbeat/6f5eeb76-cb93-4387-9e64-38e949e4608b \"HTTP/1.1 404 Not Found\"\n",
      "HTTP Request: GET https://big-vision-paligemma.hf.space/heartbeat/dd253886-bf2e-44af-a941-af7b3c5ac0cb \"HTTP/1.1 404 Not Found\"\n",
      "HTTP Request: GET https://big-vision-paligemma.hf.space/heartbeat/b7bfa10f-f6da-4075-8e76-aee7867cc155 \"HTTP/1.1 404 Not Found\"\n",
      "HTTP Request: GET https://big-vision-paligemma.hf.space/heartbeat/9c4db3f1-fcaa-498c-93f5-cdbc92608af4 \"HTTP/1.1 404 Not Found\"\n",
      "HTTP Request: GET https://big-vision-paligemma.hf.space/heartbeat/6f5eeb76-cb93-4387-9e64-38e949e4608b \"HTTP/1.1 404 Not Found\"\n",
      "HTTP Request: GET https://big-vision-paligemma.hf.space/heartbeat/dd253886-bf2e-44af-a941-af7b3c5ac0cb \"HTTP/1.1 404 Not Found\"\n",
      "HTTP Request: GET https://big-vision-paligemma.hf.space/heartbeat/b7bfa10f-f6da-4075-8e76-aee7867cc155 \"HTTP/1.1 404 Not Found\"\n",
      "HTTP Request: GET https://big-vision-paligemma.hf.space/heartbeat/9c4db3f1-fcaa-498c-93f5-cdbc92608af4 \"HTTP/1.1 404 Not Found\"\n",
      "HTTP Request: GET https://big-vision-paligemma.hf.space/heartbeat/6f5eeb76-cb93-4387-9e64-38e949e4608b \"HTTP/1.1 404 Not Found\"\n",
      "HTTP Request: GET https://big-vision-paligemma.hf.space/heartbeat/dd253886-bf2e-44af-a941-af7b3c5ac0cb \"HTTP/1.1 404 Not Found\"\n",
      "HTTP Request: GET https://big-vision-paligemma.hf.space/heartbeat/b7bfa10f-f6da-4075-8e76-aee7867cc155 \"HTTP/1.1 404 Not Found\"\n",
      "HTTP Request: GET https://big-vision-paligemma.hf.space/heartbeat/9c4db3f1-fcaa-498c-93f5-cdbc92608af4 \"HTTP/1.1 404 Not Found\"\n",
      "HTTP Request: GET https://big-vision-paligemma.hf.space/heartbeat/6f5eeb76-cb93-4387-9e64-38e949e4608b \"HTTP/1.1 404 Not Found\"\n",
      "HTTP Request: GET https://big-vision-paligemma.hf.space/heartbeat/dd253886-bf2e-44af-a941-af7b3c5ac0cb \"HTTP/1.1 404 Not Found\"\n",
      "HTTP Request: GET https://big-vision-paligemma.hf.space/heartbeat/b7bfa10f-f6da-4075-8e76-aee7867cc155 \"HTTP/1.1 404 Not Found\"\n",
      "HTTP Request: GET https://big-vision-paligemma.hf.space/heartbeat/9c4db3f1-fcaa-498c-93f5-cdbc92608af4 \"HTTP/1.1 404 Not Found\"\n",
      "HTTP Request: GET https://big-vision-paligemma.hf.space/heartbeat/6f5eeb76-cb93-4387-9e64-38e949e4608b \"HTTP/1.1 404 Not Found\"\n",
      "HTTP Request: GET https://big-vision-paligemma.hf.space/heartbeat/dd253886-bf2e-44af-a941-af7b3c5ac0cb \"HTTP/1.1 404 Not Found\"\n",
      "HTTP Request: GET https://big-vision-paligemma.hf.space/heartbeat/b7bfa10f-f6da-4075-8e76-aee7867cc155 \"HTTP/1.1 404 Not Found\"\n",
      "HTTP Request: GET https://big-vision-paligemma.hf.space/heartbeat/9c4db3f1-fcaa-498c-93f5-cdbc92608af4 \"HTTP/1.1 404 Not Found\"\n",
      "HTTP Request: GET https://big-vision-paligemma.hf.space/heartbeat/6f5eeb76-cb93-4387-9e64-38e949e4608b \"HTTP/1.1 404 Not Found\"\n",
      "HTTP Request: GET https://big-vision-paligemma.hf.space/heartbeat/dd253886-bf2e-44af-a941-af7b3c5ac0cb \"HTTP/1.1 404 Not Found\"\n",
      "HTTP Request: GET https://big-vision-paligemma.hf.space/heartbeat/b7bfa10f-f6da-4075-8e76-aee7867cc155 \"HTTP/1.1 404 Not Found\"\n",
      "HTTP Request: GET https://big-vision-paligemma.hf.space/heartbeat/9c4db3f1-fcaa-498c-93f5-cdbc92608af4 \"HTTP/1.1 404 Not Found\"\n",
      "HTTP Request: GET https://big-vision-paligemma.hf.space/heartbeat/6f5eeb76-cb93-4387-9e64-38e949e4608b \"HTTP/1.1 404 Not Found\"\n",
      "HTTP Request: GET https://big-vision-paligemma.hf.space/heartbeat/dd253886-bf2e-44af-a941-af7b3c5ac0cb \"HTTP/1.1 404 Not Found\"\n",
      "HTTP Request: GET https://big-vision-paligemma.hf.space/heartbeat/b7bfa10f-f6da-4075-8e76-aee7867cc155 \"HTTP/1.1 404 Not Found\"\n",
      "HTTP Request: GET https://big-vision-paligemma.hf.space/heartbeat/9c4db3f1-fcaa-498c-93f5-cdbc92608af4 \"HTTP/1.1 404 Not Found\"\n",
      "HTTP Request: GET https://big-vision-paligemma.hf.space/heartbeat/6f5eeb76-cb93-4387-9e64-38e949e4608b \"HTTP/1.1 404 Not Found\"\n",
      "HTTP Request: GET https://big-vision-paligemma.hf.space/heartbeat/dd253886-bf2e-44af-a941-af7b3c5ac0cb \"HTTP/1.1 404 Not Found\"\n",
      "HTTP Request: GET https://big-vision-paligemma.hf.space/heartbeat/b7bfa10f-f6da-4075-8e76-aee7867cc155 \"HTTP/1.1 404 Not Found\"\n",
      "HTTP Request: GET https://big-vision-paligemma.hf.space/heartbeat/9c4db3f1-fcaa-498c-93f5-cdbc92608af4 \"HTTP/1.1 404 Not Found\"\n",
      "HTTP Request: GET https://big-vision-paligemma.hf.space/heartbeat/6f5eeb76-cb93-4387-9e64-38e949e4608b \"HTTP/1.1 404 Not Found\"\n",
      "HTTP Request: GET https://big-vision-paligemma.hf.space/heartbeat/dd253886-bf2e-44af-a941-af7b3c5ac0cb \"HTTP/1.1 404 Not Found\"\n",
      "HTTP Request: GET https://big-vision-paligemma.hf.space/heartbeat/b7bfa10f-f6da-4075-8e76-aee7867cc155 \"HTTP/1.1 404 Not Found\"\n",
      "HTTP Request: GET https://big-vision-paligemma.hf.space/heartbeat/9c4db3f1-fcaa-498c-93f5-cdbc92608af4 \"HTTP/1.1 404 Not Found\"\n",
      "HTTP Request: GET https://big-vision-paligemma.hf.space/heartbeat/6f5eeb76-cb93-4387-9e64-38e949e4608b \"HTTP/1.1 404 Not Found\"\n",
      "HTTP Request: GET https://big-vision-paligemma.hf.space/heartbeat/dd253886-bf2e-44af-a941-af7b3c5ac0cb \"HTTP/1.1 404 Not Found\"\n",
      "HTTP Request: GET https://big-vision-paligemma.hf.space/heartbeat/b7bfa10f-f6da-4075-8e76-aee7867cc155 \"HTTP/1.1 404 Not Found\"\n",
      "HTTP Request: GET https://big-vision-paligemma.hf.space/heartbeat/9c4db3f1-fcaa-498c-93f5-cdbc92608af4 \"HTTP/1.1 404 Not Found\"\n",
      "HTTP Request: GET https://big-vision-paligemma.hf.space/heartbeat/6f5eeb76-cb93-4387-9e64-38e949e4608b \"HTTP/1.1 404 Not Found\"\n",
      "HTTP Request: GET https://big-vision-paligemma.hf.space/heartbeat/dd253886-bf2e-44af-a941-af7b3c5ac0cb \"HTTP/1.1 404 Not Found\"\n",
      "HTTP Request: GET https://big-vision-paligemma.hf.space/heartbeat/b7bfa10f-f6da-4075-8e76-aee7867cc155 \"HTTP/1.1 404 Not Found\"\n",
      "HTTP Request: GET https://big-vision-paligemma.hf.space/heartbeat/9c4db3f1-fcaa-498c-93f5-cdbc92608af4 \"HTTP/1.1 404 Not Found\"\n",
      "HTTP Request: GET https://big-vision-paligemma.hf.space/heartbeat/6f5eeb76-cb93-4387-9e64-38e949e4608b \"HTTP/1.1 404 Not Found\"\n",
      "HTTP Request: GET https://big-vision-paligemma.hf.space/heartbeat/dd253886-bf2e-44af-a941-af7b3c5ac0cb \"HTTP/1.1 404 Not Found\"\n",
      "HTTP Request: GET https://big-vision-paligemma.hf.space/heartbeat/b7bfa10f-f6da-4075-8e76-aee7867cc155 \"HTTP/1.1 404 Not Found\"\n",
      "HTTP Request: GET https://big-vision-paligemma.hf.space/heartbeat/9c4db3f1-fcaa-498c-93f5-cdbc92608af4 \"HTTP/1.1 404 Not Found\"\n",
      "HTTP Request: GET https://big-vision-paligemma.hf.space/heartbeat/6f5eeb76-cb93-4387-9e64-38e949e4608b \"HTTP/1.1 404 Not Found\"\n",
      "HTTP Request: GET https://big-vision-paligemma.hf.space/heartbeat/dd253886-bf2e-44af-a941-af7b3c5ac0cb \"HTTP/1.1 404 Not Found\"\n",
      "HTTP Request: GET https://big-vision-paligemma.hf.space/heartbeat/b7bfa10f-f6da-4075-8e76-aee7867cc155 \"HTTP/1.1 404 Not Found\"\n",
      "HTTP Request: GET https://big-vision-paligemma.hf.space/heartbeat/9c4db3f1-fcaa-498c-93f5-cdbc92608af4 \"HTTP/1.1 404 Not Found\"\n",
      "HTTP Request: GET https://big-vision-paligemma.hf.space/heartbeat/6f5eeb76-cb93-4387-9e64-38e949e4608b \"HTTP/1.1 404 Not Found\"\n",
      "HTTP Request: GET https://big-vision-paligemma.hf.space/heartbeat/dd253886-bf2e-44af-a941-af7b3c5ac0cb \"HTTP/1.1 404 Not Found\"\n",
      "HTTP Request: GET https://big-vision-paligemma.hf.space/heartbeat/b7bfa10f-f6da-4075-8e76-aee7867cc155 \"HTTP/1.1 404 Not Found\"\n",
      "HTTP Request: GET https://big-vision-paligemma.hf.space/heartbeat/9c4db3f1-fcaa-498c-93f5-cdbc92608af4 \"HTTP/1.1 404 Not Found\"\n",
      "HTTP Request: GET https://big-vision-paligemma.hf.space/heartbeat/6f5eeb76-cb93-4387-9e64-38e949e4608b \"HTTP/1.1 404 Not Found\"\n",
      "HTTP Request: GET https://big-vision-paligemma.hf.space/heartbeat/dd253886-bf2e-44af-a941-af7b3c5ac0cb \"HTTP/1.1 404 Not Found\"\n",
      "HTTP Request: GET https://big-vision-paligemma.hf.space/heartbeat/b7bfa10f-f6da-4075-8e76-aee7867cc155 \"HTTP/1.1 404 Not Found\"\n",
      "HTTP Request: GET https://big-vision-paligemma.hf.space/heartbeat/9c4db3f1-fcaa-498c-93f5-cdbc92608af4 \"HTTP/1.1 404 Not Found\"\n",
      "HTTP Request: GET https://big-vision-paligemma.hf.space/heartbeat/6f5eeb76-cb93-4387-9e64-38e949e4608b \"HTTP/1.1 404 Not Found\"\n",
      "HTTP Request: GET https://big-vision-paligemma.hf.space/heartbeat/dd253886-bf2e-44af-a941-af7b3c5ac0cb \"HTTP/1.1 404 Not Found\"\n",
      "HTTP Request: GET https://big-vision-paligemma.hf.space/heartbeat/b7bfa10f-f6da-4075-8e76-aee7867cc155 \"HTTP/1.1 404 Not Found\"\n",
      "HTTP Request: GET https://big-vision-paligemma.hf.space/heartbeat/9c4db3f1-fcaa-498c-93f5-cdbc92608af4 \"HTTP/1.1 404 Not Found\"\n",
      "HTTP Request: GET https://big-vision-paligemma.hf.space/heartbeat/6f5eeb76-cb93-4387-9e64-38e949e4608b \"HTTP/1.1 404 Not Found\"\n",
      "HTTP Request: GET https://big-vision-paligemma.hf.space/heartbeat/dd253886-bf2e-44af-a941-af7b3c5ac0cb \"HTTP/1.1 404 Not Found\"\n",
      "HTTP Request: GET https://big-vision-paligemma.hf.space/heartbeat/b7bfa10f-f6da-4075-8e76-aee7867cc155 \"HTTP/1.1 404 Not Found\"\n",
      "HTTP Request: GET https://big-vision-paligemma.hf.space/heartbeat/9c4db3f1-fcaa-498c-93f5-cdbc92608af4 \"HTTP/1.1 404 Not Found\"\n",
      "HTTP Request: GET https://big-vision-paligemma.hf.space/heartbeat/6f5eeb76-cb93-4387-9e64-38e949e4608b \"HTTP/1.1 404 Not Found\"\n",
      "HTTP Request: GET https://big-vision-paligemma.hf.space/heartbeat/dd253886-bf2e-44af-a941-af7b3c5ac0cb \"HTTP/1.1 404 Not Found\"\n",
      "HTTP Request: GET https://big-vision-paligemma.hf.space/heartbeat/b7bfa10f-f6da-4075-8e76-aee7867cc155 \"HTTP/1.1 404 Not Found\"\n",
      "HTTP Request: GET https://big-vision-paligemma.hf.space/heartbeat/9c4db3f1-fcaa-498c-93f5-cdbc92608af4 \"HTTP/1.1 404 Not Found\"\n",
      "HTTP Request: GET https://big-vision-paligemma.hf.space/heartbeat/6f5eeb76-cb93-4387-9e64-38e949e4608b \"HTTP/1.1 404 Not Found\"\n",
      "HTTP Request: GET https://big-vision-paligemma.hf.space/heartbeat/dd253886-bf2e-44af-a941-af7b3c5ac0cb \"HTTP/1.1 404 Not Found\"\n",
      "HTTP Request: GET https://big-vision-paligemma.hf.space/heartbeat/b7bfa10f-f6da-4075-8e76-aee7867cc155 \"HTTP/1.1 404 Not Found\"\n",
      "HTTP Request: GET https://big-vision-paligemma.hf.space/heartbeat/9c4db3f1-fcaa-498c-93f5-cdbc92608af4 \"HTTP/1.1 404 Not Found\"\n",
      "HTTP Request: GET https://big-vision-paligemma.hf.space/heartbeat/6f5eeb76-cb93-4387-9e64-38e949e4608b \"HTTP/1.1 404 Not Found\"\n",
      "HTTP Request: GET https://big-vision-paligemma.hf.space/heartbeat/dd253886-bf2e-44af-a941-af7b3c5ac0cb \"HTTP/1.1 404 Not Found\"\n",
      "HTTP Request: GET https://big-vision-paligemma.hf.space/heartbeat/b7bfa10f-f6da-4075-8e76-aee7867cc155 \"HTTP/1.1 404 Not Found\"\n",
      "HTTP Request: GET https://big-vision-paligemma.hf.space/heartbeat/9c4db3f1-fcaa-498c-93f5-cdbc92608af4 \"HTTP/1.1 404 Not Found\"\n",
      "HTTP Request: GET https://big-vision-paligemma.hf.space/heartbeat/6f5eeb76-cb93-4387-9e64-38e949e4608b \"HTTP/1.1 404 Not Found\"\n",
      "HTTP Request: GET https://big-vision-paligemma.hf.space/heartbeat/dd253886-bf2e-44af-a941-af7b3c5ac0cb \"HTTP/1.1 404 Not Found\"\n",
      "HTTP Request: GET https://big-vision-paligemma.hf.space/heartbeat/b7bfa10f-f6da-4075-8e76-aee7867cc155 \"HTTP/1.1 404 Not Found\"\n",
      "HTTP Request: GET https://big-vision-paligemma.hf.space/heartbeat/9c4db3f1-fcaa-498c-93f5-cdbc92608af4 \"HTTP/1.1 404 Not Found\"\n",
      "HTTP Request: GET https://big-vision-paligemma.hf.space/heartbeat/6f5eeb76-cb93-4387-9e64-38e949e4608b \"HTTP/1.1 404 Not Found\"\n",
      "HTTP Request: GET https://big-vision-paligemma.hf.space/heartbeat/b7bfa10f-f6da-4075-8e76-aee7867cc155 \"HTTP/1.1 404 Not Found\"\n",
      "HTTP Request: GET https://big-vision-paligemma.hf.space/heartbeat/dd253886-bf2e-44af-a941-af7b3c5ac0cb \"HTTP/1.1 404 Not Found\"\n",
      "HTTP Request: GET https://big-vision-paligemma.hf.space/heartbeat/9c4db3f1-fcaa-498c-93f5-cdbc92608af4 \"HTTP/1.1 404 Not Found\"\n",
      "HTTP Request: GET https://big-vision-paligemma.hf.space/heartbeat/6f5eeb76-cb93-4387-9e64-38e949e4608b \"HTTP/1.1 404 Not Found\"\n",
      "HTTP Request: GET https://big-vision-paligemma.hf.space/heartbeat/b7bfa10f-f6da-4075-8e76-aee7867cc155 \"HTTP/1.1 404 Not Found\"\n",
      "HTTP Request: GET https://big-vision-paligemma.hf.space/heartbeat/dd253886-bf2e-44af-a941-af7b3c5ac0cb \"HTTP/1.1 404 Not Found\"\n",
      "HTTP Request: GET https://big-vision-paligemma.hf.space/heartbeat/9c4db3f1-fcaa-498c-93f5-cdbc92608af4 \"HTTP/1.1 404 Not Found\"\n",
      "HTTP Request: GET https://big-vision-paligemma.hf.space/heartbeat/6f5eeb76-cb93-4387-9e64-38e949e4608b \"HTTP/1.1 404 Not Found\"\n",
      "HTTP Request: GET https://big-vision-paligemma.hf.space/heartbeat/b7bfa10f-f6da-4075-8e76-aee7867cc155 \"HTTP/1.1 404 Not Found\"\n",
      "HTTP Request: GET https://big-vision-paligemma.hf.space/heartbeat/dd253886-bf2e-44af-a941-af7b3c5ac0cb \"HTTP/1.1 404 Not Found\"\n",
      "HTTP Request: GET https://big-vision-paligemma.hf.space/heartbeat/9c4db3f1-fcaa-498c-93f5-cdbc92608af4 \"HTTP/1.1 404 Not Found\"\n",
      "HTTP Request: GET https://big-vision-paligemma.hf.space/heartbeat/6f5eeb76-cb93-4387-9e64-38e949e4608b \"HTTP/1.1 404 Not Found\"\n",
      "HTTP Request: GET https://big-vision-paligemma.hf.space/heartbeat/b7bfa10f-f6da-4075-8e76-aee7867cc155 \"HTTP/1.1 404 Not Found\"\n",
      "HTTP Request: GET https://big-vision-paligemma.hf.space/heartbeat/dd253886-bf2e-44af-a941-af7b3c5ac0cb \"HTTP/1.1 404 Not Found\"\n",
      "HTTP Request: GET https://big-vision-paligemma.hf.space/heartbeat/9c4db3f1-fcaa-498c-93f5-cdbc92608af4 \"HTTP/1.1 404 Not Found\"\n",
      "HTTP Request: GET https://big-vision-paligemma.hf.space/heartbeat/6f5eeb76-cb93-4387-9e64-38e949e4608b \"HTTP/1.1 404 Not Found\"\n",
      "HTTP Request: GET https://big-vision-paligemma.hf.space/heartbeat/b7bfa10f-f6da-4075-8e76-aee7867cc155 \"HTTP/1.1 404 Not Found\"\n",
      "HTTP Request: GET https://big-vision-paligemma.hf.space/heartbeat/dd253886-bf2e-44af-a941-af7b3c5ac0cb \"HTTP/1.1 404 Not Found\"\n",
      "HTTP Request: GET https://big-vision-paligemma.hf.space/heartbeat/9c4db3f1-fcaa-498c-93f5-cdbc92608af4 \"HTTP/1.1 404 Not Found\"\n",
      "HTTP Request: GET https://big-vision-paligemma.hf.space/heartbeat/6f5eeb76-cb93-4387-9e64-38e949e4608b \"HTTP/1.1 404 Not Found\"\n",
      "HTTP Request: GET https://big-vision-paligemma.hf.space/heartbeat/b7bfa10f-f6da-4075-8e76-aee7867cc155 \"HTTP/1.1 404 Not Found\"\n",
      "HTTP Request: GET https://big-vision-paligemma.hf.space/heartbeat/dd253886-bf2e-44af-a941-af7b3c5ac0cb \"HTTP/1.1 404 Not Found\"\n",
      "HTTP Request: GET https://big-vision-paligemma.hf.space/heartbeat/9c4db3f1-fcaa-498c-93f5-cdbc92608af4 \"HTTP/1.1 404 Not Found\"\n",
      "HTTP Request: GET https://big-vision-paligemma.hf.space/heartbeat/6f5eeb76-cb93-4387-9e64-38e949e4608b \"HTTP/1.1 404 Not Found\"\n",
      "HTTP Request: GET https://big-vision-paligemma.hf.space/heartbeat/b7bfa10f-f6da-4075-8e76-aee7867cc155 \"HTTP/1.1 404 Not Found\"\n",
      "HTTP Request: GET https://big-vision-paligemma.hf.space/heartbeat/dd253886-bf2e-44af-a941-af7b3c5ac0cb \"HTTP/1.1 404 Not Found\"\n",
      "HTTP Request: GET https://big-vision-paligemma.hf.space/heartbeat/9c4db3f1-fcaa-498c-93f5-cdbc92608af4 \"HTTP/1.1 404 Not Found\"\n",
      "HTTP Request: GET https://big-vision-paligemma.hf.space/heartbeat/6f5eeb76-cb93-4387-9e64-38e949e4608b \"HTTP/1.1 404 Not Found\"\n",
      "HTTP Request: GET https://big-vision-paligemma.hf.space/heartbeat/b7bfa10f-f6da-4075-8e76-aee7867cc155 \"HTTP/1.1 404 Not Found\"\n",
      "HTTP Request: GET https://big-vision-paligemma.hf.space/heartbeat/dd253886-bf2e-44af-a941-af7b3c5ac0cb \"HTTP/1.1 404 Not Found\"\n",
      "HTTP Request: GET https://big-vision-paligemma.hf.space/heartbeat/9c4db3f1-fcaa-498c-93f5-cdbc92608af4 \"HTTP/1.1 404 Not Found\"\n",
      "HTTP Request: GET https://big-vision-paligemma.hf.space/heartbeat/6f5eeb76-cb93-4387-9e64-38e949e4608b \"HTTP/1.1 404 Not Found\"\n",
      "HTTP Request: GET https://big-vision-paligemma.hf.space/heartbeat/b7bfa10f-f6da-4075-8e76-aee7867cc155 \"HTTP/1.1 404 Not Found\"\n",
      "HTTP Request: GET https://big-vision-paligemma.hf.space/heartbeat/dd253886-bf2e-44af-a941-af7b3c5ac0cb \"HTTP/1.1 404 Not Found\"\n",
      "HTTP Request: GET https://big-vision-paligemma.hf.space/heartbeat/9c4db3f1-fcaa-498c-93f5-cdbc92608af4 \"HTTP/1.1 404 Not Found\"\n",
      "HTTP Request: GET https://big-vision-paligemma.hf.space/heartbeat/6f5eeb76-cb93-4387-9e64-38e949e4608b \"HTTP/1.1 404 Not Found\"\n",
      "HTTP Request: GET https://big-vision-paligemma.hf.space/heartbeat/b7bfa10f-f6da-4075-8e76-aee7867cc155 \"HTTP/1.1 404 Not Found\"\n",
      "HTTP Request: GET https://big-vision-paligemma.hf.space/heartbeat/dd253886-bf2e-44af-a941-af7b3c5ac0cb \"HTTP/1.1 404 Not Found\"\n",
      "HTTP Request: GET https://big-vision-paligemma.hf.space/heartbeat/9c4db3f1-fcaa-498c-93f5-cdbc92608af4 \"HTTP/1.1 404 Not Found\"\n",
      "HTTP Request: GET https://big-vision-paligemma.hf.space/heartbeat/6f5eeb76-cb93-4387-9e64-38e949e4608b \"HTTP/1.1 404 Not Found\"\n",
      "HTTP Request: GET https://big-vision-paligemma.hf.space/heartbeat/b7bfa10f-f6da-4075-8e76-aee7867cc155 \"HTTP/1.1 404 Not Found\"\n",
      "HTTP Request: GET https://big-vision-paligemma.hf.space/heartbeat/dd253886-bf2e-44af-a941-af7b3c5ac0cb \"HTTP/1.1 404 Not Found\"\n",
      "HTTP Request: GET https://big-vision-paligemma.hf.space/heartbeat/9c4db3f1-fcaa-498c-93f5-cdbc92608af4 \"HTTP/1.1 404 Not Found\"\n",
      "HTTP Request: GET https://big-vision-paligemma.hf.space/heartbeat/6f5eeb76-cb93-4387-9e64-38e949e4608b \"HTTP/1.1 404 Not Found\"\n",
      "HTTP Request: GET https://big-vision-paligemma.hf.space/heartbeat/b7bfa10f-f6da-4075-8e76-aee7867cc155 \"HTTP/1.1 404 Not Found\"\n",
      "HTTP Request: GET https://big-vision-paligemma.hf.space/heartbeat/dd253886-bf2e-44af-a941-af7b3c5ac0cb \"HTTP/1.1 404 Not Found\"\n",
      "HTTP Request: GET https://big-vision-paligemma.hf.space/heartbeat/9c4db3f1-fcaa-498c-93f5-cdbc92608af4 \"HTTP/1.1 404 Not Found\"\n",
      "HTTP Request: GET https://big-vision-paligemma.hf.space/heartbeat/6f5eeb76-cb93-4387-9e64-38e949e4608b \"HTTP/1.1 404 Not Found\"\n",
      "HTTP Request: GET https://big-vision-paligemma.hf.space/heartbeat/b7bfa10f-f6da-4075-8e76-aee7867cc155 \"HTTP/1.1 404 Not Found\"\n",
      "HTTP Request: GET https://big-vision-paligemma.hf.space/heartbeat/dd253886-bf2e-44af-a941-af7b3c5ac0cb \"HTTP/1.1 404 Not Found\"\n",
      "HTTP Request: GET https://big-vision-paligemma.hf.space/heartbeat/9c4db3f1-fcaa-498c-93f5-cdbc92608af4 \"HTTP/1.1 404 Not Found\"\n",
      "HTTP Request: GET https://big-vision-paligemma.hf.space/heartbeat/6f5eeb76-cb93-4387-9e64-38e949e4608b \"HTTP/1.1 404 Not Found\"\n",
      "HTTP Request: GET https://big-vision-paligemma.hf.space/heartbeat/b7bfa10f-f6da-4075-8e76-aee7867cc155 \"HTTP/1.1 404 Not Found\"\n",
      "HTTP Request: GET https://big-vision-paligemma.hf.space/heartbeat/dd253886-bf2e-44af-a941-af7b3c5ac0cb \"HTTP/1.1 404 Not Found\"\n",
      "HTTP Request: GET https://big-vision-paligemma.hf.space/heartbeat/9c4db3f1-fcaa-498c-93f5-cdbc92608af4 \"HTTP/1.1 404 Not Found\"\n",
      "HTTP Request: GET https://big-vision-paligemma.hf.space/heartbeat/6f5eeb76-cb93-4387-9e64-38e949e4608b \"HTTP/1.1 404 Not Found\"\n",
      "HTTP Request: GET https://big-vision-paligemma.hf.space/heartbeat/b7bfa10f-f6da-4075-8e76-aee7867cc155 \"HTTP/1.1 404 Not Found\"\n",
      "HTTP Request: GET https://big-vision-paligemma.hf.space/heartbeat/dd253886-bf2e-44af-a941-af7b3c5ac0cb \"HTTP/1.1 404 Not Found\"\n",
      "HTTP Request: GET https://big-vision-paligemma.hf.space/heartbeat/9c4db3f1-fcaa-498c-93f5-cdbc92608af4 \"HTTP/1.1 404 Not Found\"\n",
      "HTTP Request: GET https://big-vision-paligemma.hf.space/heartbeat/6f5eeb76-cb93-4387-9e64-38e949e4608b \"HTTP/1.1 404 Not Found\"\n",
      "HTTP Request: GET https://big-vision-paligemma.hf.space/heartbeat/b7bfa10f-f6da-4075-8e76-aee7867cc155 \"HTTP/1.1 404 Not Found\"\n",
      "HTTP Request: GET https://big-vision-paligemma.hf.space/heartbeat/dd253886-bf2e-44af-a941-af7b3c5ac0cb \"HTTP/1.1 404 Not Found\"\n",
      "HTTP Request: GET https://big-vision-paligemma.hf.space/heartbeat/9c4db3f1-fcaa-498c-93f5-cdbc92608af4 \"HTTP/1.1 404 Not Found\"\n",
      "HTTP Request: GET https://big-vision-paligemma.hf.space/heartbeat/6f5eeb76-cb93-4387-9e64-38e949e4608b \"HTTP/1.1 404 Not Found\"\n",
      "HTTP Request: GET https://big-vision-paligemma.hf.space/heartbeat/b7bfa10f-f6da-4075-8e76-aee7867cc155 \"HTTP/1.1 404 Not Found\"\n",
      "HTTP Request: GET https://big-vision-paligemma.hf.space/heartbeat/dd253886-bf2e-44af-a941-af7b3c5ac0cb \"HTTP/1.1 404 Not Found\"\n",
      "HTTP Request: GET https://big-vision-paligemma.hf.space/heartbeat/9c4db3f1-fcaa-498c-93f5-cdbc92608af4 \"HTTP/1.1 404 Not Found\"\n",
      "HTTP Request: GET https://big-vision-paligemma.hf.space/heartbeat/6f5eeb76-cb93-4387-9e64-38e949e4608b \"HTTP/1.1 404 Not Found\"\n",
      "HTTP Request: GET https://big-vision-paligemma.hf.space/heartbeat/b7bfa10f-f6da-4075-8e76-aee7867cc155 \"HTTP/1.1 404 Not Found\"\n",
      "HTTP Request: GET https://big-vision-paligemma.hf.space/heartbeat/dd253886-bf2e-44af-a941-af7b3c5ac0cb \"HTTP/1.1 404 Not Found\"\n",
      "HTTP Request: GET https://big-vision-paligemma.hf.space/heartbeat/9c4db3f1-fcaa-498c-93f5-cdbc92608af4 \"HTTP/1.1 404 Not Found\"\n",
      "HTTP Request: GET https://big-vision-paligemma.hf.space/heartbeat/6f5eeb76-cb93-4387-9e64-38e949e4608b \"HTTP/1.1 404 Not Found\"\n",
      "HTTP Request: GET https://big-vision-paligemma.hf.space/heartbeat/b7bfa10f-f6da-4075-8e76-aee7867cc155 \"HTTP/1.1 404 Not Found\"\n",
      "HTTP Request: GET https://big-vision-paligemma.hf.space/heartbeat/dd253886-bf2e-44af-a941-af7b3c5ac0cb \"HTTP/1.1 404 Not Found\"\n",
      "HTTP Request: GET https://big-vision-paligemma.hf.space/heartbeat/9c4db3f1-fcaa-498c-93f5-cdbc92608af4 \"HTTP/1.1 404 Not Found\"\n",
      "HTTP Request: GET https://big-vision-paligemma.hf.space/heartbeat/6f5eeb76-cb93-4387-9e64-38e949e4608b \"HTTP/1.1 404 Not Found\"\n",
      "HTTP Request: GET https://big-vision-paligemma.hf.space/heartbeat/b7bfa10f-f6da-4075-8e76-aee7867cc155 \"HTTP/1.1 404 Not Found\"\n",
      "HTTP Request: GET https://big-vision-paligemma.hf.space/heartbeat/dd253886-bf2e-44af-a941-af7b3c5ac0cb \"HTTP/1.1 404 Not Found\"\n",
      "HTTP Request: GET https://big-vision-paligemma.hf.space/heartbeat/9c4db3f1-fcaa-498c-93f5-cdbc92608af4 \"HTTP/1.1 404 Not Found\"\n",
      "HTTP Request: GET https://big-vision-paligemma.hf.space/heartbeat/6f5eeb76-cb93-4387-9e64-38e949e4608b \"HTTP/1.1 404 Not Found\"\n",
      "HTTP Request: GET https://big-vision-paligemma.hf.space/heartbeat/b7bfa10f-f6da-4075-8e76-aee7867cc155 \"HTTP/1.1 404 Not Found\"\n",
      "HTTP Request: GET https://big-vision-paligemma.hf.space/heartbeat/dd253886-bf2e-44af-a941-af7b3c5ac0cb \"HTTP/1.1 404 Not Found\"\n",
      "HTTP Request: GET https://big-vision-paligemma.hf.space/heartbeat/9c4db3f1-fcaa-498c-93f5-cdbc92608af4 \"HTTP/1.1 404 Not Found\"\n",
      "HTTP Request: GET https://big-vision-paligemma.hf.space/heartbeat/6f5eeb76-cb93-4387-9e64-38e949e4608b \"HTTP/1.1 404 Not Found\"\n",
      "HTTP Request: GET https://big-vision-paligemma.hf.space/heartbeat/b7bfa10f-f6da-4075-8e76-aee7867cc155 \"HTTP/1.1 404 Not Found\"\n",
      "HTTP Request: GET https://big-vision-paligemma.hf.space/heartbeat/dd253886-bf2e-44af-a941-af7b3c5ac0cb \"HTTP/1.1 404 Not Found\"\n",
      "HTTP Request: GET https://big-vision-paligemma.hf.space/heartbeat/9c4db3f1-fcaa-498c-93f5-cdbc92608af4 \"HTTP/1.1 404 Not Found\"\n",
      "HTTP Request: GET https://big-vision-paligemma.hf.space/heartbeat/6f5eeb76-cb93-4387-9e64-38e949e4608b \"HTTP/1.1 404 Not Found\"\n",
      "HTTP Request: GET https://big-vision-paligemma.hf.space/heartbeat/b7bfa10f-f6da-4075-8e76-aee7867cc155 \"HTTP/1.1 404 Not Found\"\n",
      "HTTP Request: GET https://big-vision-paligemma.hf.space/heartbeat/dd253886-bf2e-44af-a941-af7b3c5ac0cb \"HTTP/1.1 404 Not Found\"\n",
      "HTTP Request: GET https://big-vision-paligemma.hf.space/heartbeat/9c4db3f1-fcaa-498c-93f5-cdbc92608af4 \"HTTP/1.1 404 Not Found\"\n",
      "HTTP Request: GET https://big-vision-paligemma.hf.space/heartbeat/6f5eeb76-cb93-4387-9e64-38e949e4608b \"HTTP/1.1 404 Not Found\"\n",
      "HTTP Request: GET https://big-vision-paligemma.hf.space/heartbeat/b7bfa10f-f6da-4075-8e76-aee7867cc155 \"HTTP/1.1 404 Not Found\"\n",
      "HTTP Request: GET https://big-vision-paligemma.hf.space/heartbeat/dd253886-bf2e-44af-a941-af7b3c5ac0cb \"HTTP/1.1 404 Not Found\"\n",
      "HTTP Request: GET https://big-vision-paligemma.hf.space/heartbeat/9c4db3f1-fcaa-498c-93f5-cdbc92608af4 \"HTTP/1.1 404 Not Found\"\n",
      "HTTP Request: GET https://big-vision-paligemma.hf.space/heartbeat/6f5eeb76-cb93-4387-9e64-38e949e4608b \"HTTP/1.1 404 Not Found\"\n",
      "HTTP Request: GET https://big-vision-paligemma.hf.space/heartbeat/b7bfa10f-f6da-4075-8e76-aee7867cc155 \"HTTP/1.1 404 Not Found\"\n",
      "HTTP Request: GET https://big-vision-paligemma.hf.space/heartbeat/dd253886-bf2e-44af-a941-af7b3c5ac0cb \"HTTP/1.1 404 Not Found\"\n",
      "HTTP Request: GET https://big-vision-paligemma.hf.space/heartbeat/9c4db3f1-fcaa-498c-93f5-cdbc92608af4 \"HTTP/1.1 404 Not Found\"\n",
      "HTTP Request: GET https://big-vision-paligemma.hf.space/heartbeat/6f5eeb76-cb93-4387-9e64-38e949e4608b \"HTTP/1.1 404 Not Found\"\n",
      "HTTP Request: GET https://big-vision-paligemma.hf.space/heartbeat/b7bfa10f-f6da-4075-8e76-aee7867cc155 \"HTTP/1.1 404 Not Found\"\n",
      "HTTP Request: GET https://big-vision-paligemma.hf.space/heartbeat/dd253886-bf2e-44af-a941-af7b3c5ac0cb \"HTTP/1.1 404 Not Found\"\n",
      "HTTP Request: GET https://big-vision-paligemma.hf.space/heartbeat/6f5eeb76-cb93-4387-9e64-38e949e4608b \"HTTP/1.1 404 Not Found\"\n",
      "HTTP Request: GET https://big-vision-paligemma.hf.space/heartbeat/b7bfa10f-f6da-4075-8e76-aee7867cc155 \"HTTP/1.1 404 Not Found\"\n",
      "HTTP Request: GET https://big-vision-paligemma.hf.space/heartbeat/dd253886-bf2e-44af-a941-af7b3c5ac0cb \"HTTP/1.1 404 Not Found\"\n",
      "HTTP Request: GET https://big-vision-paligemma.hf.space/heartbeat/9c4db3f1-fcaa-498c-93f5-cdbc92608af4 \"HTTP/1.1 404 Not Found\"\n",
      "HTTP Request: GET https://big-vision-paligemma.hf.space/heartbeat/6f5eeb76-cb93-4387-9e64-38e949e4608b \"HTTP/1.1 404 Not Found\"\n",
      "HTTP Request: GET https://big-vision-paligemma.hf.space/heartbeat/b7bfa10f-f6da-4075-8e76-aee7867cc155 \"HTTP/1.1 404 Not Found\"\n",
      "HTTP Request: GET https://big-vision-paligemma.hf.space/heartbeat/dd253886-bf2e-44af-a941-af7b3c5ac0cb \"HTTP/1.1 404 Not Found\"\n",
      "HTTP Request: GET https://big-vision-paligemma.hf.space/heartbeat/9c4db3f1-fcaa-498c-93f5-cdbc92608af4 \"HTTP/1.1 404 Not Found\"\n",
      "HTTP Request: GET https://big-vision-paligemma.hf.space/heartbeat/6f5eeb76-cb93-4387-9e64-38e949e4608b \"HTTP/1.1 404 Not Found\"\n",
      "HTTP Request: GET https://big-vision-paligemma.hf.space/heartbeat/b7bfa10f-f6da-4075-8e76-aee7867cc155 \"HTTP/1.1 404 Not Found\"\n",
      "HTTP Request: GET https://big-vision-paligemma.hf.space/heartbeat/dd253886-bf2e-44af-a941-af7b3c5ac0cb \"HTTP/1.1 404 Not Found\"\n",
      "HTTP Request: GET https://big-vision-paligemma.hf.space/heartbeat/9c4db3f1-fcaa-498c-93f5-cdbc92608af4 \"HTTP/1.1 404 Not Found\"\n",
      "HTTP Request: GET https://big-vision-paligemma.hf.space/heartbeat/6f5eeb76-cb93-4387-9e64-38e949e4608b \"HTTP/1.1 404 Not Found\"\n",
      "HTTP Request: GET https://big-vision-paligemma.hf.space/heartbeat/b7bfa10f-f6da-4075-8e76-aee7867cc155 \"HTTP/1.1 404 Not Found\"\n",
      "HTTP Request: GET https://big-vision-paligemma.hf.space/heartbeat/dd253886-bf2e-44af-a941-af7b3c5ac0cb \"HTTP/1.1 404 Not Found\"\n",
      "HTTP Request: GET https://big-vision-paligemma.hf.space/heartbeat/9c4db3f1-fcaa-498c-93f5-cdbc92608af4 \"HTTP/1.1 404 Not Found\"\n",
      "HTTP Request: GET https://big-vision-paligemma.hf.space/heartbeat/6f5eeb76-cb93-4387-9e64-38e949e4608b \"HTTP/1.1 404 Not Found\"\n",
      "HTTP Request: GET https://big-vision-paligemma.hf.space/heartbeat/b7bfa10f-f6da-4075-8e76-aee7867cc155 \"HTTP/1.1 404 Not Found\"\n",
      "HTTP Request: GET https://big-vision-paligemma.hf.space/heartbeat/dd253886-bf2e-44af-a941-af7b3c5ac0cb \"HTTP/1.1 404 Not Found\"\n",
      "HTTP Request: GET https://big-vision-paligemma.hf.space/heartbeat/9c4db3f1-fcaa-498c-93f5-cdbc92608af4 \"HTTP/1.1 404 Not Found\"\n",
      "HTTP Request: GET https://big-vision-paligemma.hf.space/heartbeat/6f5eeb76-cb93-4387-9e64-38e949e4608b \"HTTP/1.1 404 Not Found\"\n",
      "HTTP Request: GET https://big-vision-paligemma.hf.space/heartbeat/b7bfa10f-f6da-4075-8e76-aee7867cc155 \"HTTP/1.1 404 Not Found\"\n",
      "HTTP Request: GET https://big-vision-paligemma.hf.space/heartbeat/dd253886-bf2e-44af-a941-af7b3c5ac0cb \"HTTP/1.1 404 Not Found\"\n",
      "HTTP Request: GET https://big-vision-paligemma.hf.space/heartbeat/9c4db3f1-fcaa-498c-93f5-cdbc92608af4 \"HTTP/1.1 404 Not Found\"\n",
      "HTTP Request: GET https://big-vision-paligemma.hf.space/heartbeat/6f5eeb76-cb93-4387-9e64-38e949e4608b \"HTTP/1.1 404 Not Found\"\n",
      "HTTP Request: GET https://big-vision-paligemma.hf.space/heartbeat/b7bfa10f-f6da-4075-8e76-aee7867cc155 \"HTTP/1.1 404 Not Found\"\n",
      "HTTP Request: GET https://big-vision-paligemma.hf.space/heartbeat/dd253886-bf2e-44af-a941-af7b3c5ac0cb \"HTTP/1.1 404 Not Found\"\n",
      "HTTP Request: GET https://big-vision-paligemma.hf.space/heartbeat/9c4db3f1-fcaa-498c-93f5-cdbc92608af4 \"HTTP/1.1 404 Not Found\"\n",
      "HTTP Request: GET https://big-vision-paligemma.hf.space/heartbeat/6f5eeb76-cb93-4387-9e64-38e949e4608b \"HTTP/1.1 404 Not Found\"\n",
      "HTTP Request: GET https://big-vision-paligemma.hf.space/heartbeat/b7bfa10f-f6da-4075-8e76-aee7867cc155 \"HTTP/1.1 404 Not Found\"\n",
      "HTTP Request: GET https://big-vision-paligemma.hf.space/heartbeat/dd253886-bf2e-44af-a941-af7b3c5ac0cb \"HTTP/1.1 404 Not Found\"\n",
      "HTTP Request: GET https://big-vision-paligemma.hf.space/heartbeat/9c4db3f1-fcaa-498c-93f5-cdbc92608af4 \"HTTP/1.1 404 Not Found\"\n",
      "HTTP Request: GET https://big-vision-paligemma.hf.space/heartbeat/6f5eeb76-cb93-4387-9e64-38e949e4608b \"HTTP/1.1 404 Not Found\"\n",
      "HTTP Request: GET https://big-vision-paligemma.hf.space/heartbeat/b7bfa10f-f6da-4075-8e76-aee7867cc155 \"HTTP/1.1 404 Not Found\"\n",
      "HTTP Request: GET https://big-vision-paligemma.hf.space/heartbeat/dd253886-bf2e-44af-a941-af7b3c5ac0cb \"HTTP/1.1 404 Not Found\"\n",
      "HTTP Request: GET https://big-vision-paligemma.hf.space/heartbeat/9c4db3f1-fcaa-498c-93f5-cdbc92608af4 \"HTTP/1.1 404 Not Found\"\n",
      "HTTP Request: GET https://big-vision-paligemma.hf.space/heartbeat/6f5eeb76-cb93-4387-9e64-38e949e4608b \"HTTP/1.1 404 Not Found\"\n",
      "HTTP Request: GET https://big-vision-paligemma.hf.space/heartbeat/b7bfa10f-f6da-4075-8e76-aee7867cc155 \"HTTP/1.1 404 Not Found\"\n",
      "HTTP Request: GET https://big-vision-paligemma.hf.space/heartbeat/dd253886-bf2e-44af-a941-af7b3c5ac0cb \"HTTP/1.1 404 Not Found\"\n",
      "HTTP Request: GET https://big-vision-paligemma.hf.space/heartbeat/9c4db3f1-fcaa-498c-93f5-cdbc92608af4 \"HTTP/1.1 404 Not Found\"\n",
      "HTTP Request: GET https://big-vision-paligemma.hf.space/heartbeat/6f5eeb76-cb93-4387-9e64-38e949e4608b \"HTTP/1.1 404 Not Found\"\n",
      "HTTP Request: GET https://big-vision-paligemma.hf.space/heartbeat/b7bfa10f-f6da-4075-8e76-aee7867cc155 \"HTTP/1.1 404 Not Found\"\n",
      "HTTP Request: GET https://big-vision-paligemma.hf.space/heartbeat/dd253886-bf2e-44af-a941-af7b3c5ac0cb \"HTTP/1.1 404 Not Found\"\n",
      "HTTP Request: GET https://big-vision-paligemma.hf.space/heartbeat/9c4db3f1-fcaa-498c-93f5-cdbc92608af4 \"HTTP/1.1 404 Not Found\"\n",
      "HTTP Request: GET https://big-vision-paligemma.hf.space/heartbeat/6f5eeb76-cb93-4387-9e64-38e949e4608b \"HTTP/1.1 404 Not Found\"\n",
      "HTTP Request: GET https://big-vision-paligemma.hf.space/heartbeat/b7bfa10f-f6da-4075-8e76-aee7867cc155 \"HTTP/1.1 404 Not Found\"\n",
      "HTTP Request: GET https://big-vision-paligemma.hf.space/heartbeat/dd253886-bf2e-44af-a941-af7b3c5ac0cb \"HTTP/1.1 404 Not Found\"\n",
      "HTTP Request: GET https://big-vision-paligemma.hf.space/heartbeat/9c4db3f1-fcaa-498c-93f5-cdbc92608af4 \"HTTP/1.1 404 Not Found\"\n",
      "HTTP Request: GET https://big-vision-paligemma.hf.space/heartbeat/6f5eeb76-cb93-4387-9e64-38e949e4608b \"HTTP/1.1 404 Not Found\"\n",
      "HTTP Request: GET https://big-vision-paligemma.hf.space/heartbeat/b7bfa10f-f6da-4075-8e76-aee7867cc155 \"HTTP/1.1 404 Not Found\"\n",
      "HTTP Request: GET https://big-vision-paligemma.hf.space/heartbeat/dd253886-bf2e-44af-a941-af7b3c5ac0cb \"HTTP/1.1 404 Not Found\"\n",
      "HTTP Request: GET https://big-vision-paligemma.hf.space/heartbeat/9c4db3f1-fcaa-498c-93f5-cdbc92608af4 \"HTTP/1.1 404 Not Found\"\n",
      "HTTP Request: GET https://big-vision-paligemma.hf.space/heartbeat/6f5eeb76-cb93-4387-9e64-38e949e4608b \"HTTP/1.1 404 Not Found\"\n",
      "HTTP Request: GET https://big-vision-paligemma.hf.space/heartbeat/b7bfa10f-f6da-4075-8e76-aee7867cc155 \"HTTP/1.1 404 Not Found\"\n",
      "HTTP Request: GET https://big-vision-paligemma.hf.space/heartbeat/dd253886-bf2e-44af-a941-af7b3c5ac0cb \"HTTP/1.1 404 Not Found\"\n",
      "HTTP Request: GET https://big-vision-paligemma.hf.space/heartbeat/9c4db3f1-fcaa-498c-93f5-cdbc92608af4 \"HTTP/1.1 404 Not Found\"\n",
      "HTTP Request: GET https://big-vision-paligemma.hf.space/heartbeat/6f5eeb76-cb93-4387-9e64-38e949e4608b \"HTTP/1.1 404 Not Found\"\n",
      "HTTP Request: GET https://big-vision-paligemma.hf.space/heartbeat/b7bfa10f-f6da-4075-8e76-aee7867cc155 \"HTTP/1.1 404 Not Found\"\n",
      "HTTP Request: GET https://big-vision-paligemma.hf.space/heartbeat/dd253886-bf2e-44af-a941-af7b3c5ac0cb \"HTTP/1.1 404 Not Found\"\n",
      "HTTP Request: GET https://big-vision-paligemma.hf.space/heartbeat/9c4db3f1-fcaa-498c-93f5-cdbc92608af4 \"HTTP/1.1 404 Not Found\"\n",
      "HTTP Request: GET https://big-vision-paligemma.hf.space/heartbeat/6f5eeb76-cb93-4387-9e64-38e949e4608b \"HTTP/1.1 404 Not Found\"\n",
      "HTTP Request: GET https://big-vision-paligemma.hf.space/heartbeat/b7bfa10f-f6da-4075-8e76-aee7867cc155 \"HTTP/1.1 404 Not Found\"\n",
      "HTTP Request: GET https://big-vision-paligemma.hf.space/heartbeat/dd253886-bf2e-44af-a941-af7b3c5ac0cb \"HTTP/1.1 404 Not Found\"\n",
      "HTTP Request: GET https://big-vision-paligemma.hf.space/heartbeat/9c4db3f1-fcaa-498c-93f5-cdbc92608af4 \"HTTP/1.1 404 Not Found\"\n",
      "HTTP Request: GET https://big-vision-paligemma.hf.space/heartbeat/6f5eeb76-cb93-4387-9e64-38e949e4608b \"HTTP/1.1 404 Not Found\"\n",
      "HTTP Request: GET https://big-vision-paligemma.hf.space/heartbeat/b7bfa10f-f6da-4075-8e76-aee7867cc155 \"HTTP/1.1 404 Not Found\"\n",
      "HTTP Request: GET https://big-vision-paligemma.hf.space/heartbeat/dd253886-bf2e-44af-a941-af7b3c5ac0cb \"HTTP/1.1 404 Not Found\"\n",
      "HTTP Request: GET https://big-vision-paligemma.hf.space/heartbeat/9c4db3f1-fcaa-498c-93f5-cdbc92608af4 \"HTTP/1.1 404 Not Found\"\n",
      "HTTP Request: GET https://big-vision-paligemma.hf.space/heartbeat/6f5eeb76-cb93-4387-9e64-38e949e4608b \"HTTP/1.1 404 Not Found\"\n",
      "HTTP Request: GET https://big-vision-paligemma.hf.space/heartbeat/b7bfa10f-f6da-4075-8e76-aee7867cc155 \"HTTP/1.1 404 Not Found\"\n",
      "HTTP Request: GET https://big-vision-paligemma.hf.space/heartbeat/dd253886-bf2e-44af-a941-af7b3c5ac0cb \"HTTP/1.1 404 Not Found\"\n",
      "HTTP Request: GET https://big-vision-paligemma.hf.space/heartbeat/9c4db3f1-fcaa-498c-93f5-cdbc92608af4 \"HTTP/1.1 404 Not Found\"\n",
      "HTTP Request: GET https://big-vision-paligemma.hf.space/heartbeat/6f5eeb76-cb93-4387-9e64-38e949e4608b \"HTTP/1.1 404 Not Found\"\n",
      "HTTP Request: GET https://big-vision-paligemma.hf.space/heartbeat/b7bfa10f-f6da-4075-8e76-aee7867cc155 \"HTTP/1.1 404 Not Found\"\n",
      "HTTP Request: GET https://big-vision-paligemma.hf.space/heartbeat/dd253886-bf2e-44af-a941-af7b3c5ac0cb \"HTTP/1.1 404 Not Found\"\n",
      "HTTP Request: GET https://big-vision-paligemma.hf.space/heartbeat/9c4db3f1-fcaa-498c-93f5-cdbc92608af4 \"HTTP/1.1 404 Not Found\"\n",
      "HTTP Request: GET https://big-vision-paligemma.hf.space/heartbeat/6f5eeb76-cb93-4387-9e64-38e949e4608b \"HTTP/1.1 404 Not Found\"\n",
      "HTTP Request: GET https://big-vision-paligemma.hf.space/heartbeat/b7bfa10f-f6da-4075-8e76-aee7867cc155 \"HTTP/1.1 404 Not Found\"\n",
      "HTTP Request: GET https://big-vision-paligemma.hf.space/heartbeat/dd253886-bf2e-44af-a941-af7b3c5ac0cb \"HTTP/1.1 404 Not Found\"\n",
      "HTTP Request: GET https://big-vision-paligemma.hf.space/heartbeat/9c4db3f1-fcaa-498c-93f5-cdbc92608af4 \"HTTP/1.1 404 Not Found\"\n",
      "HTTP Request: GET https://big-vision-paligemma.hf.space/heartbeat/6f5eeb76-cb93-4387-9e64-38e949e4608b \"HTTP/1.1 404 Not Found\"\n",
      "HTTP Request: GET https://big-vision-paligemma.hf.space/heartbeat/b7bfa10f-f6da-4075-8e76-aee7867cc155 \"HTTP/1.1 404 Not Found\"\n",
      "HTTP Request: GET https://big-vision-paligemma.hf.space/heartbeat/dd253886-bf2e-44af-a941-af7b3c5ac0cb \"HTTP/1.1 404 Not Found\"\n",
      "HTTP Request: GET https://big-vision-paligemma.hf.space/heartbeat/9c4db3f1-fcaa-498c-93f5-cdbc92608af4 \"HTTP/1.1 404 Not Found\"\n",
      "HTTP Request: GET https://big-vision-paligemma.hf.space/heartbeat/6f5eeb76-cb93-4387-9e64-38e949e4608b \"HTTP/1.1 404 Not Found\"\n",
      "HTTP Request: GET https://big-vision-paligemma.hf.space/heartbeat/b7bfa10f-f6da-4075-8e76-aee7867cc155 \"HTTP/1.1 404 Not Found\"\n",
      "HTTP Request: GET https://big-vision-paligemma.hf.space/heartbeat/dd253886-bf2e-44af-a941-af7b3c5ac0cb \"HTTP/1.1 404 Not Found\"\n",
      "HTTP Request: GET https://big-vision-paligemma.hf.space/heartbeat/6f5eeb76-cb93-4387-9e64-38e949e4608b \"HTTP/1.1 404 Not Found\"\n",
      "HTTP Request: GET https://big-vision-paligemma.hf.space/heartbeat/9c4db3f1-fcaa-498c-93f5-cdbc92608af4 \"HTTP/1.1 404 Not Found\"\n",
      "HTTP Request: GET https://big-vision-paligemma.hf.space/heartbeat/b7bfa10f-f6da-4075-8e76-aee7867cc155 \"HTTP/1.1 404 Not Found\"\n",
      "HTTP Request: GET https://big-vision-paligemma.hf.space/heartbeat/dd253886-bf2e-44af-a941-af7b3c5ac0cb \"HTTP/1.1 404 Not Found\"\n",
      "HTTP Request: GET https://big-vision-paligemma.hf.space/heartbeat/6f5eeb76-cb93-4387-9e64-38e949e4608b \"HTTP/1.1 404 Not Found\"\n",
      "HTTP Request: GET https://big-vision-paligemma.hf.space/heartbeat/9c4db3f1-fcaa-498c-93f5-cdbc92608af4 \"HTTP/1.1 404 Not Found\"\n",
      "HTTP Request: GET https://big-vision-paligemma.hf.space/heartbeat/b7bfa10f-f6da-4075-8e76-aee7867cc155 \"HTTP/1.1 404 Not Found\"\n",
      "HTTP Request: GET https://big-vision-paligemma.hf.space/heartbeat/dd253886-bf2e-44af-a941-af7b3c5ac0cb \"HTTP/1.1 404 Not Found\"\n",
      "HTTP Request: GET https://big-vision-paligemma.hf.space/heartbeat/6f5eeb76-cb93-4387-9e64-38e949e4608b \"HTTP/1.1 404 Not Found\"\n",
      "HTTP Request: GET https://big-vision-paligemma.hf.space/heartbeat/9c4db3f1-fcaa-498c-93f5-cdbc92608af4 \"HTTP/1.1 404 Not Found\"\n",
      "HTTP Request: GET https://big-vision-paligemma.hf.space/heartbeat/b7bfa10f-f6da-4075-8e76-aee7867cc155 \"HTTP/1.1 404 Not Found\"\n",
      "HTTP Request: GET https://big-vision-paligemma.hf.space/heartbeat/dd253886-bf2e-44af-a941-af7b3c5ac0cb \"HTTP/1.1 404 Not Found\"\n",
      "HTTP Request: GET https://big-vision-paligemma.hf.space/heartbeat/6f5eeb76-cb93-4387-9e64-38e949e4608b \"HTTP/1.1 404 Not Found\"\n",
      "HTTP Request: GET https://big-vision-paligemma.hf.space/heartbeat/9c4db3f1-fcaa-498c-93f5-cdbc92608af4 \"HTTP/1.1 404 Not Found\"\n",
      "HTTP Request: GET https://big-vision-paligemma.hf.space/heartbeat/b7bfa10f-f6da-4075-8e76-aee7867cc155 \"HTTP/1.1 404 Not Found\"\n",
      "HTTP Request: GET https://big-vision-paligemma.hf.space/heartbeat/dd253886-bf2e-44af-a941-af7b3c5ac0cb \"HTTP/1.1 404 Not Found\"\n",
      "HTTP Request: GET https://big-vision-paligemma.hf.space/heartbeat/6f5eeb76-cb93-4387-9e64-38e949e4608b \"HTTP/1.1 404 Not Found\"\n",
      "HTTP Request: GET https://big-vision-paligemma.hf.space/heartbeat/9c4db3f1-fcaa-498c-93f5-cdbc92608af4 \"HTTP/1.1 404 Not Found\"\n",
      "HTTP Request: GET https://big-vision-paligemma.hf.space/heartbeat/b7bfa10f-f6da-4075-8e76-aee7867cc155 \"HTTP/1.1 404 Not Found\"\n",
      "HTTP Request: GET https://big-vision-paligemma.hf.space/heartbeat/dd253886-bf2e-44af-a941-af7b3c5ac0cb \"HTTP/1.1 404 Not Found\"\n",
      "HTTP Request: GET https://big-vision-paligemma.hf.space/heartbeat/6f5eeb76-cb93-4387-9e64-38e949e4608b \"HTTP/1.1 404 Not Found\"\n",
      "HTTP Request: GET https://big-vision-paligemma.hf.space/heartbeat/9c4db3f1-fcaa-498c-93f5-cdbc92608af4 \"HTTP/1.1 404 Not Found\"\n",
      "HTTP Request: GET https://big-vision-paligemma.hf.space/heartbeat/b7bfa10f-f6da-4075-8e76-aee7867cc155 \"HTTP/1.1 404 Not Found\"\n",
      "HTTP Request: GET https://big-vision-paligemma.hf.space/heartbeat/dd253886-bf2e-44af-a941-af7b3c5ac0cb \"HTTP/1.1 404 Not Found\"\n",
      "HTTP Request: GET https://big-vision-paligemma.hf.space/heartbeat/6f5eeb76-cb93-4387-9e64-38e949e4608b \"HTTP/1.1 404 Not Found\"\n",
      "HTTP Request: GET https://big-vision-paligemma.hf.space/heartbeat/9c4db3f1-fcaa-498c-93f5-cdbc92608af4 \"HTTP/1.1 404 Not Found\"\n",
      "HTTP Request: GET https://big-vision-paligemma.hf.space/heartbeat/b7bfa10f-f6da-4075-8e76-aee7867cc155 \"HTTP/1.1 404 Not Found\"\n",
      "HTTP Request: GET https://big-vision-paligemma.hf.space/heartbeat/dd253886-bf2e-44af-a941-af7b3c5ac0cb \"HTTP/1.1 404 Not Found\"\n",
      "HTTP Request: GET https://big-vision-paligemma.hf.space/heartbeat/6f5eeb76-cb93-4387-9e64-38e949e4608b \"HTTP/1.1 404 Not Found\"\n",
      "HTTP Request: GET https://big-vision-paligemma.hf.space/heartbeat/9c4db3f1-fcaa-498c-93f5-cdbc92608af4 \"HTTP/1.1 404 Not Found\"\n",
      "HTTP Request: GET https://big-vision-paligemma.hf.space/heartbeat/b7bfa10f-f6da-4075-8e76-aee7867cc155 \"HTTP/1.1 404 Not Found\"\n",
      "HTTP Request: GET https://big-vision-paligemma.hf.space/heartbeat/dd253886-bf2e-44af-a941-af7b3c5ac0cb \"HTTP/1.1 404 Not Found\"\n",
      "HTTP Request: GET https://big-vision-paligemma.hf.space/heartbeat/6f5eeb76-cb93-4387-9e64-38e949e4608b \"HTTP/1.1 404 Not Found\"\n",
      "HTTP Request: GET https://big-vision-paligemma.hf.space/heartbeat/9c4db3f1-fcaa-498c-93f5-cdbc92608af4 \"HTTP/1.1 404 Not Found\"\n",
      "HTTP Request: GET https://big-vision-paligemma.hf.space/heartbeat/b7bfa10f-f6da-4075-8e76-aee7867cc155 \"HTTP/1.1 404 Not Found\"\n",
      "HTTP Request: GET https://big-vision-paligemma.hf.space/heartbeat/dd253886-bf2e-44af-a941-af7b3c5ac0cb \"HTTP/1.1 404 Not Found\"\n",
      "HTTP Request: GET https://big-vision-paligemma.hf.space/heartbeat/6f5eeb76-cb93-4387-9e64-38e949e4608b \"HTTP/1.1 404 Not Found\"\n",
      "HTTP Request: GET https://big-vision-paligemma.hf.space/heartbeat/9c4db3f1-fcaa-498c-93f5-cdbc92608af4 \"HTTP/1.1 404 Not Found\"\n",
      "HTTP Request: GET https://big-vision-paligemma.hf.space/heartbeat/b7bfa10f-f6da-4075-8e76-aee7867cc155 \"HTTP/1.1 404 Not Found\"\n",
      "HTTP Request: GET https://big-vision-paligemma.hf.space/heartbeat/dd253886-bf2e-44af-a941-af7b3c5ac0cb \"HTTP/1.1 404 Not Found\"\n",
      "HTTP Request: GET https://big-vision-paligemma.hf.space/heartbeat/6f5eeb76-cb93-4387-9e64-38e949e4608b \"HTTP/1.1 404 Not Found\"\n",
      "HTTP Request: GET https://big-vision-paligemma.hf.space/heartbeat/9c4db3f1-fcaa-498c-93f5-cdbc92608af4 \"HTTP/1.1 404 Not Found\"\n",
      "HTTP Request: GET https://big-vision-paligemma.hf.space/heartbeat/b7bfa10f-f6da-4075-8e76-aee7867cc155 \"HTTP/1.1 404 Not Found\"\n",
      "HTTP Request: GET https://big-vision-paligemma.hf.space/heartbeat/dd253886-bf2e-44af-a941-af7b3c5ac0cb \"HTTP/1.1 404 Not Found\"\n",
      "HTTP Request: GET https://big-vision-paligemma.hf.space/heartbeat/6f5eeb76-cb93-4387-9e64-38e949e4608b \"HTTP/1.1 404 Not Found\"\n",
      "HTTP Request: GET https://big-vision-paligemma.hf.space/heartbeat/9c4db3f1-fcaa-498c-93f5-cdbc92608af4 \"HTTP/1.1 404 Not Found\"\n",
      "HTTP Request: GET https://big-vision-paligemma.hf.space/heartbeat/b7bfa10f-f6da-4075-8e76-aee7867cc155 \"HTTP/1.1 404 Not Found\"\n",
      "HTTP Request: GET https://big-vision-paligemma.hf.space/heartbeat/dd253886-bf2e-44af-a941-af7b3c5ac0cb \"HTTP/1.1 404 Not Found\"\n",
      "HTTP Request: GET https://big-vision-paligemma.hf.space/heartbeat/6f5eeb76-cb93-4387-9e64-38e949e4608b \"HTTP/1.1 404 Not Found\"\n",
      "HTTP Request: GET https://big-vision-paligemma.hf.space/heartbeat/9c4db3f1-fcaa-498c-93f5-cdbc92608af4 \"HTTP/1.1 404 Not Found\"\n",
      "HTTP Request: GET https://big-vision-paligemma.hf.space/heartbeat/b7bfa10f-f6da-4075-8e76-aee7867cc155 \"HTTP/1.1 404 Not Found\"\n",
      "HTTP Request: GET https://big-vision-paligemma.hf.space/heartbeat/dd253886-bf2e-44af-a941-af7b3c5ac0cb \"HTTP/1.1 404 Not Found\"\n",
      "HTTP Request: GET https://big-vision-paligemma.hf.space/heartbeat/6f5eeb76-cb93-4387-9e64-38e949e4608b \"HTTP/1.1 404 Not Found\"\n",
      "HTTP Request: GET https://big-vision-paligemma.hf.space/heartbeat/9c4db3f1-fcaa-498c-93f5-cdbc92608af4 \"HTTP/1.1 404 Not Found\"\n",
      "HTTP Request: GET https://big-vision-paligemma.hf.space/heartbeat/b7bfa10f-f6da-4075-8e76-aee7867cc155 \"HTTP/1.1 404 Not Found\"\n",
      "HTTP Request: GET https://big-vision-paligemma.hf.space/heartbeat/dd253886-bf2e-44af-a941-af7b3c5ac0cb \"HTTP/1.1 404 Not Found\"\n",
      "HTTP Request: GET https://big-vision-paligemma.hf.space/heartbeat/9c4db3f1-fcaa-498c-93f5-cdbc92608af4 \"HTTP/1.1 404 Not Found\"\n",
      "HTTP Request: GET https://big-vision-paligemma.hf.space/heartbeat/6f5eeb76-cb93-4387-9e64-38e949e4608b \"HTTP/1.1 404 Not Found\"\n",
      "HTTP Request: GET https://big-vision-paligemma.hf.space/heartbeat/b7bfa10f-f6da-4075-8e76-aee7867cc155 \"HTTP/1.1 404 Not Found\"\n",
      "HTTP Request: GET https://big-vision-paligemma.hf.space/heartbeat/dd253886-bf2e-44af-a941-af7b3c5ac0cb \"HTTP/1.1 404 Not Found\"\n",
      "HTTP Request: GET https://big-vision-paligemma.hf.space/heartbeat/6f5eeb76-cb93-4387-9e64-38e949e4608b \"HTTP/1.1 404 Not Found\"\n",
      "HTTP Request: GET https://big-vision-paligemma.hf.space/heartbeat/9c4db3f1-fcaa-498c-93f5-cdbc92608af4 \"HTTP/1.1 404 Not Found\"\n",
      "HTTP Request: GET https://big-vision-paligemma.hf.space/heartbeat/b7bfa10f-f6da-4075-8e76-aee7867cc155 \"HTTP/1.1 404 Not Found\"\n",
      "HTTP Request: GET https://big-vision-paligemma.hf.space/heartbeat/dd253886-bf2e-44af-a941-af7b3c5ac0cb \"HTTP/1.1 404 Not Found\"\n",
      "HTTP Request: GET https://big-vision-paligemma.hf.space/heartbeat/6f5eeb76-cb93-4387-9e64-38e949e4608b \"HTTP/1.1 404 Not Found\"\n",
      "HTTP Request: GET https://big-vision-paligemma.hf.space/heartbeat/9c4db3f1-fcaa-498c-93f5-cdbc92608af4 \"HTTP/1.1 404 Not Found\"\n",
      "HTTP Request: GET https://big-vision-paligemma.hf.space/heartbeat/b7bfa10f-f6da-4075-8e76-aee7867cc155 \"HTTP/1.1 404 Not Found\"\n",
      "HTTP Request: GET https://big-vision-paligemma.hf.space/heartbeat/dd253886-bf2e-44af-a941-af7b3c5ac0cb \"HTTP/1.1 404 Not Found\"\n",
      "HTTP Request: GET https://big-vision-paligemma.hf.space/heartbeat/6f5eeb76-cb93-4387-9e64-38e949e4608b \"HTTP/1.1 404 Not Found\"\n",
      "HTTP Request: GET https://big-vision-paligemma.hf.space/heartbeat/9c4db3f1-fcaa-498c-93f5-cdbc92608af4 \"HTTP/1.1 404 Not Found\"\n",
      "HTTP Request: GET https://big-vision-paligemma.hf.space/heartbeat/b7bfa10f-f6da-4075-8e76-aee7867cc155 \"HTTP/1.1 404 Not Found\"\n",
      "HTTP Request: GET https://big-vision-paligemma.hf.space/heartbeat/dd253886-bf2e-44af-a941-af7b3c5ac0cb \"HTTP/1.1 404 Not Found\"\n",
      "HTTP Request: GET https://big-vision-paligemma.hf.space/heartbeat/6f5eeb76-cb93-4387-9e64-38e949e4608b \"HTTP/1.1 404 Not Found\"\n",
      "HTTP Request: GET https://big-vision-paligemma.hf.space/heartbeat/9c4db3f1-fcaa-498c-93f5-cdbc92608af4 \"HTTP/1.1 404 Not Found\"\n",
      "HTTP Request: GET https://big-vision-paligemma.hf.space/heartbeat/b7bfa10f-f6da-4075-8e76-aee7867cc155 \"HTTP/1.1 404 Not Found\"\n",
      "HTTP Request: GET https://big-vision-paligemma.hf.space/heartbeat/dd253886-bf2e-44af-a941-af7b3c5ac0cb \"HTTP/1.1 404 Not Found\"\n",
      "HTTP Request: GET https://big-vision-paligemma.hf.space/heartbeat/6f5eeb76-cb93-4387-9e64-38e949e4608b \"HTTP/1.1 404 Not Found\"\n",
      "HTTP Request: GET https://big-vision-paligemma.hf.space/heartbeat/9c4db3f1-fcaa-498c-93f5-cdbc92608af4 \"HTTP/1.1 404 Not Found\"\n",
      "HTTP Request: GET https://big-vision-paligemma.hf.space/heartbeat/b7bfa10f-f6da-4075-8e76-aee7867cc155 \"HTTP/1.1 404 Not Found\"\n",
      "HTTP Request: GET https://big-vision-paligemma.hf.space/heartbeat/dd253886-bf2e-44af-a941-af7b3c5ac0cb \"HTTP/1.1 404 Not Found\"\n",
      "HTTP Request: GET https://big-vision-paligemma.hf.space/heartbeat/6f5eeb76-cb93-4387-9e64-38e949e4608b \"HTTP/1.1 404 Not Found\"\n",
      "HTTP Request: GET https://big-vision-paligemma.hf.space/heartbeat/9c4db3f1-fcaa-498c-93f5-cdbc92608af4 \"HTTP/1.1 404 Not Found\"\n",
      "HTTP Request: GET https://big-vision-paligemma.hf.space/heartbeat/b7bfa10f-f6da-4075-8e76-aee7867cc155 \"HTTP/1.1 404 Not Found\"\n",
      "HTTP Request: GET https://big-vision-paligemma.hf.space/heartbeat/dd253886-bf2e-44af-a941-af7b3c5ac0cb \"HTTP/1.1 404 Not Found\"\n",
      "HTTP Request: GET https://big-vision-paligemma.hf.space/heartbeat/9c4db3f1-fcaa-498c-93f5-cdbc92608af4 \"HTTP/1.1 404 Not Found\"\n",
      "HTTP Request: GET https://big-vision-paligemma.hf.space/heartbeat/6f5eeb76-cb93-4387-9e64-38e949e4608b \"HTTP/1.1 404 Not Found\"\n",
      "HTTP Request: GET https://big-vision-paligemma.hf.space/heartbeat/b7bfa10f-f6da-4075-8e76-aee7867cc155 \"HTTP/1.1 404 Not Found\"\n",
      "HTTP Request: GET https://big-vision-paligemma.hf.space/heartbeat/dd253886-bf2e-44af-a941-af7b3c5ac0cb \"HTTP/1.1 404 Not Found\"\n",
      "HTTP Request: GET https://big-vision-paligemma.hf.space/heartbeat/9c4db3f1-fcaa-498c-93f5-cdbc92608af4 \"HTTP/1.1 404 Not Found\"\n",
      "HTTP Request: GET https://big-vision-paligemma.hf.space/heartbeat/6f5eeb76-cb93-4387-9e64-38e949e4608b \"HTTP/1.1 404 Not Found\"\n",
      "HTTP Request: GET https://big-vision-paligemma.hf.space/heartbeat/dd253886-bf2e-44af-a941-af7b3c5ac0cb \"HTTP/1.1 404 Not Found\"\n",
      "HTTP Request: GET https://big-vision-paligemma.hf.space/heartbeat/b7bfa10f-f6da-4075-8e76-aee7867cc155 \"HTTP/1.1 404 Not Found\"\n",
      "HTTP Request: GET https://big-vision-paligemma.hf.space/heartbeat/9c4db3f1-fcaa-498c-93f5-cdbc92608af4 \"HTTP/1.1 404 Not Found\"\n",
      "HTTP Request: GET https://big-vision-paligemma.hf.space/heartbeat/6f5eeb76-cb93-4387-9e64-38e949e4608b \"HTTP/1.1 404 Not Found\"\n",
      "HTTP Request: GET https://big-vision-paligemma.hf.space/heartbeat/b7bfa10f-f6da-4075-8e76-aee7867cc155 \"HTTP/1.1 404 Not Found\"\n",
      "HTTP Request: GET https://big-vision-paligemma.hf.space/heartbeat/dd253886-bf2e-44af-a941-af7b3c5ac0cb \"HTTP/1.1 404 Not Found\"\n",
      "HTTP Request: GET https://big-vision-paligemma.hf.space/heartbeat/9c4db3f1-fcaa-498c-93f5-cdbc92608af4 \"HTTP/1.1 404 Not Found\"\n",
      "HTTP Request: GET https://big-vision-paligemma.hf.space/heartbeat/6f5eeb76-cb93-4387-9e64-38e949e4608b \"HTTP/1.1 404 Not Found\"\n",
      "HTTP Request: GET https://big-vision-paligemma.hf.space/heartbeat/dd253886-bf2e-44af-a941-af7b3c5ac0cb \"HTTP/1.1 404 Not Found\"\n",
      "HTTP Request: GET https://big-vision-paligemma.hf.space/heartbeat/b7bfa10f-f6da-4075-8e76-aee7867cc155 \"HTTP/1.1 404 Not Found\"\n",
      "HTTP Request: GET https://big-vision-paligemma.hf.space/heartbeat/9c4db3f1-fcaa-498c-93f5-cdbc92608af4 \"HTTP/1.1 404 Not Found\"\n",
      "HTTP Request: GET https://big-vision-paligemma.hf.space/heartbeat/6f5eeb76-cb93-4387-9e64-38e949e4608b \"HTTP/1.1 404 Not Found\"\n",
      "HTTP Request: GET https://big-vision-paligemma.hf.space/heartbeat/dd253886-bf2e-44af-a941-af7b3c5ac0cb \"HTTP/1.1 404 Not Found\"\n",
      "HTTP Request: GET https://big-vision-paligemma.hf.space/heartbeat/b7bfa10f-f6da-4075-8e76-aee7867cc155 \"HTTP/1.1 404 Not Found\"\n",
      "HTTP Request: GET https://big-vision-paligemma.hf.space/heartbeat/9c4db3f1-fcaa-498c-93f5-cdbc92608af4 \"HTTP/1.1 404 Not Found\"\n",
      "HTTP Request: GET https://big-vision-paligemma.hf.space/heartbeat/6f5eeb76-cb93-4387-9e64-38e949e4608b \"HTTP/1.1 404 Not Found\"\n",
      "HTTP Request: GET https://big-vision-paligemma.hf.space/heartbeat/dd253886-bf2e-44af-a941-af7b3c5ac0cb \"HTTP/1.1 404 Not Found\"\n",
      "HTTP Request: GET https://big-vision-paligemma.hf.space/heartbeat/b7bfa10f-f6da-4075-8e76-aee7867cc155 \"HTTP/1.1 404 Not Found\"\n",
      "HTTP Request: GET https://big-vision-paligemma.hf.space/heartbeat/9c4db3f1-fcaa-498c-93f5-cdbc92608af4 \"HTTP/1.1 404 Not Found\"\n",
      "HTTP Request: GET https://big-vision-paligemma.hf.space/heartbeat/6f5eeb76-cb93-4387-9e64-38e949e4608b \"HTTP/1.1 404 Not Found\"\n",
      "HTTP Request: GET https://big-vision-paligemma.hf.space/heartbeat/dd253886-bf2e-44af-a941-af7b3c5ac0cb \"HTTP/1.1 404 Not Found\"\n",
      "HTTP Request: GET https://big-vision-paligemma.hf.space/heartbeat/b7bfa10f-f6da-4075-8e76-aee7867cc155 \"HTTP/1.1 404 Not Found\"\n",
      "HTTP Request: GET https://big-vision-paligemma.hf.space/heartbeat/9c4db3f1-fcaa-498c-93f5-cdbc92608af4 \"HTTP/1.1 404 Not Found\"\n",
      "HTTP Request: GET https://big-vision-paligemma.hf.space/heartbeat/6f5eeb76-cb93-4387-9e64-38e949e4608b \"HTTP/1.1 404 Not Found\"\n",
      "HTTP Request: GET https://big-vision-paligemma.hf.space/heartbeat/dd253886-bf2e-44af-a941-af7b3c5ac0cb \"HTTP/1.1 404 Not Found\"\n",
      "HTTP Request: GET https://big-vision-paligemma.hf.space/heartbeat/b7bfa10f-f6da-4075-8e76-aee7867cc155 \"HTTP/1.1 404 Not Found\"\n",
      "HTTP Request: GET https://big-vision-paligemma.hf.space/heartbeat/9c4db3f1-fcaa-498c-93f5-cdbc92608af4 \"HTTP/1.1 404 Not Found\"\n",
      "HTTP Request: GET https://big-vision-paligemma.hf.space/heartbeat/6f5eeb76-cb93-4387-9e64-38e949e4608b \"HTTP/1.1 404 Not Found\"\n",
      "HTTP Request: GET https://big-vision-paligemma.hf.space/heartbeat/dd253886-bf2e-44af-a941-af7b3c5ac0cb \"HTTP/1.1 404 Not Found\"\n",
      "HTTP Request: GET https://big-vision-paligemma.hf.space/heartbeat/b7bfa10f-f6da-4075-8e76-aee7867cc155 \"HTTP/1.1 404 Not Found\"\n",
      "HTTP Request: GET https://big-vision-paligemma.hf.space/heartbeat/9c4db3f1-fcaa-498c-93f5-cdbc92608af4 \"HTTP/1.1 404 Not Found\"\n",
      "HTTP Request: GET https://big-vision-paligemma.hf.space/heartbeat/6f5eeb76-cb93-4387-9e64-38e949e4608b \"HTTP/1.1 404 Not Found\"\n",
      "HTTP Request: GET https://big-vision-paligemma.hf.space/heartbeat/dd253886-bf2e-44af-a941-af7b3c5ac0cb \"HTTP/1.1 404 Not Found\"\n",
      "HTTP Request: GET https://big-vision-paligemma.hf.space/heartbeat/b7bfa10f-f6da-4075-8e76-aee7867cc155 \"HTTP/1.1 404 Not Found\"\n",
      "HTTP Request: GET https://big-vision-paligemma.hf.space/heartbeat/9c4db3f1-fcaa-498c-93f5-cdbc92608af4 \"HTTP/1.1 404 Not Found\"\n",
      "HTTP Request: GET https://big-vision-paligemma.hf.space/heartbeat/6f5eeb76-cb93-4387-9e64-38e949e4608b \"HTTP/1.1 404 Not Found\"\n",
      "HTTP Request: GET https://big-vision-paligemma.hf.space/heartbeat/dd253886-bf2e-44af-a941-af7b3c5ac0cb \"HTTP/1.1 404 Not Found\"\n",
      "HTTP Request: GET https://big-vision-paligemma.hf.space/heartbeat/b7bfa10f-f6da-4075-8e76-aee7867cc155 \"HTTP/1.1 404 Not Found\"\n",
      "HTTP Request: GET https://big-vision-paligemma.hf.space/heartbeat/9c4db3f1-fcaa-498c-93f5-cdbc92608af4 \"HTTP/1.1 404 Not Found\"\n",
      "HTTP Request: GET https://big-vision-paligemma.hf.space/heartbeat/6f5eeb76-cb93-4387-9e64-38e949e4608b \"HTTP/1.1 404 Not Found\"\n",
      "HTTP Request: GET https://big-vision-paligemma.hf.space/heartbeat/dd253886-bf2e-44af-a941-af7b3c5ac0cb \"HTTP/1.1 404 Not Found\"\n",
      "HTTP Request: GET https://big-vision-paligemma.hf.space/heartbeat/b7bfa10f-f6da-4075-8e76-aee7867cc155 \"HTTP/1.1 404 Not Found\"\n",
      "HTTP Request: GET https://big-vision-paligemma.hf.space/heartbeat/9c4db3f1-fcaa-498c-93f5-cdbc92608af4 \"HTTP/1.1 404 Not Found\"\n",
      "HTTP Request: GET https://big-vision-paligemma.hf.space/heartbeat/6f5eeb76-cb93-4387-9e64-38e949e4608b \"HTTP/1.1 404 Not Found\"\n",
      "HTTP Request: GET https://big-vision-paligemma.hf.space/heartbeat/dd253886-bf2e-44af-a941-af7b3c5ac0cb \"HTTP/1.1 404 Not Found\"\n",
      "HTTP Request: GET https://big-vision-paligemma.hf.space/heartbeat/b7bfa10f-f6da-4075-8e76-aee7867cc155 \"HTTP/1.1 404 Not Found\"\n",
      "HTTP Request: GET https://big-vision-paligemma.hf.space/heartbeat/9c4db3f1-fcaa-498c-93f5-cdbc92608af4 \"HTTP/1.1 404 Not Found\"\n",
      "HTTP Request: GET https://big-vision-paligemma.hf.space/heartbeat/dd253886-bf2e-44af-a941-af7b3c5ac0cb \"HTTP/1.1 404 Not Found\"\n",
      "HTTP Request: GET https://big-vision-paligemma.hf.space/heartbeat/6f5eeb76-cb93-4387-9e64-38e949e4608b \"HTTP/1.1 404 Not Found\"\n",
      "HTTP Request: GET https://big-vision-paligemma.hf.space/heartbeat/b7bfa10f-f6da-4075-8e76-aee7867cc155 \"HTTP/1.1 404 Not Found\"\n",
      "HTTP Request: GET https://big-vision-paligemma.hf.space/heartbeat/9c4db3f1-fcaa-498c-93f5-cdbc92608af4 \"HTTP/1.1 404 Not Found\"\n",
      "HTTP Request: GET https://big-vision-paligemma.hf.space/heartbeat/dd253886-bf2e-44af-a941-af7b3c5ac0cb \"HTTP/1.1 404 Not Found\"\n",
      "HTTP Request: GET https://big-vision-paligemma.hf.space/heartbeat/6f5eeb76-cb93-4387-9e64-38e949e4608b \"HTTP/1.1 404 Not Found\"\n",
      "HTTP Request: GET https://big-vision-paligemma.hf.space/heartbeat/b7bfa10f-f6da-4075-8e76-aee7867cc155 \"HTTP/1.1 404 Not Found\"\n",
      "HTTP Request: GET https://big-vision-paligemma.hf.space/heartbeat/9c4db3f1-fcaa-498c-93f5-cdbc92608af4 \"HTTP/1.1 404 Not Found\"\n",
      "HTTP Request: GET https://big-vision-paligemma.hf.space/heartbeat/6f5eeb76-cb93-4387-9e64-38e949e4608b \"HTTP/1.1 404 Not Found\"\n",
      "HTTP Request: GET https://big-vision-paligemma.hf.space/heartbeat/dd253886-bf2e-44af-a941-af7b3c5ac0cb \"HTTP/1.1 404 Not Found\"\n",
      "HTTP Request: GET https://big-vision-paligemma.hf.space/heartbeat/b7bfa10f-f6da-4075-8e76-aee7867cc155 \"HTTP/1.1 404 Not Found\"\n",
      "HTTP Request: GET https://big-vision-paligemma.hf.space/heartbeat/9c4db3f1-fcaa-498c-93f5-cdbc92608af4 \"HTTP/1.1 404 Not Found\"\n",
      "HTTP Request: GET https://big-vision-paligemma.hf.space/heartbeat/6f5eeb76-cb93-4387-9e64-38e949e4608b \"HTTP/1.1 404 Not Found\"\n",
      "HTTP Request: GET https://big-vision-paligemma.hf.space/heartbeat/dd253886-bf2e-44af-a941-af7b3c5ac0cb \"HTTP/1.1 404 Not Found\"\n",
      "HTTP Request: GET https://big-vision-paligemma.hf.space/heartbeat/b7bfa10f-f6da-4075-8e76-aee7867cc155 \"HTTP/1.1 404 Not Found\"\n",
      "HTTP Request: GET https://big-vision-paligemma.hf.space/heartbeat/9c4db3f1-fcaa-498c-93f5-cdbc92608af4 \"HTTP/1.1 404 Not Found\"\n",
      "HTTP Request: GET https://big-vision-paligemma.hf.space/heartbeat/dd253886-bf2e-44af-a941-af7b3c5ac0cb \"HTTP/1.1 404 Not Found\"\n",
      "HTTP Request: GET https://big-vision-paligemma.hf.space/heartbeat/b7bfa10f-f6da-4075-8e76-aee7867cc155 \"HTTP/1.1 404 Not Found\"\n",
      "HTTP Request: GET https://big-vision-paligemma.hf.space/heartbeat/9c4db3f1-fcaa-498c-93f5-cdbc92608af4 \"HTTP/1.1 404 Not Found\"\n",
      "HTTP Request: GET https://big-vision-paligemma.hf.space/heartbeat/dd253886-bf2e-44af-a941-af7b3c5ac0cb \"HTTP/1.1 404 Not Found\"\n",
      "HTTP Request: GET https://big-vision-paligemma.hf.space/heartbeat/6f5eeb76-cb93-4387-9e64-38e949e4608b \"HTTP/1.1 404 Not Found\"\n",
      "HTTP Request: GET https://big-vision-paligemma.hf.space/heartbeat/b7bfa10f-f6da-4075-8e76-aee7867cc155 \"HTTP/1.1 404 Not Found\"\n",
      "HTTP Request: GET https://big-vision-paligemma.hf.space/heartbeat/9c4db3f1-fcaa-498c-93f5-cdbc92608af4 \"HTTP/1.1 404 Not Found\"\n",
      "HTTP Request: GET https://big-vision-paligemma.hf.space/heartbeat/dd253886-bf2e-44af-a941-af7b3c5ac0cb \"HTTP/1.1 404 Not Found\"\n",
      "HTTP Request: GET https://big-vision-paligemma.hf.space/heartbeat/6f5eeb76-cb93-4387-9e64-38e949e4608b \"HTTP/1.1 404 Not Found\"\n",
      "HTTP Request: GET https://big-vision-paligemma.hf.space/heartbeat/b7bfa10f-f6da-4075-8e76-aee7867cc155 \"HTTP/1.1 404 Not Found\"\n",
      "HTTP Request: GET https://big-vision-paligemma.hf.space/heartbeat/9c4db3f1-fcaa-498c-93f5-cdbc92608af4 \"HTTP/1.1 404 Not Found\"\n",
      "HTTP Request: GET https://big-vision-paligemma.hf.space/heartbeat/dd253886-bf2e-44af-a941-af7b3c5ac0cb \"HTTP/1.1 404 Not Found\"\n",
      "HTTP Request: GET https://big-vision-paligemma.hf.space/heartbeat/6f5eeb76-cb93-4387-9e64-38e949e4608b \"HTTP/1.1 404 Not Found\"\n",
      "HTTP Request: GET https://big-vision-paligemma.hf.space/heartbeat/b7bfa10f-f6da-4075-8e76-aee7867cc155 \"HTTP/1.1 404 Not Found\"\n",
      "HTTP Request: GET https://big-vision-paligemma.hf.space/heartbeat/9c4db3f1-fcaa-498c-93f5-cdbc92608af4 \"HTTP/1.1 404 Not Found\"\n",
      "HTTP Request: GET https://big-vision-paligemma.hf.space/heartbeat/dd253886-bf2e-44af-a941-af7b3c5ac0cb \"HTTP/1.1 404 Not Found\"\n",
      "HTTP Request: GET https://big-vision-paligemma.hf.space/heartbeat/6f5eeb76-cb93-4387-9e64-38e949e4608b \"HTTP/1.1 404 Not Found\"\n",
      "HTTP Request: GET https://big-vision-paligemma.hf.space/heartbeat/b7bfa10f-f6da-4075-8e76-aee7867cc155 \"HTTP/1.1 404 Not Found\"\n",
      "HTTP Request: GET https://big-vision-paligemma.hf.space/heartbeat/9c4db3f1-fcaa-498c-93f5-cdbc92608af4 \"HTTP/1.1 404 Not Found\"\n",
      "HTTP Request: GET https://big-vision-paligemma.hf.space/heartbeat/dd253886-bf2e-44af-a941-af7b3c5ac0cb \"HTTP/1.1 404 Not Found\"\n",
      "HTTP Request: GET https://big-vision-paligemma.hf.space/heartbeat/6f5eeb76-cb93-4387-9e64-38e949e4608b \"HTTP/1.1 404 Not Found\"\n",
      "HTTP Request: GET https://big-vision-paligemma.hf.space/heartbeat/b7bfa10f-f6da-4075-8e76-aee7867cc155 \"HTTP/1.1 404 Not Found\"\n",
      "HTTP Request: GET https://big-vision-paligemma.hf.space/heartbeat/9c4db3f1-fcaa-498c-93f5-cdbc92608af4 \"HTTP/1.1 404 Not Found\"\n",
      "HTTP Request: GET https://big-vision-paligemma.hf.space/heartbeat/6f5eeb76-cb93-4387-9e64-38e949e4608b \"HTTP/1.1 404 Not Found\"\n",
      "HTTP Request: GET https://big-vision-paligemma.hf.space/heartbeat/dd253886-bf2e-44af-a941-af7b3c5ac0cb \"HTTP/1.1 404 Not Found\"\n",
      "HTTP Request: GET https://big-vision-paligemma.hf.space/heartbeat/b7bfa10f-f6da-4075-8e76-aee7867cc155 \"HTTP/1.1 404 Not Found\"\n",
      "HTTP Request: GET https://big-vision-paligemma.hf.space/heartbeat/9c4db3f1-fcaa-498c-93f5-cdbc92608af4 \"HTTP/1.1 404 Not Found\"\n",
      "HTTP Request: GET https://big-vision-paligemma.hf.space/heartbeat/6f5eeb76-cb93-4387-9e64-38e949e4608b \"HTTP/1.1 404 Not Found\"\n",
      "HTTP Request: GET https://big-vision-paligemma.hf.space/heartbeat/dd253886-bf2e-44af-a941-af7b3c5ac0cb \"HTTP/1.1 404 Not Found\"\n",
      "HTTP Request: GET https://big-vision-paligemma.hf.space/heartbeat/b7bfa10f-f6da-4075-8e76-aee7867cc155 \"HTTP/1.1 404 Not Found\"\n",
      "HTTP Request: GET https://big-vision-paligemma.hf.space/heartbeat/9c4db3f1-fcaa-498c-93f5-cdbc92608af4 \"HTTP/1.1 404 Not Found\"\n",
      "HTTP Request: GET https://big-vision-paligemma.hf.space/heartbeat/dd253886-bf2e-44af-a941-af7b3c5ac0cb \"HTTP/1.1 404 Not Found\"\n",
      "HTTP Request: GET https://big-vision-paligemma.hf.space/heartbeat/6f5eeb76-cb93-4387-9e64-38e949e4608b \"HTTP/1.1 404 Not Found\"\n",
      "HTTP Request: GET https://big-vision-paligemma.hf.space/heartbeat/b7bfa10f-f6da-4075-8e76-aee7867cc155 \"HTTP/1.1 404 Not Found\"\n",
      "HTTP Request: GET https://big-vision-paligemma.hf.space/heartbeat/9c4db3f1-fcaa-498c-93f5-cdbc92608af4 \"HTTP/1.1 404 Not Found\"\n",
      "HTTP Request: GET https://big-vision-paligemma.hf.space/heartbeat/dd253886-bf2e-44af-a941-af7b3c5ac0cb \"HTTP/1.1 404 Not Found\"\n",
      "HTTP Request: GET https://big-vision-paligemma.hf.space/heartbeat/6f5eeb76-cb93-4387-9e64-38e949e4608b \"HTTP/1.1 404 Not Found\"\n",
      "HTTP Request: GET https://big-vision-paligemma.hf.space/heartbeat/b7bfa10f-f6da-4075-8e76-aee7867cc155 \"HTTP/1.1 404 Not Found\"\n",
      "HTTP Request: GET https://big-vision-paligemma.hf.space/heartbeat/9c4db3f1-fcaa-498c-93f5-cdbc92608af4 \"HTTP/1.1 404 Not Found\"\n",
      "HTTP Request: GET https://big-vision-paligemma.hf.space/heartbeat/6f5eeb76-cb93-4387-9e64-38e949e4608b \"HTTP/1.1 404 Not Found\"\n",
      "HTTP Request: GET https://big-vision-paligemma.hf.space/heartbeat/dd253886-bf2e-44af-a941-af7b3c5ac0cb \"HTTP/1.1 404 Not Found\"\n",
      "HTTP Request: GET https://big-vision-paligemma.hf.space/heartbeat/b7bfa10f-f6da-4075-8e76-aee7867cc155 \"HTTP/1.1 404 Not Found\"\n",
      "HTTP Request: GET https://big-vision-paligemma.hf.space/heartbeat/9c4db3f1-fcaa-498c-93f5-cdbc92608af4 \"HTTP/1.1 404 Not Found\"\n",
      "HTTP Request: GET https://big-vision-paligemma.hf.space/heartbeat/dd253886-bf2e-44af-a941-af7b3c5ac0cb \"HTTP/1.1 404 Not Found\"\n",
      "HTTP Request: GET https://big-vision-paligemma.hf.space/heartbeat/6f5eeb76-cb93-4387-9e64-38e949e4608b \"HTTP/1.1 404 Not Found\"\n",
      "HTTP Request: GET https://big-vision-paligemma.hf.space/heartbeat/b7bfa10f-f6da-4075-8e76-aee7867cc155 \"HTTP/1.1 404 Not Found\"\n",
      "HTTP Request: GET https://big-vision-paligemma.hf.space/heartbeat/9c4db3f1-fcaa-498c-93f5-cdbc92608af4 \"HTTP/1.1 404 Not Found\"\n",
      "HTTP Request: GET https://big-vision-paligemma.hf.space/heartbeat/dd253886-bf2e-44af-a941-af7b3c5ac0cb \"HTTP/1.1 404 Not Found\"\n",
      "HTTP Request: GET https://big-vision-paligemma.hf.space/heartbeat/6f5eeb76-cb93-4387-9e64-38e949e4608b \"HTTP/1.1 404 Not Found\"\n",
      "HTTP Request: GET https://big-vision-paligemma.hf.space/heartbeat/b7bfa10f-f6da-4075-8e76-aee7867cc155 \"HTTP/1.1 404 Not Found\"\n",
      "HTTP Request: GET https://big-vision-paligemma.hf.space/heartbeat/9c4db3f1-fcaa-498c-93f5-cdbc92608af4 \"HTTP/1.1 404 Not Found\"\n",
      "HTTP Request: GET https://big-vision-paligemma.hf.space/heartbeat/dd253886-bf2e-44af-a941-af7b3c5ac0cb \"HTTP/1.1 404 Not Found\"\n",
      "HTTP Request: GET https://big-vision-paligemma.hf.space/heartbeat/6f5eeb76-cb93-4387-9e64-38e949e4608b \"HTTP/1.1 404 Not Found\"\n",
      "HTTP Request: GET https://big-vision-paligemma.hf.space/heartbeat/b7bfa10f-f6da-4075-8e76-aee7867cc155 \"HTTP/1.1 404 Not Found\"\n",
      "HTTP Request: GET https://big-vision-paligemma.hf.space/heartbeat/9c4db3f1-fcaa-498c-93f5-cdbc92608af4 \"HTTP/1.1 404 Not Found\"\n",
      "HTTP Request: GET https://big-vision-paligemma.hf.space/heartbeat/dd253886-bf2e-44af-a941-af7b3c5ac0cb \"HTTP/1.1 404 Not Found\"\n",
      "HTTP Request: GET https://big-vision-paligemma.hf.space/heartbeat/6f5eeb76-cb93-4387-9e64-38e949e4608b \"HTTP/1.1 404 Not Found\"\n",
      "HTTP Request: GET https://big-vision-paligemma.hf.space/heartbeat/b7bfa10f-f6da-4075-8e76-aee7867cc155 \"HTTP/1.1 404 Not Found\"\n",
      "HTTP Request: GET https://big-vision-paligemma.hf.space/heartbeat/9c4db3f1-fcaa-498c-93f5-cdbc92608af4 \"HTTP/1.1 404 Not Found\"\n",
      "HTTP Request: GET https://big-vision-paligemma.hf.space/heartbeat/dd253886-bf2e-44af-a941-af7b3c5ac0cb \"HTTP/1.1 404 Not Found\"\n",
      "HTTP Request: GET https://big-vision-paligemma.hf.space/heartbeat/6f5eeb76-cb93-4387-9e64-38e949e4608b \"HTTP/1.1 404 Not Found\"\n",
      "HTTP Request: GET https://big-vision-paligemma.hf.space/heartbeat/b7bfa10f-f6da-4075-8e76-aee7867cc155 \"HTTP/1.1 404 Not Found\"\n",
      "HTTP Request: GET https://big-vision-paligemma.hf.space/heartbeat/9c4db3f1-fcaa-498c-93f5-cdbc92608af4 \"HTTP/1.1 404 Not Found\"\n",
      "HTTP Request: GET https://big-vision-paligemma.hf.space/heartbeat/dd253886-bf2e-44af-a941-af7b3c5ac0cb \"HTTP/1.1 404 Not Found\"\n",
      "HTTP Request: GET https://big-vision-paligemma.hf.space/heartbeat/6f5eeb76-cb93-4387-9e64-38e949e4608b \"HTTP/1.1 404 Not Found\"\n",
      "HTTP Request: GET https://big-vision-paligemma.hf.space/heartbeat/b7bfa10f-f6da-4075-8e76-aee7867cc155 \"HTTP/1.1 404 Not Found\"\n",
      "HTTP Request: GET https://big-vision-paligemma.hf.space/heartbeat/9c4db3f1-fcaa-498c-93f5-cdbc92608af4 \"HTTP/1.1 404 Not Found\"\n",
      "HTTP Request: GET https://big-vision-paligemma.hf.space/heartbeat/dd253886-bf2e-44af-a941-af7b3c5ac0cb \"HTTP/1.1 404 Not Found\"\n",
      "HTTP Request: GET https://big-vision-paligemma.hf.space/heartbeat/6f5eeb76-cb93-4387-9e64-38e949e4608b \"HTTP/1.1 404 Not Found\"\n",
      "HTTP Request: GET https://big-vision-paligemma.hf.space/heartbeat/b7bfa10f-f6da-4075-8e76-aee7867cc155 \"HTTP/1.1 404 Not Found\"\n",
      "HTTP Request: GET https://big-vision-paligemma.hf.space/heartbeat/9c4db3f1-fcaa-498c-93f5-cdbc92608af4 \"HTTP/1.1 404 Not Found\"\n",
      "HTTP Request: GET https://big-vision-paligemma.hf.space/heartbeat/dd253886-bf2e-44af-a941-af7b3c5ac0cb \"HTTP/1.1 404 Not Found\"\n",
      "HTTP Request: GET https://big-vision-paligemma.hf.space/heartbeat/6f5eeb76-cb93-4387-9e64-38e949e4608b \"HTTP/1.1 404 Not Found\"\n",
      "HTTP Request: GET https://big-vision-paligemma.hf.space/heartbeat/b7bfa10f-f6da-4075-8e76-aee7867cc155 \"HTTP/1.1 404 Not Found\"\n",
      "HTTP Request: GET https://big-vision-paligemma.hf.space/heartbeat/9c4db3f1-fcaa-498c-93f5-cdbc92608af4 \"HTTP/1.1 404 Not Found\"\n",
      "HTTP Request: GET https://big-vision-paligemma.hf.space/heartbeat/dd253886-bf2e-44af-a941-af7b3c5ac0cb \"HTTP/1.1 404 Not Found\"\n",
      "HTTP Request: GET https://big-vision-paligemma.hf.space/heartbeat/6f5eeb76-cb93-4387-9e64-38e949e4608b \"HTTP/1.1 404 Not Found\"\n",
      "HTTP Request: GET https://big-vision-paligemma.hf.space/heartbeat/b7bfa10f-f6da-4075-8e76-aee7867cc155 \"HTTP/1.1 404 Not Found\"\n",
      "HTTP Request: GET https://big-vision-paligemma.hf.space/heartbeat/9c4db3f1-fcaa-498c-93f5-cdbc92608af4 \"HTTP/1.1 404 Not Found\"\n",
      "HTTP Request: GET https://big-vision-paligemma.hf.space/heartbeat/dd253886-bf2e-44af-a941-af7b3c5ac0cb \"HTTP/1.1 404 Not Found\"\n",
      "HTTP Request: GET https://big-vision-paligemma.hf.space/heartbeat/6f5eeb76-cb93-4387-9e64-38e949e4608b \"HTTP/1.1 404 Not Found\"\n",
      "HTTP Request: GET https://big-vision-paligemma.hf.space/heartbeat/b7bfa10f-f6da-4075-8e76-aee7867cc155 \"HTTP/1.1 404 Not Found\"\n",
      "HTTP Request: GET https://big-vision-paligemma.hf.space/heartbeat/9c4db3f1-fcaa-498c-93f5-cdbc92608af4 \"HTTP/1.1 404 Not Found\"\n",
      "HTTP Request: GET https://big-vision-paligemma.hf.space/heartbeat/dd253886-bf2e-44af-a941-af7b3c5ac0cb \"HTTP/1.1 404 Not Found\"\n",
      "HTTP Request: GET https://big-vision-paligemma.hf.space/heartbeat/6f5eeb76-cb93-4387-9e64-38e949e4608b \"HTTP/1.1 404 Not Found\"\n",
      "HTTP Request: GET https://big-vision-paligemma.hf.space/heartbeat/b7bfa10f-f6da-4075-8e76-aee7867cc155 \"HTTP/1.1 404 Not Found\"\n",
      "HTTP Request: GET https://big-vision-paligemma.hf.space/heartbeat/9c4db3f1-fcaa-498c-93f5-cdbc92608af4 \"HTTP/1.1 404 Not Found\"\n",
      "HTTP Request: GET https://big-vision-paligemma.hf.space/heartbeat/dd253886-bf2e-44af-a941-af7b3c5ac0cb \"HTTP/1.1 404 Not Found\"\n",
      "HTTP Request: GET https://big-vision-paligemma.hf.space/heartbeat/6f5eeb76-cb93-4387-9e64-38e949e4608b \"HTTP/1.1 404 Not Found\"\n",
      "HTTP Request: GET https://big-vision-paligemma.hf.space/heartbeat/b7bfa10f-f6da-4075-8e76-aee7867cc155 \"HTTP/1.1 404 Not Found\"\n",
      "HTTP Request: GET https://big-vision-paligemma.hf.space/heartbeat/9c4db3f1-fcaa-498c-93f5-cdbc92608af4 \"HTTP/1.1 404 Not Found\"\n",
      "HTTP Request: GET https://big-vision-paligemma.hf.space/heartbeat/dd253886-bf2e-44af-a941-af7b3c5ac0cb \"HTTP/1.1 404 Not Found\"\n",
      "HTTP Request: GET https://big-vision-paligemma.hf.space/heartbeat/6f5eeb76-cb93-4387-9e64-38e949e4608b \"HTTP/1.1 404 Not Found\"\n",
      "HTTP Request: GET https://big-vision-paligemma.hf.space/heartbeat/b7bfa10f-f6da-4075-8e76-aee7867cc155 \"HTTP/1.1 404 Not Found\"\n",
      "HTTP Request: GET https://big-vision-paligemma.hf.space/heartbeat/9c4db3f1-fcaa-498c-93f5-cdbc92608af4 \"HTTP/1.1 404 Not Found\"\n",
      "HTTP Request: GET https://big-vision-paligemma.hf.space/heartbeat/dd253886-bf2e-44af-a941-af7b3c5ac0cb \"HTTP/1.1 404 Not Found\"\n",
      "HTTP Request: GET https://big-vision-paligemma.hf.space/heartbeat/6f5eeb76-cb93-4387-9e64-38e949e4608b \"HTTP/1.1 404 Not Found\"\n",
      "HTTP Request: GET https://big-vision-paligemma.hf.space/heartbeat/b7bfa10f-f6da-4075-8e76-aee7867cc155 \"HTTP/1.1 404 Not Found\"\n",
      "HTTP Request: GET https://big-vision-paligemma.hf.space/heartbeat/9c4db3f1-fcaa-498c-93f5-cdbc92608af4 \"HTTP/1.1 404 Not Found\"\n",
      "HTTP Request: GET https://big-vision-paligemma.hf.space/heartbeat/6f5eeb76-cb93-4387-9e64-38e949e4608b \"HTTP/1.1 404 Not Found\"\n",
      "HTTP Request: GET https://big-vision-paligemma.hf.space/heartbeat/dd253886-bf2e-44af-a941-af7b3c5ac0cb \"HTTP/1.1 404 Not Found\"\n",
      "HTTP Request: GET https://big-vision-paligemma.hf.space/heartbeat/b7bfa10f-f6da-4075-8e76-aee7867cc155 \"HTTP/1.1 404 Not Found\"\n",
      "HTTP Request: GET https://big-vision-paligemma.hf.space/heartbeat/9c4db3f1-fcaa-498c-93f5-cdbc92608af4 \"HTTP/1.1 404 Not Found\"\n",
      "HTTP Request: GET https://big-vision-paligemma.hf.space/heartbeat/6f5eeb76-cb93-4387-9e64-38e949e4608b \"HTTP/1.1 404 Not Found\"\n",
      "HTTP Request: GET https://big-vision-paligemma.hf.space/heartbeat/dd253886-bf2e-44af-a941-af7b3c5ac0cb \"HTTP/1.1 404 Not Found\"\n",
      "HTTP Request: GET https://big-vision-paligemma.hf.space/heartbeat/b7bfa10f-f6da-4075-8e76-aee7867cc155 \"HTTP/1.1 404 Not Found\"\n",
      "HTTP Request: GET https://big-vision-paligemma.hf.space/heartbeat/9c4db3f1-fcaa-498c-93f5-cdbc92608af4 \"HTTP/1.1 404 Not Found\"\n",
      "HTTP Request: GET https://big-vision-paligemma.hf.space/heartbeat/6f5eeb76-cb93-4387-9e64-38e949e4608b \"HTTP/1.1 404 Not Found\"\n",
      "HTTP Request: GET https://big-vision-paligemma.hf.space/heartbeat/dd253886-bf2e-44af-a941-af7b3c5ac0cb \"HTTP/1.1 404 Not Found\"\n",
      "HTTP Request: GET https://big-vision-paligemma.hf.space/heartbeat/b7bfa10f-f6da-4075-8e76-aee7867cc155 \"HTTP/1.1 404 Not Found\"\n",
      "HTTP Request: GET https://big-vision-paligemma.hf.space/heartbeat/9c4db3f1-fcaa-498c-93f5-cdbc92608af4 \"HTTP/1.1 404 Not Found\"\n",
      "HTTP Request: GET https://big-vision-paligemma.hf.space/heartbeat/6f5eeb76-cb93-4387-9e64-38e949e4608b \"HTTP/1.1 404 Not Found\"\n",
      "HTTP Request: GET https://big-vision-paligemma.hf.space/heartbeat/dd253886-bf2e-44af-a941-af7b3c5ac0cb \"HTTP/1.1 404 Not Found\"\n",
      "HTTP Request: GET https://big-vision-paligemma.hf.space/heartbeat/b7bfa10f-f6da-4075-8e76-aee7867cc155 \"HTTP/1.1 404 Not Found\"\n",
      "HTTP Request: GET https://big-vision-paligemma.hf.space/heartbeat/9c4db3f1-fcaa-498c-93f5-cdbc92608af4 \"HTTP/1.1 404 Not Found\"\n",
      "HTTP Request: GET https://big-vision-paligemma.hf.space/heartbeat/6f5eeb76-cb93-4387-9e64-38e949e4608b \"HTTP/1.1 404 Not Found\"\n",
      "HTTP Request: GET https://big-vision-paligemma.hf.space/heartbeat/dd253886-bf2e-44af-a941-af7b3c5ac0cb \"HTTP/1.1 404 Not Found\"\n",
      "HTTP Request: GET https://big-vision-paligemma.hf.space/heartbeat/b7bfa10f-f6da-4075-8e76-aee7867cc155 \"HTTP/1.1 404 Not Found\"\n",
      "HTTP Request: GET https://big-vision-paligemma.hf.space/heartbeat/9c4db3f1-fcaa-498c-93f5-cdbc92608af4 \"HTTP/1.1 404 Not Found\"\n",
      "HTTP Request: GET https://big-vision-paligemma.hf.space/heartbeat/6f5eeb76-cb93-4387-9e64-38e949e4608b \"HTTP/1.1 404 Not Found\"\n",
      "HTTP Request: GET https://big-vision-paligemma.hf.space/heartbeat/dd253886-bf2e-44af-a941-af7b3c5ac0cb \"HTTP/1.1 404 Not Found\"\n",
      "HTTP Request: GET https://big-vision-paligemma.hf.space/heartbeat/b7bfa10f-f6da-4075-8e76-aee7867cc155 \"HTTP/1.1 404 Not Found\"\n",
      "HTTP Request: GET https://big-vision-paligemma.hf.space/heartbeat/9c4db3f1-fcaa-498c-93f5-cdbc92608af4 \"HTTP/1.1 404 Not Found\"\n",
      "HTTP Request: GET https://big-vision-paligemma.hf.space/heartbeat/6f5eeb76-cb93-4387-9e64-38e949e4608b \"HTTP/1.1 404 Not Found\"\n",
      "HTTP Request: GET https://big-vision-paligemma.hf.space/heartbeat/dd253886-bf2e-44af-a941-af7b3c5ac0cb \"HTTP/1.1 404 Not Found\"\n",
      "HTTP Request: GET https://big-vision-paligemma.hf.space/heartbeat/b7bfa10f-f6da-4075-8e76-aee7867cc155 \"HTTP/1.1 404 Not Found\"\n",
      "HTTP Request: GET https://big-vision-paligemma.hf.space/heartbeat/9c4db3f1-fcaa-498c-93f5-cdbc92608af4 \"HTTP/1.1 404 Not Found\"\n",
      "HTTP Request: GET https://big-vision-paligemma.hf.space/heartbeat/6f5eeb76-cb93-4387-9e64-38e949e4608b \"HTTP/1.1 404 Not Found\"\n",
      "HTTP Request: GET https://big-vision-paligemma.hf.space/heartbeat/dd253886-bf2e-44af-a941-af7b3c5ac0cb \"HTTP/1.1 404 Not Found\"\n",
      "HTTP Request: GET https://big-vision-paligemma.hf.space/heartbeat/b7bfa10f-f6da-4075-8e76-aee7867cc155 \"HTTP/1.1 404 Not Found\"\n",
      "HTTP Request: GET https://big-vision-paligemma.hf.space/heartbeat/9c4db3f1-fcaa-498c-93f5-cdbc92608af4 \"HTTP/1.1 404 Not Found\"\n",
      "HTTP Request: GET https://big-vision-paligemma.hf.space/heartbeat/6f5eeb76-cb93-4387-9e64-38e949e4608b \"HTTP/1.1 404 Not Found\"\n",
      "HTTP Request: GET https://big-vision-paligemma.hf.space/heartbeat/dd253886-bf2e-44af-a941-af7b3c5ac0cb \"HTTP/1.1 404 Not Found\"\n",
      "HTTP Request: GET https://big-vision-paligemma.hf.space/heartbeat/b7bfa10f-f6da-4075-8e76-aee7867cc155 \"HTTP/1.1 404 Not Found\"\n",
      "HTTP Request: GET https://big-vision-paligemma.hf.space/heartbeat/9c4db3f1-fcaa-498c-93f5-cdbc92608af4 \"HTTP/1.1 404 Not Found\"\n",
      "HTTP Request: GET https://big-vision-paligemma.hf.space/heartbeat/6f5eeb76-cb93-4387-9e64-38e949e4608b \"HTTP/1.1 404 Not Found\"\n",
      "HTTP Request: GET https://big-vision-paligemma.hf.space/heartbeat/dd253886-bf2e-44af-a941-af7b3c5ac0cb \"HTTP/1.1 404 Not Found\"\n",
      "HTTP Request: GET https://big-vision-paligemma.hf.space/heartbeat/b7bfa10f-f6da-4075-8e76-aee7867cc155 \"HTTP/1.1 404 Not Found\"\n",
      "HTTP Request: GET https://big-vision-paligemma.hf.space/heartbeat/9c4db3f1-fcaa-498c-93f5-cdbc92608af4 \"HTTP/1.1 404 Not Found\"\n",
      "HTTP Request: GET https://big-vision-paligemma.hf.space/heartbeat/6f5eeb76-cb93-4387-9e64-38e949e4608b \"HTTP/1.1 404 Not Found\"\n",
      "HTTP Request: GET https://big-vision-paligemma.hf.space/heartbeat/dd253886-bf2e-44af-a941-af7b3c5ac0cb \"HTTP/1.1 404 Not Found\"\n",
      "HTTP Request: GET https://big-vision-paligemma.hf.space/heartbeat/b7bfa10f-f6da-4075-8e76-aee7867cc155 \"HTTP/1.1 404 Not Found\"\n",
      "HTTP Request: GET https://big-vision-paligemma.hf.space/heartbeat/9c4db3f1-fcaa-498c-93f5-cdbc92608af4 \"HTTP/1.1 404 Not Found\"\n",
      "HTTP Request: GET https://big-vision-paligemma.hf.space/heartbeat/6f5eeb76-cb93-4387-9e64-38e949e4608b \"HTTP/1.1 404 Not Found\"\n",
      "HTTP Request: GET https://big-vision-paligemma.hf.space/heartbeat/dd253886-bf2e-44af-a941-af7b3c5ac0cb \"HTTP/1.1 404 Not Found\"\n",
      "HTTP Request: GET https://big-vision-paligemma.hf.space/heartbeat/b7bfa10f-f6da-4075-8e76-aee7867cc155 \"HTTP/1.1 404 Not Found\"\n",
      "HTTP Request: GET https://big-vision-paligemma.hf.space/heartbeat/9c4db3f1-fcaa-498c-93f5-cdbc92608af4 \"HTTP/1.1 404 Not Found\"\n",
      "HTTP Request: GET https://big-vision-paligemma.hf.space/heartbeat/6f5eeb76-cb93-4387-9e64-38e949e4608b \"HTTP/1.1 404 Not Found\"\n",
      "HTTP Request: GET https://big-vision-paligemma.hf.space/heartbeat/dd253886-bf2e-44af-a941-af7b3c5ac0cb \"HTTP/1.1 404 Not Found\"\n",
      "HTTP Request: GET https://big-vision-paligemma.hf.space/heartbeat/b7bfa10f-f6da-4075-8e76-aee7867cc155 \"HTTP/1.1 404 Not Found\"\n",
      "HTTP Request: GET https://big-vision-paligemma.hf.space/heartbeat/9c4db3f1-fcaa-498c-93f5-cdbc92608af4 \"HTTP/1.1 404 Not Found\"\n",
      "HTTP Request: GET https://big-vision-paligemma.hf.space/heartbeat/6f5eeb76-cb93-4387-9e64-38e949e4608b \"HTTP/1.1 404 Not Found\"\n",
      "HTTP Request: GET https://big-vision-paligemma.hf.space/heartbeat/dd253886-bf2e-44af-a941-af7b3c5ac0cb \"HTTP/1.1 404 Not Found\"\n",
      "HTTP Request: GET https://big-vision-paligemma.hf.space/heartbeat/b7bfa10f-f6da-4075-8e76-aee7867cc155 \"HTTP/1.1 404 Not Found\"\n",
      "HTTP Request: GET https://big-vision-paligemma.hf.space/heartbeat/9c4db3f1-fcaa-498c-93f5-cdbc92608af4 \"HTTP/1.1 404 Not Found\"\n",
      "HTTP Request: GET https://big-vision-paligemma.hf.space/heartbeat/6f5eeb76-cb93-4387-9e64-38e949e4608b \"HTTP/1.1 404 Not Found\"\n",
      "HTTP Request: GET https://big-vision-paligemma.hf.space/heartbeat/dd253886-bf2e-44af-a941-af7b3c5ac0cb \"HTTP/1.1 404 Not Found\"\n",
      "HTTP Request: GET https://big-vision-paligemma.hf.space/heartbeat/b7bfa10f-f6da-4075-8e76-aee7867cc155 \"HTTP/1.1 404 Not Found\"\n",
      "HTTP Request: GET https://big-vision-paligemma.hf.space/heartbeat/9c4db3f1-fcaa-498c-93f5-cdbc92608af4 \"HTTP/1.1 404 Not Found\"\n",
      "HTTP Request: GET https://big-vision-paligemma.hf.space/heartbeat/6f5eeb76-cb93-4387-9e64-38e949e4608b \"HTTP/1.1 404 Not Found\"\n",
      "HTTP Request: GET https://big-vision-paligemma.hf.space/heartbeat/dd253886-bf2e-44af-a941-af7b3c5ac0cb \"HTTP/1.1 404 Not Found\"\n",
      "HTTP Request: GET https://big-vision-paligemma.hf.space/heartbeat/b7bfa10f-f6da-4075-8e76-aee7867cc155 \"HTTP/1.1 404 Not Found\"\n",
      "HTTP Request: GET https://big-vision-paligemma.hf.space/heartbeat/9c4db3f1-fcaa-498c-93f5-cdbc92608af4 \"HTTP/1.1 404 Not Found\"\n",
      "HTTP Request: GET https://big-vision-paligemma.hf.space/heartbeat/6f5eeb76-cb93-4387-9e64-38e949e4608b \"HTTP/1.1 404 Not Found\"\n",
      "HTTP Request: GET https://big-vision-paligemma.hf.space/heartbeat/dd253886-bf2e-44af-a941-af7b3c5ac0cb \"HTTP/1.1 404 Not Found\"\n",
      "HTTP Request: GET https://big-vision-paligemma.hf.space/heartbeat/b7bfa10f-f6da-4075-8e76-aee7867cc155 \"HTTP/1.1 404 Not Found\"\n",
      "HTTP Request: GET https://big-vision-paligemma.hf.space/heartbeat/9c4db3f1-fcaa-498c-93f5-cdbc92608af4 \"HTTP/1.1 404 Not Found\"\n",
      "HTTP Request: GET https://big-vision-paligemma.hf.space/heartbeat/6f5eeb76-cb93-4387-9e64-38e949e4608b \"HTTP/1.1 404 Not Found\"\n",
      "HTTP Request: GET https://big-vision-paligemma.hf.space/heartbeat/dd253886-bf2e-44af-a941-af7b3c5ac0cb \"HTTP/1.1 404 Not Found\"\n",
      "HTTP Request: GET https://big-vision-paligemma.hf.space/heartbeat/b7bfa10f-f6da-4075-8e76-aee7867cc155 \"HTTP/1.1 404 Not Found\"\n",
      "HTTP Request: GET https://big-vision-paligemma.hf.space/heartbeat/9c4db3f1-fcaa-498c-93f5-cdbc92608af4 \"HTTP/1.1 404 Not Found\"\n",
      "HTTP Request: GET https://big-vision-paligemma.hf.space/heartbeat/6f5eeb76-cb93-4387-9e64-38e949e4608b \"HTTP/1.1 404 Not Found\"\n",
      "HTTP Request: GET https://big-vision-paligemma.hf.space/heartbeat/dd253886-bf2e-44af-a941-af7b3c5ac0cb \"HTTP/1.1 404 Not Found\"\n",
      "HTTP Request: GET https://big-vision-paligemma.hf.space/heartbeat/b7bfa10f-f6da-4075-8e76-aee7867cc155 \"HTTP/1.1 404 Not Found\"\n",
      "HTTP Request: GET https://big-vision-paligemma.hf.space/heartbeat/9c4db3f1-fcaa-498c-93f5-cdbc92608af4 \"HTTP/1.1 404 Not Found\"\n",
      "HTTP Request: GET https://big-vision-paligemma.hf.space/heartbeat/6f5eeb76-cb93-4387-9e64-38e949e4608b \"HTTP/1.1 404 Not Found\"\n",
      "HTTP Request: GET https://big-vision-paligemma.hf.space/heartbeat/dd253886-bf2e-44af-a941-af7b3c5ac0cb \"HTTP/1.1 404 Not Found\"\n",
      "HTTP Request: GET https://big-vision-paligemma.hf.space/heartbeat/b7bfa10f-f6da-4075-8e76-aee7867cc155 \"HTTP/1.1 404 Not Found\"\n",
      "HTTP Request: GET https://big-vision-paligemma.hf.space/heartbeat/9c4db3f1-fcaa-498c-93f5-cdbc92608af4 \"HTTP/1.1 404 Not Found\"\n",
      "HTTP Request: GET https://big-vision-paligemma.hf.space/heartbeat/6f5eeb76-cb93-4387-9e64-38e949e4608b \"HTTP/1.1 404 Not Found\"\n",
      "HTTP Request: GET https://big-vision-paligemma.hf.space/heartbeat/dd253886-bf2e-44af-a941-af7b3c5ac0cb \"HTTP/1.1 404 Not Found\"\n",
      "HTTP Request: GET https://big-vision-paligemma.hf.space/heartbeat/b7bfa10f-f6da-4075-8e76-aee7867cc155 \"HTTP/1.1 404 Not Found\"\n",
      "HTTP Request: GET https://big-vision-paligemma.hf.space/heartbeat/9c4db3f1-fcaa-498c-93f5-cdbc92608af4 \"HTTP/1.1 404 Not Found\"\n",
      "HTTP Request: GET https://big-vision-paligemma.hf.space/heartbeat/6f5eeb76-cb93-4387-9e64-38e949e4608b \"HTTP/1.1 404 Not Found\"\n",
      "HTTP Request: GET https://big-vision-paligemma.hf.space/heartbeat/dd253886-bf2e-44af-a941-af7b3c5ac0cb \"HTTP/1.1 404 Not Found\"\n",
      "HTTP Request: GET https://big-vision-paligemma.hf.space/heartbeat/b7bfa10f-f6da-4075-8e76-aee7867cc155 \"HTTP/1.1 404 Not Found\"\n",
      "HTTP Request: GET https://big-vision-paligemma.hf.space/heartbeat/9c4db3f1-fcaa-498c-93f5-cdbc92608af4 \"HTTP/1.1 404 Not Found\"\n",
      "HTTP Request: GET https://big-vision-paligemma.hf.space/heartbeat/6f5eeb76-cb93-4387-9e64-38e949e4608b \"HTTP/1.1 404 Not Found\"\n",
      "HTTP Request: GET https://big-vision-paligemma.hf.space/heartbeat/dd253886-bf2e-44af-a941-af7b3c5ac0cb \"HTTP/1.1 404 Not Found\"\n",
      "HTTP Request: GET https://big-vision-paligemma.hf.space/heartbeat/b7bfa10f-f6da-4075-8e76-aee7867cc155 \"HTTP/1.1 404 Not Found\"\n",
      "HTTP Request: GET https://big-vision-paligemma.hf.space/heartbeat/9c4db3f1-fcaa-498c-93f5-cdbc92608af4 \"HTTP/1.1 404 Not Found\"\n",
      "HTTP Request: GET https://big-vision-paligemma.hf.space/heartbeat/6f5eeb76-cb93-4387-9e64-38e949e4608b \"HTTP/1.1 404 Not Found\"\n",
      "HTTP Request: GET https://big-vision-paligemma.hf.space/heartbeat/dd253886-bf2e-44af-a941-af7b3c5ac0cb \"HTTP/1.1 404 Not Found\"\n",
      "HTTP Request: GET https://big-vision-paligemma.hf.space/heartbeat/b7bfa10f-f6da-4075-8e76-aee7867cc155 \"HTTP/1.1 404 Not Found\"\n",
      "HTTP Request: GET https://big-vision-paligemma.hf.space/heartbeat/9c4db3f1-fcaa-498c-93f5-cdbc92608af4 \"HTTP/1.1 404 Not Found\"\n",
      "HTTP Request: GET https://big-vision-paligemma.hf.space/heartbeat/6f5eeb76-cb93-4387-9e64-38e949e4608b \"HTTP/1.1 404 Not Found\"\n",
      "HTTP Request: GET https://big-vision-paligemma.hf.space/heartbeat/dd253886-bf2e-44af-a941-af7b3c5ac0cb \"HTTP/1.1 404 Not Found\"\n",
      "HTTP Request: GET https://big-vision-paligemma.hf.space/heartbeat/b7bfa10f-f6da-4075-8e76-aee7867cc155 \"HTTP/1.1 404 Not Found\"\n",
      "HTTP Request: GET https://big-vision-paligemma.hf.space/heartbeat/9c4db3f1-fcaa-498c-93f5-cdbc92608af4 \"HTTP/1.1 404 Not Found\"\n",
      "HTTP Request: GET https://big-vision-paligemma.hf.space/heartbeat/6f5eeb76-cb93-4387-9e64-38e949e4608b \"HTTP/1.1 404 Not Found\"\n",
      "HTTP Request: GET https://big-vision-paligemma.hf.space/heartbeat/dd253886-bf2e-44af-a941-af7b3c5ac0cb \"HTTP/1.1 404 Not Found\"\n",
      "HTTP Request: GET https://big-vision-paligemma.hf.space/heartbeat/b7bfa10f-f6da-4075-8e76-aee7867cc155 \"HTTP/1.1 404 Not Found\"\n",
      "HTTP Request: GET https://big-vision-paligemma.hf.space/heartbeat/9c4db3f1-fcaa-498c-93f5-cdbc92608af4 \"HTTP/1.1 404 Not Found\"\n",
      "HTTP Request: GET https://big-vision-paligemma.hf.space/heartbeat/6f5eeb76-cb93-4387-9e64-38e949e4608b \"HTTP/1.1 404 Not Found\"\n",
      "HTTP Request: GET https://big-vision-paligemma.hf.space/heartbeat/dd253886-bf2e-44af-a941-af7b3c5ac0cb \"HTTP/1.1 404 Not Found\"\n",
      "HTTP Request: GET https://big-vision-paligemma.hf.space/heartbeat/b7bfa10f-f6da-4075-8e76-aee7867cc155 \"HTTP/1.1 404 Not Found\"\n",
      "HTTP Request: GET https://big-vision-paligemma.hf.space/heartbeat/9c4db3f1-fcaa-498c-93f5-cdbc92608af4 \"HTTP/1.1 404 Not Found\"\n",
      "HTTP Request: GET https://big-vision-paligemma.hf.space/heartbeat/6f5eeb76-cb93-4387-9e64-38e949e4608b \"HTTP/1.1 404 Not Found\"\n",
      "HTTP Request: GET https://big-vision-paligemma.hf.space/heartbeat/dd253886-bf2e-44af-a941-af7b3c5ac0cb \"HTTP/1.1 404 Not Found\"\n",
      "HTTP Request: GET https://big-vision-paligemma.hf.space/heartbeat/b7bfa10f-f6da-4075-8e76-aee7867cc155 \"HTTP/1.1 404 Not Found\"\n",
      "HTTP Request: GET https://big-vision-paligemma.hf.space/heartbeat/9c4db3f1-fcaa-498c-93f5-cdbc92608af4 \"HTTP/1.1 404 Not Found\"\n",
      "HTTP Request: GET https://big-vision-paligemma.hf.space/heartbeat/6f5eeb76-cb93-4387-9e64-38e949e4608b \"HTTP/1.1 404 Not Found\"\n",
      "HTTP Request: GET https://big-vision-paligemma.hf.space/heartbeat/dd253886-bf2e-44af-a941-af7b3c5ac0cb \"HTTP/1.1 404 Not Found\"\n",
      "HTTP Request: GET https://big-vision-paligemma.hf.space/heartbeat/b7bfa10f-f6da-4075-8e76-aee7867cc155 \"HTTP/1.1 404 Not Found\"\n",
      "HTTP Request: GET https://big-vision-paligemma.hf.space/heartbeat/9c4db3f1-fcaa-498c-93f5-cdbc92608af4 \"HTTP/1.1 404 Not Found\"\n",
      "HTTP Request: GET https://big-vision-paligemma.hf.space/heartbeat/6f5eeb76-cb93-4387-9e64-38e949e4608b \"HTTP/1.1 404 Not Found\"\n",
      "HTTP Request: GET https://big-vision-paligemma.hf.space/heartbeat/dd253886-bf2e-44af-a941-af7b3c5ac0cb \"HTTP/1.1 404 Not Found\"\n",
      "HTTP Request: GET https://big-vision-paligemma.hf.space/heartbeat/b7bfa10f-f6da-4075-8e76-aee7867cc155 \"HTTP/1.1 404 Not Found\"\n",
      "HTTP Request: GET https://big-vision-paligemma.hf.space/heartbeat/9c4db3f1-fcaa-498c-93f5-cdbc92608af4 \"HTTP/1.1 404 Not Found\"\n",
      "HTTP Request: GET https://big-vision-paligemma.hf.space/heartbeat/6f5eeb76-cb93-4387-9e64-38e949e4608b \"HTTP/1.1 404 Not Found\"\n",
      "HTTP Request: GET https://big-vision-paligemma.hf.space/heartbeat/dd253886-bf2e-44af-a941-af7b3c5ac0cb \"HTTP/1.1 404 Not Found\"\n",
      "HTTP Request: GET https://big-vision-paligemma.hf.space/heartbeat/b7bfa10f-f6da-4075-8e76-aee7867cc155 \"HTTP/1.1 404 Not Found\"\n",
      "HTTP Request: GET https://big-vision-paligemma.hf.space/heartbeat/9c4db3f1-fcaa-498c-93f5-cdbc92608af4 \"HTTP/1.1 404 Not Found\"\n",
      "HTTP Request: GET https://big-vision-paligemma.hf.space/heartbeat/6f5eeb76-cb93-4387-9e64-38e949e4608b \"HTTP/1.1 404 Not Found\"\n",
      "HTTP Request: GET https://big-vision-paligemma.hf.space/heartbeat/dd253886-bf2e-44af-a941-af7b3c5ac0cb \"HTTP/1.1 404 Not Found\"\n",
      "HTTP Request: GET https://big-vision-paligemma.hf.space/heartbeat/b7bfa10f-f6da-4075-8e76-aee7867cc155 \"HTTP/1.1 404 Not Found\"\n",
      "HTTP Request: GET https://big-vision-paligemma.hf.space/heartbeat/9c4db3f1-fcaa-498c-93f5-cdbc92608af4 \"HTTP/1.1 404 Not Found\"\n",
      "HTTP Request: GET https://big-vision-paligemma.hf.space/heartbeat/6f5eeb76-cb93-4387-9e64-38e949e4608b \"HTTP/1.1 404 Not Found\"\n",
      "HTTP Request: GET https://big-vision-paligemma.hf.space/heartbeat/dd253886-bf2e-44af-a941-af7b3c5ac0cb \"HTTP/1.1 404 Not Found\"\n",
      "HTTP Request: GET https://big-vision-paligemma.hf.space/heartbeat/b7bfa10f-f6da-4075-8e76-aee7867cc155 \"HTTP/1.1 404 Not Found\"\n",
      "HTTP Request: GET https://big-vision-paligemma.hf.space/heartbeat/9c4db3f1-fcaa-498c-93f5-cdbc92608af4 \"HTTP/1.1 404 Not Found\"\n",
      "HTTP Request: GET https://big-vision-paligemma.hf.space/heartbeat/6f5eeb76-cb93-4387-9e64-38e949e4608b \"HTTP/1.1 404 Not Found\"\n",
      "HTTP Request: GET https://big-vision-paligemma.hf.space/heartbeat/dd253886-bf2e-44af-a941-af7b3c5ac0cb \"HTTP/1.1 404 Not Found\"\n",
      "HTTP Request: GET https://big-vision-paligemma.hf.space/heartbeat/b7bfa10f-f6da-4075-8e76-aee7867cc155 \"HTTP/1.1 404 Not Found\"\n",
      "HTTP Request: GET https://big-vision-paligemma.hf.space/heartbeat/9c4db3f1-fcaa-498c-93f5-cdbc92608af4 \"HTTP/1.1 404 Not Found\"\n",
      "HTTP Request: GET https://big-vision-paligemma.hf.space/heartbeat/6f5eeb76-cb93-4387-9e64-38e949e4608b \"HTTP/1.1 404 Not Found\"\n",
      "HTTP Request: GET https://big-vision-paligemma.hf.space/heartbeat/dd253886-bf2e-44af-a941-af7b3c5ac0cb \"HTTP/1.1 404 Not Found\"\n",
      "HTTP Request: GET https://big-vision-paligemma.hf.space/heartbeat/b7bfa10f-f6da-4075-8e76-aee7867cc155 \"HTTP/1.1 404 Not Found\"\n",
      "HTTP Request: GET https://big-vision-paligemma.hf.space/heartbeat/9c4db3f1-fcaa-498c-93f5-cdbc92608af4 \"HTTP/1.1 404 Not Found\"\n",
      "HTTP Request: GET https://big-vision-paligemma.hf.space/heartbeat/6f5eeb76-cb93-4387-9e64-38e949e4608b \"HTTP/1.1 404 Not Found\"\n",
      "HTTP Request: GET https://big-vision-paligemma.hf.space/heartbeat/dd253886-bf2e-44af-a941-af7b3c5ac0cb \"HTTP/1.1 404 Not Found\"\n",
      "HTTP Request: GET https://big-vision-paligemma.hf.space/heartbeat/b7bfa10f-f6da-4075-8e76-aee7867cc155 \"HTTP/1.1 404 Not Found\"\n",
      "HTTP Request: GET https://big-vision-paligemma.hf.space/heartbeat/9c4db3f1-fcaa-498c-93f5-cdbc92608af4 \"HTTP/1.1 404 Not Found\"\n",
      "HTTP Request: GET https://big-vision-paligemma.hf.space/heartbeat/6f5eeb76-cb93-4387-9e64-38e949e4608b \"HTTP/1.1 404 Not Found\"\n",
      "HTTP Request: GET https://big-vision-paligemma.hf.space/heartbeat/dd253886-bf2e-44af-a941-af7b3c5ac0cb \"HTTP/1.1 404 Not Found\"\n",
      "HTTP Request: GET https://big-vision-paligemma.hf.space/heartbeat/b7bfa10f-f6da-4075-8e76-aee7867cc155 \"HTTP/1.1 404 Not Found\"\n",
      "HTTP Request: GET https://big-vision-paligemma.hf.space/heartbeat/9c4db3f1-fcaa-498c-93f5-cdbc92608af4 \"HTTP/1.1 404 Not Found\"\n",
      "HTTP Request: GET https://big-vision-paligemma.hf.space/heartbeat/6f5eeb76-cb93-4387-9e64-38e949e4608b \"HTTP/1.1 404 Not Found\"\n",
      "HTTP Request: GET https://big-vision-paligemma.hf.space/heartbeat/dd253886-bf2e-44af-a941-af7b3c5ac0cb \"HTTP/1.1 404 Not Found\"\n",
      "HTTP Request: GET https://big-vision-paligemma.hf.space/heartbeat/b7bfa10f-f6da-4075-8e76-aee7867cc155 \"HTTP/1.1 404 Not Found\"\n",
      "HTTP Request: GET https://big-vision-paligemma.hf.space/heartbeat/9c4db3f1-fcaa-498c-93f5-cdbc92608af4 \"HTTP/1.1 404 Not Found\"\n",
      "HTTP Request: GET https://big-vision-paligemma.hf.space/heartbeat/6f5eeb76-cb93-4387-9e64-38e949e4608b \"HTTP/1.1 404 Not Found\"\n",
      "HTTP Request: GET https://big-vision-paligemma.hf.space/heartbeat/dd253886-bf2e-44af-a941-af7b3c5ac0cb \"HTTP/1.1 404 Not Found\"\n",
      "HTTP Request: GET https://big-vision-paligemma.hf.space/heartbeat/b7bfa10f-f6da-4075-8e76-aee7867cc155 \"HTTP/1.1 404 Not Found\"\n",
      "HTTP Request: GET https://big-vision-paligemma.hf.space/heartbeat/9c4db3f1-fcaa-498c-93f5-cdbc92608af4 \"HTTP/1.1 404 Not Found\"\n",
      "HTTP Request: GET https://big-vision-paligemma.hf.space/heartbeat/6f5eeb76-cb93-4387-9e64-38e949e4608b \"HTTP/1.1 404 Not Found\"\n",
      "HTTP Request: GET https://big-vision-paligemma.hf.space/heartbeat/dd253886-bf2e-44af-a941-af7b3c5ac0cb \"HTTP/1.1 404 Not Found\"\n",
      "HTTP Request: GET https://big-vision-paligemma.hf.space/heartbeat/b7bfa10f-f6da-4075-8e76-aee7867cc155 \"HTTP/1.1 404 Not Found\"\n",
      "HTTP Request: GET https://big-vision-paligemma.hf.space/heartbeat/9c4db3f1-fcaa-498c-93f5-cdbc92608af4 \"HTTP/1.1 404 Not Found\"\n",
      "HTTP Request: GET https://big-vision-paligemma.hf.space/heartbeat/6f5eeb76-cb93-4387-9e64-38e949e4608b \"HTTP/1.1 404 Not Found\"\n",
      "HTTP Request: GET https://big-vision-paligemma.hf.space/heartbeat/dd253886-bf2e-44af-a941-af7b3c5ac0cb \"HTTP/1.1 404 Not Found\"\n",
      "HTTP Request: GET https://big-vision-paligemma.hf.space/heartbeat/b7bfa10f-f6da-4075-8e76-aee7867cc155 \"HTTP/1.1 404 Not Found\"\n",
      "HTTP Request: GET https://big-vision-paligemma.hf.space/heartbeat/9c4db3f1-fcaa-498c-93f5-cdbc92608af4 \"HTTP/1.1 404 Not Found\"\n",
      "HTTP Request: GET https://big-vision-paligemma.hf.space/heartbeat/6f5eeb76-cb93-4387-9e64-38e949e4608b \"HTTP/1.1 404 Not Found\"\n",
      "HTTP Request: GET https://big-vision-paligemma.hf.space/heartbeat/dd253886-bf2e-44af-a941-af7b3c5ac0cb \"HTTP/1.1 404 Not Found\"\n",
      "HTTP Request: GET https://big-vision-paligemma.hf.space/heartbeat/b7bfa10f-f6da-4075-8e76-aee7867cc155 \"HTTP/1.1 404 Not Found\"\n",
      "HTTP Request: GET https://big-vision-paligemma.hf.space/heartbeat/9c4db3f1-fcaa-498c-93f5-cdbc92608af4 \"HTTP/1.1 404 Not Found\"\n",
      "HTTP Request: GET https://big-vision-paligemma.hf.space/heartbeat/6f5eeb76-cb93-4387-9e64-38e949e4608b \"HTTP/1.1 404 Not Found\"\n",
      "HTTP Request: GET https://big-vision-paligemma.hf.space/heartbeat/dd253886-bf2e-44af-a941-af7b3c5ac0cb \"HTTP/1.1 404 Not Found\"\n",
      "HTTP Request: GET https://big-vision-paligemma.hf.space/heartbeat/b7bfa10f-f6da-4075-8e76-aee7867cc155 \"HTTP/1.1 404 Not Found\"\n",
      "HTTP Request: GET https://big-vision-paligemma.hf.space/heartbeat/9c4db3f1-fcaa-498c-93f5-cdbc92608af4 \"HTTP/1.1 404 Not Found\"\n",
      "HTTP Request: GET https://big-vision-paligemma.hf.space/heartbeat/6f5eeb76-cb93-4387-9e64-38e949e4608b \"HTTP/1.1 404 Not Found\"\n",
      "HTTP Request: GET https://big-vision-paligemma.hf.space/heartbeat/dd253886-bf2e-44af-a941-af7b3c5ac0cb \"HTTP/1.1 404 Not Found\"\n",
      "HTTP Request: GET https://big-vision-paligemma.hf.space/heartbeat/b7bfa10f-f6da-4075-8e76-aee7867cc155 \"HTTP/1.1 404 Not Found\"\n",
      "HTTP Request: GET https://big-vision-paligemma.hf.space/heartbeat/9c4db3f1-fcaa-498c-93f5-cdbc92608af4 \"HTTP/1.1 404 Not Found\"\n",
      "HTTP Request: GET https://big-vision-paligemma.hf.space/heartbeat/6f5eeb76-cb93-4387-9e64-38e949e4608b \"HTTP/1.1 404 Not Found\"\n",
      "HTTP Request: GET https://big-vision-paligemma.hf.space/heartbeat/dd253886-bf2e-44af-a941-af7b3c5ac0cb \"HTTP/1.1 404 Not Found\"\n",
      "HTTP Request: GET https://big-vision-paligemma.hf.space/heartbeat/b7bfa10f-f6da-4075-8e76-aee7867cc155 \"HTTP/1.1 404 Not Found\"\n",
      "HTTP Request: GET https://big-vision-paligemma.hf.space/heartbeat/9c4db3f1-fcaa-498c-93f5-cdbc92608af4 \"HTTP/1.1 404 Not Found\"\n",
      "HTTP Request: GET https://big-vision-paligemma.hf.space/heartbeat/6f5eeb76-cb93-4387-9e64-38e949e4608b \"HTTP/1.1 404 Not Found\"\n"
     ]
    }
   ],
   "source": [
    "with TestClient(app) as client:\n",
    "    response = client.post(\"/predict\", json=req_body)\n",
    "    print(response.json())"
   ]
  },
  {
   "cell_type": "code",
   "execution_count": 29,
   "id": "1ac52e28-1de6-4e0a-b398-c371de1adc3d",
   "metadata": {},
   "outputs": [
    {
     "name": "stdout",
     "output_type": "stream",
     "text": [
      "{\"event\": \"Running LLM setup\", \"level\": \"info\", \"func_name\": \"setup\", \"lineno\": 27, \"timestamp\": \"2024-06-30T13:53:19.639017Z\"}\n",
      "{\"event\": \"Running LLM processor\", \"guid\": \"dummyguid\", \"api_name\": \"/predict\", \"trans_id\": \"75b0e676-876b-4223-bdf8-2cea5758d3d0\", \"client_host\": \"testclient\", \"method\": \"POST\", \"level\": \"info\", \"func_name\": \"process\", \"lineno\": 31, \"timestamp\": \"2024-06-30T13:53:19.642351Z\"}\n",
      "{\"event\": \"OK\", \"guid\": \"dummyguid\", \"api_name\": \"/predict\", \"status_code\": 200, \"trans_id\": \"75b0e676-876b-4223-bdf8-2cea5758d3d0\", \"client_host\": \"testclient\", \"method\": \"POST\", \"level\": \"info\", \"func_name\": \"dispatch\", \"lineno\": 48, \"timestamp\": \"2024-06-30T13:53:19.643861Z\"}\n",
      "HTTP Request: POST http://testserver/predict \"HTTP/1.1 200 OK\"\n",
      "{'status': 'OK', 'status_code': 200, 'message': {'name': 'John Doe', 'invoice_no': 'XYZ123'}}\n"
     ]
    }
   ],
   "source": [
    "test_()"
   ]
  },
  {
   "cell_type": "code",
   "execution_count": 64,
   "id": "96491354-14de-469d-b404-be75e6a266a1",
   "metadata": {},
   "outputs": [],
   "source": [
    "from ocrorchestrator.main import LocalRepo, config_path, repo_args"
   ]
  },
  {
   "cell_type": "code",
   "execution_count": 73,
   "id": "a7e56a22-125e-42ef-868a-3f185a05c880",
   "metadata": {},
   "outputs": [
    {
     "data": {
      "text/plain": [
       "('configs/config_v1.yaml', ['/home/ajkdrag/workspace/projects/ocrorchestrator/data/my-bucket'])"
      ]
     },
     "execution_count": 73,
     "metadata": {},
     "output_type": "execute_result"
    }
   ],
   "source": [
    "config_path, repo_args"
   ]
  },
  {
   "cell_type": "code",
   "execution_count": 74,
   "id": "62cb8e05-0399-466a-8119-679084843b72",
   "metadata": {},
   "outputs": [],
   "source": [
    "repo = LocalRepo(*repo_args)"
   ]
  },
  {
   "cell_type": "code",
   "execution_count": 75,
   "id": "41c70dcf-dc2b-4baf-83dd-d4f80208286e",
   "metadata": {},
   "outputs": [
    {
     "data": {
      "text/plain": [
       "{'general': None, 'categories': {'proof_of_funds': {'validation': {'processor': 'llm', 'handler': 'gemini-pro-vision'}, 'extraction': {'processor': 'custom', 'handler': 'ProofOfFundsExtractor'}}, 'checks': {'extraction': {'processor': 'custom', 'handler': 'ProofOfFundsExtractor'}}}}"
      ]
     },
     "execution_count": 75,
     "metadata": {},
     "output_type": "execute_result"
    }
   ],
   "source": [
    "repo.get_yaml(config_path)"
   ]
  },
  {
   "cell_type": "code",
   "execution_count": 76,
   "id": "c48a03c5-9646-4fe0-8c1e-cee993bc8a28",
   "metadata": {},
   "outputs": [],
   "source": [
    "cfg = AppConfig(**repo.get_yaml(config_path))"
   ]
  },
  {
   "cell_type": "code",
   "execution_count": 77,
   "id": "9c5feee8-ecec-4fc6-89d4-8ab2eb099107",
   "metadata": {},
   "outputs": [
    {
     "data": {
      "text/plain": [
       "AppConfig(general=GeneralConfig(prompts_dir='prompt_templates', models_dir='models'), categories={'proof_of_funds': OrderedDict([('validation', TaskConfig(processor='llm', handler='gemini-pro-vision', model=None, prompt_template=None, extra_kwargs={}, fields=None, classes=None)), ('extraction', TaskConfig(processor='custom', handler='ProofOfFundsExtractor', model=None, prompt_template=None, extra_kwargs={}, fields=None, classes=None))]), 'checks': OrderedDict([('extraction', TaskConfig(processor='custom', handler='ProofOfFundsExtractor', model=None, prompt_template=None, extra_kwargs={}, fields=None, classes=None))])})"
      ]
     },
     "execution_count": 77,
     "metadata": {},
     "output_type": "execute_result"
    }
   ],
   "source": [
    "cfg"
   ]
  },
  {
   "cell_type": "code",
   "execution_count": 78,
   "id": "4ca84bc6-355f-4fcb-94bb-df0ba4b69540",
   "metadata": {},
   "outputs": [
    {
     "data": {
      "text/plain": [
       "'prompt_templates'"
      ]
     },
     "execution_count": 78,
     "metadata": {},
     "output_type": "execute_result"
    }
   ],
   "source": [
    "cfg.general.prompts_dir"
   ]
  },
  {
   "cell_type": "code",
   "execution_count": 79,
   "id": "29ba74fe-9dfb-4942-ad4e-07c3ab371c1e",
   "metadata": {},
   "outputs": [
    {
     "data": {
      "text/plain": [
       "'models'"
      ]
     },
     "execution_count": 79,
     "metadata": {},
     "output_type": "execute_result"
    }
   ],
   "source": [
    "cfg.general.models_dir"
   ]
  },
  {
   "cell_type": "markdown",
   "id": "64c1448a-9ad7-40ac-b194-6242ea87a369",
   "metadata": {},
   "source": [
    "## testing doc processor"
   ]
  },
  {
   "cell_type": "code",
   "execution_count": 285,
   "id": "0d3f0bf4-c647-4b6e-9e0e-35b7d77aca39",
   "metadata": {},
   "outputs": [
    {
     "name": "stdout",
     "output_type": "stream",
     "text": [
      "Reloading 'ocrorchestrator.utils.constants'.\n",
      "Reloading 'ocrorchestrator.utils.ml'.\n"
     ]
    }
   ],
   "source": [
    "from ocrorchestrator.config.app_config import AppConfig\n",
    "from ocrorchestrator.repos import LocalRepo\n",
    "from ocrorchestrator.processors import DocumentValidationProcessor\n",
    "from ocrorchestrator.datamodels.api_io import OCRRequest\n",
    "from ocrorchestrator.utils.img import base64_to_pil"
   ]
  },
  {
   "cell_type": "code",
   "execution_count": 286,
   "id": "ba884bb6-21ea-46ef-b8ee-66e2b103a41d",
   "metadata": {},
   "outputs": [],
   "source": [
    "cfg_file = \"../data/my-bucket/configs/config_v1.yaml\""
   ]
  },
  {
   "cell_type": "code",
   "execution_count": 287,
   "id": "03514f3e-cf40-459b-96df-8e1e7c1ff49a",
   "metadata": {},
   "outputs": [],
   "source": [
    "repo = LocalRepo(\"../data/my-bucket\")"
   ]
  },
  {
   "cell_type": "code",
   "execution_count": 288,
   "id": "05191eab-e983-4367-bcd7-b28d195647c0",
   "metadata": {},
   "outputs": [],
   "source": [
    "cfg_dict = repo.get_yaml(\"configs/config_v1.yaml\")"
   ]
  },
  {
   "cell_type": "code",
   "execution_count": 289,
   "id": "39e1b75d-84d5-41da-ba24-56ed9fd51ff9",
   "metadata": {},
   "outputs": [],
   "source": [
    "cfg = AppConfig(**cfg_dict)"
   ]
  },
  {
   "cell_type": "code",
   "execution_count": 290,
   "id": "855091f5-4a94-41de-848c-96ebe8caf322",
   "metadata": {},
   "outputs": [],
   "source": [
    "task_cfg = cfg.categories[\"checks\"][\"validation\"]"
   ]
  },
  {
   "cell_type": "code",
   "execution_count": 291,
   "id": "e7ddf62f-f3b7-40d9-be1a-d0b408c506b9",
   "metadata": {},
   "outputs": [
    {
     "data": {
      "text/plain": [
       "TaskConfig(processor='DocumentValidationProcessor', api=None, model='resnet18__clf.pt', prompt_template=None, params=[{'img_size': [240, 320], 'target': 'clean'}], fields=None, classes=['blanks', 'blurs', 'clean', 'dirty'], args=[], kwargs={'img_size': [240, 320], 'target': 'clean'})"
      ]
     },
     "execution_count": 291,
     "metadata": {},
     "output_type": "execute_result"
    }
   ],
   "source": [
    "task_cfg"
   ]
  },
  {
   "cell_type": "code",
   "execution_count": 292,
   "id": "e34b41e4-489e-46d3-9f6f-9d109b09559a",
   "metadata": {},
   "outputs": [],
   "source": [
    "from base64 import b64encode\n",
    "from pathlib import Path\n",
    "\n",
    "b64 = b64encode(Path('../data/images/arch.png').open(\"rb\").read())"
   ]
  },
  {
   "cell_type": "code",
   "execution_count": 293,
   "id": "0a9fc146-28b0-486a-b391-ac23aa14a72e",
   "metadata": {},
   "outputs": [
    {
     "data": {
      "text/plain": [
       "'clean'"
      ]
     },
     "execution_count": 293,
     "metadata": {},
     "output_type": "execute_result"
    }
   ],
   "source": [
    "task_cfg.kwargs.get(\"target\")"
   ]
  },
  {
   "cell_type": "code",
   "execution_count": 294,
   "id": "355c48de-afb6-432e-8662-c340946a0371",
   "metadata": {},
   "outputs": [],
   "source": [
    "req_body = {\n",
    "    \"image\": b64.decode(),\n",
    "    \"category\": \"proof_of_funds\",\n",
    "    \"task\": \"validation\",\n",
    "    \"guid\": \"dummyguid\",\n",
    "}"
   ]
  },
  {
   "cell_type": "code",
   "execution_count": 295,
   "id": "055831ca-d1cd-40bf-97df-6d7a5c13f158",
   "metadata": {},
   "outputs": [
    {
     "data": {
      "image/jpeg": "[encoded data removed]",
      "image/png": "[encoded data removed]",
      "text/plain": [
       "<PIL.Image.Image image mode=RGB size=285x364>"
      ]
     },
     "execution_count": 295,
     "metadata": {},
     "output_type": "execute_result"
    }
   ],
   "source": [
    "base64_to_pil(b64)"
   ]
  },
  {
   "cell_type": "code",
   "execution_count": 296,
   "id": "22f5892e-6f05-4d26-82c5-426059f7696d",
   "metadata": {},
   "outputs": [],
   "source": [
    "req = OCRRequest(**req_body)"
   ]
  },
  {
   "cell_type": "code",
   "execution_count": 297,
   "id": "603b3554-5139-46c4-b80e-7b6ad2b456d7",
   "metadata": {},
   "outputs": [],
   "source": [
    "proc = DocumentValidationProcessor(task_cfg, cfg.general, repo)"
   ]
  },
  {
   "cell_type": "code",
   "execution_count": 301,
   "id": "b4830eff-5835-41d8-bb6e-4230d05bd2f5",
   "metadata": {},
   "outputs": [
    {
     "name": "stdout",
     "output_type": "stream",
     "text": [
      "{\"event\": \"Initialized model resnet18 with 4 classes, on cpu\", \"level\": \"info\", \"func_name\": \"load_pretrained_classifier\", \"lineno\": 31, \"timestamp\": \"2024-07-01T11:23:00.111512Z\"}\n",
      "{\"event\": \"Loading from checkpoint: ../data/my-bucket/models/resnet18__clf.pt\", \"level\": \"info\", \"func_name\": \"load_pretrained_classifier\", \"lineno\": 34, \"timestamp\": \"2024-07-01T11:23:00.112489Z\"}\n"
     ]
    }
   ],
   "source": [
    "proc.setup()"
   ]
  },
  {
   "cell_type": "code",
   "execution_count": 302,
   "id": "c7499903-7fda-4d91-afd4-ec7b58906cb9",
   "metadata": {},
   "outputs": [
    {
     "name": "stdout",
     "output_type": "stream",
     "text": [
      "CPU times: user 122 ms, sys: 0 ns, total: 122 ms\n",
      "Wall time: 28.4 ms\n"
     ]
    },
    {
     "data": {
      "text/plain": [
       "{'is_valid': False, 'reason': 'dirty', 'confidence': 0.9836628437042236}"
      ]
     },
     "execution_count": 302,
     "metadata": {},
     "output_type": "execute_result"
    }
   ],
   "source": [
    "%%time\n",
    "proc.process(req)"
   ]
  },
  {
   "cell_type": "code",
   "execution_count": null,
   "id": "a2883567-85d6-4bfc-9d59-8b22565c03dd",
   "metadata": {},
   "outputs": [],
   "source": []
  },
  {
   "cell_type": "code",
   "execution_count": 9,
   "id": "7e7ff6f0-4500-4635-8a2f-c9eeb94a2fd5",
   "metadata": {},
   "outputs": [],
   "source": [
    "from string import Template\n",
    "lorem = \"Lorem ipsum dolor sit amet {GIBBERISH}, consectetur adipiscing elit {DRIVEL}. Expectoque quid ad id, quod quaerebam, respondeas.\"\n",
    "loremtpl = Template(\"Lorem ipsum dolor sit amet ${GIBBERISH}, consectetur adipiscing elit $DRIVEL. Expectoque quid ad id, quod quaerebam, respondeas.\")\n",
    "d = dict(GIBBERISH='FOOBAR', DRIVEL = 'RAXOOP')"
   ]
  },
  {
   "cell_type": "code",
   "execution_count": 10,
   "id": "f8a6d61a-96a2-4318-be23-37c5430d19f8",
   "metadata": {},
   "outputs": [
    {
     "data": {
      "text/plain": [
       "'Lorem ipsum dolor sit amet FOOBAR, consectetur adipiscing elit RAXOOP. Expectoque quid ad id, quod quaerebam, respondeas.'"
      ]
     },
     "execution_count": 10,
     "metadata": {},
     "output_type": "execute_result"
    }
   ],
   "source": [
    "loremtpl.safe_substitute(**d)"
   ]
  },
  {
   "cell_type": "markdown",
   "id": "8b69b844-1f3a-4eda-8fe5-6003574b8436",
   "metadata": {},
   "source": [
    "## testing api processor"
   ]
  },
  {
   "cell_type": "code",
   "execution_count": 69,
   "id": "e4d77901-55ad-4821-984d-f1ece8b2e6a7",
   "metadata": {},
   "outputs": [
    {
     "name": "stdout",
     "output_type": "stream",
     "text": [
      "Reloading 'ocrorchestrator.config.app_config'.\n",
      "Reloading 'ocrorchestrator.datamodels.api_io'.\n"
     ]
    }
   ],
   "source": [
    "from ocrorchestrator.config.app_config import AppConfig\n",
    "from ocrorchestrator.repos import LocalRepo\n",
    "from ocrorchestrator.processors.api import ApiProcessor\n",
    "from ocrorchestrator.datamodels.api_io import OCRRequest\n",
    "from ocrorchestrator.utils.img import base64_to_pil"
   ]
  },
  {
   "cell_type": "code",
   "execution_count": 70,
   "id": "3815d029-2891-4b49-813c-eaa9cb033167",
   "metadata": {},
   "outputs": [],
   "source": [
    "cfg_file = \"../data/my-bucket/configs/config_v1.yaml\""
   ]
  },
  {
   "cell_type": "code",
   "execution_count": 71,
   "id": "f29de18d-938b-4ed7-a184-6f7cb45ae105",
   "metadata": {},
   "outputs": [],
   "source": [
    "repo = LocalRepo(\"../data/my-bucket\")"
   ]
  },
  {
   "cell_type": "code",
   "execution_count": 72,
   "id": "635e5f44-1537-419c-ad93-237117b48ca3",
   "metadata": {},
   "outputs": [],
   "source": [
    "cfg_dict = repo.get_yaml(\"configs/config_v1.yaml\")\n",
    "cfg = AppConfig(**cfg_dict)"
   ]
  },
  {
   "cell_type": "code",
   "execution_count": 73,
   "id": "391f8dd7-1ffd-4c36-8114-b1ff3c46a8f8",
   "metadata": {},
   "outputs": [
    {
     "data": {
      "text/plain": [
       "TaskConfig(processor='ApiProcessor', api='http://localhost:8000/predict', model=None, prompt_template=None, params=[{'instances': [{'data': '$image', 'entity': 'payee', 'guid': '$guid'}]}], fields=None, classes=None, args=[], kwargs={'instances': [{'data': '$image', 'entity': 'payee', 'guid': '$guid'}]})"
      ]
     },
     "execution_count": 73,
     "metadata": {},
     "output_type": "execute_result"
    }
   ],
   "source": [
    "task_cfg = cfg.categories[\"checks\"][\"extraction\"]\n",
    "task_cfg"
   ]
  },
  {
   "cell_type": "code",
   "execution_count": 74,
   "id": "c62553fd-653d-4bc7-be68-7b8684542654",
   "metadata": {},
   "outputs": [
    {
     "data": {
      "text/plain": [
       "{'instances': [{'data': '$image', 'entity': 'payee', 'guid': '$guid'}]}"
      ]
     },
     "execution_count": 74,
     "metadata": {},
     "output_type": "execute_result"
    }
   ],
   "source": [
    "task_cfg.kwargs"
   ]
  },
  {
   "cell_type": "code",
   "execution_count": 76,
   "id": "690d125c-9751-4d2c-b512-4ad7848169d7",
   "metadata": {},
   "outputs": [],
   "source": [
    "from ocrorchestrator.processors.api import InputFormatter"
   ]
  },
  {
   "cell_type": "code",
   "execution_count": 77,
   "id": "69ac6a3b-ecb2-4ab4-adf3-71630e2481a1",
   "metadata": {},
   "outputs": [],
   "source": [
    "fmt = InputFormatter(task_cfg.kwargs)"
   ]
  },
  {
   "cell_type": "code",
   "execution_count": 96,
   "id": "8ca5e27e-8127-4fcd-b01e-4bde06f3504a",
   "metadata": {},
   "outputs": [],
   "source": [
    "from base64 import b64encode\n",
    "from pathlib import Path\n",
    "\n",
    "b64 = b64encode(Path('../data/images/arch.png').open(\"rb\").read())"
   ]
  },
  {
   "cell_type": "code",
   "execution_count": 100,
   "id": "9ca0c5cd-9924-4834-8e67-7e4283dcdcf1",
   "metadata": {},
   "outputs": [
    {
     "name": "stdout",
     "output_type": "stream",
     "text": [
      "Reloading 'ocrorchestrator.datamodels.api_io'.\n"
     ]
    }
   ],
   "source": [
    "req_body = {\n",
    "    \"image\": b64,\n",
    "    \"category\": \"proof_of_funds\",\n",
    "    \"task\": \"validation\",\n",
    "    \"guid\": \"dummyguid\",\n",
    "}"
   ]
  },
  {
   "cell_type": "code",
   "execution_count": 102,
   "id": "2221f529-d748-48b5-ad7f-b88c95ccae22",
   "metadata": {},
   "outputs": [],
   "source": [
    "req = OCRRequest(**req_body)"
   ]
  },
  {
   "cell_type": "code",
   "execution_count": 106,
   "id": "abcd5f3d-488b-44ab-87d2-05f4c3aaecd8",
   "metadata": {},
   "outputs": [],
   "source": [
    "formatted = fmt.format(req)"
   ]
  },
  {
   "cell_type": "code",
   "execution_count": null,
   "id": "de24ebae-18f5-4ca0-8fa7-a3990a303971",
   "metadata": {},
   "outputs": [],
   "source": []
  },
  {
   "cell_type": "code",
   "execution_count": 105,
   "id": "f7fc24eb-5e77-485c-bc5c-20358ad4aa9b",
   "metadata": {},
   "outputs": [],
   "source": [
    "import json\n",
    "\n",
    "str_dumped = json.dumps(\n",
    "    {\n",
    "        \"instances\": [{\n",
    "            \"data\": req.image,\n",
    "            \"entity\": \"payee\",\n",
    "            \"guid\": req.guid,\n",
    "        }]\n",
    "    }\n",
    ")"
   ]
  },
  {
   "cell_type": "code",
   "execution_count": null,
   "id": "f05155d4-e521-425f-830c-cc02e701e886",
   "metadata": {},
   "outputs": [],
   "source": []
  },
  {
   "cell_type": "code",
   "execution_count": 110,
   "id": "a1a1a17e-d9c2-4b18-8798-3ab20c591937",
   "metadata": {},
   "outputs": [],
   "source": [
    "proc = ApiProcessor(task_cfg, cfg.general, repo)"
   ]
  },
  {
   "cell_type": "code",
   "execution_count": 112,
   "id": "ae0b2f20-dbf6-4766-9dd9-64fd796f0032",
   "metadata": {},
   "outputs": [],
   "source": [
    "proc._setup()"
   ]
  },
  {
   "cell_type": "code",
   "execution_count": 113,
   "id": "8033c0b1-c52a-4a8e-ae10-9367c781330f",
   "metadata": {},
   "outputs": [
    {
     "ename": "AppException",
     "evalue": "601: API call error: HTTPConnectionPool(host='localhost', port=8000): Max retries exceeded with url: /predict (Caused by NewConnectionError('<urllib3.connection.HTTPConnection object at 0x7f5de0952940>: Failed to establish a new connection: [Errno 111] Connection refused'))",
     "output_type": "error",
     "traceback": [
      "\u001b[0;31m---------------------------------------------------------------------------\u001b[0m",
      "\u001b[0;31mConnectionRefusedError\u001b[0m                    Traceback (most recent call last)",
      "File \u001b[0;32m~/workspace/projects/ocrorchestrator/.venv/lib/python3.9/site-packages/urllib3/connection.py:196\u001b[0m, in \u001b[0;36mHTTPConnection._new_conn\u001b[0;34m(self)\u001b[0m\n\u001b[1;32m    195\u001b[0m \u001b[38;5;28;01mtry\u001b[39;00m:\n\u001b[0;32m--> 196\u001b[0m     sock \u001b[38;5;241m=\u001b[39m \u001b[43mconnection\u001b[49m\u001b[38;5;241;43m.\u001b[39;49m\u001b[43mcreate_connection\u001b[49m\u001b[43m(\u001b[49m\n\u001b[1;32m    197\u001b[0m \u001b[43m        \u001b[49m\u001b[43m(\u001b[49m\u001b[38;5;28;43mself\u001b[39;49m\u001b[38;5;241;43m.\u001b[39;49m\u001b[43m_dns_host\u001b[49m\u001b[43m,\u001b[49m\u001b[43m \u001b[49m\u001b[38;5;28;43mself\u001b[39;49m\u001b[38;5;241;43m.\u001b[39;49m\u001b[43mport\u001b[49m\u001b[43m)\u001b[49m\u001b[43m,\u001b[49m\n\u001b[1;32m    198\u001b[0m \u001b[43m        \u001b[49m\u001b[38;5;28;43mself\u001b[39;49m\u001b[38;5;241;43m.\u001b[39;49m\u001b[43mtimeout\u001b[49m\u001b[43m,\u001b[49m\n\u001b[1;32m    199\u001b[0m \u001b[43m        \u001b[49m\u001b[43msource_address\u001b[49m\u001b[38;5;241;43m=\u001b[39;49m\u001b[38;5;28;43mself\u001b[39;49m\u001b[38;5;241;43m.\u001b[39;49m\u001b[43msource_address\u001b[49m\u001b[43m,\u001b[49m\n\u001b[1;32m    200\u001b[0m \u001b[43m        \u001b[49m\u001b[43msocket_options\u001b[49m\u001b[38;5;241;43m=\u001b[39;49m\u001b[38;5;28;43mself\u001b[39;49m\u001b[38;5;241;43m.\u001b[39;49m\u001b[43msocket_options\u001b[49m\u001b[43m,\u001b[49m\n\u001b[1;32m    201\u001b[0m \u001b[43m    \u001b[49m\u001b[43m)\u001b[49m\n\u001b[1;32m    202\u001b[0m \u001b[38;5;28;01mexcept\u001b[39;00m socket\u001b[38;5;241m.\u001b[39mgaierror \u001b[38;5;28;01mas\u001b[39;00m e:\n",
      "File \u001b[0;32m~/workspace/projects/ocrorchestrator/.venv/lib/python3.9/site-packages/urllib3/util/connection.py:85\u001b[0m, in \u001b[0;36mcreate_connection\u001b[0;34m(address, timeout, source_address, socket_options)\u001b[0m\n\u001b[1;32m     84\u001b[0m \u001b[38;5;28;01mtry\u001b[39;00m:\n\u001b[0;32m---> 85\u001b[0m     \u001b[38;5;28;01mraise\u001b[39;00m err\n\u001b[1;32m     86\u001b[0m \u001b[38;5;28;01mfinally\u001b[39;00m:\n\u001b[1;32m     87\u001b[0m     \u001b[38;5;66;03m# Break explicitly a reference cycle\u001b[39;00m\n",
      "File \u001b[0;32m~/workspace/projects/ocrorchestrator/.venv/lib/python3.9/site-packages/urllib3/util/connection.py:73\u001b[0m, in \u001b[0;36mcreate_connection\u001b[0;34m(address, timeout, source_address, socket_options)\u001b[0m\n\u001b[1;32m     72\u001b[0m     sock\u001b[38;5;241m.\u001b[39mbind(source_address)\n\u001b[0;32m---> 73\u001b[0m \u001b[43msock\u001b[49m\u001b[38;5;241;43m.\u001b[39;49m\u001b[43mconnect\u001b[49m\u001b[43m(\u001b[49m\u001b[43msa\u001b[49m\u001b[43m)\u001b[49m\n\u001b[1;32m     74\u001b[0m \u001b[38;5;66;03m# Break explicitly a reference cycle\u001b[39;00m\n",
      "\u001b[0;31mConnectionRefusedError\u001b[0m: [Errno 111] Connection refused",
      "\nThe above exception was the direct cause of the following exception:\n",
      "\u001b[0;31mNewConnectionError\u001b[0m                        Traceback (most recent call last)",
      "File \u001b[0;32m~/workspace/projects/ocrorchestrator/.venv/lib/python3.9/site-packages/urllib3/connectionpool.py:789\u001b[0m, in \u001b[0;36mHTTPConnectionPool.urlopen\u001b[0;34m(self, method, url, body, headers, retries, redirect, assert_same_host, timeout, pool_timeout, release_conn, chunked, body_pos, preload_content, decode_content, **response_kw)\u001b[0m\n\u001b[1;32m    788\u001b[0m \u001b[38;5;66;03m# Make the request on the HTTPConnection object\u001b[39;00m\n\u001b[0;32m--> 789\u001b[0m response \u001b[38;5;241m=\u001b[39m \u001b[38;5;28;43mself\u001b[39;49m\u001b[38;5;241;43m.\u001b[39;49m\u001b[43m_make_request\u001b[49m\u001b[43m(\u001b[49m\n\u001b[1;32m    790\u001b[0m \u001b[43m    \u001b[49m\u001b[43mconn\u001b[49m\u001b[43m,\u001b[49m\n\u001b[1;32m    791\u001b[0m \u001b[43m    \u001b[49m\u001b[43mmethod\u001b[49m\u001b[43m,\u001b[49m\n\u001b[1;32m    792\u001b[0m \u001b[43m    \u001b[49m\u001b[43murl\u001b[49m\u001b[43m,\u001b[49m\n\u001b[1;32m    793\u001b[0m \u001b[43m    \u001b[49m\u001b[43mtimeout\u001b[49m\u001b[38;5;241;43m=\u001b[39;49m\u001b[43mtimeout_obj\u001b[49m\u001b[43m,\u001b[49m\n\u001b[1;32m    794\u001b[0m \u001b[43m    \u001b[49m\u001b[43mbody\u001b[49m\u001b[38;5;241;43m=\u001b[39;49m\u001b[43mbody\u001b[49m\u001b[43m,\u001b[49m\n\u001b[1;32m    795\u001b[0m \u001b[43m    \u001b[49m\u001b[43mheaders\u001b[49m\u001b[38;5;241;43m=\u001b[39;49m\u001b[43mheaders\u001b[49m\u001b[43m,\u001b[49m\n\u001b[1;32m    796\u001b[0m \u001b[43m    \u001b[49m\u001b[43mchunked\u001b[49m\u001b[38;5;241;43m=\u001b[39;49m\u001b[43mchunked\u001b[49m\u001b[43m,\u001b[49m\n\u001b[1;32m    797\u001b[0m \u001b[43m    \u001b[49m\u001b[43mretries\u001b[49m\u001b[38;5;241;43m=\u001b[39;49m\u001b[43mretries\u001b[49m\u001b[43m,\u001b[49m\n\u001b[1;32m    798\u001b[0m \u001b[43m    \u001b[49m\u001b[43mresponse_conn\u001b[49m\u001b[38;5;241;43m=\u001b[39;49m\u001b[43mresponse_conn\u001b[49m\u001b[43m,\u001b[49m\n\u001b[1;32m    799\u001b[0m \u001b[43m    \u001b[49m\u001b[43mpreload_content\u001b[49m\u001b[38;5;241;43m=\u001b[39;49m\u001b[43mpreload_content\u001b[49m\u001b[43m,\u001b[49m\n\u001b[1;32m    800\u001b[0m \u001b[43m    \u001b[49m\u001b[43mdecode_content\u001b[49m\u001b[38;5;241;43m=\u001b[39;49m\u001b[43mdecode_content\u001b[49m\u001b[43m,\u001b[49m\n\u001b[1;32m    801\u001b[0m \u001b[43m    \u001b[49m\u001b[38;5;241;43m*\u001b[39;49m\u001b[38;5;241;43m*\u001b[39;49m\u001b[43mresponse_kw\u001b[49m\u001b[43m,\u001b[49m\n\u001b[1;32m    802\u001b[0m \u001b[43m\u001b[49m\u001b[43m)\u001b[49m\n\u001b[1;32m    804\u001b[0m \u001b[38;5;66;03m# Everything went great!\u001b[39;00m\n",
      "File \u001b[0;32m~/workspace/projects/ocrorchestrator/.venv/lib/python3.9/site-packages/urllib3/connectionpool.py:495\u001b[0m, in \u001b[0;36mHTTPConnectionPool._make_request\u001b[0;34m(self, conn, method, url, body, headers, retries, timeout, chunked, response_conn, preload_content, decode_content, enforce_content_length)\u001b[0m\n\u001b[1;32m    494\u001b[0m \u001b[38;5;28;01mtry\u001b[39;00m:\n\u001b[0;32m--> 495\u001b[0m     \u001b[43mconn\u001b[49m\u001b[38;5;241;43m.\u001b[39;49m\u001b[43mrequest\u001b[49m\u001b[43m(\u001b[49m\n\u001b[1;32m    496\u001b[0m \u001b[43m        \u001b[49m\u001b[43mmethod\u001b[49m\u001b[43m,\u001b[49m\n\u001b[1;32m    497\u001b[0m \u001b[43m        \u001b[49m\u001b[43murl\u001b[49m\u001b[43m,\u001b[49m\n\u001b[1;32m    498\u001b[0m \u001b[43m        \u001b[49m\u001b[43mbody\u001b[49m\u001b[38;5;241;43m=\u001b[39;49m\u001b[43mbody\u001b[49m\u001b[43m,\u001b[49m\n\u001b[1;32m    499\u001b[0m \u001b[43m        \u001b[49m\u001b[43mheaders\u001b[49m\u001b[38;5;241;43m=\u001b[39;49m\u001b[43mheaders\u001b[49m\u001b[43m,\u001b[49m\n\u001b[1;32m    500\u001b[0m \u001b[43m        \u001b[49m\u001b[43mchunked\u001b[49m\u001b[38;5;241;43m=\u001b[39;49m\u001b[43mchunked\u001b[49m\u001b[43m,\u001b[49m\n\u001b[1;32m    501\u001b[0m \u001b[43m        \u001b[49m\u001b[43mpreload_content\u001b[49m\u001b[38;5;241;43m=\u001b[39;49m\u001b[43mpreload_content\u001b[49m\u001b[43m,\u001b[49m\n\u001b[1;32m    502\u001b[0m \u001b[43m        \u001b[49m\u001b[43mdecode_content\u001b[49m\u001b[38;5;241;43m=\u001b[39;49m\u001b[43mdecode_content\u001b[49m\u001b[43m,\u001b[49m\n\u001b[1;32m    503\u001b[0m \u001b[43m        \u001b[49m\u001b[43menforce_content_length\u001b[49m\u001b[38;5;241;43m=\u001b[39;49m\u001b[43menforce_content_length\u001b[49m\u001b[43m,\u001b[49m\n\u001b[1;32m    504\u001b[0m \u001b[43m    \u001b[49m\u001b[43m)\u001b[49m\n\u001b[1;32m    506\u001b[0m \u001b[38;5;66;03m# We are swallowing BrokenPipeError (errno.EPIPE) since the server is\u001b[39;00m\n\u001b[1;32m    507\u001b[0m \u001b[38;5;66;03m# legitimately able to close the connection after sending a valid response.\u001b[39;00m\n\u001b[1;32m    508\u001b[0m \u001b[38;5;66;03m# With this behaviour, the received response is still readable.\u001b[39;00m\n",
      "File \u001b[0;32m~/workspace/projects/ocrorchestrator/.venv/lib/python3.9/site-packages/urllib3/connection.py:398\u001b[0m, in \u001b[0;36mHTTPConnection.request\u001b[0;34m(self, method, url, body, headers, chunked, preload_content, decode_content, enforce_content_length)\u001b[0m\n\u001b[1;32m    397\u001b[0m     \u001b[38;5;28mself\u001b[39m\u001b[38;5;241m.\u001b[39mputheader(header, value)\n\u001b[0;32m--> 398\u001b[0m \u001b[38;5;28;43mself\u001b[39;49m\u001b[38;5;241;43m.\u001b[39;49m\u001b[43mendheaders\u001b[49m\u001b[43m(\u001b[49m\u001b[43m)\u001b[49m\n\u001b[1;32m    400\u001b[0m \u001b[38;5;66;03m# If we're given a body we start sending that in chunks.\u001b[39;00m\n",
      "File \u001b[0;32m/usr/lib/python3.9/http/client.py:1250\u001b[0m, in \u001b[0;36mHTTPConnection.endheaders\u001b[0;34m(self, message_body, encode_chunked)\u001b[0m\n\u001b[1;32m   1249\u001b[0m     \u001b[38;5;28;01mraise\u001b[39;00m CannotSendHeader()\n\u001b[0;32m-> 1250\u001b[0m \u001b[38;5;28;43mself\u001b[39;49m\u001b[38;5;241;43m.\u001b[39;49m\u001b[43m_send_output\u001b[49m\u001b[43m(\u001b[49m\u001b[43mmessage_body\u001b[49m\u001b[43m,\u001b[49m\u001b[43m \u001b[49m\u001b[43mencode_chunked\u001b[49m\u001b[38;5;241;43m=\u001b[39;49m\u001b[43mencode_chunked\u001b[49m\u001b[43m)\u001b[49m\n",
      "File \u001b[0;32m/usr/lib/python3.9/http/client.py:1010\u001b[0m, in \u001b[0;36mHTTPConnection._send_output\u001b[0;34m(self, message_body, encode_chunked)\u001b[0m\n\u001b[1;32m   1009\u001b[0m \u001b[38;5;28;01mdel\u001b[39;00m \u001b[38;5;28mself\u001b[39m\u001b[38;5;241m.\u001b[39m_buffer[:]\n\u001b[0;32m-> 1010\u001b[0m \u001b[38;5;28;43mself\u001b[39;49m\u001b[38;5;241;43m.\u001b[39;49m\u001b[43msend\u001b[49m\u001b[43m(\u001b[49m\u001b[43mmsg\u001b[49m\u001b[43m)\u001b[49m\n\u001b[1;32m   1012\u001b[0m \u001b[38;5;28;01mif\u001b[39;00m message_body \u001b[38;5;129;01mis\u001b[39;00m \u001b[38;5;129;01mnot\u001b[39;00m \u001b[38;5;28;01mNone\u001b[39;00m:\n\u001b[1;32m   1013\u001b[0m \n\u001b[1;32m   1014\u001b[0m     \u001b[38;5;66;03m# create a consistent interface to message_body\u001b[39;00m\n",
      "File \u001b[0;32m/usr/lib/python3.9/http/client.py:950\u001b[0m, in \u001b[0;36mHTTPConnection.send\u001b[0;34m(self, data)\u001b[0m\n\u001b[1;32m    949\u001b[0m \u001b[38;5;28;01mif\u001b[39;00m \u001b[38;5;28mself\u001b[39m\u001b[38;5;241m.\u001b[39mauto_open:\n\u001b[0;32m--> 950\u001b[0m     \u001b[38;5;28;43mself\u001b[39;49m\u001b[38;5;241;43m.\u001b[39;49m\u001b[43mconnect\u001b[49m\u001b[43m(\u001b[49m\u001b[43m)\u001b[49m\n\u001b[1;32m    951\u001b[0m \u001b[38;5;28;01melse\u001b[39;00m:\n",
      "File \u001b[0;32m~/workspace/projects/ocrorchestrator/.venv/lib/python3.9/site-packages/urllib3/connection.py:236\u001b[0m, in \u001b[0;36mHTTPConnection.connect\u001b[0;34m(self)\u001b[0m\n\u001b[1;32m    235\u001b[0m \u001b[38;5;28;01mdef\u001b[39;00m \u001b[38;5;21mconnect\u001b[39m(\u001b[38;5;28mself\u001b[39m) \u001b[38;5;241m-\u001b[39m\u001b[38;5;241m>\u001b[39m \u001b[38;5;28;01mNone\u001b[39;00m:\n\u001b[0;32m--> 236\u001b[0m     \u001b[38;5;28mself\u001b[39m\u001b[38;5;241m.\u001b[39msock \u001b[38;5;241m=\u001b[39m \u001b[38;5;28;43mself\u001b[39;49m\u001b[38;5;241;43m.\u001b[39;49m\u001b[43m_new_conn\u001b[49m\u001b[43m(\u001b[49m\u001b[43m)\u001b[49m\n\u001b[1;32m    237\u001b[0m     \u001b[38;5;28;01mif\u001b[39;00m \u001b[38;5;28mself\u001b[39m\u001b[38;5;241m.\u001b[39m_tunnel_host:\n\u001b[1;32m    238\u001b[0m         \u001b[38;5;66;03m# If we're tunneling it means we're connected to our proxy.\u001b[39;00m\n",
      "File \u001b[0;32m~/workspace/projects/ocrorchestrator/.venv/lib/python3.9/site-packages/urllib3/connection.py:211\u001b[0m, in \u001b[0;36mHTTPConnection._new_conn\u001b[0;34m(self)\u001b[0m\n\u001b[1;32m    210\u001b[0m \u001b[38;5;28;01mexcept\u001b[39;00m \u001b[38;5;167;01mOSError\u001b[39;00m \u001b[38;5;28;01mas\u001b[39;00m e:\n\u001b[0;32m--> 211\u001b[0m     \u001b[38;5;28;01mraise\u001b[39;00m NewConnectionError(\n\u001b[1;32m    212\u001b[0m         \u001b[38;5;28mself\u001b[39m, \u001b[38;5;124mf\u001b[39m\u001b[38;5;124m\"\u001b[39m\u001b[38;5;124mFailed to establish a new connection: \u001b[39m\u001b[38;5;132;01m{\u001b[39;00me\u001b[38;5;132;01m}\u001b[39;00m\u001b[38;5;124m\"\u001b[39m\n\u001b[1;32m    213\u001b[0m     ) \u001b[38;5;28;01mfrom\u001b[39;00m \u001b[38;5;21;01me\u001b[39;00m\n\u001b[1;32m    215\u001b[0m \u001b[38;5;66;03m# Audit hooks are only available in Python 3.8+\u001b[39;00m\n",
      "\u001b[0;31mNewConnectionError\u001b[0m: <urllib3.connection.HTTPConnection object at 0x7f5de0952940>: Failed to establish a new connection: [Errno 111] Connection refused",
      "\nThe above exception was the direct cause of the following exception:\n",
      "\u001b[0;31mMaxRetryError\u001b[0m                             Traceback (most recent call last)",
      "File \u001b[0;32m~/workspace/projects/ocrorchestrator/.venv/lib/python3.9/site-packages/requests/adapters.py:667\u001b[0m, in \u001b[0;36mHTTPAdapter.send\u001b[0;34m(self, request, stream, timeout, verify, cert, proxies)\u001b[0m\n\u001b[1;32m    666\u001b[0m \u001b[38;5;28;01mtry\u001b[39;00m:\n\u001b[0;32m--> 667\u001b[0m     resp \u001b[38;5;241m=\u001b[39m \u001b[43mconn\u001b[49m\u001b[38;5;241;43m.\u001b[39;49m\u001b[43murlopen\u001b[49m\u001b[43m(\u001b[49m\n\u001b[1;32m    668\u001b[0m \u001b[43m        \u001b[49m\u001b[43mmethod\u001b[49m\u001b[38;5;241;43m=\u001b[39;49m\u001b[43mrequest\u001b[49m\u001b[38;5;241;43m.\u001b[39;49m\u001b[43mmethod\u001b[49m\u001b[43m,\u001b[49m\n\u001b[1;32m    669\u001b[0m \u001b[43m        \u001b[49m\u001b[43murl\u001b[49m\u001b[38;5;241;43m=\u001b[39;49m\u001b[43murl\u001b[49m\u001b[43m,\u001b[49m\n\u001b[1;32m    670\u001b[0m \u001b[43m        \u001b[49m\u001b[43mbody\u001b[49m\u001b[38;5;241;43m=\u001b[39;49m\u001b[43mrequest\u001b[49m\u001b[38;5;241;43m.\u001b[39;49m\u001b[43mbody\u001b[49m\u001b[43m,\u001b[49m\n\u001b[1;32m    671\u001b[0m \u001b[43m        \u001b[49m\u001b[43mheaders\u001b[49m\u001b[38;5;241;43m=\u001b[39;49m\u001b[43mrequest\u001b[49m\u001b[38;5;241;43m.\u001b[39;49m\u001b[43mheaders\u001b[49m\u001b[43m,\u001b[49m\n\u001b[1;32m    672\u001b[0m \u001b[43m        \u001b[49m\u001b[43mredirect\u001b[49m\u001b[38;5;241;43m=\u001b[39;49m\u001b[38;5;28;43;01mFalse\u001b[39;49;00m\u001b[43m,\u001b[49m\n\u001b[1;32m    673\u001b[0m \u001b[43m        \u001b[49m\u001b[43massert_same_host\u001b[49m\u001b[38;5;241;43m=\u001b[39;49m\u001b[38;5;28;43;01mFalse\u001b[39;49;00m\u001b[43m,\u001b[49m\n\u001b[1;32m    674\u001b[0m \u001b[43m        \u001b[49m\u001b[43mpreload_content\u001b[49m\u001b[38;5;241;43m=\u001b[39;49m\u001b[38;5;28;43;01mFalse\u001b[39;49;00m\u001b[43m,\u001b[49m\n\u001b[1;32m    675\u001b[0m \u001b[43m        \u001b[49m\u001b[43mdecode_content\u001b[49m\u001b[38;5;241;43m=\u001b[39;49m\u001b[38;5;28;43;01mFalse\u001b[39;49;00m\u001b[43m,\u001b[49m\n\u001b[1;32m    676\u001b[0m \u001b[43m        \u001b[49m\u001b[43mretries\u001b[49m\u001b[38;5;241;43m=\u001b[39;49m\u001b[38;5;28;43mself\u001b[39;49m\u001b[38;5;241;43m.\u001b[39;49m\u001b[43mmax_retries\u001b[49m\u001b[43m,\u001b[49m\n\u001b[1;32m    677\u001b[0m \u001b[43m        \u001b[49m\u001b[43mtimeout\u001b[49m\u001b[38;5;241;43m=\u001b[39;49m\u001b[43mtimeout\u001b[49m\u001b[43m,\u001b[49m\n\u001b[1;32m    678\u001b[0m \u001b[43m        \u001b[49m\u001b[43mchunked\u001b[49m\u001b[38;5;241;43m=\u001b[39;49m\u001b[43mchunked\u001b[49m\u001b[43m,\u001b[49m\n\u001b[1;32m    679\u001b[0m \u001b[43m    \u001b[49m\u001b[43m)\u001b[49m\n\u001b[1;32m    681\u001b[0m \u001b[38;5;28;01mexcept\u001b[39;00m (ProtocolError, \u001b[38;5;167;01mOSError\u001b[39;00m) \u001b[38;5;28;01mas\u001b[39;00m err:\n",
      "File \u001b[0;32m~/workspace/projects/ocrorchestrator/.venv/lib/python3.9/site-packages/urllib3/connectionpool.py:843\u001b[0m, in \u001b[0;36mHTTPConnectionPool.urlopen\u001b[0;34m(self, method, url, body, headers, retries, redirect, assert_same_host, timeout, pool_timeout, release_conn, chunked, body_pos, preload_content, decode_content, **response_kw)\u001b[0m\n\u001b[1;32m    841\u001b[0m     new_e \u001b[38;5;241m=\u001b[39m ProtocolError(\u001b[38;5;124m\"\u001b[39m\u001b[38;5;124mConnection aborted.\u001b[39m\u001b[38;5;124m\"\u001b[39m, new_e)\n\u001b[0;32m--> 843\u001b[0m retries \u001b[38;5;241m=\u001b[39m \u001b[43mretries\u001b[49m\u001b[38;5;241;43m.\u001b[39;49m\u001b[43mincrement\u001b[49m\u001b[43m(\u001b[49m\n\u001b[1;32m    844\u001b[0m \u001b[43m    \u001b[49m\u001b[43mmethod\u001b[49m\u001b[43m,\u001b[49m\u001b[43m \u001b[49m\u001b[43murl\u001b[49m\u001b[43m,\u001b[49m\u001b[43m \u001b[49m\u001b[43merror\u001b[49m\u001b[38;5;241;43m=\u001b[39;49m\u001b[43mnew_e\u001b[49m\u001b[43m,\u001b[49m\u001b[43m \u001b[49m\u001b[43m_pool\u001b[49m\u001b[38;5;241;43m=\u001b[39;49m\u001b[38;5;28;43mself\u001b[39;49m\u001b[43m,\u001b[49m\u001b[43m \u001b[49m\u001b[43m_stacktrace\u001b[49m\u001b[38;5;241;43m=\u001b[39;49m\u001b[43msys\u001b[49m\u001b[38;5;241;43m.\u001b[39;49m\u001b[43mexc_info\u001b[49m\u001b[43m(\u001b[49m\u001b[43m)\u001b[49m\u001b[43m[\u001b[49m\u001b[38;5;241;43m2\u001b[39;49m\u001b[43m]\u001b[49m\n\u001b[1;32m    845\u001b[0m \u001b[43m\u001b[49m\u001b[43m)\u001b[49m\n\u001b[1;32m    846\u001b[0m retries\u001b[38;5;241m.\u001b[39msleep()\n",
      "File \u001b[0;32m~/workspace/projects/ocrorchestrator/.venv/lib/python3.9/site-packages/urllib3/util/retry.py:519\u001b[0m, in \u001b[0;36mRetry.increment\u001b[0;34m(self, method, url, response, error, _pool, _stacktrace)\u001b[0m\n\u001b[1;32m    518\u001b[0m     reason \u001b[38;5;241m=\u001b[39m error \u001b[38;5;129;01mor\u001b[39;00m ResponseError(cause)\n\u001b[0;32m--> 519\u001b[0m     \u001b[38;5;28;01mraise\u001b[39;00m MaxRetryError(_pool, url, reason) \u001b[38;5;28;01mfrom\u001b[39;00m \u001b[38;5;21;01mreason\u001b[39;00m  \u001b[38;5;66;03m# type: ignore[arg-type]\u001b[39;00m\n\u001b[1;32m    521\u001b[0m log\u001b[38;5;241m.\u001b[39mdebug(\u001b[38;5;124m\"\u001b[39m\u001b[38;5;124mIncremented Retry for (url=\u001b[39m\u001b[38;5;124m'\u001b[39m\u001b[38;5;132;01m%s\u001b[39;00m\u001b[38;5;124m'\u001b[39m\u001b[38;5;124m): \u001b[39m\u001b[38;5;132;01m%r\u001b[39;00m\u001b[38;5;124m\"\u001b[39m, url, new_retry)\n",
      "\u001b[0;31mMaxRetryError\u001b[0m: HTTPConnectionPool(host='localhost', port=8000): Max retries exceeded with url: /predict (Caused by NewConnectionError('<urllib3.connection.HTTPConnection object at 0x7f5de0952940>: Failed to establish a new connection: [Errno 111] Connection refused'))",
      "\nDuring handling of the above exception, another exception occurred:\n",
      "\u001b[0;31mConnectionError\u001b[0m                           Traceback (most recent call last)",
      "File \u001b[0;32m~/workspace/projects/ocrorchestrator/src/ocrorchestrator/processors/api.py:49\u001b[0m, in \u001b[0;36mApiProcessor._process\u001b[0;34m(self, req)\u001b[0m\n\u001b[1;32m     48\u001b[0m \u001b[38;5;28;01mtry\u001b[39;00m:\n\u001b[0;32m---> 49\u001b[0m     response \u001b[38;5;241m=\u001b[39m \u001b[38;5;28;43mself\u001b[39;49m\u001b[38;5;241;43m.\u001b[39;49m\u001b[43mclient\u001b[49m\u001b[38;5;241;43m.\u001b[39;49m\u001b[43mpost\u001b[49m\u001b[43m(\u001b[49m\u001b[38;5;28;43mself\u001b[39;49m\u001b[38;5;241;43m.\u001b[39;49m\u001b[43mapi\u001b[49m\u001b[43m,\u001b[49m\u001b[43m \u001b[49m\u001b[43mjson\u001b[49m\u001b[38;5;241;43m=\u001b[39;49m\u001b[43mformatted_input\u001b[49m\u001b[43m)\u001b[49m\n\u001b[1;32m     50\u001b[0m     response\u001b[38;5;241m.\u001b[39mraise_for_status()\n",
      "File \u001b[0;32m~/workspace/projects/ocrorchestrator/.venv/lib/python3.9/site-packages/requests/sessions.py:637\u001b[0m, in \u001b[0;36mSession.post\u001b[0;34m(self, url, data, json, **kwargs)\u001b[0m\n\u001b[1;32m    627\u001b[0m \u001b[38;5;250m\u001b[39m\u001b[38;5;124mr\u001b[39m\u001b[38;5;124;03m\"\"\"Sends a POST request. Returns :class:`Response` object.\u001b[39;00m\n\u001b[1;32m    628\u001b[0m \n\u001b[1;32m    629\u001b[0m \u001b[38;5;124;03m:param url: URL for the new :class:`Request` object.\u001b[39;00m\n\u001b[0;32m   (...)\u001b[0m\n\u001b[1;32m    634\u001b[0m \u001b[38;5;124;03m:rtype: requests.Response\u001b[39;00m\n\u001b[1;32m    635\u001b[0m \u001b[38;5;124;03m\"\"\"\u001b[39;00m\n\u001b[0;32m--> 637\u001b[0m \u001b[38;5;28;01mreturn\u001b[39;00m \u001b[38;5;28;43mself\u001b[39;49m\u001b[38;5;241;43m.\u001b[39;49m\u001b[43mrequest\u001b[49m\u001b[43m(\u001b[49m\u001b[38;5;124;43m\"\u001b[39;49m\u001b[38;5;124;43mPOST\u001b[39;49m\u001b[38;5;124;43m\"\u001b[39;49m\u001b[43m,\u001b[49m\u001b[43m \u001b[49m\u001b[43murl\u001b[49m\u001b[43m,\u001b[49m\u001b[43m \u001b[49m\u001b[43mdata\u001b[49m\u001b[38;5;241;43m=\u001b[39;49m\u001b[43mdata\u001b[49m\u001b[43m,\u001b[49m\u001b[43m \u001b[49m\u001b[43mjson\u001b[49m\u001b[38;5;241;43m=\u001b[39;49m\u001b[43mjson\u001b[49m\u001b[43m,\u001b[49m\u001b[43m \u001b[49m\u001b[38;5;241;43m*\u001b[39;49m\u001b[38;5;241;43m*\u001b[39;49m\u001b[43mkwargs\u001b[49m\u001b[43m)\u001b[49m\n",
      "File \u001b[0;32m~/workspace/projects/ocrorchestrator/.venv/lib/python3.9/site-packages/requests/sessions.py:589\u001b[0m, in \u001b[0;36mSession.request\u001b[0;34m(self, method, url, params, data, headers, cookies, files, auth, timeout, allow_redirects, proxies, hooks, stream, verify, cert, json)\u001b[0m\n\u001b[1;32m    588\u001b[0m send_kwargs\u001b[38;5;241m.\u001b[39mupdate(settings)\n\u001b[0;32m--> 589\u001b[0m resp \u001b[38;5;241m=\u001b[39m \u001b[38;5;28;43mself\u001b[39;49m\u001b[38;5;241;43m.\u001b[39;49m\u001b[43msend\u001b[49m\u001b[43m(\u001b[49m\u001b[43mprep\u001b[49m\u001b[43m,\u001b[49m\u001b[43m \u001b[49m\u001b[38;5;241;43m*\u001b[39;49m\u001b[38;5;241;43m*\u001b[39;49m\u001b[43msend_kwargs\u001b[49m\u001b[43m)\u001b[49m\n\u001b[1;32m    591\u001b[0m \u001b[38;5;28;01mreturn\u001b[39;00m resp\n",
      "File \u001b[0;32m~/workspace/projects/ocrorchestrator/.venv/lib/python3.9/site-packages/requests/sessions.py:703\u001b[0m, in \u001b[0;36mSession.send\u001b[0;34m(self, request, **kwargs)\u001b[0m\n\u001b[1;32m    702\u001b[0m \u001b[38;5;66;03m# Send the request\u001b[39;00m\n\u001b[0;32m--> 703\u001b[0m r \u001b[38;5;241m=\u001b[39m \u001b[43madapter\u001b[49m\u001b[38;5;241;43m.\u001b[39;49m\u001b[43msend\u001b[49m\u001b[43m(\u001b[49m\u001b[43mrequest\u001b[49m\u001b[43m,\u001b[49m\u001b[43m \u001b[49m\u001b[38;5;241;43m*\u001b[39;49m\u001b[38;5;241;43m*\u001b[39;49m\u001b[43mkwargs\u001b[49m\u001b[43m)\u001b[49m\n\u001b[1;32m    705\u001b[0m \u001b[38;5;66;03m# Total elapsed time of the request (approximately)\u001b[39;00m\n",
      "File \u001b[0;32m~/workspace/projects/ocrorchestrator/.venv/lib/python3.9/site-packages/requests/adapters.py:700\u001b[0m, in \u001b[0;36mHTTPAdapter.send\u001b[0;34m(self, request, stream, timeout, verify, cert, proxies)\u001b[0m\n\u001b[1;32m    698\u001b[0m         \u001b[38;5;28;01mraise\u001b[39;00m SSLError(e, request\u001b[38;5;241m=\u001b[39mrequest)\n\u001b[0;32m--> 700\u001b[0m     \u001b[38;5;28;01mraise\u001b[39;00m \u001b[38;5;167;01mConnectionError\u001b[39;00m(e, request\u001b[38;5;241m=\u001b[39mrequest)\n\u001b[1;32m    702\u001b[0m \u001b[38;5;28;01mexcept\u001b[39;00m ClosedPoolError \u001b[38;5;28;01mas\u001b[39;00m e:\n",
      "\u001b[0;31mConnectionError\u001b[0m: HTTPConnectionPool(host='localhost', port=8000): Max retries exceeded with url: /predict (Caused by NewConnectionError('<urllib3.connection.HTTPConnection object at 0x7f5de0952940>: Failed to establish a new connection: [Errno 111] Connection refused'))",
      "\nDuring handling of the above exception, another exception occurred:\n",
      "\u001b[0;31mAppException\u001b[0m                              Traceback (most recent call last)",
      "Cell \u001b[0;32mIn[113], line 1\u001b[0m\n\u001b[0;32m----> 1\u001b[0m \u001b[43mproc\u001b[49m\u001b[38;5;241;43m.\u001b[39;49m\u001b[43m_process\u001b[49m\u001b[43m(\u001b[49m\u001b[43mreq\u001b[49m\u001b[43m)\u001b[49m\n",
      "File \u001b[0;32m~/workspace/projects/ocrorchestrator/src/ocrorchestrator/processors/api.py:53\u001b[0m, in \u001b[0;36mApiProcessor._process\u001b[0;34m(self, req)\u001b[0m\n\u001b[1;32m     51\u001b[0m     result \u001b[38;5;241m=\u001b[39m response\u001b[38;5;241m.\u001b[39mjson()\n\u001b[1;32m     52\u001b[0m \u001b[38;5;28;01mexcept\u001b[39;00m requests\u001b[38;5;241m.\u001b[39mRequestException \u001b[38;5;28;01mas\u001b[39;00m e:\n\u001b[0;32m---> 53\u001b[0m     \u001b[38;5;28;01mraise\u001b[39;00m AppException(ErrorCode\u001b[38;5;241m.\u001b[39mAPI_CALL_ERROR,\n\u001b[1;32m     54\u001b[0m                        \u001b[38;5;124mf\u001b[39m\u001b[38;5;124m\"\u001b[39m\u001b[38;5;124mAPI call error: \u001b[39m\u001b[38;5;132;01m{\u001b[39;00m\u001b[38;5;28mstr\u001b[39m(e)\u001b[38;5;132;01m}\u001b[39;00m\u001b[38;5;124m\"\u001b[39m)\n\u001b[1;32m     56\u001b[0m \u001b[38;5;28;01mreturn\u001b[39;00m \u001b[38;5;28mself\u001b[39m\u001b[38;5;241m.\u001b[39m_result_parser(result)\n",
      "\u001b[0;31mAppException\u001b[0m: 601: API call error: HTTPConnectionPool(host='localhost', port=8000): Max retries exceeded with url: /predict (Caused by NewConnectionError('<urllib3.connection.HTTPConnection object at 0x7f5de0952940>: Failed to establish a new connection: [Errno 111] Connection refused'))"
     ]
    }
   ],
   "source": [
    "proc._process(req)"
   ]
  },
  {
   "cell_type": "code",
   "execution_count": null,
   "id": "29531e0d-4c9e-48a4-90e6-252964d42344",
   "metadata": {},
   "outputs": [],
   "source": []
  }
 ],
 "metadata": {
  "kernelspec": {
   "display_name": "Python 3 (ipykernel)",
   "language": "python",
   "name": "python3"
  },
  "language_info": {
   "codemirror_mode": {
    "name": "ipython",
    "version": 3
   },
   "file_extension": ".py",
   "mimetype": "text/x-python",
   "name": "python",
   "nbconvert_exporter": "python",
   "pygments_lexer": "ipython3",
   "version": "3.10.13"
  }
 },
 "nbformat": 4,
 "nbformat_minor": 5
}
