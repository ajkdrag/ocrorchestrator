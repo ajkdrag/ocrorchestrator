{
 "cells": [
  {
   "cell_type": "code",
   "execution_count": 1,
   "id": "eaa13ff1-d613-4877-9aaa-6002c1c345e5",
   "metadata": {},
   "outputs": [],
   "source": [
    "import sys\n",
    "from pathlib import Path"
   ]
  },
  {
   "cell_type": "code",
   "execution_count": 2,
   "id": "92e44927-fe60-4ff5-b3e4-e52bea5e0dc6",
   "metadata": {},
   "outputs": [],
   "source": [
    "%load_ext autoreload\n",
    "%autoreload 3 -p\n",
    "%matplotlib inline\n"
   ]
  },
  {
   "cell_type": "markdown",
   "id": "78a6f7c6-8cfa-4eab-bc38-6e7250fb9e11",
   "metadata": {
    "jp-MarkdownHeadingCollapsed": true
   },
   "source": [
    "## imports"
   ]
  },
  {
   "cell_type": "code",
   "execution_count": 108,
   "id": "15974738-82bc-4317-b9f1-bdc0d6e0b67f",
   "metadata": {},
   "outputs": [],
   "source": [
    "from pydantic import BaseModel, RootModel\n",
    "from devtools import pprint"
   ]
  },
  {
   "cell_type": "code",
   "execution_count": 109,
   "id": "657c7713-b381-44f1-ae65-b6730fa5b6bd",
   "metadata": {},
   "outputs": [],
   "source": [
    "from ocrorchestrator.config.app_config import AppConfig"
   ]
  },
  {
   "cell_type": "markdown",
   "id": "d57851b7-f2fe-43d3-a0e5-eb3ea163f5a5",
   "metadata": {
    "jp-MarkdownHeadingCollapsed": true
   },
   "source": [
    "## testing config"
   ]
  },
  {
   "cell_type": "code",
   "execution_count": 34,
   "id": "b2c3eb02-b846-4790-a800-3501b9f763b4",
   "metadata": {},
   "outputs": [],
   "source": [
    "config_data = {\n",
    "        \"general\": {\n",
    "            # General config fields\n",
    "        },\n",
    "        \"categories\": {\n",
    "            \"proof_of_funds\": {\n",
    "                \"validation\": {\n",
    "                    \"processor\": \"llm\",\n",
    "                    \"handler\": \"gemini-pro-vision\"\n",
    "                },\n",
    "                \"extraction\": {\n",
    "                    \"processor\": \"custom\",\n",
    "                    \"handler\": \"ProofOfFundsExtractor\"\n",
    "                }\n",
    "            },\n",
    "            \"checks\": {\n",
    "                \"extraction\": {\n",
    "                    \"processor\": \"custom\",\n",
    "                    \"handler\": \"ProofOfFundsExtractor\"\n",
    "                }\n",
    "            }\n",
    "        }\n",
    "    }"
   ]
  },
  {
   "cell_type": "code",
   "execution_count": 35,
   "id": "b1c9b75f-62da-4d71-8663-18b21313bcac",
   "metadata": {},
   "outputs": [],
   "source": [
    "mm = AppConfig(**config_data)"
   ]
  },
  {
   "cell_type": "code",
   "execution_count": 14,
   "id": "e4ac4caf-0423-41f2-82dc-ed91d61d063d",
   "metadata": {},
   "outputs": [
    {
     "ename": "NameError",
     "evalue": "name 'mm' is not defined",
     "output_type": "error",
     "traceback": [
      "\u001b[0;31m---------------------------------------------------------------------------\u001b[0m",
      "\u001b[0;31mNameError\u001b[0m                                 Traceback (most recent call last)",
      "Cell \u001b[0;32mIn[14], line 1\u001b[0m\n\u001b[0;32m----> 1\u001b[0m \u001b[43mmm\u001b[49m\u001b[38;5;241m.\u001b[39mcategories[\u001b[38;5;124m\"\u001b[39m\u001b[38;5;124mproof_of_funds\u001b[39m\u001b[38;5;124m\"\u001b[39m]\n",
      "\u001b[0;31mNameError\u001b[0m: name 'mm' is not defined"
     ]
    }
   ],
   "source": [
    "mm.categories[\"proof_of_funds\"]"
   ]
  },
  {
   "cell_type": "code",
   "execution_count": 15,
   "id": "1a28d0a7-a808-4268-93aa-d5daba69f12e",
   "metadata": {},
   "outputs": [
    {
     "ename": "NameError",
     "evalue": "name 'mm' is not defined",
     "output_type": "error",
     "traceback": [
      "\u001b[0;31m---------------------------------------------------------------------------\u001b[0m",
      "\u001b[0;31mNameError\u001b[0m                                 Traceback (most recent call last)",
      "Cell \u001b[0;32mIn[15], line 1\u001b[0m\n\u001b[0;32m----> 1\u001b[0m \u001b[38;5;28;01mfor\u001b[39;00m cat, tsk, cfg \u001b[38;5;129;01min\u001b[39;00m \u001b[43mmm\u001b[49m\u001b[38;5;241m.\u001b[39miterate():\n\u001b[1;32m      2\u001b[0m     \u001b[38;5;28mprint\u001b[39m(cat, tsk, cfg)\n",
      "\u001b[0;31mNameError\u001b[0m: name 'mm' is not defined"
     ]
    }
   ],
   "source": [
    "for cat, tsk, cfg in mm.iterate():\n",
    "    print(cat, tsk, cfg)"
   ]
  },
  {
   "cell_type": "code",
   "execution_count": 16,
   "id": "c2580464-ac2e-465a-8fcc-fe74721e43ac",
   "metadata": {},
   "outputs": [
    {
     "name": "stdout",
     "output_type": "stream",
     "text": [
      "Pretty printing has been turned OFF\n"
     ]
    }
   ],
   "source": [
    "pprint(mm.get_task_config(\"proof_of_funds\", \"validation\"))"
   ]
  },
  {
   "cell_type": "code",
   "execution_count": 115,
   "id": "5ef99277-cf40-47f5-a7c9-5de6dc4ff8d4",
   "metadata": {},
   "outputs": [],
   "source": [
    "from ocrorchestrator.utils.misc import create_dynamic_message_model"
   ]
  },
  {
   "cell_type": "code",
   "execution_count": 116,
   "id": "f883599c-9851-446b-8e25-2478a4f93e14",
   "metadata": {},
   "outputs": [],
   "source": [
    "dyn = create_dynamic_message_model([\"field1\", \"field2\"])"
   ]
  },
  {
   "cell_type": "code",
   "execution_count": 117,
   "id": "1f5cf447-17ab-4bea-955f-af65a78e7160",
   "metadata": {},
   "outputs": [],
   "source": [
    "dyn_obj = dyn(**{\"field1\": \"sdada\", \"field2\": \"daad\"})"
   ]
  },
  {
   "cell_type": "code",
   "execution_count": 118,
   "id": "deeda62b-f294-4ec5-bc8c-2039a766929d",
   "metadata": {},
   "outputs": [
    {
     "name": "stdout",
     "output_type": "stream",
     "text": [
      "DynamicMessage(\n",
      "    field1='sdada',\n",
      "    field2='daad',\n",
      ")\n"
     ]
    }
   ],
   "source": [
    "pprint(dyn_obj)"
   ]
  },
  {
   "cell_type": "markdown",
   "id": "c3c78879-db67-4362-8da0-7a1ae3ea930d",
   "metadata": {},
   "source": [
    "## testing api"
   ]
  },
  {
   "cell_type": "code",
   "execution_count": 61,
   "id": "4ebd1084-7c47-47f4-8bda-51902a4ee74e",
   "metadata": {},
   "outputs": [],
   "source": [
    "from ocrorchestrator.main import app"
   ]
  },
  {
   "cell_type": "code",
   "execution_count": 62,
   "id": "8d57db29-7050-40bd-a241-83cd82ef51e2",
   "metadata": {},
   "outputs": [],
   "source": [
    "from fastapi.testclient import TestClient\n",
    "from ocrorchestrator.config.app_config import AppConfig"
   ]
  },
  {
   "cell_type": "code",
   "execution_count": 63,
   "id": "b1e19bba-4c74-4038-b62f-70b3b88ec0df",
   "metadata": {},
   "outputs": [
    {
     "name": "stdout",
     "output_type": "stream",
     "text": [
      "HTTP Request: GET https://big-vision-paligemma.hf.space/heartbeat/b7bfa10f-f6da-4075-8e76-aee7867cc155 \"HTTP/1.1 404 Not Found\"\n",
      "HTTP Request: GET https://big-vision-paligemma.hf.space/heartbeat/6f5eeb76-cb93-4387-9e64-38e949e4608b \"HTTP/1.1 404 Not Found\"\n"
     ]
    }
   ],
   "source": [
    "client = TestClient(app)"
   ]
  },
  {
   "cell_type": "code",
   "execution_count": 64,
   "id": "a9861ad0-d2eb-48aa-8e23-3ae0c9f1e7ca",
   "metadata": {},
   "outputs": [
    {
     "name": "stdout",
     "output_type": "stream",
     "text": [
      "HTTP Request: GET https://big-vision-paligemma.hf.space/heartbeat/dd253886-bf2e-44af-a941-af7b3c5ac0cb \"HTTP/1.1 404 Not Found\"\n",
      "HTTP Request: GET https://big-vision-paligemma.hf.space/heartbeat/b7bfa10f-f6da-4075-8e76-aee7867cc155 \"HTTP/1.1 404 Not Found\"\n",
      "HTTP Request: GET https://big-vision-paligemma.hf.space/heartbeat/dd253886-bf2e-44af-a941-af7b3c5ac0cb \"HTTP/1.1 404 Not Found\"\n",
      "HTTP Request: GET https://big-vision-paligemma.hf.space/heartbeat/6f5eeb76-cb93-4387-9e64-38e949e4608b \"HTTP/1.1 404 Not Found\"\n",
      "HTTP Request: GET https://big-vision-paligemma.hf.space/heartbeat/6f5eeb76-cb93-4387-9e64-38e949e4608b \"HTTP/1.1 404 Not Found\"\n",
      "HTTP Request: GET https://big-vision-paligemma.hf.space/heartbeat/b7bfa10f-f6da-4075-8e76-aee7867cc155 \"HTTP/1.1 404 Not Found\"\n",
      "HTTP Request: GET https://big-vision-paligemma.hf.space/heartbeat/dd253886-bf2e-44af-a941-af7b3c5ac0cb \"HTTP/1.1 404 Not Found\"\n",
      "HTTP Request: GET https://big-vision-paligemma.hf.space/heartbeat/6f5eeb76-cb93-4387-9e64-38e949e4608b \"HTTP/1.1 404 Not Found\"\n",
      "HTTP Request: GET https://big-vision-paligemma.hf.space/heartbeat/b7bfa10f-f6da-4075-8e76-aee7867cc155 \"HTTP/1.1 404 Not Found\"\n",
      "HTTP Request: GET https://big-vision-paligemma.hf.space/heartbeat/6f5eeb76-cb93-4387-9e64-38e949e4608b \"HTTP/1.1 404 Not Found\"\n",
      "HTTP Request: GET https://big-vision-paligemma.hf.space/heartbeat/b7bfa10f-f6da-4075-8e76-aee7867cc155 \"HTTP/1.1 404 Not Found\"\n",
      "HTTP Request: GET https://big-vision-paligemma.hf.space/heartbeat/dd253886-bf2e-44af-a941-af7b3c5ac0cb \"HTTP/1.1 404 Not Found\"\n"
     ]
    }
   ],
   "source": [
    "from base64 import b64encode\n",
    "from pathlib import Path\n",
    "\n",
    "b64 = b64encode(Path('../data/images/arch.png').open(\"rb\").read())"
   ]
  },
  {
   "cell_type": "code",
   "execution_count": 65,
   "id": "f580c8ab-0a0d-45ac-9798-27f629076a7d",
   "metadata": {},
   "outputs": [],
   "source": [
    "req_body = {\n",
    "    \"image\": b64.decode(),\n",
    "    \"category\": \"proof_of_funds\",\n",
    "    \"task\": \"extraction\",\n",
    "    \"guid\": \"dummyguid\",\n",
    "}"
   ]
  },
  {
   "cell_type": "code",
   "execution_count": 66,
   "id": "f0b9a7e2-3263-4dc5-afd5-e51c6ae63f87",
   "metadata": {},
   "outputs": [],
   "source": [
    "# from gradio_client import file\n",
    "# result = clnt.predict(\n",
    "# \t\tfile('../data/images/arch.png'),\t# filepath in 'Image' Image component\n",
    "# \t\t\"ocr \\nReturn only the shapes as JSON\",\t# str in 'Prompt' Textbox component\n",
    "#         \"paligemma-3b-mix-224\",\n",
    "# \t\t\"greedy\",\t# Literal['greedy', 'nucleus(0.1)', 'nucleus(0.3)', 'temperature(0.5)'] in 'Decoding' Dropdown component\n",
    "# \t\tapi_name=\"/compute\"\n",
    "# )\n",
    "\n"
   ]
  },
  {
   "cell_type": "code",
   "execution_count": 67,
   "id": "2de09776-09b0-490b-8643-a8a3ca3e94cf",
   "metadata": {},
   "outputs": [
    {
     "name": "stdout",
     "output_type": "stream",
     "text": [
      "HTTP Request: GET https://big-vision-paligemma.hf.space/heartbeat/dd253886-bf2e-44af-a941-af7b3c5ac0cb \"HTTP/1.1 404 Not Found\"\n",
      "HTTP Request: GET https://big-vision-paligemma.hf.space/heartbeat/b7bfa10f-f6da-4075-8e76-aee7867cc155 \"HTTP/1.1 404 Not Found\"\n",
      "HTTP Request: GET https://big-vision-paligemma.hf.space/heartbeat/6f5eeb76-cb93-4387-9e64-38e949e4608b \"HTTP/1.1 404 Not Found\"\n",
      "HTTP Request: GET https://big-vision-paligemma.hf.space/heartbeat/dd253886-bf2e-44af-a941-af7b3c5ac0cb \"HTTP/1.1 404 Not Found\"\n",
      "HTTP Request: GET https://big-vision-paligemma.hf.space/heartbeat/6f5eeb76-cb93-4387-9e64-38e949e4608b \"HTTP/1.1 404 Not Found\"\n"
     ]
    }
   ],
   "source": [
    "# print(result[0]['value'][0]['token'])"
   ]
  },
  {
   "cell_type": "code",
   "execution_count": null,
   "id": "5d26337b-58ec-4a70-ab7c-b8fd14b36c6e",
   "metadata": {},
   "outputs": [],
   "source": []
  },
  {
   "cell_type": "code",
   "execution_count": 68,
   "id": "48284a63-39ae-412a-9f6e-756a7e44470c",
   "metadata": {},
   "outputs": [
    {
     "name": "stdout",
     "output_type": "stream",
     "text": [
      "{\"event\": \"Running LLM setup\", \"level\": \"info\", \"func_name\": \"setup\", \"lineno\": 27, \"timestamp\": \"2024-06-30T15:31:16.165814Z\"}\n",
      "HTTP Request: GET https://big-vision-paligemma.hf.space/heartbeat/dd253886-bf2e-44af-a941-af7b3c5ac0cb \"HTTP/1.1 404 Not Found\"\n",
      "Loaded as API: https://big-vision-paligemma.hf.space ✔\n",
      "HTTP Request: GET https://big-vision-paligemma.hf.space/heartbeat/6f5eeb76-cb93-4387-9e64-38e949e4608b \"HTTP/1.1 404 Not Found\"\n",
      "HTTP Request: GET https://big-vision-paligemma.hf.space/config \"HTTP/1.1 200 OK\"\n",
      "HTTP Request: GET https://big-vision-paligemma.hf.space/heartbeat/dd253886-bf2e-44af-a941-af7b3c5ac0cb \"HTTP/1.1 404 Not Found\"\n",
      "HTTP Request: GET https://big-vision-paligemma.hf.space/heartbeat/6f5eeb76-cb93-4387-9e64-38e949e4608b \"HTTP/1.1 404 Not Found\"\n",
      "HTTP Request: GET https://big-vision-paligemma.hf.space/info?serialize=False \"HTTP/1.1 200 OK\"\n",
      "HTTP Request: GET https://big-vision-paligemma.hf.space/heartbeat/b7bfa10f-f6da-4075-8e76-aee7867cc155 \"HTTP/1.1 404 Not Found\"\n",
      "HTTP Request: GET https://big-vision-paligemma.hf.space/heartbeat/dd253886-bf2e-44af-a941-af7b3c5ac0cb \"HTTP/1.1 404 Not Found\"\n",
      "HTTP Request: GET https://big-vision-paligemma.hf.space/heartbeat/9c4db3f1-fcaa-498c-93f5-cdbc92608af4 \"HTTP/1.1 404 Not Found\"\n",
      "HTTP Request: GET https://big-vision-paligemma.hf.space/heartbeat/b7bfa10f-f6da-4075-8e76-aee7867cc155 \"HTTP/1.1 404 Not Found\"\n",
      "HTTP Request: GET https://big-vision-paligemma.hf.space/heartbeat/dd253886-bf2e-44af-a941-af7b3c5ac0cb \"HTTP/1.1 404 Not Found\"\n",
      "HTTP Request: POST https://big-vision-paligemma.hf.space/upload \"HTTP/1.1 200 OK\"\n",
      "HTTP Request: GET https://big-vision-paligemma.hf.space/heartbeat/6f5eeb76-cb93-4387-9e64-38e949e4608b \"HTTP/1.1 404 Not Found\"\n",
      "HTTP Request: GET https://big-vision-paligemma.hf.space/heartbeat/dd253886-bf2e-44af-a941-af7b3c5ac0cb \"HTTP/1.1 404 Not Found\"\n",
      "HTTP Request: POST https://big-vision-paligemma.hf.space/queue/join \"HTTP/1.1 200 OK\"\n",
      "HTTP Request: GET https://big-vision-paligemma.hf.space/heartbeat/9c4db3f1-fcaa-498c-93f5-cdbc92608af4 \"HTTP/1.1 404 Not Found\"\n",
      "HTTP Request: GET https://big-vision-paligemma.hf.space/heartbeat/6f5eeb76-cb93-4387-9e64-38e949e4608b \"HTTP/1.1 404 Not Found\"\n",
      "HTTP Request: GET https://big-vision-paligemma.hf.space/heartbeat/b7bfa10f-f6da-4075-8e76-aee7867cc155 \"HTTP/1.1 404 Not Found\"\n",
      "HTTP Request: GET https://big-vision-paligemma.hf.space/heartbeat/dd253886-bf2e-44af-a941-af7b3c5ac0cb \"HTTP/1.1 404 Not Found\"\n",
      "HTTP Request: GET https://big-vision-paligemma.hf.space/heartbeat/9c4db3f1-fcaa-498c-93f5-cdbc92608af4 \"HTTP/1.1 404 Not Found\"\n",
      "HTTP Request: GET https://big-vision-paligemma.hf.space/queue/data?session_hash=9c4db3f1-fcaa-498c-93f5-cdbc92608af4 \"HTTP/1.1 200 OK\"\n",
      "HTTP Request: GET https://big-vision-paligemma.hf.space/heartbeat/dd253886-bf2e-44af-a941-af7b3c5ac0cb \"HTTP/1.1 404 Not Found\"\n",
      "HTTP Request: GET https://big-vision-paligemma.hf.space/heartbeat/b7bfa10f-f6da-4075-8e76-aee7867cc155 \"HTTP/1.1 404 Not Found\"\n",
      "HTTP Request: GET https://big-vision-paligemma.hf.space/heartbeat/9c4db3f1-fcaa-498c-93f5-cdbc92608af4 \"HTTP/1.1 404 Not Found\"\n",
      "HTTP Request: GET https://big-vision-paligemma.hf.space/heartbeat/6f5eeb76-cb93-4387-9e64-38e949e4608b \"HTTP/1.1 404 Not Found\"\n",
      "HTTP Request: GET https://big-vision-paligemma.hf.space/heartbeat/b7bfa10f-f6da-4075-8e76-aee7867cc155 \"HTTP/1.1 404 Not Found\"\n",
      "HTTP Request: GET https://big-vision-paligemma.hf.space/heartbeat/dd253886-bf2e-44af-a941-af7b3c5ac0cb \"HTTP/1.1 404 Not Found\"\n",
      "HTTP Request: GET https://big-vision-paligemma.hf.space/heartbeat/9c4db3f1-fcaa-498c-93f5-cdbc92608af4 \"HTTP/1.1 404 Not Found\"\n",
      "HTTP Request: GET https://big-vision-paligemma.hf.space/heartbeat/6f5eeb76-cb93-4387-9e64-38e949e4608b \"HTTP/1.1 404 Not Found\"\n",
      "HTTP Request: GET https://big-vision-paligemma.hf.space/heartbeat/b7bfa10f-f6da-4075-8e76-aee7867cc155 \"HTTP/1.1 404 Not Found\"\n",
      "HTTP Request: GET https://big-vision-paligemma.hf.space/heartbeat/dd253886-bf2e-44af-a941-af7b3c5ac0cb \"HTTP/1.1 404 Not Found\"\n",
      "HTTP Request: GET https://big-vision-paligemma.hf.space/heartbeat/9c4db3f1-fcaa-498c-93f5-cdbc92608af4 \"HTTP/1.1 404 Not Found\"\n",
      "HTTP Request: GET https://big-vision-paligemma.hf.space/heartbeat/dd253886-bf2e-44af-a941-af7b3c5ac0cb \"HTTP/1.1 404 Not Found\"\n",
      "HTTP Request: GET https://big-vision-paligemma.hf.space/heartbeat/b7bfa10f-f6da-4075-8e76-aee7867cc155 \"HTTP/1.1 404 Not Found\"\n",
      "HTTP Request: GET https://big-vision-paligemma.hf.space/heartbeat/6f5eeb76-cb93-4387-9e64-38e949e4608b \"HTTP/1.1 404 Not Found\"\n",
      "HTTP Request: GET https://big-vision-paligemma.hf.space/file=/tmp/gradio/9566437f83034a79036b0f123067698ffaf38606/image.png \"HTTP/1.1 200 OK\"\n",
      "HTTP Request: GET https://big-vision-paligemma.hf.space/heartbeat/6f5eeb76-cb93-4387-9e64-38e949e4608b \"HTTP/1.1 404 Not Found\"\n",
      "HTTP Request: GET https://big-vision-paligemma.hf.space/heartbeat/dd253886-bf2e-44af-a941-af7b3c5ac0cb \"HTTP/1.1 404 Not Found\"\n",
      "HTTP Request: GET https://big-vision-paligemma.hf.space/heartbeat/b7bfa10f-f6da-4075-8e76-aee7867cc155 \"HTTP/1.1 404 Not Found\"\n",
      "HTTP Request: GET https://big-vision-paligemma.hf.space/heartbeat/9c4db3f1-fcaa-498c-93f5-cdbc92608af4 \"HTTP/1.1 404 Not Found\"\n",
      "HTTP Request: GET https://big-vision-paligemma.hf.space/heartbeat/6f5eeb76-cb93-4387-9e64-38e949e4608b \"HTTP/1.1 404 Not Found\"\n",
      "HTTP Request: GET https://big-vision-paligemma.hf.space/heartbeat/dd253886-bf2e-44af-a941-af7b3c5ac0cb \"HTTP/1.1 404 Not Found\"\n",
      "HTTP Request: GET https://big-vision-paligemma.hf.space/heartbeat/9c4db3f1-fcaa-498c-93f5-cdbc92608af4 \"HTTP/1.1 404 Not Found\"\n",
      "HTTP Request: GET https://big-vision-paligemma.hf.space/heartbeat/6f5eeb76-cb93-4387-9e64-38e949e4608b \"HTTP/1.1 404 Not Found\"\n",
      "HTTP Request: GET https://big-vision-paligemma.hf.space/heartbeat/dd253886-bf2e-44af-a941-af7b3c5ac0cb \"HTTP/1.1 404 Not Found\"\n",
      "HTTP Request: GET https://big-vision-paligemma.hf.space/file=/tmp/gradio/9566437f83034a79036b0f123067698ffaf38606/image.png \"HTTP/1.1 200 OK\"\n",
      "HTTP Request: GET https://big-vision-paligemma.hf.space/heartbeat/b7bfa10f-f6da-4075-8e76-aee7867cc155 \"HTTP/1.1 404 Not Found\"\n",
      "HTTP Request: GET https://big-vision-paligemma.hf.space/heartbeat/6f5eeb76-cb93-4387-9e64-38e949e4608b \"HTTP/1.1 404 Not Found\"\n",
      "HTTP Request: GET https://big-vision-paligemma.hf.space/heartbeat/dd253886-bf2e-44af-a941-af7b3c5ac0cb \"HTTP/1.1 404 Not Found\"\n",
      "HTTP Request: GET https://big-vision-paligemma.hf.space/heartbeat/9c4db3f1-fcaa-498c-93f5-cdbc92608af4 \"HTTP/1.1 404 Not Found\"\n",
      "HTTP Request: GET https://big-vision-paligemma.hf.space/heartbeat/9c4db3f1-fcaa-498c-93f5-cdbc92608af4 \"HTTP/1.1 404 Not Found\"\n",
      "{\"event\": \"OK\", \"trans_id\": \"86db118c-0e72-49b3-b823-6b4f9212d985\", \"status_code\": 200, \"client_host\": \"testclient\", \"api_name\": \"/predict\", \"method\": \"POST\", \"guid\": \"dummyguid\", \"level\": \"info\", \"func_name\": \"dispatch\", \"lineno\": 48, \"timestamp\": \"2024-06-30T15:31:37.634200Z\"}\n",
      "HTTP Request: POST http://testserver/predict \"HTTP/1.1 200 OK\"\n",
      "{'status': 'OK', 'status_code': 200, 'message': {'output': 'Type\\nFilters Size/stride\\nOutput\\n convolutional\\n42\\n224 x 224\\nMaxpool\\n112 x 112\\n2 x 2/2\\nMaxpool\\n64\\n112 x 112\\n2 x 2/2\\nMaxpool\\n128\\n2 x 2/2\\n56 x 56\\nMaxpool\\n128\\n2 x 2/2\\nMaxpool\\n256\\n2 x 2/2\\nMaxpool\\n128\\n2 x 2/2\\nMax'}}\n",
      "HTTP Request: GET https://big-vision-paligemma.hf.space/heartbeat/dd253886-bf2e-44af-a941-af7b3c5ac0cb \"HTTP/1.1 404 Not Found\"\n",
      "HTTP Request: GET https://big-vision-paligemma.hf.space/heartbeat/b7bfa10f-f6da-4075-8e76-aee7867cc155 \"HTTP/1.1 404 Not Found\"\n",
      "HTTP Request: GET https://big-vision-paligemma.hf.space/heartbeat/6f5eeb76-cb93-4387-9e64-38e949e4608b \"HTTP/1.1 404 Not Found\"\n",
      "HTTP Request: GET https://big-vision-paligemma.hf.space/heartbeat/dd253886-bf2e-44af-a941-af7b3c5ac0cb \"HTTP/1.1 404 Not Found\"\n",
      "HTTP Request: GET https://big-vision-paligemma.hf.space/heartbeat/9c4db3f1-fcaa-498c-93f5-cdbc92608af4 \"HTTP/1.1 404 Not Found\"\n",
      "HTTP Request: GET https://big-vision-paligemma.hf.space/heartbeat/dd253886-bf2e-44af-a941-af7b3c5ac0cb \"HTTP/1.1 404 Not Found\"\n",
      "HTTP Request: GET https://big-vision-paligemma.hf.space/heartbeat/6f5eeb76-cb93-4387-9e64-38e949e4608b \"HTTP/1.1 404 Not Found\"\n",
      "HTTP Request: GET https://big-vision-paligemma.hf.space/heartbeat/9c4db3f1-fcaa-498c-93f5-cdbc92608af4 \"HTTP/1.1 404 Not Found\"\n",
      "HTTP Request: GET https://big-vision-paligemma.hf.space/heartbeat/dd253886-bf2e-44af-a941-af7b3c5ac0cb \"HTTP/1.1 404 Not Found\"\n",
      "HTTP Request: GET https://big-vision-paligemma.hf.space/heartbeat/6f5eeb76-cb93-4387-9e64-38e949e4608b \"HTTP/1.1 404 Not Found\"\n",
      "HTTP Request: GET https://big-vision-paligemma.hf.space/heartbeat/9c4db3f1-fcaa-498c-93f5-cdbc92608af4 \"HTTP/1.1 404 Not Found\"\n",
      "HTTP Request: GET https://big-vision-paligemma.hf.space/heartbeat/b7bfa10f-f6da-4075-8e76-aee7867cc155 \"HTTP/1.1 404 Not Found\"\n",
      "HTTP Request: GET https://big-vision-paligemma.hf.space/heartbeat/6f5eeb76-cb93-4387-9e64-38e949e4608b \"HTTP/1.1 404 Not Found\"\n",
      "HTTP Request: GET https://big-vision-paligemma.hf.space/heartbeat/9c4db3f1-fcaa-498c-93f5-cdbc92608af4 \"HTTP/1.1 404 Not Found\"\n",
      "HTTP Request: GET https://big-vision-paligemma.hf.space/heartbeat/dd253886-bf2e-44af-a941-af7b3c5ac0cb \"HTTP/1.1 404 Not Found\"\n",
      "HTTP Request: GET https://big-vision-paligemma.hf.space/heartbeat/6f5eeb76-cb93-4387-9e64-38e949e4608b \"HTTP/1.1 404 Not Found\"\n",
      "HTTP Request: GET https://big-vision-paligemma.hf.space/heartbeat/9c4db3f1-fcaa-498c-93f5-cdbc92608af4 \"HTTP/1.1 404 Not Found\"\n",
      "HTTP Request: GET https://big-vision-paligemma.hf.space/heartbeat/b7bfa10f-f6da-4075-8e76-aee7867cc155 \"HTTP/1.1 404 Not Found\"\n",
      "HTTP Request: GET https://big-vision-paligemma.hf.space/heartbeat/6f5eeb76-cb93-4387-9e64-38e949e4608b \"HTTP/1.1 404 Not Found\"\n",
      "HTTP Request: GET https://big-vision-paligemma.hf.space/heartbeat/9c4db3f1-fcaa-498c-93f5-cdbc92608af4 \"HTTP/1.1 404 Not Found\"\n",
      "HTTP Request: GET https://big-vision-paligemma.hf.space/heartbeat/dd253886-bf2e-44af-a941-af7b3c5ac0cb \"HTTP/1.1 404 Not Found\"\n",
      "HTTP Request: GET https://big-vision-paligemma.hf.space/heartbeat/6f5eeb76-cb93-4387-9e64-38e949e4608b \"HTTP/1.1 404 Not Found\"\n",
      "HTTP Request: GET https://big-vision-paligemma.hf.space/heartbeat/9c4db3f1-fcaa-498c-93f5-cdbc92608af4 \"HTTP/1.1 404 Not Found\"\n",
      "HTTP Request: GET https://big-vision-paligemma.hf.space/heartbeat/dd253886-bf2e-44af-a941-af7b3c5ac0cb \"HTTP/1.1 404 Not Found\"\n",
      "HTTP Request: GET https://big-vision-paligemma.hf.space/heartbeat/6f5eeb76-cb93-4387-9e64-38e949e4608b \"HTTP/1.1 404 Not Found\"\n",
      "HTTP Request: GET https://big-vision-paligemma.hf.space/heartbeat/b7bfa10f-f6da-4075-8e76-aee7867cc155 \"HTTP/1.1 404 Not Found\"\n",
      "HTTP Request: GET https://big-vision-paligemma.hf.space/heartbeat/9c4db3f1-fcaa-498c-93f5-cdbc92608af4 \"HTTP/1.1 404 Not Found\"\n",
      "HTTP Request: GET https://big-vision-paligemma.hf.space/heartbeat/6f5eeb76-cb93-4387-9e64-38e949e4608b \"HTTP/1.1 404 Not Found\"\n",
      "HTTP Request: GET https://big-vision-paligemma.hf.space/heartbeat/dd253886-bf2e-44af-a941-af7b3c5ac0cb \"HTTP/1.1 404 Not Found\"\n",
      "HTTP Request: GET https://big-vision-paligemma.hf.space/heartbeat/dd253886-bf2e-44af-a941-af7b3c5ac0cb \"HTTP/1.1 404 Not Found\"\n",
      "HTTP Request: GET https://big-vision-paligemma.hf.space/heartbeat/b7bfa10f-f6da-4075-8e76-aee7867cc155 \"HTTP/1.1 404 Not Found\"\n",
      "HTTP Request: GET https://big-vision-paligemma.hf.space/heartbeat/6f5eeb76-cb93-4387-9e64-38e949e4608b \"HTTP/1.1 404 Not Found\"\n",
      "HTTP Request: GET https://big-vision-paligemma.hf.space/heartbeat/b7bfa10f-f6da-4075-8e76-aee7867cc155 \"HTTP/1.1 404 Not Found\"\n",
      "HTTP Request: GET https://big-vision-paligemma.hf.space/heartbeat/6f5eeb76-cb93-4387-9e64-38e949e4608b \"HTTP/1.1 404 Not Found\"\n",
      "HTTP Request: GET https://big-vision-paligemma.hf.space/heartbeat/dd253886-bf2e-44af-a941-af7b3c5ac0cb \"HTTP/1.1 404 Not Found\"\n",
      "HTTP Request: GET https://big-vision-paligemma.hf.space/heartbeat/9c4db3f1-fcaa-498c-93f5-cdbc92608af4 \"HTTP/1.1 404 Not Found\"\n",
      "HTTP Request: GET https://big-vision-paligemma.hf.space/heartbeat/6f5eeb76-cb93-4387-9e64-38e949e4608b \"HTTP/1.1 404 Not Found\"\n",
      "HTTP Request: GET https://big-vision-paligemma.hf.space/heartbeat/9c4db3f1-fcaa-498c-93f5-cdbc92608af4 \"HTTP/1.1 404 Not Found\"\n",
      "HTTP Request: GET https://big-vision-paligemma.hf.space/heartbeat/b7bfa10f-f6da-4075-8e76-aee7867cc155 \"HTTP/1.1 404 Not Found\"\n",
      "HTTP Request: GET https://big-vision-paligemma.hf.space/heartbeat/9c4db3f1-fcaa-498c-93f5-cdbc92608af4 \"HTTP/1.1 404 Not Found\"\n",
      "HTTP Request: GET https://big-vision-paligemma.hf.space/heartbeat/6f5eeb76-cb93-4387-9e64-38e949e4608b \"HTTP/1.1 404 Not Found\"\n",
      "HTTP Request: GET https://big-vision-paligemma.hf.space/heartbeat/9c4db3f1-fcaa-498c-93f5-cdbc92608af4 \"HTTP/1.1 404 Not Found\"\n",
      "HTTP Request: GET https://big-vision-paligemma.hf.space/heartbeat/dd253886-bf2e-44af-a941-af7b3c5ac0cb \"HTTP/1.1 404 Not Found\"\n",
      "HTTP Request: GET https://big-vision-paligemma.hf.space/heartbeat/6f5eeb76-cb93-4387-9e64-38e949e4608b \"HTTP/1.1 404 Not Found\"\n",
      "HTTP Request: GET https://big-vision-paligemma.hf.space/heartbeat/b7bfa10f-f6da-4075-8e76-aee7867cc155 \"HTTP/1.1 404 Not Found\"\n",
      "HTTP Request: GET https://big-vision-paligemma.hf.space/heartbeat/dd253886-bf2e-44af-a941-af7b3c5ac0cb \"HTTP/1.1 404 Not Found\"\n",
      "HTTP Request: GET https://big-vision-paligemma.hf.space/heartbeat/6f5eeb76-cb93-4387-9e64-38e949e4608b \"HTTP/1.1 404 Not Found\"\n",
      "HTTP Request: GET https://big-vision-paligemma.hf.space/heartbeat/9c4db3f1-fcaa-498c-93f5-cdbc92608af4 \"HTTP/1.1 404 Not Found\"\n",
      "HTTP Request: GET https://big-vision-paligemma.hf.space/heartbeat/b7bfa10f-f6da-4075-8e76-aee7867cc155 \"HTTP/1.1 404 Not Found\"\n",
      "HTTP Request: GET https://big-vision-paligemma.hf.space/heartbeat/dd253886-bf2e-44af-a941-af7b3c5ac0cb \"HTTP/1.1 404 Not Found\"\n",
      "HTTP Request: GET https://big-vision-paligemma.hf.space/heartbeat/6f5eeb76-cb93-4387-9e64-38e949e4608b \"HTTP/1.1 404 Not Found\"\n",
      "HTTP Request: GET https://big-vision-paligemma.hf.space/heartbeat/9c4db3f1-fcaa-498c-93f5-cdbc92608af4 \"HTTP/1.1 404 Not Found\"\n",
      "HTTP Request: GET https://big-vision-paligemma.hf.space/heartbeat/dd253886-bf2e-44af-a941-af7b3c5ac0cb \"HTTP/1.1 404 Not Found\"\n",
      "HTTP Request: GET https://big-vision-paligemma.hf.space/heartbeat/6f5eeb76-cb93-4387-9e64-38e949e4608b \"HTTP/1.1 404 Not Found\"\n",
      "HTTP Request: GET https://big-vision-paligemma.hf.space/heartbeat/b7bfa10f-f6da-4075-8e76-aee7867cc155 \"HTTP/1.1 404 Not Found\"\n",
      "HTTP Request: GET https://big-vision-paligemma.hf.space/heartbeat/9c4db3f1-fcaa-498c-93f5-cdbc92608af4 \"HTTP/1.1 404 Not Found\"\n",
      "HTTP Request: GET https://big-vision-paligemma.hf.space/heartbeat/dd253886-bf2e-44af-a941-af7b3c5ac0cb \"HTTP/1.1 404 Not Found\"\n",
      "HTTP Request: GET https://big-vision-paligemma.hf.space/heartbeat/6f5eeb76-cb93-4387-9e64-38e949e4608b \"HTTP/1.1 404 Not Found\"\n",
      "HTTP Request: GET https://big-vision-paligemma.hf.space/heartbeat/b7bfa10f-f6da-4075-8e76-aee7867cc155 \"HTTP/1.1 404 Not Found\"\n",
      "HTTP Request: GET https://big-vision-paligemma.hf.space/heartbeat/9c4db3f1-fcaa-498c-93f5-cdbc92608af4 \"HTTP/1.1 404 Not Found\"\n",
      "HTTP Request: GET https://big-vision-paligemma.hf.space/heartbeat/dd253886-bf2e-44af-a941-af7b3c5ac0cb \"HTTP/1.1 404 Not Found\"\n",
      "HTTP Request: GET https://big-vision-paligemma.hf.space/heartbeat/6f5eeb76-cb93-4387-9e64-38e949e4608b \"HTTP/1.1 404 Not Found\"\n",
      "HTTP Request: GET https://big-vision-paligemma.hf.space/heartbeat/b7bfa10f-f6da-4075-8e76-aee7867cc155 \"HTTP/1.1 404 Not Found\"\n",
      "HTTP Request: GET https://big-vision-paligemma.hf.space/heartbeat/9c4db3f1-fcaa-498c-93f5-cdbc92608af4 \"HTTP/1.1 404 Not Found\"\n",
      "HTTP Request: GET https://big-vision-paligemma.hf.space/heartbeat/dd253886-bf2e-44af-a941-af7b3c5ac0cb \"HTTP/1.1 404 Not Found\"\n",
      "HTTP Request: GET https://big-vision-paligemma.hf.space/heartbeat/6f5eeb76-cb93-4387-9e64-38e949e4608b \"HTTP/1.1 404 Not Found\"\n",
      "HTTP Request: GET https://big-vision-paligemma.hf.space/heartbeat/6f5eeb76-cb93-4387-9e64-38e949e4608b \"HTTP/1.1 404 Not Found\"\n",
      "HTTP Request: GET https://big-vision-paligemma.hf.space/heartbeat/b7bfa10f-f6da-4075-8e76-aee7867cc155 \"HTTP/1.1 404 Not Found\"\n",
      "HTTP Request: GET https://big-vision-paligemma.hf.space/heartbeat/9c4db3f1-fcaa-498c-93f5-cdbc92608af4 \"HTTP/1.1 404 Not Found\"\n",
      "HTTP Request: GET https://big-vision-paligemma.hf.space/heartbeat/dd253886-bf2e-44af-a941-af7b3c5ac0cb \"HTTP/1.1 404 Not Found\"\n",
      "HTTP Request: GET https://big-vision-paligemma.hf.space/heartbeat/b7bfa10f-f6da-4075-8e76-aee7867cc155 \"HTTP/1.1 404 Not Found\"\n",
      "HTTP Request: GET https://big-vision-paligemma.hf.space/heartbeat/9c4db3f1-fcaa-498c-93f5-cdbc92608af4 \"HTTP/1.1 404 Not Found\"\n",
      "HTTP Request: GET https://big-vision-paligemma.hf.space/heartbeat/6f5eeb76-cb93-4387-9e64-38e949e4608b \"HTTP/1.1 404 Not Found\"\n",
      "HTTP Request: GET https://big-vision-paligemma.hf.space/heartbeat/dd253886-bf2e-44af-a941-af7b3c5ac0cb \"HTTP/1.1 404 Not Found\"\n",
      "HTTP Request: GET https://big-vision-paligemma.hf.space/heartbeat/b7bfa10f-f6da-4075-8e76-aee7867cc155 \"HTTP/1.1 404 Not Found\"\n",
      "HTTP Request: GET https://big-vision-paligemma.hf.space/heartbeat/9c4db3f1-fcaa-498c-93f5-cdbc92608af4 \"HTTP/1.1 404 Not Found\"\n",
      "HTTP Request: GET https://big-vision-paligemma.hf.space/heartbeat/6f5eeb76-cb93-4387-9e64-38e949e4608b \"HTTP/1.1 404 Not Found\"\n",
      "HTTP Request: GET https://big-vision-paligemma.hf.space/heartbeat/dd253886-bf2e-44af-a941-af7b3c5ac0cb \"HTTP/1.1 404 Not Found\"\n",
      "HTTP Request: GET https://big-vision-paligemma.hf.space/heartbeat/b7bfa10f-f6da-4075-8e76-aee7867cc155 \"HTTP/1.1 404 Not Found\"\n",
      "HTTP Request: GET https://big-vision-paligemma.hf.space/heartbeat/9c4db3f1-fcaa-498c-93f5-cdbc92608af4 \"HTTP/1.1 404 Not Found\"\n",
      "HTTP Request: GET https://big-vision-paligemma.hf.space/heartbeat/dd253886-bf2e-44af-a941-af7b3c5ac0cb \"HTTP/1.1 404 Not Found\"\n",
      "HTTP Request: GET https://big-vision-paligemma.hf.space/heartbeat/6f5eeb76-cb93-4387-9e64-38e949e4608b \"HTTP/1.1 404 Not Found\"\n",
      "HTTP Request: GET https://big-vision-paligemma.hf.space/heartbeat/b7bfa10f-f6da-4075-8e76-aee7867cc155 \"HTTP/1.1 404 Not Found\"\n",
      "HTTP Request: GET https://big-vision-paligemma.hf.space/heartbeat/9c4db3f1-fcaa-498c-93f5-cdbc92608af4 \"HTTP/1.1 404 Not Found\"\n",
      "HTTP Request: GET https://big-vision-paligemma.hf.space/heartbeat/6f5eeb76-cb93-4387-9e64-38e949e4608b \"HTTP/1.1 404 Not Found\"\n",
      "HTTP Request: GET https://big-vision-paligemma.hf.space/heartbeat/dd253886-bf2e-44af-a941-af7b3c5ac0cb \"HTTP/1.1 404 Not Found\"\n",
      "HTTP Request: GET https://big-vision-paligemma.hf.space/heartbeat/6f5eeb76-cb93-4387-9e64-38e949e4608b \"HTTP/1.1 404 Not Found\"\n",
      "HTTP Request: GET https://big-vision-paligemma.hf.space/heartbeat/9c4db3f1-fcaa-498c-93f5-cdbc92608af4 \"HTTP/1.1 404 Not Found\"\n",
      "HTTP Request: GET https://big-vision-paligemma.hf.space/heartbeat/b7bfa10f-f6da-4075-8e76-aee7867cc155 \"HTTP/1.1 404 Not Found\"\n",
      "HTTP Request: GET https://big-vision-paligemma.hf.space/heartbeat/6f5eeb76-cb93-4387-9e64-38e949e4608b \"HTTP/1.1 404 Not Found\"\n",
      "HTTP Request: GET https://big-vision-paligemma.hf.space/heartbeat/9c4db3f1-fcaa-498c-93f5-cdbc92608af4 \"HTTP/1.1 404 Not Found\"\n",
      "HTTP Request: GET https://big-vision-paligemma.hf.space/heartbeat/dd253886-bf2e-44af-a941-af7b3c5ac0cb \"HTTP/1.1 404 Not Found\"\n",
      "HTTP Request: GET https://big-vision-paligemma.hf.space/heartbeat/9c4db3f1-fcaa-498c-93f5-cdbc92608af4 \"HTTP/1.1 404 Not Found\"\n",
      "HTTP Request: GET https://big-vision-paligemma.hf.space/heartbeat/6f5eeb76-cb93-4387-9e64-38e949e4608b \"HTTP/1.1 404 Not Found\"\n",
      "HTTP Request: GET https://big-vision-paligemma.hf.space/heartbeat/b7bfa10f-f6da-4075-8e76-aee7867cc155 \"HTTP/1.1 404 Not Found\"\n",
      "HTTP Request: GET https://big-vision-paligemma.hf.space/heartbeat/6f5eeb76-cb93-4387-9e64-38e949e4608b \"HTTP/1.1 404 Not Found\"\n",
      "HTTP Request: GET https://big-vision-paligemma.hf.space/heartbeat/dd253886-bf2e-44af-a941-af7b3c5ac0cb \"HTTP/1.1 404 Not Found\"\n",
      "HTTP Request: GET https://big-vision-paligemma.hf.space/heartbeat/9c4db3f1-fcaa-498c-93f5-cdbc92608af4 \"HTTP/1.1 404 Not Found\"\n",
      "HTTP Request: GET https://big-vision-paligemma.hf.space/heartbeat/b7bfa10f-f6da-4075-8e76-aee7867cc155 \"HTTP/1.1 404 Not Found\"\n",
      "HTTP Request: GET https://big-vision-paligemma.hf.space/heartbeat/9c4db3f1-fcaa-498c-93f5-cdbc92608af4 \"HTTP/1.1 404 Not Found\"\n",
      "HTTP Request: GET https://big-vision-paligemma.hf.space/heartbeat/dd253886-bf2e-44af-a941-af7b3c5ac0cb \"HTTP/1.1 404 Not Found\"\n",
      "HTTP Request: GET https://big-vision-paligemma.hf.space/heartbeat/b7bfa10f-f6da-4075-8e76-aee7867cc155 \"HTTP/1.1 404 Not Found\"\n",
      "HTTP Request: GET https://big-vision-paligemma.hf.space/heartbeat/6f5eeb76-cb93-4387-9e64-38e949e4608b \"HTTP/1.1 404 Not Found\"\n",
      "HTTP Request: GET https://big-vision-paligemma.hf.space/heartbeat/b7bfa10f-f6da-4075-8e76-aee7867cc155 \"HTTP/1.1 404 Not Found\"\n",
      "HTTP Request: GET https://big-vision-paligemma.hf.space/heartbeat/dd253886-bf2e-44af-a941-af7b3c5ac0cb \"HTTP/1.1 404 Not Found\"\n",
      "HTTP Request: GET https://big-vision-paligemma.hf.space/heartbeat/b7bfa10f-f6da-4075-8e76-aee7867cc155 \"HTTP/1.1 404 Not Found\"\n",
      "HTTP Request: GET https://big-vision-paligemma.hf.space/heartbeat/6f5eeb76-cb93-4387-9e64-38e949e4608b \"HTTP/1.1 404 Not Found\"\n",
      "HTTP Request: GET https://big-vision-paligemma.hf.space/heartbeat/dd253886-bf2e-44af-a941-af7b3c5ac0cb \"HTTP/1.1 404 Not Found\"\n",
      "HTTP Request: GET https://big-vision-paligemma.hf.space/heartbeat/dd253886-bf2e-44af-a941-af7b3c5ac0cb \"HTTP/1.1 404 Not Found\"\n",
      "HTTP Request: GET https://big-vision-paligemma.hf.space/heartbeat/b7bfa10f-f6da-4075-8e76-aee7867cc155 \"HTTP/1.1 404 Not Found\"\n",
      "HTTP Request: GET https://big-vision-paligemma.hf.space/heartbeat/6f5eeb76-cb93-4387-9e64-38e949e4608b \"HTTP/1.1 404 Not Found\"\n",
      "HTTP Request: GET https://big-vision-paligemma.hf.space/heartbeat/6f5eeb76-cb93-4387-9e64-38e949e4608b \"HTTP/1.1 404 Not Found\"\n",
      "HTTP Request: GET https://big-vision-paligemma.hf.space/heartbeat/dd253886-bf2e-44af-a941-af7b3c5ac0cb \"HTTP/1.1 404 Not Found\"\n"
     ]
    }
   ],
   "source": [
    "with TestClient(app) as client:\n",
    "    response = client.post(\"/predict\", json=req_body)\n",
    "    print(response.json())"
   ]
  },
  {
   "cell_type": "code",
   "execution_count": 29,
   "id": "1ac52e28-1de6-4e0a-b398-c371de1adc3d",
   "metadata": {},
   "outputs": [
    {
     "name": "stdout",
     "output_type": "stream",
     "text": [
      "{\"event\": \"Running LLM setup\", \"level\": \"info\", \"func_name\": \"setup\", \"lineno\": 27, \"timestamp\": \"2024-06-30T13:53:19.639017Z\"}\n",
      "{\"event\": \"Running LLM processor\", \"guid\": \"dummyguid\", \"api_name\": \"/predict\", \"trans_id\": \"75b0e676-876b-4223-bdf8-2cea5758d3d0\", \"client_host\": \"testclient\", \"method\": \"POST\", \"level\": \"info\", \"func_name\": \"process\", \"lineno\": 31, \"timestamp\": \"2024-06-30T13:53:19.642351Z\"}\n",
      "{\"event\": \"OK\", \"guid\": \"dummyguid\", \"api_name\": \"/predict\", \"status_code\": 200, \"trans_id\": \"75b0e676-876b-4223-bdf8-2cea5758d3d0\", \"client_host\": \"testclient\", \"method\": \"POST\", \"level\": \"info\", \"func_name\": \"dispatch\", \"lineno\": 48, \"timestamp\": \"2024-06-30T13:53:19.643861Z\"}\n",
      "HTTP Request: POST http://testserver/predict \"HTTP/1.1 200 OK\"\n",
      "{'status': 'OK', 'status_code': 200, 'message': {'name': 'John Doe', 'invoice_no': 'XYZ123'}}\n"
     ]
    }
   ],
   "source": [
    "test_()"
   ]
  },
  {
   "cell_type": "code",
   "execution_count": 64,
   "id": "96491354-14de-469d-b404-be75e6a266a1",
   "metadata": {},
   "outputs": [],
   "source": [
    "from ocrorchestrator.main import LocalRepo, config_path, repo_args"
   ]
  },
  {
   "cell_type": "code",
   "execution_count": 73,
   "id": "a7e56a22-125e-42ef-868a-3f185a05c880",
   "metadata": {},
   "outputs": [
    {
     "data": {
      "text/plain": [
       "('configs/config_v1.yaml', ['/home/ajkdrag/workspace/projects/ocrorchestrator/data/my-bucket'])"
      ]
     },
     "execution_count": 73,
     "metadata": {},
     "output_type": "execute_result"
    }
   ],
   "source": [
    "config_path, repo_args"
   ]
  },
  {
   "cell_type": "code",
   "execution_count": 74,
   "id": "62cb8e05-0399-466a-8119-679084843b72",
   "metadata": {},
   "outputs": [],
   "source": [
    "repo = LocalRepo(*repo_args)"
   ]
  },
  {
   "cell_type": "code",
   "execution_count": 75,
   "id": "41c70dcf-dc2b-4baf-83dd-d4f80208286e",
   "metadata": {},
   "outputs": [
    {
     "data": {
      "text/plain": [
       "{'general': None, 'categories': {'proof_of_funds': {'validation': {'processor': 'llm', 'handler': 'gemini-pro-vision'}, 'extraction': {'processor': 'custom', 'handler': 'ProofOfFundsExtractor'}}, 'checks': {'extraction': {'processor': 'custom', 'handler': 'ProofOfFundsExtractor'}}}}"
      ]
     },
     "execution_count": 75,
     "metadata": {},
     "output_type": "execute_result"
    }
   ],
   "source": [
    "repo.get_yaml(config_path)"
   ]
  },
  {
   "cell_type": "code",
   "execution_count": 76,
   "id": "c48a03c5-9646-4fe0-8c1e-cee993bc8a28",
   "metadata": {},
   "outputs": [],
   "source": [
    "cfg = AppConfig(**repo.get_yaml(config_path))"
   ]
  },
  {
   "cell_type": "code",
   "execution_count": 77,
   "id": "9c5feee8-ecec-4fc6-89d4-8ab2eb099107",
   "metadata": {},
   "outputs": [
    {
     "data": {
      "text/plain": [
       "AppConfig(general=GeneralConfig(prompts_dir='prompt_templates', models_dir='models'), categories={'proof_of_funds': OrderedDict([('validation', TaskConfig(processor='llm', handler='gemini-pro-vision', model=None, prompt_template=None, extra_kwargs={}, fields=None, classes=None)), ('extraction', TaskConfig(processor='custom', handler='ProofOfFundsExtractor', model=None, prompt_template=None, extra_kwargs={}, fields=None, classes=None))]), 'checks': OrderedDict([('extraction', TaskConfig(processor='custom', handler='ProofOfFundsExtractor', model=None, prompt_template=None, extra_kwargs={}, fields=None, classes=None))])})"
      ]
     },
     "execution_count": 77,
     "metadata": {},
     "output_type": "execute_result"
    }
   ],
   "source": [
    "cfg"
   ]
  },
  {
   "cell_type": "code",
   "execution_count": 78,
   "id": "4ca84bc6-355f-4fcb-94bb-df0ba4b69540",
   "metadata": {},
   "outputs": [
    {
     "data": {
      "text/plain": [
       "'prompt_templates'"
      ]
     },
     "execution_count": 78,
     "metadata": {},
     "output_type": "execute_result"
    }
   ],
   "source": [
    "cfg.general.prompts_dir"
   ]
  },
  {
   "cell_type": "code",
   "execution_count": 79,
   "id": "29ba74fe-9dfb-4942-ad4e-07c3ab371c1e",
   "metadata": {},
   "outputs": [
    {
     "data": {
      "text/plain": [
       "'models'"
      ]
     },
     "execution_count": 79,
     "metadata": {},
     "output_type": "execute_result"
    }
   ],
   "source": [
    "cfg.general.models_dir"
   ]
  },
  {
   "cell_type": "markdown",
   "id": "64c1448a-9ad7-40ac-b194-6242ea87a369",
   "metadata": {},
   "source": [
    "## testing dyn msg"
   ]
  },
  {
   "cell_type": "code",
   "execution_count": 11,
   "id": "aa51372b-44cc-49c9-b9ce-cbbb2d16bdf1",
   "metadata": {},
   "outputs": [],
   "source": [
    "class OCRResponse(BaseModel):\n",
    "    status: str\n",
    "    status_code: int\n",
    "    message: Any"
   ]
  },
  {
   "cell_type": "code",
   "execution_count": 12,
   "id": "351e0067-8f18-4c1b-9349-bbea9042eb8f",
   "metadata": {},
   "outputs": [],
   "source": [
    "rsp = OCRResponse(**{\n",
    "    \"status\": \"OK\",\n",
    "    \"status_code\": 200,\n",
    "    \"junk_attr\": 32,\n",
    "    \"message\": {\n",
    "        \"field1\": 2323,\n",
    "        \"field2\": \"sadada\",\n",
    "    }\n",
    "})"
   ]
  },
  {
   "cell_type": "code",
   "execution_count": 14,
   "id": "b3fc4539-b654-4b21-b7a6-7b610598051b",
   "metadata": {},
   "outputs": [
    {
     "data": {
      "text/plain": [
       "OCRResponse(status='OK', status_code=200, message={'field1': 2323, 'field2': 'sadada'})"
      ]
     },
     "execution_count": 14,
     "metadata": {},
     "output_type": "execute_result"
    }
   ],
   "source": [
    "rsp"
   ]
  },
  {
   "cell_type": "code",
   "execution_count": 19,
   "id": "fa9364ea-9e4f-4e53-9996-0b5b56b2f6ce",
   "metadata": {},
   "outputs": [
    {
     "name": "stdout",
     "output_type": "stream",
     "text": [
      "Reloading 'ocrorchestrator.datamodels.api_io'.\n"
     ]
    }
   ],
   "source": [
    "from ocrorchestrator.datamodels.api_io import OCRException"
   ]
  },
  {
   "cell_type": "code",
   "execution_count": 20,
   "id": "b67a7fa8-67a2-4b09-8a64-a2f0fca4b643",
   "metadata": {},
   "outputs": [],
   "source": [
    "exc = OCRException(ErrorCode.PROCESSING_ERROR)"
   ]
  },
  {
   "cell_type": "code",
   "execution_count": 23,
   "id": "c2ac5187-b52c-4865-9cbb-6690c05d46f4",
   "metadata": {},
   "outputs": [],
   "source": [
    "from fastapi.exception_handlers import http_exception_handler"
   ]
  },
  {
   "cell_type": "code",
   "execution_count": 26,
   "id": "db6b0471-1685-4a53-98e7-0ed4b8b8a927",
   "metadata": {},
   "outputs": [],
   "source": [
    "from ocrorchestrator.routers import ocr_router"
   ]
  },
  {
   "cell_type": "code",
   "execution_count": 31,
   "id": "ecfacd91-662a-46f3-8fe6-dad64a2e2407",
   "metadata": {},
   "outputs": [
    {
     "name": "stdout",
     "output_type": "stream",
     "text": [
      "Reloading 'ocrorchestrator.utils.constants'.\n"
     ]
    },
    {
     "data": {
      "text/plain": [
       "'PROCESSING_ERROR'"
      ]
     },
     "execution_count": 31,
     "metadata": {},
     "output_type": "execute_result"
    }
   ],
   "source": [
    "ErrorCode.PROCESSING_ERROR.name"
   ]
  },
  {
   "cell_type": "code",
   "execution_count": null,
   "id": "0d3f0bf4-c647-4b6e-9e0e-35b7d77aca39",
   "metadata": {},
   "outputs": [],
   "source": []
  }
 ],
 "metadata": {
  "kernelspec": {
   "display_name": "Python 3 (ipykernel)",
   "language": "python",
   "name": "python3"
  },
  "language_info": {
   "codemirror_mode": {
    "name": "ipython",
    "version": 3
   },
   "file_extension": ".py",
   "mimetype": "text/x-python",
   "name": "python",
   "nbconvert_exporter": "python",
   "pygments_lexer": "ipython3",
   "version": "3.9.2"
  }
 },
 "nbformat": 4,
 "nbformat_minor": 5
}
