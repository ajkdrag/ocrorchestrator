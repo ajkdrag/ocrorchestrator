{
 "cells": [
  {
   "cell_type": "code",
   "execution_count": 1,
   "id": "36e8925a-60ea-4881-88fb-2db55663484c",
   "metadata": {},
   "outputs": [],
   "source": [
    "import sys\n",
    "from pathlib import Path"
   ]
  },
  {
   "cell_type": "code",
   "execution_count": 2,
   "id": "50aa8d38-2ae8-40e9-a3aa-241d6578388d",
   "metadata": {},
   "outputs": [],
   "source": [
    "%load_ext autoreload\n",
    "%autoreload 3 -p\n",
    "%matplotlib inline\n"
   ]
  },
  {
   "cell_type": "markdown",
   "id": "dc451168-54cb-405d-b3c8-592c1e2b1cff",
   "metadata": {},
   "source": [
    "## imports"
   ]
  },
  {
   "cell_type": "code",
   "execution_count": 7,
   "id": "16814ad6-93ca-4f3b-9c3f-822313c7d38e",
   "metadata": {},
   "outputs": [
    {
     "name": "stdout",
     "output_type": "stream",
     "text": [
      "Reloading 'ocrorchestrator.utils.constants'.\n",
      "Reloading 'ocrorchestrator.repos.factory'.\n"
     ]
    }
   ],
   "source": [
    "from devtools import pprint"
   ]
  },
  {
   "cell_type": "code",
   "execution_count": 8,
   "id": "23c47bbc-f48f-445d-b57d-bb41f0fa0564",
   "metadata": {},
   "outputs": [],
   "source": [
    "from ocrorchestrator.repos.factory import RepoFactory"
   ]
  },
  {
   "cell_type": "code",
   "execution_count": 6,
   "id": "cc318d64-66b9-4297-8a58-24d89b0f2ff6",
   "metadata": {},
   "outputs": [
    {
     "name": "stdout",
     "output_type": "stream",
     "text": [
      "Reloading 'ocrorchestrator.repos.local'.\n",
      "Reloading 'ocrorchestrator.repos.factory'.\n"
     ]
    }
   ],
   "source": [
    "os.environ[\"GOOGLE_APPLICATION_CREDENTIALS\"] = \"../../../secrets/calm-producer-428509-t9-b428a168489d.json\""
   ]
  },
  {
   "cell_type": "code",
   "execution_count": 23,
   "id": "2c1f5c27-4707-47db-b193-ba5de767b84e",
   "metadata": {},
   "outputs": [],
   "source": [
    "os.environ[\"REPO_TYPE\"] = \"gcs\"\n",
    "os.environ[\"REMOTE_PATH\"] = \"ocrorchestrator\""
   ]
  },
  {
   "cell_type": "markdown",
   "id": "7d38e4cc-711c-495b-a28a-4e6e24f8ede7",
   "metadata": {},
   "source": [
    "## testing repo"
   ]
  },
  {
   "cell_type": "code",
   "execution_count": 31,
   "id": "c377d393-3e20-4e45-8d23-dd203f73b7f8",
   "metadata": {},
   "outputs": [
    {
     "name": "stdout",
     "output_type": "stream",
     "text": [
      "Reloading 'ocrorchestrator.datamodels.api_io'.\n"
     ]
    }
   ],
   "source": [
    "repo = RepoFactory.create_repo(os.environ[\"REPO_TYPE\"])"
   ]
  },
  {
   "cell_type": "code",
   "execution_count": 36,
   "id": "f02d3cc5-3ea1-40f5-a036-18e4bd58b9c8",
   "metadata": {},
   "outputs": [
    {
     "name": "stdout",
     "output_type": "stream",
     "text": [
      "Reloading 'ocrorchestrator'.\n",
      "Reloading 'ocrorchestrator.repos.gcs'.\n",
      "Reloading 'ocrorchestrator.repos'.\n",
      "Reloading 'ocrorchestrator.utils.constants'.\n",
      "Reloading 'ocrorchestrator.repos.local'.\n",
      "Reloading 'ocrorchestrator.datamodels.api_io'.\n",
      "Reloading 'ocrorchestrator.repos.base'.\n",
      "Reloading 'ocrorchestrator.repos.factory'.\n"
     ]
    }
   ],
   "source": [
    "from fastapi import HTTPException"
   ]
  },
  {
   "cell_type": "code",
   "execution_count": 40,
   "id": "245a1a2b-8605-4cbf-b877-993ef0a80b76",
   "metadata": {},
   "outputs": [
    {
     "name": "stdout",
     "output_type": "stream",
     "text": [
      "Reloading 'ocrorchestrator.repos.gcs'.\n",
      "{\"status_code\": 702, \"status\": \"REPO_OBJECT_DOWNLOAD_ERROR\", \"event\": \"Repo operation error in download_obj\", \"level\": \"error\", \"exception\": \"Traceback (most recent call last):\\n  File \\\"/home/ajkdrag/workspace/projects/ocrorchestrator/.venv/lib/python3.9/site-packages/google/cloud/storage/blob.py\\\", line 4353, in _prep_and_do_download\\n    self._do_download(\\n  File \\\"/home/ajkdrag/workspace/projects/ocrorchestrator/.venv/lib/python3.9/site-packages/google/cloud/storage/blob.py\\\", line 1023, in _do_download\\n    response = download.consume(transport, timeout=timeout)\\n  File \\\"/home/ajkdrag/workspace/projects/ocrorchestrator/.venv/lib/python3.9/site-packages/google/resumable_media/requests/download.py\\\", line 263, in consume\\n    return _request_helpers.wait_and_retry(\\n  File \\\"/home/ajkdrag/workspace/projects/ocrorchestrator/.venv/lib/python3.9/site-packages/google/resumable_media/requests/_request_helpers.py\\\", line 155, in wait_and_retry\\n    response = func()\\n  File \\\"/home/ajkdrag/workspace/projects/ocrorchestrator/.venv/lib/python3.9/site-packages/google/resumable_media/requests/download.py\\\", line 245, in retriable_request\\n    self._process_response(result)\\n  File \\\"/home/ajkdrag/workspace/projects/ocrorchestrator/.venv/lib/python3.9/site-packages/google/resumable_media/_download.py\\\", line 188, in _process_response\\n    _helpers.require_status_code(\\n  File \\\"/home/ajkdrag/workspace/projects/ocrorchestrator/.venv/lib/python3.9/site-packages/google/resumable_media/_helpers.py\\\", line 108, in require_status_code\\n    raise common.InvalidResponse(\\ngoogle.resumable_media.common.InvalidResponse: ('Request failed with status code', 404, 'Expected one of', <HTTPStatus.OK: 200>, <HTTPStatus.PARTIAL_CONTENT: 206>)\\n\\nDuring handling of the above exception, another exception occurred:\\n\\nTraceback (most recent call last):\\n  File \\\"/home/ajkdrag/workspace/projects/ocrorchestrator/src/ocrorchestrator/repos/base.py\\\", line 19, in wrapper\\n    return func(self, *args, **kwargs)\\n  File \\\"/home/ajkdrag/workspace/projects/ocrorchestrator/src/ocrorchestrator/repos/base.py\\\", line 71, in download_obj\\n    return self._download_obj(path)\\n  File \\\"/home/ajkdrag/workspace/projects/ocrorchestrator/src/ocrorchestrator/repos/gcs.py\\\", line 35, in _download_obj\\n    blob.download_to_filename(str(local_file_path))\\n  File \\\"/home/ajkdrag/workspace/projects/ocrorchestrator/.venv/lib/python3.9/site-packages/google/cloud/storage/blob.py\\\", line 1318, in download_to_filename\\n    self._handle_filename_and_download(\\n  File \\\"/home/ajkdrag/workspace/projects/ocrorchestrator/.venv/lib/python3.9/site-packages/google/cloud/storage/blob.py\\\", line 1194, in _handle_filename_and_download\\n    self._prep_and_do_download(\\n  File \\\"/home/ajkdrag/workspace/projects/ocrorchestrator/.venv/lib/python3.9/site-packages/google/cloud/storage/blob.py\\\", line 4366, in _prep_and_do_download\\n    _raise_from_invalid_response(exc)\\n  File \\\"/home/ajkdrag/workspace/projects/ocrorchestrator/.venv/lib/python3.9/site-packages/google/cloud/storage/blob.py\\\", line 4838, in _raise_from_invalid_response\\n    raise exceptions.from_http_status(response.status_code, message, response=response)\\ngoogle.api_core.exceptions.NotFound: 404 GET https://storage.googleapis.com/download/storage/v1/b/ocrorchestrator/o/models%2Frs.pt?alt=media: No such object: ocrorchestrator/models/rs.pt: ('Request failed with status code', 404, 'Expected one of', <HTTPStatus.OK: 200>, <HTTPStatus.PARTIAL_CONTENT: 206>)\", \"func_name\": \"wrapper\", \"lineno\": 28, \"timestamp\": \"2024-07-05T10:20:05.505129Z\"}\n"
     ]
    },
    {
     "ename": "RepoException",
     "evalue": "702: REPO_OBJECT_DOWNLOAD_ERROR: Traceback (most recent call last):\n  File \"/home/ajkdrag/workspace/projects/ocrorchestrator/.venv/lib/python3.9/site-packages/google/cloud/storage/blob.py\", line 4353, in _prep_and_do_download\n    self._do_download(\n  File \"/home/ajkdrag/workspace/projects/ocrorchestrator/.venv/lib/python3.9/site-packages/google/cloud/storage/blob.py\", line 1023, in _do_download\n    response = download.consume(transport, timeout=timeout)\n  File \"/home/ajkdrag/workspace/projects/ocrorchestrator/.venv/lib/python3.9/site-packages/google/resumable_media/requests/download.py\", line 263, in consume\n    return _request_helpers.wait_and_retry(\n  File \"/home/ajkdrag/workspace/projects/ocrorchestrator/.venv/lib/python3.9/site-packages/google/resumable_media/requests/_request_helpers.py\", line 155, in wait_and_retry\n    response = func()\n  File \"/home/ajkdrag/workspace/projects/ocrorchestrator/.venv/lib/python3.9/site-packages/google/resumable_media/requests/download.py\", line 245, in retriable_request\n    self._process_response(result)\n  File \"/home/ajkdrag/workspace/projects/ocrorchestrator/.venv/lib/python3.9/site-packages/google/resumable_media/_download.py\", line 188, in _process_response\n    _helpers.require_status_code(\n  File \"/home/ajkdrag/workspace/projects/ocrorchestrator/.venv/lib/python3.9/site-packages/google/resumable_media/_helpers.py\", line 108, in require_status_code\n    raise common.InvalidResponse(\ngoogle.resumable_media.common.InvalidResponse: ('Request failed with status code', 404, 'Expected one of', <HTTPStatus.OK: 200>, <HTTPStatus.PARTIAL_CONTENT: 206>)\n\nDuring handling of the above exception, another exception occurred:\n\nTraceback (most recent call last):\n  File \"/home/ajkdrag/workspace/projects/ocrorchestrator/src/ocrorchestrator/repos/base.py\", line 19, in wrapper\n    return func(self, *args, **kwargs)\n  File \"/home/ajkdrag/workspace/projects/ocrorchestrator/src/ocrorchestrator/repos/base.py\", line 71, in download_obj\n    return self._download_obj(path)\n  File \"/home/ajkdrag/workspace/projects/ocrorchestrator/src/ocrorchestrator/repos/gcs.py\", line 35, in _download_obj\n    blob.download_to_filename(str(local_file_path))\n  File \"/home/ajkdrag/workspace/projects/ocrorchestrator/.venv/lib/python3.9/site-packages/google/cloud/storage/blob.py\", line 1318, in download_to_filename\n    self._handle_filename_and_download(\n  File \"/home/ajkdrag/workspace/projects/ocrorchestrator/.venv/lib/python3.9/site-packages/google/cloud/storage/blob.py\", line 1194, in _handle_filename_and_download\n    self._prep_and_do_download(\n  File \"/home/ajkdrag/workspace/projects/ocrorchestrator/.venv/lib/python3.9/site-packages/google/cloud/storage/blob.py\", line 4366, in _prep_and_do_download\n    _raise_from_invalid_response(exc)\n  File \"/home/ajkdrag/workspace/projects/ocrorchestrator/.venv/lib/python3.9/site-packages/google/cloud/storage/blob.py\", line 4838, in _raise_from_invalid_response\n    raise exceptions.from_http_status(response.status_code, message, response=response)\ngoogle.api_core.exceptions.NotFound: 404 GET https://storage.googleapis.com/download/storage/v1/b/ocrorchestrator/o/models%2Frs.pt?alt=media: No such object: ocrorchestrator/models/rs.pt: ('Request failed with status code', 404, 'Expected one of', <HTTPStatus.OK: 200>, <HTTPStatus.PARTIAL_CONTENT: 206>)\n",
     "output_type": "error",
     "traceback": [
      "\u001b[0;31m---------------------------------------------------------------------------\u001b[0m",
      "\u001b[0;31mInvalidResponse\u001b[0m                           Traceback (most recent call last)",
      "File \u001b[0;32m~/workspace/projects/ocrorchestrator/.venv/lib/python3.9/site-packages/google/cloud/storage/blob.py:4353\u001b[0m, in \u001b[0;36mBlob._prep_and_do_download\u001b[0;34m(self, file_obj, client, start, end, raw_download, if_etag_match, if_etag_not_match, if_generation_match, if_generation_not_match, if_metageneration_match, if_metageneration_not_match, timeout, checksum, retry, command)\u001b[0m\n\u001b[1;32m   4352\u001b[0m \u001b[38;5;28;01mtry\u001b[39;00m:\n\u001b[0;32m-> 4353\u001b[0m     \u001b[38;5;28;43mself\u001b[39;49m\u001b[38;5;241;43m.\u001b[39;49m\u001b[43m_do_download\u001b[49m\u001b[43m(\u001b[49m\n\u001b[1;32m   4354\u001b[0m \u001b[43m        \u001b[49m\u001b[43mtransport\u001b[49m\u001b[43m,\u001b[49m\n\u001b[1;32m   4355\u001b[0m \u001b[43m        \u001b[49m\u001b[43mfile_obj\u001b[49m\u001b[43m,\u001b[49m\n\u001b[1;32m   4356\u001b[0m \u001b[43m        \u001b[49m\u001b[43mdownload_url\u001b[49m\u001b[43m,\u001b[49m\n\u001b[1;32m   4357\u001b[0m \u001b[43m        \u001b[49m\u001b[43mheaders\u001b[49m\u001b[43m,\u001b[49m\n\u001b[1;32m   4358\u001b[0m \u001b[43m        \u001b[49m\u001b[43mstart\u001b[49m\u001b[43m,\u001b[49m\n\u001b[1;32m   4359\u001b[0m \u001b[43m        \u001b[49m\u001b[43mend\u001b[49m\u001b[43m,\u001b[49m\n\u001b[1;32m   4360\u001b[0m \u001b[43m        \u001b[49m\u001b[43mraw_download\u001b[49m\u001b[43m,\u001b[49m\n\u001b[1;32m   4361\u001b[0m \u001b[43m        \u001b[49m\u001b[43mtimeout\u001b[49m\u001b[38;5;241;43m=\u001b[39;49m\u001b[43mtimeout\u001b[49m\u001b[43m,\u001b[49m\n\u001b[1;32m   4362\u001b[0m \u001b[43m        \u001b[49m\u001b[43mchecksum\u001b[49m\u001b[38;5;241;43m=\u001b[39;49m\u001b[43mchecksum\u001b[49m\u001b[43m,\u001b[49m\n\u001b[1;32m   4363\u001b[0m \u001b[43m        \u001b[49m\u001b[43mretry\u001b[49m\u001b[38;5;241;43m=\u001b[39;49m\u001b[43mretry\u001b[49m\u001b[43m,\u001b[49m\n\u001b[1;32m   4364\u001b[0m \u001b[43m    \u001b[49m\u001b[43m)\u001b[49m\n\u001b[1;32m   4365\u001b[0m \u001b[38;5;28;01mexcept\u001b[39;00m resumable_media\u001b[38;5;241m.\u001b[39mInvalidResponse \u001b[38;5;28;01mas\u001b[39;00m exc:\n",
      "File \u001b[0;32m~/workspace/projects/ocrorchestrator/.venv/lib/python3.9/site-packages/google/cloud/storage/blob.py:1023\u001b[0m, in \u001b[0;36mBlob._do_download\u001b[0;34m(self, transport, file_obj, download_url, headers, start, end, raw_download, timeout, checksum, retry)\u001b[0m\n\u001b[1;32m   1022\u001b[0m download\u001b[38;5;241m.\u001b[39m_retry_strategy \u001b[38;5;241m=\u001b[39m retry_strategy\n\u001b[0;32m-> 1023\u001b[0m response \u001b[38;5;241m=\u001b[39m \u001b[43mdownload\u001b[49m\u001b[38;5;241;43m.\u001b[39;49m\u001b[43mconsume\u001b[49m\u001b[43m(\u001b[49m\u001b[43mtransport\u001b[49m\u001b[43m,\u001b[49m\u001b[43m \u001b[49m\u001b[43mtimeout\u001b[49m\u001b[38;5;241;43m=\u001b[39;49m\u001b[43mtimeout\u001b[49m\u001b[43m)\u001b[49m\n\u001b[1;32m   1024\u001b[0m \u001b[38;5;28mself\u001b[39m\u001b[38;5;241m.\u001b[39m_extract_headers_from_download(response)\n",
      "File \u001b[0;32m~/workspace/projects/ocrorchestrator/.venv/lib/python3.9/site-packages/google/resumable_media/requests/download.py:263\u001b[0m, in \u001b[0;36mDownload.consume\u001b[0;34m(self, transport, timeout)\u001b[0m\n\u001b[1;32m    261\u001b[0m     \u001b[38;5;28;01mreturn\u001b[39;00m result\n\u001b[0;32m--> 263\u001b[0m \u001b[38;5;28;01mreturn\u001b[39;00m \u001b[43m_request_helpers\u001b[49m\u001b[38;5;241;43m.\u001b[39;49m\u001b[43mwait_and_retry\u001b[49m\u001b[43m(\u001b[49m\n\u001b[1;32m    264\u001b[0m \u001b[43m    \u001b[49m\u001b[43mretriable_request\u001b[49m\u001b[43m,\u001b[49m\u001b[43m \u001b[49m\u001b[38;5;28;43mself\u001b[39;49m\u001b[38;5;241;43m.\u001b[39;49m\u001b[43m_get_status_code\u001b[49m\u001b[43m,\u001b[49m\u001b[43m \u001b[49m\u001b[38;5;28;43mself\u001b[39;49m\u001b[38;5;241;43m.\u001b[39;49m\u001b[43m_retry_strategy\u001b[49m\n\u001b[1;32m    265\u001b[0m \u001b[43m\u001b[49m\u001b[43m)\u001b[49m\n",
      "File \u001b[0;32m~/workspace/projects/ocrorchestrator/.venv/lib/python3.9/site-packages/google/resumable_media/requests/_request_helpers.py:155\u001b[0m, in \u001b[0;36mwait_and_retry\u001b[0;34m(func, get_status_code, retry_strategy)\u001b[0m\n\u001b[1;32m    154\u001b[0m \u001b[38;5;28;01mtry\u001b[39;00m:\n\u001b[0;32m--> 155\u001b[0m     response \u001b[38;5;241m=\u001b[39m \u001b[43mfunc\u001b[49m\u001b[43m(\u001b[49m\u001b[43m)\u001b[49m\n\u001b[1;32m    156\u001b[0m \u001b[38;5;28;01mexcept\u001b[39;00m _CONNECTION_ERROR_CLASSES \u001b[38;5;28;01mas\u001b[39;00m e:\n",
      "File \u001b[0;32m~/workspace/projects/ocrorchestrator/.venv/lib/python3.9/site-packages/google/resumable_media/requests/download.py:245\u001b[0m, in \u001b[0;36mDownload.consume.<locals>.retriable_request\u001b[0;34m()\u001b[0m\n\u001b[1;32m    241\u001b[0m     \u001b[38;5;28mself\u001b[39m\u001b[38;5;241m.\u001b[39m_object_generation \u001b[38;5;241m=\u001b[39m _helpers\u001b[38;5;241m.\u001b[39m_parse_generation_header(\n\u001b[1;32m    242\u001b[0m         result, \u001b[38;5;28mself\u001b[39m\u001b[38;5;241m.\u001b[39m_get_headers\n\u001b[1;32m    243\u001b[0m     )\n\u001b[0;32m--> 245\u001b[0m \u001b[38;5;28;43mself\u001b[39;49m\u001b[38;5;241;43m.\u001b[39;49m\u001b[43m_process_response\u001b[49m\u001b[43m(\u001b[49m\u001b[43mresult\u001b[49m\u001b[43m)\u001b[49m\n\u001b[1;32m    247\u001b[0m \u001b[38;5;66;03m# With decompressive transcoding, GCS serves back the whole file regardless of the range request,\u001b[39;00m\n\u001b[1;32m    248\u001b[0m \u001b[38;5;66;03m# thus we reset the stream position to the start of the stream.\u001b[39;00m\n\u001b[1;32m    249\u001b[0m \u001b[38;5;66;03m# See: https://cloud.google.com/storage/docs/transcoding#range\u001b[39;00m\n",
      "File \u001b[0;32m~/workspace/projects/ocrorchestrator/.venv/lib/python3.9/site-packages/google/resumable_media/_download.py:188\u001b[0m, in \u001b[0;36mDownload._process_response\u001b[0;34m(self, response)\u001b[0m\n\u001b[1;32m    187\u001b[0m \u001b[38;5;28mself\u001b[39m\u001b[38;5;241m.\u001b[39m_finished \u001b[38;5;241m=\u001b[39m \u001b[38;5;28;01mTrue\u001b[39;00m\n\u001b[0;32m--> 188\u001b[0m \u001b[43m_helpers\u001b[49m\u001b[38;5;241;43m.\u001b[39;49m\u001b[43mrequire_status_code\u001b[49m\u001b[43m(\u001b[49m\n\u001b[1;32m    189\u001b[0m \u001b[43m    \u001b[49m\u001b[43mresponse\u001b[49m\u001b[43m,\u001b[49m\u001b[43m \u001b[49m\u001b[43m_ACCEPTABLE_STATUS_CODES\u001b[49m\u001b[43m,\u001b[49m\u001b[43m \u001b[49m\u001b[38;5;28;43mself\u001b[39;49m\u001b[38;5;241;43m.\u001b[39;49m\u001b[43m_get_status_code\u001b[49m\n\u001b[1;32m    190\u001b[0m \u001b[43m\u001b[49m\u001b[43m)\u001b[49m\n",
      "File \u001b[0;32m~/workspace/projects/ocrorchestrator/.venv/lib/python3.9/site-packages/google/resumable_media/_helpers.py:108\u001b[0m, in \u001b[0;36mrequire_status_code\u001b[0;34m(response, status_codes, get_status_code, callback)\u001b[0m\n\u001b[1;32m    107\u001b[0m         callback()\n\u001b[0;32m--> 108\u001b[0m     \u001b[38;5;28;01mraise\u001b[39;00m common\u001b[38;5;241m.\u001b[39mInvalidResponse(\n\u001b[1;32m    109\u001b[0m         response,\n\u001b[1;32m    110\u001b[0m         \u001b[38;5;124m\"\u001b[39m\u001b[38;5;124mRequest failed with status code\u001b[39m\u001b[38;5;124m\"\u001b[39m,\n\u001b[1;32m    111\u001b[0m         status_code,\n\u001b[1;32m    112\u001b[0m         \u001b[38;5;124m\"\u001b[39m\u001b[38;5;124mExpected one of\u001b[39m\u001b[38;5;124m\"\u001b[39m,\n\u001b[1;32m    113\u001b[0m         \u001b[38;5;241m*\u001b[39mstatus_codes\n\u001b[1;32m    114\u001b[0m     )\n\u001b[1;32m    115\u001b[0m \u001b[38;5;28;01mreturn\u001b[39;00m status_code\n",
      "\u001b[0;31mInvalidResponse\u001b[0m: ('Request failed with status code', 404, 'Expected one of', <HTTPStatus.OK: 200>, <HTTPStatus.PARTIAL_CONTENT: 206>)",
      "\nDuring handling of the above exception, another exception occurred:\n",
      "\u001b[0;31mNotFound\u001b[0m                                  Traceback (most recent call last)",
      "File \u001b[0;32m~/workspace/projects/ocrorchestrator/src/ocrorchestrator/repos/base.py:19\u001b[0m, in \u001b[0;36mrepo_error_handler.<locals>.wrapper\u001b[0;34m(self, *args, **kwargs)\u001b[0m\n\u001b[1;32m     18\u001b[0m \u001b[38;5;28;01mtry\u001b[39;00m:\n\u001b[0;32m---> 19\u001b[0m     \u001b[38;5;28;01mreturn\u001b[39;00m \u001b[43mfunc\u001b[49m\u001b[43m(\u001b[49m\u001b[38;5;28;43mself\u001b[39;49m\u001b[43m,\u001b[49m\u001b[43m \u001b[49m\u001b[38;5;241;43m*\u001b[39;49m\u001b[43margs\u001b[49m\u001b[43m,\u001b[49m\u001b[43m \u001b[49m\u001b[38;5;241;43m*\u001b[39;49m\u001b[38;5;241;43m*\u001b[39;49m\u001b[43mkwargs\u001b[49m\u001b[43m)\u001b[49m\n\u001b[1;32m     20\u001b[0m \u001b[38;5;28;01mexcept\u001b[39;00m \u001b[38;5;167;01mException\u001b[39;00m \u001b[38;5;28;01mas\u001b[39;00m e:\n",
      "File \u001b[0;32m~/workspace/projects/ocrorchestrator/src/ocrorchestrator/repos/base.py:71\u001b[0m, in \u001b[0;36mBaseRepo.download_obj\u001b[0;34m(self, path)\u001b[0m\n\u001b[1;32m     69\u001b[0m \u001b[38;5;129m@repo_error_handler\u001b[39m\n\u001b[1;32m     70\u001b[0m \u001b[38;5;28;01mdef\u001b[39;00m \u001b[38;5;21mdownload_obj\u001b[39m(\u001b[38;5;28mself\u001b[39m, path: \u001b[38;5;28mstr\u001b[39m) \u001b[38;5;241m-\u001b[39m\u001b[38;5;241m>\u001b[39m \u001b[38;5;28;01mNone\u001b[39;00m:\n\u001b[0;32m---> 71\u001b[0m     \u001b[38;5;28;01mreturn\u001b[39;00m \u001b[38;5;28;43mself\u001b[39;49m\u001b[38;5;241;43m.\u001b[39;49m\u001b[43m_download_obj\u001b[49m\u001b[43m(\u001b[49m\u001b[43mpath\u001b[49m\u001b[43m)\u001b[49m\n",
      "File \u001b[0;32m~/workspace/projects/ocrorchestrator/src/ocrorchestrator/repos/gcs.py:35\u001b[0m, in \u001b[0;36mGCSRepo._download_obj\u001b[0;34m(self, path)\u001b[0m\n\u001b[1;32m     34\u001b[0m local_file_path\u001b[38;5;241m.\u001b[39mparent\u001b[38;5;241m.\u001b[39mmkdir(parents\u001b[38;5;241m=\u001b[39m\u001b[38;5;28;01mTrue\u001b[39;00m, exist_ok\u001b[38;5;241m=\u001b[39m\u001b[38;5;28;01mTrue\u001b[39;00m)\n\u001b[0;32m---> 35\u001b[0m \u001b[43mblob\u001b[49m\u001b[38;5;241;43m.\u001b[39;49m\u001b[43mdownload_to_filename\u001b[49m\u001b[43m(\u001b[49m\u001b[38;5;28;43mstr\u001b[39;49m\u001b[43m(\u001b[49m\u001b[43mlocal_file_path\u001b[49m\u001b[43m)\u001b[49m\u001b[43m)\u001b[49m\n\u001b[1;32m     36\u001b[0m \u001b[38;5;28;01mreturn\u001b[39;00m \u001b[38;5;28mstr\u001b[39m(local_file_path)\n",
      "File \u001b[0;32m~/workspace/projects/ocrorchestrator/.venv/lib/python3.9/site-packages/google/cloud/storage/blob.py:1318\u001b[0m, in \u001b[0;36mBlob.download_to_filename\u001b[0;34m(self, filename, client, start, end, raw_download, if_etag_match, if_etag_not_match, if_generation_match, if_generation_not_match, if_metageneration_match, if_metageneration_not_match, timeout, checksum, retry)\u001b[0m\n\u001b[1;32m   1227\u001b[0m \u001b[38;5;250m\u001b[39m\u001b[38;5;124;03m\"\"\"Download the contents of this blob into a named file.\u001b[39;00m\n\u001b[1;32m   1228\u001b[0m \n\u001b[1;32m   1229\u001b[0m \u001b[38;5;124;03mIf :attr:`user_project` is set on the bucket, bills the API request\u001b[39;00m\n\u001b[0;32m   (...)\u001b[0m\n\u001b[1;32m   1315\u001b[0m \u001b[38;5;124;03m:raises: :class:`google.cloud.exceptions.NotFound`\u001b[39;00m\n\u001b[1;32m   1316\u001b[0m \u001b[38;5;124;03m\"\"\"\u001b[39;00m\n\u001b[0;32m-> 1318\u001b[0m \u001b[38;5;28;43mself\u001b[39;49m\u001b[38;5;241;43m.\u001b[39;49m\u001b[43m_handle_filename_and_download\u001b[49m\u001b[43m(\u001b[49m\n\u001b[1;32m   1319\u001b[0m \u001b[43m    \u001b[49m\u001b[43mfilename\u001b[49m\u001b[43m,\u001b[49m\n\u001b[1;32m   1320\u001b[0m \u001b[43m    \u001b[49m\u001b[43mclient\u001b[49m\u001b[38;5;241;43m=\u001b[39;49m\u001b[43mclient\u001b[49m\u001b[43m,\u001b[49m\n\u001b[1;32m   1321\u001b[0m \u001b[43m    \u001b[49m\u001b[43mstart\u001b[49m\u001b[38;5;241;43m=\u001b[39;49m\u001b[43mstart\u001b[49m\u001b[43m,\u001b[49m\n\u001b[1;32m   1322\u001b[0m \u001b[43m    \u001b[49m\u001b[43mend\u001b[49m\u001b[38;5;241;43m=\u001b[39;49m\u001b[43mend\u001b[49m\u001b[43m,\u001b[49m\n\u001b[1;32m   1323\u001b[0m \u001b[43m    \u001b[49m\u001b[43mraw_download\u001b[49m\u001b[38;5;241;43m=\u001b[39;49m\u001b[43mraw_download\u001b[49m\u001b[43m,\u001b[49m\n\u001b[1;32m   1324\u001b[0m \u001b[43m    \u001b[49m\u001b[43mif_etag_match\u001b[49m\u001b[38;5;241;43m=\u001b[39;49m\u001b[43mif_etag_match\u001b[49m\u001b[43m,\u001b[49m\n\u001b[1;32m   1325\u001b[0m \u001b[43m    \u001b[49m\u001b[43mif_etag_not_match\u001b[49m\u001b[38;5;241;43m=\u001b[39;49m\u001b[43mif_etag_not_match\u001b[49m\u001b[43m,\u001b[49m\n\u001b[1;32m   1326\u001b[0m \u001b[43m    \u001b[49m\u001b[43mif_generation_match\u001b[49m\u001b[38;5;241;43m=\u001b[39;49m\u001b[43mif_generation_match\u001b[49m\u001b[43m,\u001b[49m\n\u001b[1;32m   1327\u001b[0m \u001b[43m    \u001b[49m\u001b[43mif_generation_not_match\u001b[49m\u001b[38;5;241;43m=\u001b[39;49m\u001b[43mif_generation_not_match\u001b[49m\u001b[43m,\u001b[49m\n\u001b[1;32m   1328\u001b[0m \u001b[43m    \u001b[49m\u001b[43mif_metageneration_match\u001b[49m\u001b[38;5;241;43m=\u001b[39;49m\u001b[43mif_metageneration_match\u001b[49m\u001b[43m,\u001b[49m\n\u001b[1;32m   1329\u001b[0m \u001b[43m    \u001b[49m\u001b[43mif_metageneration_not_match\u001b[49m\u001b[38;5;241;43m=\u001b[39;49m\u001b[43mif_metageneration_not_match\u001b[49m\u001b[43m,\u001b[49m\n\u001b[1;32m   1330\u001b[0m \u001b[43m    \u001b[49m\u001b[43mtimeout\u001b[49m\u001b[38;5;241;43m=\u001b[39;49m\u001b[43mtimeout\u001b[49m\u001b[43m,\u001b[49m\n\u001b[1;32m   1331\u001b[0m \u001b[43m    \u001b[49m\u001b[43mchecksum\u001b[49m\u001b[38;5;241;43m=\u001b[39;49m\u001b[43mchecksum\u001b[49m\u001b[43m,\u001b[49m\n\u001b[1;32m   1332\u001b[0m \u001b[43m    \u001b[49m\u001b[43mretry\u001b[49m\u001b[38;5;241;43m=\u001b[39;49m\u001b[43mretry\u001b[49m\u001b[43m,\u001b[49m\n\u001b[1;32m   1333\u001b[0m \u001b[43m\u001b[49m\u001b[43m)\u001b[49m\n",
      "File \u001b[0;32m~/workspace/projects/ocrorchestrator/.venv/lib/python3.9/site-packages/google/cloud/storage/blob.py:1194\u001b[0m, in \u001b[0;36mBlob._handle_filename_and_download\u001b[0;34m(self, filename, *args, **kwargs)\u001b[0m\n\u001b[1;32m   1193\u001b[0m     \u001b[38;5;28;01mwith\u001b[39;00m \u001b[38;5;28mopen\u001b[39m(filename, \u001b[38;5;124m\"\u001b[39m\u001b[38;5;124mwb\u001b[39m\u001b[38;5;124m\"\u001b[39m) \u001b[38;5;28;01mas\u001b[39;00m file_obj:\n\u001b[0;32m-> 1194\u001b[0m         \u001b[38;5;28;43mself\u001b[39;49m\u001b[38;5;241;43m.\u001b[39;49m\u001b[43m_prep_and_do_download\u001b[49m\u001b[43m(\u001b[49m\n\u001b[1;32m   1195\u001b[0m \u001b[43m            \u001b[49m\u001b[43mfile_obj\u001b[49m\u001b[43m,\u001b[49m\n\u001b[1;32m   1196\u001b[0m \u001b[43m            \u001b[49m\u001b[38;5;241;43m*\u001b[39;49m\u001b[43margs\u001b[49m\u001b[43m,\u001b[49m\n\u001b[1;32m   1197\u001b[0m \u001b[43m            \u001b[49m\u001b[38;5;241;43m*\u001b[39;49m\u001b[38;5;241;43m*\u001b[39;49m\u001b[43mkwargs\u001b[49m\u001b[43m,\u001b[49m\n\u001b[1;32m   1198\u001b[0m \u001b[43m        \u001b[49m\u001b[43m)\u001b[49m\n\u001b[1;32m   1200\u001b[0m \u001b[38;5;28;01mexcept\u001b[39;00m resumable_media\u001b[38;5;241m.\u001b[39mDataCorruption:\n\u001b[1;32m   1201\u001b[0m     \u001b[38;5;66;03m# Delete the corrupt downloaded file.\u001b[39;00m\n",
      "File \u001b[0;32m~/workspace/projects/ocrorchestrator/.venv/lib/python3.9/site-packages/google/cloud/storage/blob.py:4366\u001b[0m, in \u001b[0;36mBlob._prep_and_do_download\u001b[0;34m(self, file_obj, client, start, end, raw_download, if_etag_match, if_etag_not_match, if_generation_match, if_generation_not_match, if_metageneration_match, if_metageneration_not_match, timeout, checksum, retry, command)\u001b[0m\n\u001b[1;32m   4365\u001b[0m \u001b[38;5;28;01mexcept\u001b[39;00m resumable_media\u001b[38;5;241m.\u001b[39mInvalidResponse \u001b[38;5;28;01mas\u001b[39;00m exc:\n\u001b[0;32m-> 4366\u001b[0m     \u001b[43m_raise_from_invalid_response\u001b[49m\u001b[43m(\u001b[49m\u001b[43mexc\u001b[49m\u001b[43m)\u001b[49m\n",
      "File \u001b[0;32m~/workspace/projects/ocrorchestrator/.venv/lib/python3.9/site-packages/google/cloud/storage/blob.py:4838\u001b[0m, in \u001b[0;36m_raise_from_invalid_response\u001b[0;34m(error)\u001b[0m\n\u001b[1;32m   4836\u001b[0m message \u001b[38;5;241m=\u001b[39m \u001b[38;5;124mf\u001b[39m\u001b[38;5;124m\"\u001b[39m\u001b[38;5;132;01m{\u001b[39;00mresponse\u001b[38;5;241m.\u001b[39mrequest\u001b[38;5;241m.\u001b[39mmethod\u001b[38;5;132;01m}\u001b[39;00m\u001b[38;5;124m \u001b[39m\u001b[38;5;132;01m{\u001b[39;00mresponse\u001b[38;5;241m.\u001b[39mrequest\u001b[38;5;241m.\u001b[39murl\u001b[38;5;132;01m}\u001b[39;00m\u001b[38;5;124m: \u001b[39m\u001b[38;5;132;01m{\u001b[39;00merror_message\u001b[38;5;132;01m}\u001b[39;00m\u001b[38;5;124m\"\u001b[39m\n\u001b[0;32m-> 4838\u001b[0m \u001b[38;5;28;01mraise\u001b[39;00m exceptions\u001b[38;5;241m.\u001b[39mfrom_http_status(response\u001b[38;5;241m.\u001b[39mstatus_code, message, response\u001b[38;5;241m=\u001b[39mresponse)\n",
      "\u001b[0;31mNotFound\u001b[0m: 404 GET https://storage.googleapis.com/download/storage/v1/b/ocrorchestrator/o/models%2Frs.pt?alt=media: No such object: ocrorchestrator/models/rs.pt: ('Request failed with status code', 404, 'Expected one of', <HTTPStatus.OK: 200>, <HTTPStatus.PARTIAL_CONTENT: 206>)",
      "\nThe above exception was the direct cause of the following exception:\n",
      "\u001b[0;31mRepoException\u001b[0m                             Traceback (most recent call last)",
      "Cell \u001b[0;32mIn[40], line 1\u001b[0m\n\u001b[0;32m----> 1\u001b[0m \u001b[43mrepo\u001b[49m\u001b[38;5;241;43m.\u001b[39;49m\u001b[43mdownload_obj\u001b[49m\u001b[43m(\u001b[49m\u001b[38;5;124;43m\"\u001b[39;49m\u001b[38;5;124;43mmodels/rs.pt\u001b[39;49m\u001b[38;5;124;43m\"\u001b[39;49m\u001b[43m)\u001b[49m\n",
      "File \u001b[0;32m~/workspace/projects/ocrorchestrator/src/ocrorchestrator/repos/base.py:34\u001b[0m, in \u001b[0;36mrepo_error_handler.<locals>.wrapper\u001b[0;34m(self, *args, **kwargs)\u001b[0m\n\u001b[1;32m     23\u001b[0m error_code \u001b[38;5;241m=\u001b[39m (\n\u001b[1;32m     24\u001b[0m     ErrorCode\u001b[38;5;241m.\u001b[39mREPO_GET_ERROR\n\u001b[1;32m     25\u001b[0m     \u001b[38;5;28;01mif\u001b[39;00m func\u001b[38;5;241m.\u001b[39m\u001b[38;5;18m__name__\u001b[39m\u001b[38;5;241m.\u001b[39mstartswith(\u001b[38;5;124m\"\u001b[39m\u001b[38;5;124mget_\u001b[39m\u001b[38;5;124m\"\u001b[39m)\n\u001b[1;32m     26\u001b[0m     \u001b[38;5;28;01melse\u001b[39;00m ErrorCode\u001b[38;5;241m.\u001b[39mREPO_OBJECT_DOWNLOAD_ERROR\n\u001b[1;32m     27\u001b[0m )\n\u001b[1;32m     28\u001b[0m log\u001b[38;5;241m.\u001b[39merror(\n\u001b[1;32m     29\u001b[0m     \u001b[38;5;124mf\u001b[39m\u001b[38;5;124m\"\u001b[39m\u001b[38;5;124mRepo operation error in \u001b[39m\u001b[38;5;132;01m{\u001b[39;00mfunc\u001b[38;5;241m.\u001b[39m\u001b[38;5;18m__name__\u001b[39m\u001b[38;5;132;01m}\u001b[39;00m\u001b[38;5;124m\"\u001b[39m,\n\u001b[1;32m     30\u001b[0m     status_code\u001b[38;5;241m=\u001b[39merror_code\u001b[38;5;241m.\u001b[39mstatus_code,\n\u001b[1;32m     31\u001b[0m     status\u001b[38;5;241m=\u001b[39merror_code\u001b[38;5;241m.\u001b[39mname,\n\u001b[1;32m     32\u001b[0m     exc_info\u001b[38;5;241m=\u001b[39m\u001b[38;5;28;01mTrue\u001b[39;00m,\n\u001b[1;32m     33\u001b[0m )\n\u001b[0;32m---> 34\u001b[0m \u001b[38;5;28;01mraise\u001b[39;00m RepoException(error_code, traceback\u001b[38;5;241m.\u001b[39mformat_exc()) \u001b[38;5;28;01mfrom\u001b[39;00m \u001b[38;5;21;01me\u001b[39;00m\n",
      "\u001b[0;31mRepoException\u001b[0m: 702: REPO_OBJECT_DOWNLOAD_ERROR: Traceback (most recent call last):\n  File \"/home/ajkdrag/workspace/projects/ocrorchestrator/.venv/lib/python3.9/site-packages/google/cloud/storage/blob.py\", line 4353, in _prep_and_do_download\n    self._do_download(\n  File \"/home/ajkdrag/workspace/projects/ocrorchestrator/.venv/lib/python3.9/site-packages/google/cloud/storage/blob.py\", line 1023, in _do_download\n    response = download.consume(transport, timeout=timeout)\n  File \"/home/ajkdrag/workspace/projects/ocrorchestrator/.venv/lib/python3.9/site-packages/google/resumable_media/requests/download.py\", line 263, in consume\n    return _request_helpers.wait_and_retry(\n  File \"/home/ajkdrag/workspace/projects/ocrorchestrator/.venv/lib/python3.9/site-packages/google/resumable_media/requests/_request_helpers.py\", line 155, in wait_and_retry\n    response = func()\n  File \"/home/ajkdrag/workspace/projects/ocrorchestrator/.venv/lib/python3.9/site-packages/google/resumable_media/requests/download.py\", line 245, in retriable_request\n    self._process_response(result)\n  File \"/home/ajkdrag/workspace/projects/ocrorchestrator/.venv/lib/python3.9/site-packages/google/resumable_media/_download.py\", line 188, in _process_response\n    _helpers.require_status_code(\n  File \"/home/ajkdrag/workspace/projects/ocrorchestrator/.venv/lib/python3.9/site-packages/google/resumable_media/_helpers.py\", line 108, in require_status_code\n    raise common.InvalidResponse(\ngoogle.resumable_media.common.InvalidResponse: ('Request failed with status code', 404, 'Expected one of', <HTTPStatus.OK: 200>, <HTTPStatus.PARTIAL_CONTENT: 206>)\n\nDuring handling of the above exception, another exception occurred:\n\nTraceback (most recent call last):\n  File \"/home/ajkdrag/workspace/projects/ocrorchestrator/src/ocrorchestrator/repos/base.py\", line 19, in wrapper\n    return func(self, *args, **kwargs)\n  File \"/home/ajkdrag/workspace/projects/ocrorchestrator/src/ocrorchestrator/repos/base.py\", line 71, in download_obj\n    return self._download_obj(path)\n  File \"/home/ajkdrag/workspace/projects/ocrorchestrator/src/ocrorchestrator/repos/gcs.py\", line 35, in _download_obj\n    blob.download_to_filename(str(local_file_path))\n  File \"/home/ajkdrag/workspace/projects/ocrorchestrator/.venv/lib/python3.9/site-packages/google/cloud/storage/blob.py\", line 1318, in download_to_filename\n    self._handle_filename_and_download(\n  File \"/home/ajkdrag/workspace/projects/ocrorchestrator/.venv/lib/python3.9/site-packages/google/cloud/storage/blob.py\", line 1194, in _handle_filename_and_download\n    self._prep_and_do_download(\n  File \"/home/ajkdrag/workspace/projects/ocrorchestrator/.venv/lib/python3.9/site-packages/google/cloud/storage/blob.py\", line 4366, in _prep_and_do_download\n    _raise_from_invalid_response(exc)\n  File \"/home/ajkdrag/workspace/projects/ocrorchestrator/.venv/lib/python3.9/site-packages/google/cloud/storage/blob.py\", line 4838, in _raise_from_invalid_response\n    raise exceptions.from_http_status(response.status_code, message, response=response)\ngoogle.api_core.exceptions.NotFound: 404 GET https://storage.googleapis.com/download/storage/v1/b/ocrorchestrator/o/models%2Frs.pt?alt=media: No such object: ocrorchestrator/models/rs.pt: ('Request failed with status code', 404, 'Expected one of', <HTTPStatus.OK: 200>, <HTTPStatus.PARTIAL_CONTENT: 206>)\n"
     ]
    }
   ],
   "source": [
    "repo.download_obj(\"models/rs.pt\")"
   ]
  },
  {
   "cell_type": "code",
   "execution_count": null,
   "id": "704d4558-42c1-45dc-8692-cfc6323141ca",
   "metadata": {},
   "outputs": [],
   "source": []
  }
 ],
 "metadata": {
  "kernelspec": {
   "display_name": "Python 3 (ipykernel)",
   "language": "python",
   "name": "python3"
  },
  "language_info": {
   "codemirror_mode": {
    "name": "ipython",
    "version": 3
   },
   "file_extension": ".py",
   "mimetype": "text/x-python",
   "name": "python",
   "nbconvert_exporter": "python",
   "pygments_lexer": "ipython3",
   "version": "3.9.2"
  }
 },
 "nbformat": 4,
 "nbformat_minor": 5
}
