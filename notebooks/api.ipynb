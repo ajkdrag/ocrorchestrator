{
 "cells": [
  {
   "cell_type": "code",
   "execution_count": 1,
   "id": "36e8925a-60ea-4881-88fb-2db55663484c",
   "metadata": {},
   "outputs": [],
   "source": [
    "import sys\n",
    "from pathlib import Path"
   ]
  },
  {
   "cell_type": "code",
   "execution_count": 2,
   "id": "50aa8d38-2ae8-40e9-a3aa-241d6578388d",
   "metadata": {},
   "outputs": [],
   "source": [
    "%load_ext autoreload\n",
    "%autoreload 3 -p\n",
    "%matplotlib inline\n"
   ]
  },
  {
   "cell_type": "markdown",
   "id": "dc451168-54cb-405d-b3c8-592c1e2b1cff",
   "metadata": {},
   "source": [
    "## imports"
   ]
  },
  {
   "cell_type": "code",
   "execution_count": 3,
   "id": "16814ad6-93ca-4f3b-9c3f-822313c7d38e",
   "metadata": {},
   "outputs": [],
   "source": [
    "import os\n",
    "from devtools import pprint"
   ]
  },
  {
   "cell_type": "code",
   "execution_count": 4,
   "id": "23c47bbc-f48f-445d-b57d-bb41f0fa0564",
   "metadata": {},
   "outputs": [],
   "source": [
    "from ocrorchestrator.repos.factory import RepoFactory"
   ]
  },
  {
   "cell_type": "code",
   "execution_count": 5,
   "id": "cc318d64-66b9-4297-8a58-24d89b0f2ff6",
   "metadata": {},
   "outputs": [],
   "source": [
    "os.environ[\"GOOGLE_APPLICATION_CREDENTIALS\"] = \"../../../secrets/calm-producer-428509-t9-b428a168489d.json\""
   ]
  },
  {
   "cell_type": "code",
   "execution_count": 18,
   "id": "2c1f5c27-4707-47db-b193-ba5de767b84e",
   "metadata": {},
   "outputs": [],
   "source": [
    "os.environ[\"CONFIG_PATH\"]=\"gs://ocrorchestrator/configs/config_v2.yaml\""
   ]
  },
  {
   "cell_type": "markdown",
   "id": "7d38e4cc-711c-495b-a28a-4e6e24f8ede7",
   "metadata": {},
   "source": [
    "## testing repo"
   ]
  },
  {
   "cell_type": "code",
   "execution_count": 19,
   "id": "c377d393-3e20-4e45-8d23-dd203f73b7f8",
   "metadata": {},
   "outputs": [],
   "source": [
    "repo, content = RepoFactory.from_uri(os.environ[\"CONFIG_PATH\"])"
   ]
  },
  {
   "cell_type": "code",
   "execution_count": 20,
   "id": "a791b375-5e3d-4d3f-834c-c28c98e70454",
   "metadata": {},
   "outputs": [
    {
     "data": {
      "text/plain": [
       "{'categories': {'proof_of_funds': {'extraction': {'processor': 'LLMProcessor',\n",
       "    'model': 'gemini-pro-vision',\n",
       "    'prompt_template': 'general.txt',\n",
       "    'fields': ['title', 'summary']}},\n",
       "  'checks': {'validation': {'processor': 'DocumentValidationProcessor',\n",
       "    'model': 'resnet18__clf.pt',\n",
       "    'params': [{'img_size': [240, 320], 'target': 'clean'}],\n",
       "    'classes': ['blanks', 'blurs', 'clean', 'dirty']}}}}"
      ]
     },
     "execution_count": 20,
     "metadata": {},
     "output_type": "execute_result"
    }
   ],
   "source": [
    "content"
   ]
  },
  {
   "cell_type": "code",
   "execution_count": 8,
   "id": "f02d3cc5-3ea1-40f5-a036-18e4bd58b9c8",
   "metadata": {},
   "outputs": [],
   "source": [
    "from fastapi import HTTPException"
   ]
  },
  {
   "cell_type": "code",
   "execution_count": 9,
   "id": "dbd1439e-8fc3-4410-b59b-9f37fb4b289d",
   "metadata": {},
   "outputs": [],
   "source": [
    "from fastapi.testclient import TestClient\n"
   ]
  },
  {
   "cell_type": "code",
   "execution_count": 10,
   "id": "29e62ba5-e84f-4dde-bfb5-1c3160d7f3e6",
   "metadata": {},
   "outputs": [],
   "source": [
    "from ocrorchestrator.main import app"
   ]
  },
  {
   "cell_type": "code",
   "execution_count": 11,
   "id": "0edfacbc-d72e-4aba-b592-8b5eeecbb4aa",
   "metadata": {},
   "outputs": [],
   "source": [
    "client = TestClient(app)"
   ]
  },
  {
   "cell_type": "markdown",
   "id": "b1b46431-451b-4e44-b210-362919346af2",
   "metadata": {},
   "source": [
    "## testing api"
   ]
  },
  {
   "cell_type": "markdown",
   "id": "07557430-d9be-4562-b0df-ddc6ccd1f071",
   "metadata": {
    "jp-MarkdownHeadingCollapsed": true
   },
   "source": [
    "### update config"
   ]
  },
  {
   "cell_type": "code",
   "execution_count": 12,
   "id": "a6d88f09-1dca-43d7-ac6b-34cc1a952329",
   "metadata": {},
   "outputs": [],
   "source": [
    "new_config = \"\"\"\n",
    "config: \n",
    "    categories:\n",
    "      proof_of_funds:\n",
    "        validation:\n",
    "          processor: DocumentValidationProcessor\n",
    "          model: resnet18__clf.pt\n",
    "          params: [{img_size: [240, 320], target: clean}]\n",
    "          classes: [\"blanks\", \"blurs\", \"clean\", \"dirty\"]\n",
    "        extraction:\n",
    "          processor: ApiProcessor\n",
    "          api: http://localhost:8000/change_config\n",
    "          params:\n",
    "            - instances:\n",
    "              - data: $image\n",
    "                entity: payee\n",
    "                guid: $guid\n",
    "\"\"\""
   ]
  },
  {
   "cell_type": "code",
   "execution_count": 13,
   "id": "eea002fc-f127-4969-9d76-15b913ab0c0e",
   "metadata": {},
   "outputs": [],
   "source": [
    "import yaml"
   ]
  },
  {
   "cell_type": "code",
   "execution_count": 14,
   "id": "34bf4de6-fbec-42df-ad4f-867697005dc3",
   "metadata": {},
   "outputs": [],
   "source": [
    "new_cfg = yaml.safe_load(new_config)"
   ]
  },
  {
   "cell_type": "code",
   "execution_count": 15,
   "id": "30518e02-36f2-47fd-a0f6-e2048a5d0782",
   "metadata": {},
   "outputs": [
    {
     "data": {
      "text/plain": [
       "{'config': {'categories': {'proof_of_funds': {'validation': {'processor': 'DocumentValidationProcessor',\n",
       "     'model': 'resnet18__clf.pt',\n",
       "     'params': [{'img_size': [240, 320], 'target': 'clean'}],\n",
       "     'classes': ['blanks', 'blurs', 'clean', 'dirty']},\n",
       "    'extraction': {'processor': 'ApiProcessor',\n",
       "     'api': 'http://localhost:8000/change_config',\n",
       "     'params': [{'instances': [{'data': '$image',\n",
       "         'entity': 'payee',\n",
       "         'guid': '$guid'}]}]}}}}}"
      ]
     },
     "execution_count": 15,
     "metadata": {},
     "output_type": "execute_result"
    }
   ],
   "source": [
    "new_cfg"
   ]
  },
  {
   "cell_type": "code",
   "execution_count": null,
   "id": "94945b61-9412-4f6a-808f-5aade04f2a79",
   "metadata": {},
   "outputs": [],
   "source": []
  },
  {
   "cell_type": "code",
   "execution_count": 17,
   "id": "7fb29a65-afe2-432c-853e-a7a3c76f8527",
   "metadata": {},
   "outputs": [
    {
     "name": "stdout",
     "output_type": "stream",
     "text": [
      "Reloading 'ocrorchestrator.managers.processor'.\n",
      "{\"event\": \"**** Starting application ****\", \"level\": \"info\", \"func_name\": \"lifespan\", \"lineno\": 24, \"timestamp\": \"2024-07-06T17:56:28.829840Z\"}\n",
      "{\"event\": \"**** Initializing processors ****\", \"level\": \"info\", \"func_name\": \"_initialize\", \"lineno\": 22, \"timestamp\": \"2024-07-06T17:56:28.832719Z\"}\n",
      "{\"processor\": \"DocumentValidationProcessor\", \"event\": \"Setting up processor\", \"level\": \"info\", \"func_name\": \"_initialize\", \"lineno\": 30, \"timestamp\": \"2024-07-06T17:56:28.833241Z\"}\n",
      "{\"model_name\": \"resnet18\", \"event\": \"Loading PyTorch classifier\", \"level\": \"info\", \"func_name\": \"load_model\", \"lineno\": 99, \"timestamp\": \"2024-07-06T17:56:28.833772Z\"}\n",
      "{\"event\": \"Initialized model resnet18 with 4 classes, on cpu\", \"level\": \"info\", \"func_name\": \"load_pretrained_classifier\", \"lineno\": 31, \"timestamp\": \"2024-07-06T17:56:29.023672Z\"}\n",
      "{\"event\": \"Loading from checkpoint: /home/ajkdrag/workspace/projects/ocrorchestrator/data/my-bucket/models/resnet18__clf.pt\", \"level\": \"info\", \"func_name\": \"load_pretrained_classifier\", \"lineno\": 34, \"timestamp\": \"2024-07-06T17:56:29.024396Z\"}\n",
      "{\"img_size\": [240, 320], \"event\": \"Loading image transformations\", \"level\": \"info\", \"func_name\": \"load_tfms\", \"lineno\": 111, \"timestamp\": \"2024-07-06T17:56:29.075742Z\"}\n",
      "{\"processor\": \"ApiProcessor\", \"event\": \"Setting up processor\", \"level\": \"info\", \"func_name\": \"_initialize\", \"lineno\": 30, \"timestamp\": \"2024-07-06T17:56:29.076541Z\"}\n",
      "{\"event\": \"**** Processors initialized ****\", \"level\": \"info\", \"func_name\": \"_initialize\", \"lineno\": 34, \"timestamp\": \"2024-07-06T17:56:29.077213Z\"}\n",
      "{\"event\": \"**** Refreshing processors ****\", \"guid\": \"\", \"api_name\": \"/update_config\", \"client_host\": \"testclient\", \"task\": \"\", \"trans_id\": \"18003e08-c97f-4356-b13b-05c17b9faf3f\", \"category\": \"\", \"method\": \"POST\", \"level\": \"info\", \"func_name\": \"refresh\", \"lineno\": 37, \"timestamp\": \"2024-07-06T17:56:29.081064Z\"}\n",
      "{\"event\": \"**** Cleaning up processors ****\", \"guid\": \"\", \"api_name\": \"/update_config\", \"client_host\": \"testclient\", \"task\": \"\", \"trans_id\": \"18003e08-c97f-4356-b13b-05c17b9faf3f\", \"category\": \"\", \"method\": \"POST\", \"level\": \"info\", \"func_name\": \"cleanup\", \"lineno\": 46, \"timestamp\": \"2024-07-06T17:56:29.081453Z\"}\n",
      "{\"event\": \"**** Initializing processors ****\", \"guid\": \"\", \"api_name\": \"/update_config\", \"client_host\": \"testclient\", \"task\": \"\", \"trans_id\": \"18003e08-c97f-4356-b13b-05c17b9faf3f\", \"category\": \"\", \"method\": \"POST\", \"level\": \"info\", \"func_name\": \"_initialize\", \"lineno\": 22, \"timestamp\": \"2024-07-06T17:56:29.082381Z\"}\n",
      "{\"processor\": \"DocumentValidationProcessor\", \"event\": \"Setting up processor\", \"guid\": \"\", \"api_name\": \"/update_config\", \"client_host\": \"testclient\", \"task\": \"\", \"trans_id\": \"18003e08-c97f-4356-b13b-05c17b9faf3f\", \"category\": \"\", \"method\": \"POST\", \"level\": \"info\", \"func_name\": \"_initialize\", \"lineno\": 30, \"timestamp\": \"2024-07-06T17:56:29.082763Z\"}\n",
      "{\"model_name\": \"resnet18\", \"event\": \"Loading PyTorch classifier\", \"guid\": \"\", \"api_name\": \"/update_config\", \"client_host\": \"testclient\", \"task\": \"\", \"trans_id\": \"18003e08-c97f-4356-b13b-05c17b9faf3f\", \"category\": \"\", \"method\": \"POST\", \"level\": \"info\", \"func_name\": \"load_model\", \"lineno\": 99, \"timestamp\": \"2024-07-06T17:56:29.083274Z\"}\n",
      "{\"event\": \"Initialized model resnet18 with 4 classes, on cpu\", \"guid\": \"\", \"api_name\": \"/update_config\", \"client_host\": \"testclient\", \"task\": \"\", \"trans_id\": \"18003e08-c97f-4356-b13b-05c17b9faf3f\", \"category\": \"\", \"method\": \"POST\", \"level\": \"info\", \"func_name\": \"load_pretrained_classifier\", \"lineno\": 31, \"timestamp\": \"2024-07-06T17:56:29.179920Z\"}\n",
      "{\"event\": \"Loading from checkpoint: /home/ajkdrag/workspace/projects/ocrorchestrator/data/my-bucket/models/resnet18__clf.pt\", \"guid\": \"\", \"api_name\": \"/update_config\", \"client_host\": \"testclient\", \"task\": \"\", \"trans_id\": \"18003e08-c97f-4356-b13b-05c17b9faf3f\", \"category\": \"\", \"method\": \"POST\", \"level\": \"info\", \"func_name\": \"load_pretrained_classifier\", \"lineno\": 34, \"timestamp\": \"2024-07-06T17:56:29.180847Z\"}\n",
      "{\"img_size\": [240, 320], \"event\": \"Loading image transformations\", \"guid\": \"\", \"api_name\": \"/update_config\", \"client_host\": \"testclient\", \"task\": \"\", \"trans_id\": \"18003e08-c97f-4356-b13b-05c17b9faf3f\", \"category\": \"\", \"method\": \"POST\", \"level\": \"info\", \"func_name\": \"load_tfms\", \"lineno\": 111, \"timestamp\": \"2024-07-06T17:56:29.201585Z\"}\n",
      "{\"processor\": \"ApiProcessor\", \"event\": \"Setting up processor\", \"guid\": \"\", \"api_name\": \"/update_config\", \"client_host\": \"testclient\", \"task\": \"\", \"trans_id\": \"18003e08-c97f-4356-b13b-05c17b9faf3f\", \"category\": \"\", \"method\": \"POST\", \"level\": \"info\", \"func_name\": \"_initialize\", \"lineno\": 30, \"timestamp\": \"2024-07-06T17:56:29.202612Z\"}\n",
      "{\"event\": \"**** Processors initialized ****\", \"guid\": \"\", \"api_name\": \"/update_config\", \"client_host\": \"testclient\", \"task\": \"\", \"trans_id\": \"18003e08-c97f-4356-b13b-05c17b9faf3f\", \"category\": \"\", \"method\": \"POST\", \"level\": \"info\", \"func_name\": \"_initialize\", \"lineno\": 34, \"timestamp\": \"2024-07-06T17:56:29.203511Z\"}\n",
      "{\"event\": \"--- Request processed successfully ---\", \"guid\": \"\", \"api_name\": \"/update_config\", \"client_host\": \"testclient\", \"task\": \"\", \"trans_id\": \"18003e08-c97f-4356-b13b-05c17b9faf3f\", \"category\": \"\", \"method\": \"POST\", \"level\": \"info\", \"func_name\": \"process_request\", \"lineno\": 29, \"timestamp\": \"2024-07-06T17:56:29.204056Z\"}\n",
      "{\"event\": \"OK\", \"guid\": \"\", \"api_name\": \"/update_config\", \"client_host\": \"testclient\", \"task\": \"\", \"trans_id\": \"18003e08-c97f-4356-b13b-05c17b9faf3f\", \"category\": \"\", \"method\": \"POST\", \"status_code\": 200, \"level\": \"info\", \"func_name\": \"dispatch\", \"lineno\": 50, \"timestamp\": \"2024-07-06T17:56:29.206101Z\"}\n",
      "HTTP Request: POST http://testserver/update_config \"HTTP/1.1 200 OK\"\n",
      "{'status': 'OK', 'status_code': 200, 'message': {'general': {'prompts_dir': 'prompts', 'models_dir': 'models', 'normalization_stats': {'mean': [0.485, 0.456, 0.406], 'std': [0.229, 0.224, 0.225]}, 'log_model_output': False}, 'categories': {'proof_of_funds': {'validation': {'processor': 'DocumentValidationProcessor', 'api': None, 'model': 'resnet18__clf.pt', 'prompt_template': None, 'params': [{'img_size': [240, 320], 'target': 'clean'}], 'fields': None, 'classes': ['blanks', 'blurs', 'clean', 'dirty'], 'args': [], 'kwargs': {'img_size': [240, 320], 'target': 'clean'}}, 'extraction': {'processor': 'ApiProcessor', 'api': 'http://localhost:8000/change_config', 'model': None, 'prompt_template': None, 'params': [{'instances': [{'data': '$image', 'entity': 'payee', 'guid': '$guid'}]}], 'fields': None, 'classes': None, 'args': [], 'kwargs': {'instances': [{'data': '$image', 'entity': 'payee', 'guid': '$guid'}]}}}}}}\n",
      "{\"event\": \"**** Shutting down application ****\", \"level\": \"info\", \"func_name\": \"lifespan\", \"lineno\": 30, \"timestamp\": \"2024-07-06T17:56:29.208929Z\"}\n",
      "{\"event\": \"**** Cleaning up processors ****\", \"level\": \"info\", \"func_name\": \"cleanup\", \"lineno\": 46, \"timestamp\": \"2024-07-06T17:56:29.209354Z\"}\n"
     ]
    }
   ],
   "source": [
    "with TestClient(app) as client:\n",
    "    response = client.post(\"/update_config\", json=new_cfg)\n",
    "    print(response.json())"
   ]
  },
  {
   "cell_type": "code",
   "execution_count": null,
   "id": "d52ade85-99f8-4caa-851f-fee0a8112af8",
   "metadata": {},
   "outputs": [],
   "source": []
  },
  {
   "cell_type": "markdown",
   "id": "ac02c206-7e3d-4a70-ba12-f61bf25d7a9f",
   "metadata": {},
   "source": [
    "### test vlm"
   ]
  },
  {
   "cell_type": "code",
   "execution_count": 12,
   "id": "aa6c23f9-3013-4958-aff3-a5161136de01",
   "metadata": {},
   "outputs": [],
   "source": [
    "import yaml"
   ]
  },
  {
   "cell_type": "code",
   "execution_count": 13,
   "id": "72e6cfc3-f13a-450b-a9f8-27ae9a56d840",
   "metadata": {},
   "outputs": [],
   "source": [
    "from ocrorchestrator.utils.img import base64_to_pil"
   ]
  },
  {
   "cell_type": "code",
   "execution_count": 14,
   "id": "8cd5e7d9-f489-44f3-9bd1-4abb99e94527",
   "metadata": {},
   "outputs": [],
   "source": [
    "from base64 import b64encode\n",
    "from pathlib import Path\n",
    "\n",
    "b64 = b64encode(Path('../data/images/arch.png').open(\"rb\").read())"
   ]
  },
  {
   "cell_type": "code",
   "execution_count": 15,
   "id": "a0cf43a1-f478-4f15-8315-33d6daaf98fe",
   "metadata": {},
   "outputs": [],
   "source": [
    "req_body = {\n",
    "    \"image\": b64.decode(),\n",
    "    \"category\": \"arch\",\n",
    "    \"task\": \"extraction\",\n",
    "    \"guid\": \"dummyguid\",\n",
    "}"
   ]
  },
  {
   "cell_type": "code",
   "execution_count": 16,
   "id": "078a2e2c-a783-4fd1-8705-f30988534753",
   "metadata": {},
   "outputs": [
    {
     "data": {
      "image/jpeg": "[encoded data removed]",
      "image/png": "[encoded data removed]",
      "text/plain": [
       "<PIL.Image.Image image mode=RGB size=285x364>"
      ]
     },
     "execution_count": 16,
     "metadata": {},
     "output_type": "execute_result"
    }
   ],
   "source": [
    "base64_to_pil(b64)"
   ]
  },
  {
   "cell_type": "code",
   "execution_count": 17,
   "id": "8a9c14e0-8b6e-46da-8406-d30dcb4de111",
   "metadata": {},
   "outputs": [],
   "source": [
    "new_config = \"\"\"\n",
    "config: \n",
    "    categories:\n",
    "      arch:\n",
    "        extraction:\n",
    "          processor: LLMProcessor\n",
    "          prompt_template: arch_extr.txt\n",
    "          model: gemini-1.5-flash\n",
    "          fields: [\"layers\", \"is_arch_convolutional\", \"num_layers\"]\n",
    "\"\"\""
   ]
  },
  {
   "cell_type": "code",
   "execution_count": 18,
   "id": "c6d29810-9416-4df4-8329-f7838c9e5aa4",
   "metadata": {},
   "outputs": [
    {
     "name": "stdout",
     "output_type": "stream",
     "text": [
      "{\"event\": \"**** Starting application ****\", \"level\": \"info\", \"func_name\": \"lifespan\", \"lineno\": 23, \"timestamp\": \"2024-07-07T12:31:27.344938Z\"}\n",
      "{\"event\": \"**** Initializing processors ****\", \"level\": \"info\", \"func_name\": \"_initialize\", \"lineno\": 22, \"timestamp\": \"2024-07-07T12:31:27.347579Z\"}\n",
      "{\"processor\": \"LLMProcessor\", \"event\": \"Setting up processor\", \"level\": \"info\", \"func_name\": \"_initialize\", \"lineno\": 30, \"timestamp\": \"2024-07-07T12:31:27.347963Z\"}\n",
      "{\"model_name\": \"gemini-1.5-flash\", \"event\": \"Loading Vertex AI LLM\", \"level\": \"info\", \"func_name\": \"load_llm\", \"lineno\": 34, \"timestamp\": \"2024-07-07T12:31:27.348713Z\"}\n",
      "{\"fields\": [\"layers\", \"shapes\", \"is_arch_convolutional\", \"num_layers\"], \"event\": \"Loading output parser\", \"level\": \"info\", \"func_name\": \"load_output_parser\", \"lineno\": 45, \"timestamp\": \"2024-07-07T12:31:27.356728Z\"}\n",
      "{\"event\": \"Loading prompt template\", \"level\": \"info\", \"func_name\": \"load_prompt\", \"lineno\": 52, \"timestamp\": \"2024-07-07T12:31:27.358482Z\"}\n",
      "{\"prompt_preview\": \"Take the image of a model architecture containing the layers, conv filters, strides etc and extract ...\", \"event\": \"Prompt template loaded\", \"level\": \"info\", \"func_name\": \"load_prompt\", \"lineno\": 68, \"timestamp\": \"2024-07-07T12:31:27.361137Z\"}\n",
      "{\"processor\": \"DocumentValidationProcessor\", \"event\": \"Setting up processor\", \"level\": \"info\", \"func_name\": \"_initialize\", \"lineno\": 30, \"timestamp\": \"2024-07-07T12:31:27.361827Z\"}\n",
      "{\"model_name\": \"resnet18\", \"event\": \"Loading PyTorch classifier\", \"level\": \"info\", \"func_name\": \"load_model\", \"lineno\": 99, \"timestamp\": \"2024-07-07T12:31:27.362270Z\"}\n",
      "{\"event\": \"Initialized model resnet18 with 4 classes, on cpu\", \"level\": \"info\", \"func_name\": \"load_pretrained_classifier\", \"lineno\": 31, \"timestamp\": \"2024-07-07T12:31:27.476209Z\"}\n",
      "{\"event\": \"Loading from checkpoint: /home/ajkdrag/workspace/projects/ocrorchestrator/data/my-bucket/models/resnet18__clf.pt\", \"level\": \"info\", \"func_name\": \"load_pretrained_classifier\", \"lineno\": 34, \"timestamp\": \"2024-07-07T12:31:27.476839Z\"}\n",
      "{\"img_size\": [240, 320], \"event\": \"Loading image transformations\", \"level\": \"info\", \"func_name\": \"load_tfms\", \"lineno\": 111, \"timestamp\": \"2024-07-07T12:31:27.497487Z\"}\n",
      "{\"processor\": \"ApiProcessor\", \"event\": \"Setting up processor\", \"level\": \"info\", \"func_name\": \"_initialize\", \"lineno\": 30, \"timestamp\": \"2024-07-07T12:31:27.498221Z\"}\n",
      "{\"event\": \"**** Processors initialized ****\", \"level\": \"info\", \"func_name\": \"_initialize\", \"lineno\": 34, \"timestamp\": \"2024-07-07T12:31:27.498781Z\"}\n",
      "{\"event\": \"**** Refreshing processors ****\", \"category\": \"\", \"guid\": \"\", \"trans_id\": \"4b2c91f4-f0c2-4def-a4ea-107bafe01b7c\", \"task\": \"\", \"api_name\": \"/update_config\", \"method\": \"POST\", \"client_host\": \"testclient\", \"level\": \"info\", \"func_name\": \"refresh\", \"lineno\": 37, \"timestamp\": \"2024-07-07T12:31:27.502975Z\"}\n",
      "{\"event\": \"**** Cleaning up processors ****\", \"category\": \"\", \"guid\": \"\", \"trans_id\": \"4b2c91f4-f0c2-4def-a4ea-107bafe01b7c\", \"task\": \"\", \"api_name\": \"/update_config\", \"method\": \"POST\", \"client_host\": \"testclient\", \"level\": \"info\", \"func_name\": \"cleanup\", \"lineno\": 46, \"timestamp\": \"2024-07-07T12:31:27.503374Z\"}\n",
      "{\"function\": \"cleanup\", \"execution_time_millis\": 0.0007152557373046875, \"module\": \"ocrorchestrator.processors.base\", \"class\": \"LLMProcessor\", \"event\": \"--- Function execution time ---\", \"category\": \"\", \"guid\": \"\", \"trans_id\": \"4b2c91f4-f0c2-4def-a4ea-107bafe01b7c\", \"task\": \"\", \"api_name\": \"/update_config\", \"method\": \"POST\", \"client_host\": \"testclient\", \"level\": \"info\", \"func_name\": \"log_time\", \"lineno\": 50, \"timestamp\": \"2024-07-07T12:31:27.503737Z\"}\n",
      "{\"function\": \"cleanup\", \"execution_time_millis\": 0.0002384185791015625, \"module\": \"ocrorchestrator.processors.base\", \"class\": \"DocumentValidationProcessor\", \"event\": \"--- Function execution time ---\", \"category\": \"\", \"guid\": \"\", \"trans_id\": \"4b2c91f4-f0c2-4def-a4ea-107bafe01b7c\", \"task\": \"\", \"api_name\": \"/update_config\", \"method\": \"POST\", \"client_host\": \"testclient\", \"level\": \"info\", \"func_name\": \"log_time\", \"lineno\": 50, \"timestamp\": \"2024-07-07T12:31:27.504206Z\"}\n",
      "{\"event\": \"**** Initializing processors ****\", \"category\": \"\", \"guid\": \"\", \"trans_id\": \"4b2c91f4-f0c2-4def-a4ea-107bafe01b7c\", \"task\": \"\", \"api_name\": \"/update_config\", \"method\": \"POST\", \"client_host\": \"testclient\", \"level\": \"info\", \"func_name\": \"_initialize\", \"lineno\": 22, \"timestamp\": \"2024-07-07T12:31:27.505790Z\"}\n",
      "{\"processor\": \"LLMProcessor\", \"event\": \"Setting up processor\", \"category\": \"\", \"guid\": \"\", \"trans_id\": \"4b2c91f4-f0c2-4def-a4ea-107bafe01b7c\", \"task\": \"\", \"api_name\": \"/update_config\", \"method\": \"POST\", \"client_host\": \"testclient\", \"level\": \"info\", \"func_name\": \"_initialize\", \"lineno\": 30, \"timestamp\": \"2024-07-07T12:31:27.506186Z\"}\n",
      "{\"model_name\": \"gemini-1.5-flash\", \"event\": \"Loading Vertex AI LLM\", \"category\": \"\", \"guid\": \"\", \"trans_id\": \"4b2c91f4-f0c2-4def-a4ea-107bafe01b7c\", \"task\": \"\", \"api_name\": \"/update_config\", \"method\": \"POST\", \"client_host\": \"testclient\", \"level\": \"info\", \"func_name\": \"load_llm\", \"lineno\": 34, \"timestamp\": \"2024-07-07T12:31:27.506985Z\"}\n",
      "{\"fields\": [\"layers\", \"is_arch_convolutional\", \"num_layers\"], \"event\": \"Loading output parser\", \"category\": \"\", \"guid\": \"\", \"trans_id\": \"4b2c91f4-f0c2-4def-a4ea-107bafe01b7c\", \"task\": \"\", \"api_name\": \"/update_config\", \"method\": \"POST\", \"client_host\": \"testclient\", \"level\": \"info\", \"func_name\": \"load_output_parser\", \"lineno\": 45, \"timestamp\": \"2024-07-07T12:31:27.507532Z\"}\n",
      "{\"event\": \"Loading prompt template\", \"category\": \"\", \"guid\": \"\", \"trans_id\": \"4b2c91f4-f0c2-4def-a4ea-107bafe01b7c\", \"task\": \"\", \"api_name\": \"/update_config\", \"method\": \"POST\", \"client_host\": \"testclient\", \"level\": \"info\", \"func_name\": \"load_prompt\", \"lineno\": 52, \"timestamp\": \"2024-07-07T12:31:27.508907Z\"}\n",
      "{\"prompt_preview\": \"Take the image of a model architecture containing the layers, conv filters, strides etc and extract ...\", \"event\": \"Prompt template loaded\", \"category\": \"\", \"guid\": \"\", \"trans_id\": \"4b2c91f4-f0c2-4def-a4ea-107bafe01b7c\", \"task\": \"\", \"api_name\": \"/update_config\", \"method\": \"POST\", \"client_host\": \"testclient\", \"level\": \"info\", \"func_name\": \"load_prompt\", \"lineno\": 68, \"timestamp\": \"2024-07-07T12:31:27.509922Z\"}\n",
      "{\"event\": \"**** Processors initialized ****\", \"category\": \"\", \"guid\": \"\", \"trans_id\": \"4b2c91f4-f0c2-4def-a4ea-107bafe01b7c\", \"task\": \"\", \"api_name\": \"/update_config\", \"method\": \"POST\", \"client_host\": \"testclient\", \"level\": \"info\", \"func_name\": \"_initialize\", \"lineno\": 34, \"timestamp\": \"2024-07-07T12:31:27.510323Z\"}\n",
      "{\"event\": \"--- Request processed successfully ---\", \"category\": \"\", \"guid\": \"\", \"trans_id\": \"4b2c91f4-f0c2-4def-a4ea-107bafe01b7c\", \"task\": \"\", \"api_name\": \"/update_config\", \"method\": \"POST\", \"client_host\": \"testclient\", \"level\": \"info\", \"func_name\": \"process_request\", \"lineno\": 30, \"timestamp\": \"2024-07-07T12:31:27.510793Z\"}\n",
      "{\"function\": \"update_config\", \"execution_time_millis\": 8.300304412841797, \"module\": \"ocrorchestrator.routers\", \"event\": \"--- Function execution time ---\", \"category\": \"\", \"guid\": \"\", \"trans_id\": \"4b2c91f4-f0c2-4def-a4ea-107bafe01b7c\", \"task\": \"\", \"api_name\": \"/update_config\", \"method\": \"POST\", \"client_host\": \"testclient\", \"level\": \"info\", \"func_name\": \"log_time\", \"lineno\": 50, \"timestamp\": \"2024-07-07T12:31:27.511225Z\"}\n",
      "{\"event\": \"OK\", \"category\": \"\", \"guid\": \"\", \"trans_id\": \"4b2c91f4-f0c2-4def-a4ea-107bafe01b7c\", \"task\": \"\", \"api_name\": \"/update_config\", \"method\": \"POST\", \"status_code\": 200, \"client_host\": \"testclient\", \"level\": \"info\", \"func_name\": \"dispatch\", \"lineno\": 50, \"timestamp\": \"2024-07-07T12:31:27.512043Z\"}\n",
      "HTTP Request: POST http://testserver/update_config \"HTTP/1.1 200 OK\"\n",
      "{'status': 'OK', 'status_code': 200, 'message': {'general': {'prompts_dir': 'prompts', 'models_dir': 'models', 'normalization_stats': {'mean': [0.485, 0.456, 0.406], 'std': [0.229, 0.224, 0.225]}, 'log_model_output': False}, 'categories': {'arch': {'extraction': {'processor': 'LLMProcessor', 'api': None, 'model': 'gemini-1.5-flash', 'prompt_template': 'arch_extr.txt', 'params': [], 'fields': ['layers', 'is_arch_convolutional', 'num_layers'], 'classes': None, 'args': [], 'kwargs': {}}}}}}\n",
      "{\"event\": \"--- Processing online request ---\", \"category\": \"arch\", \"guid\": \"dummyguid\", \"trans_id\": \"bbca1086-a44c-4978-8c09-d640d6558c97\", \"task\": \"extraction\", \"api_name\": \"/predict\", \"method\": \"POST\", \"client_host\": \"testclient\", \"level\": \"info\", \"func_name\": \"process\", \"lineno\": 73, \"timestamp\": \"2024-07-07T12:31:27.516821Z\"}\n",
      "{\"result_preview\": \"```json\\n{\\\"layers\\\": \\\"Convolutional\\\\nMaxpool\\\\nConvolutional\\\\nMaxpool\\\\nConvolutional\\\\nConvolutional\\\\nCo...\", \"event\": \"Raw LLM prediction completed successfully\", \"category\": \"arch\", \"guid\": \"dummyguid\", \"trans_id\": \"bbca1086-a44c-4978-8c09-d640d6558c97\", \"task\": \"extraction\", \"api_name\": \"/predict\", \"method\": \"POST\", \"client_host\": \"testclient\", \"level\": \"info\", \"func_name\": \"predict\", \"lineno\": 81, \"timestamp\": \"2024-07-07T12:31:31.254598Z\"}\n",
      "{\"function\": \"process\", \"execution_time_millis\": 3739.9895191192627, \"module\": \"ocrorchestrator.processors.base\", \"class\": \"LLMProcessor\", \"event\": \"--- Function execution time ---\", \"category\": \"arch\", \"guid\": \"dummyguid\", \"trans_id\": \"bbca1086-a44c-4978-8c09-d640d6558c97\", \"task\": \"extraction\", \"api_name\": \"/predict\", \"method\": \"POST\", \"client_host\": \"testclient\", \"level\": \"info\", \"func_name\": \"log_time\", \"lineno\": 50, \"timestamp\": \"2024-07-07T12:31:31.256793Z\"}\n",
      "{\"event\": \"--- Request processed successfully ---\", \"category\": \"arch\", \"guid\": \"dummyguid\", \"trans_id\": \"bbca1086-a44c-4978-8c09-d640d6558c97\", \"task\": \"extraction\", \"api_name\": \"/predict\", \"method\": \"POST\", \"client_host\": \"testclient\", \"level\": \"info\", \"func_name\": \"process_request\", \"lineno\": 30, \"timestamp\": \"2024-07-07T12:31:31.258060Z\"}\n",
      "{\"function\": \"predict\", \"execution_time_millis\": 3741.6296005249023, \"module\": \"ocrorchestrator.routers\", \"event\": \"--- Function execution time ---\", \"category\": \"arch\", \"guid\": \"dummyguid\", \"trans_id\": \"bbca1086-a44c-4978-8c09-d640d6558c97\", \"task\": \"extraction\", \"api_name\": \"/predict\", \"method\": \"POST\", \"client_host\": \"testclient\", \"level\": \"info\", \"func_name\": \"log_time\", \"lineno\": 50, \"timestamp\": \"2024-07-07T12:31:31.258440Z\"}\n",
      "{\"event\": \"OK\", \"category\": \"arch\", \"guid\": \"dummyguid\", \"trans_id\": \"bbca1086-a44c-4978-8c09-d640d6558c97\", \"task\": \"extraction\", \"api_name\": \"/predict\", \"method\": \"POST\", \"status_code\": 200, \"client_host\": \"testclient\", \"level\": \"info\", \"func_name\": \"dispatch\", \"lineno\": 50, \"timestamp\": \"2024-07-07T12:31:31.259000Z\"}\n",
      "HTTP Request: POST http://testserver/predict \"HTTP/1.1 200 OK\"\n",
      "{'status': 'OK', 'status_code': 200, 'message': {'layers': 'Convolutional\\nMaxpool\\nConvolutional\\nMaxpool\\nConvolutional\\nConvolutional\\nConvolutional\\nMaxpool\\nConvolutional\\nConvolutional\\nConvolutional\\nMaxpool\\nConvolutional\\nConvolutional\\nConvolutional\\nConvolutional\\nConvolutional\\nMaxpool\\nConvolutional\\nConvolutional\\nConvolutional\\nConvolutional\\nConvolutional\\nConvolutional\\nAvgpool\\nSoftmax', 'is_arch_convolutional': 'True', 'num_layers': 27}}\n",
      "{\"event\": \"**** Shutting down application ****\", \"level\": \"info\", \"func_name\": \"lifespan\", \"lineno\": 29, \"timestamp\": \"2024-07-07T12:31:31.260901Z\"}\n",
      "{\"event\": \"**** Cleaning up processors ****\", \"level\": \"info\", \"func_name\": \"cleanup\", \"lineno\": 46, \"timestamp\": \"2024-07-07T12:31:31.261285Z\"}\n",
      "{\"function\": \"cleanup\", \"execution_time_millis\": 0.00095367431640625, \"module\": \"ocrorchestrator.processors.base\", \"class\": \"LLMProcessor\", \"event\": \"--- Function execution time ---\", \"level\": \"info\", \"func_name\": \"log_time\", \"lineno\": 50, \"timestamp\": \"2024-07-07T12:31:31.261632Z\"}\n"
     ]
    }
   ],
   "source": [
    "with TestClient(app) as client:\n",
    "    new_cfg = yaml.safe_load(new_config)\n",
    "    response = client.post(\"/update_config\", json=new_cfg)\n",
    "    print(response.json())\n",
    "    response = client.post(\"/predict\", json=req_body)\n",
    "    print(response.json())"
   ]
  },
  {
   "cell_type": "code",
   "execution_count": null,
   "id": "9db8d029-415b-42bd-a06a-7fc3c25c81ba",
   "metadata": {},
   "outputs": [],
   "source": []
  },
  {
   "cell_type": "code",
   "execution_count": null,
   "id": "986ea9e7-ed1b-46e4-9bdc-3502705440d4",
   "metadata": {},
   "outputs": [],
   "source": []
  }
 ],
 "metadata": {
  "kernelspec": {
   "display_name": "Python 3 (ipykernel)",
   "language": "python",
   "name": "python3"
  },
  "language_info": {
   "codemirror_mode": {
    "name": "ipython",
    "version": 3
   },
   "file_extension": ".py",
   "mimetype": "text/x-python",
   "name": "python",
   "nbconvert_exporter": "python",
   "pygments_lexer": "ipython3",
   "version": "3.10.13"
  }
 },
 "nbformat": 4,
 "nbformat_minor": 5
}
